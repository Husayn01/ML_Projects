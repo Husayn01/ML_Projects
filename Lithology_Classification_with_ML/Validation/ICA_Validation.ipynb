{
  "nbformat": 4,
  "nbformat_minor": 0,
  "metadata": {
    "colab": {
      "name": "ICA-Validation.ipynb",
      "provenance": []
    },
    "kernelspec": {
      "display_name": "Python 3",
      "name": "python3"
    },
    "accelerator": "GPU"
  },
  "cells": [
    {
      "cell_type": "code",
      "metadata": {
        "id": "sof9BAOBvPBF"
      },
      "source": [
        "from sklearn.utils import shuffle\r\n",
        "from sklearn.model_selection import train_test_split\r\n",
        "import pandas as pd\r\n",
        "import numpy as np\r\n",
        "from sklearn.ensemble import RandomForestClassifier\r\n",
        "from sklearn.metrics import f1_score\r\n",
        "from scipy.signal import medfilt\r\n",
        "import pickle as pk\r\n",
        "\r\n",
        "import numpy.random as nr\r\n",
        "import matplotlib.pyplot as plt\r\n",
        "import sklearn\r\n",
        "from sklearn.preprocessing import LabelEncoder\r\n",
        "from sklearn.ensemble import RandomForestClassifier\r\n",
        "from xgboost import XGBClassifier\r\n",
        "from sklearn import preprocessing\r\n",
        "import sklearn.model_selection as ms\r\n",
        "from sklearn.model_selection import KFold, StratifiedKFold\r\n",
        "from sklearn.metrics import accuracy_score, f1_score"
      ],
      "execution_count": null,
      "outputs": []
    },
    {
      "cell_type": "code",
      "metadata": {
        "colab": {
          "base_uri": "https://localhost:8080/"
        },
        "id": "06Qu7PtrwUzj",
        "outputId": "911e56a8-53cb-4d97-b87d-298198f2dbcd"
      },
      "source": [
        "cd /content/drive/MyDrive/FORCE-Lithology-Prediction"
      ],
      "execution_count": null,
      "outputs": [
        {
          "output_type": "stream",
          "text": [
            "/content/drive/MyDrive/FORCE-Lithology-Prediction\n"
          ],
          "name": "stdout"
        }
      ]
    },
    {
      "cell_type": "code",
      "metadata": {
        "id": "CJb_hyAAwZA7"
      },
      "source": [
        "A = np.load('/content/drive/My Drive/FORCE-Lithology-Prediction/penalty_matrix.npy')\r\n",
        " \r\n",
        "def score(y_true, y_pred):\r\n",
        "    S = 0.0\r\n",
        "    y_true = y_true.astype(int)\r\n",
        "    y_pred = y_pred.astype(int)\r\n",
        "    for i in range(0, y_true.shape[0]):\r\n",
        "        S -= A[y_true[i], y_pred[i]]\r\n",
        "    return S/y_true.shape[0]\r\n",
        " \r\n",
        "def evaluate(model):\r\n",
        "    feat_imp = pd.Series(model.feature_importances_).sort_values(ascending=False)\r\n",
        "    plt.figure(figsize=(24,8))\r\n",
        "    feat_imp.plot(kind='bar', title=f'Feature Importances {len(model.feature_importances_)}')\r\n",
        "    plt.ylabel('Feature Importance Score')\r\n",
        "\r\n",
        "def show_evaluation(pred, true):\r\n",
        "  print(f'Default score: {score(true.values, pred)}')\r\n",
        "  print(f'Accuracy is: {accuracy_score(true, pred)}')\r\n",
        "  print(f'F1 is: {f1_score(pred, true.values, average=\"weighted\")}')"
      ],
      "execution_count": null,
      "outputs": []
    },
    {
      "cell_type": "code",
      "metadata": {
        "id": "TPhYm3-kwjnj"
      },
      "source": [
        "#importing miles\r\n",
        "nr.seed(42)\r\n",
        "train = pd.read_csv('/content/drive/My Drive/FORCE-Lithology-Prediction/train1.csv')\r\n",
        "test = pd.read_csv('/content/drive/My Drive/FORCE-Lithology-Prediction/Test.csv', sep=';')\r\n",
        "valid1 = pd.read_csv('/content/drive/My Drive/FORCE-Lithology-Prediction/valid4.csv')\r\n",
        "valid2 = pd.read_csv('/content/drive/My Drive/FORCE-Lithology-Prediction/valid5.csv')\r\n",
        "valid3 = pd.concat((valid1, valid2)).reset_index(drop=True)"
      ],
      "execution_count": null,
      "outputs": []
    },
    {
      "cell_type": "code",
      "metadata": {
        "id": "BmEeALXmwmHF"
      },
      "source": [
        "def Normalize_Data_by_Well(dataFrame,col='GR'):\r\n",
        "    wells = dataFrame['WELL'].unique()\r\n",
        "    values = []\r\n",
        "    for well in wells:\r\n",
        "        min_value = dataFrame[dataFrame['WELL'] == well][col].min()\r\n",
        "        max_value = dataFrame[dataFrame['WELL'] == well][col].max()\r\n",
        "        col_normalized = (dataFrame[dataFrame['WELL'] == well][col].values-min_value)/(max_value-min_value)\r\n",
        "        values = values + list(col_normalized)\r\n",
        "    return values\r\n",
        "\r\n",
        "def Delta_Feature(dataFrame,col='GR',inverted=False):\r\n",
        "    wells = dataFrame['WELL'].unique()\r\n",
        "    values = []\r\n",
        "    for well in wells:\r\n",
        "        col_values = dataFrame[dataFrame['WELL'] == well][col].values\r\n",
        "        col_values_ = np.array([col_values[0]]+list(col_values[:-1]))\r\n",
        "        delta_col_values = col_values-col_values_\r\n",
        "        if inverted:\r\n",
        "            delta_col_values=-delta_col_values\r\n",
        "        values = values + list(delta_col_values)\r\n",
        "    return values\r\n",
        "\r\n",
        "\r\n",
        "def Add_New_Features(dataFrame):\r\n",
        "    data = dataFrame['RHOB'].values  \r\n",
        "    data = ((154.497/data) - 57.261)\r\n",
        "    dataFrame['Carbon_Index'] = data\r\n",
        "    dataFrame['Normalized_RHOB'] = Normalize_Data_by_Well(dataFrame,col='RHOB')\r\n",
        "    dataFrame['Normalized_GR'] = Normalize_Data_by_Well(dataFrame,col='GR')    \r\n",
        "    dataFrame['Delta_DTC'] = Delta_Feature(dataFrame,col='DTC',inverted=True)\r\n",
        "    dataFrame['Delta_RHOB'] = Delta_Feature(dataFrame,col='RHOB',inverted=True)    \r\n",
        "    dataFrame['Delta_GR'] = Delta_Feature(dataFrame,col='GR',inverted=True)\r\n",
        "    dataFrame['Delta_DEPTH_MD'] = Delta_Feature(dataFrame,col='DEPTH_MD')\r\n",
        "    dataFrame['Delta_Carbon_Index'] = Delta_Feature(dataFrame,col='Carbon_Index')\r\n",
        "    \r\n",
        "    return dataFrame\r\n",
        "\r\n",
        "def Fill_Data(dataFrame,fill_formation,fill_BS,fill_with_median):\r\n",
        "    dataFrame.FORMATION = dataFrame.FORMATION.fillna(fill_formation)\r\n",
        "    dataFrame.BS = dataFrame.BS.fillna(fill_BS)\r\n",
        "    dataFrame.fillna(fill_with_median, inplace=True)\r\n",
        "    #dataFrame = pd.get_dummies(dataFrame, columns=['FORMATION'], drop_first=True)\r\n",
        "    dataFrame['FORMATION_encoded'] = dataFrame['FORMATION'].astype('category')\r\n",
        "    dataFrame['FORMATION_encoded'] = dataFrame['FORMATION_encoded'].cat.codes\r\n",
        "    dataFrame.drop('FORMATION', inplace=True, axis=1)\r\n",
        "\r\n",
        "    return dataFrame"
      ],
      "execution_count": null,
      "outputs": []
    },
    {
      "cell_type": "code",
      "metadata": {
        "colab": {
          "base_uri": "https://localhost:8080/"
        },
        "id": "vc1YJw3Nx8cl",
        "outputId": "adecfac1-5923-48c7-914c-41f3a6023b20"
      },
      "source": [
        "train.shape, valid1.shape, valid2.shape"
      ],
      "execution_count": null,
      "outputs": [
        {
          "output_type": "execute_result",
          "data": {
            "text/plain": [
              "((964965, 29), (114079, 29), (91467, 29))"
            ]
          },
          "metadata": {
            "tags": []
          },
          "execution_count": 7
        }
      ]
    },
    {
      "cell_type": "code",
      "metadata": {
        "id": "fOkxqyEDyMbl"
      },
      "source": [
        "ntrain = train.shape[0]\r\n",
        "ntest = test.shape[0]\r\n",
        "nvalid1 = valid1.shape[0]\r\n",
        "nvalid2 = valid2.shape[0]\r\n",
        "nvalid3 = valid3.shape[0]\r\n",
        "target = train.FORCE_2020_LITHOFACIES_LITHOLOGY.copy()\r\n",
        "df = pd.concat((train, test, valid1, valid2, valid3)).reset_index(drop=True)"
      ],
      "execution_count": null,
      "outputs": []
    },
    {
      "cell_type": "code",
      "metadata": {
        "colab": {
          "base_uri": "https://localhost:8080/"
        },
        "id": "9OI3yRVdyNbw",
        "outputId": "07a2834e-1f24-4250-8e68-ac4852596882"
      },
      "source": [
        "df.shape"
      ],
      "execution_count": null,
      "outputs": [
        {
          "output_type": "execute_result",
          "data": {
            "text/plain": [
              "(1512843, 29)"
            ]
          },
          "metadata": {
            "tags": []
          },
          "execution_count": 11
        }
      ]
    },
    {
      "cell_type": "code",
      "metadata": {
        "id": "p_qPKKgUyOBI"
      },
      "source": [
        "df = Add_New_Features(df)\r\n",
        "\r\n",
        "df = df[['DEPTH_MD', 'FORMATION', 'CALI', 'RSHA', 'RMED', 'RDEP', 'RHOB','GR',\r\n",
        "         'NPHI', 'PEF', 'DTC', 'SP', 'BS', 'DRHO','FORCE_2020_LITHOFACIES_LITHOLOGY',\r\n",
        "         'Carbon_Index','Delta_Carbon_Index','Delta_DTC','Delta_RHOB','Delta_DEPTH_MD',\r\n",
        "         'Delta_GR','Normalized_GR','Normalized_RHOB','X_LOC','Y_LOC']]\r\n",
        "\r\n",
        "fill_formation = df.FORMATION.value_counts().index[0]\r\n",
        "fill_BS = 12.250001\r\n",
        "fill_with_median = df.median()\r\n",
        "\r\n",
        "df = Fill_Data(df,fill_formation,fill_BS,fill_with_median)\r\n",
        "\r\n",
        "output = \"FORCE_2020_LITHOFACIES_LITHOLOGY\"\r\n",
        "\r\n",
        "X = df.drop([output], axis=1)\r\n",
        "y = df[output]\r\n",
        "\r\n",
        "lithology_numbers = {30000: 0,\r\n",
        "                 65030: 1,\r\n",
        "                 65000: 2,\r\n",
        "                 80000: 3,\r\n",
        "                 74000: 4,\r\n",
        "                 70000: 5,\r\n",
        "                 70032: 6,\r\n",
        "                 88000: 7,\r\n",
        "                 86000: 8,\r\n",
        "                 99000: 9,\r\n",
        "                 90000: 10,\r\n",
        "                 93000: 11}\r\n",
        "y = y.map(lithology_numbers)"
      ],
      "execution_count": null,
      "outputs": []
    },
    {
      "cell_type": "code",
      "metadata": {
        "id": "qwTYwL-8zBih"
      },
      "source": [
        "lithology = train['FORCE_2020_LITHOFACIES_LITHOLOGY']\r\n",
        "valid1_lithology = valid1['FORCE_2020_LITHOFACIES_LITHOLOGY']\r\n",
        "valid2_lithology = valid2['FORCE_2020_LITHOFACIES_LITHOLOGY']\r\n",
        "valid3_lithology = valid3['FORCE_2020_LITHOFACIES_LITHOLOGY']\r\n",
        " \r\n",
        "lithology_numbers = {30000: 0,\r\n",
        "                 65030: 1,\r\n",
        "                 65000: 2,\r\n",
        "                 80000: 3,\r\n",
        "                 74000: 4,\r\n",
        "                 70000: 5,\r\n",
        "                 70032: 6,\r\n",
        "                 88000: 7,\r\n",
        "                 86000: 8,\r\n",
        "                 99000: 9,\r\n",
        "                 90000: 10,\r\n",
        "                 93000: 11}\r\n",
        " \r\n",
        "lithology = lithology.map(lithology_numbers)\r\n",
        "valid1_lithology = valid1_lithology.map(lithology_numbers)\r\n",
        "valid2_lithology = valid2_lithology.map(lithology_numbers)\r\n",
        "valid3_lithology = valid3_lithology.map(lithology_numbers)"
      ],
      "execution_count": null,
      "outputs": []
    },
    {
      "cell_type": "code",
      "metadata": {
        "colab": {
          "base_uri": "https://localhost:8080/"
        },
        "id": "h3_UprRM7MV2",
        "outputId": "d2a2cb2f-55ed-4640-b2a9-6bd59a9041f6"
      },
      "source": [
        "data = df.copy()\r\n",
        " \r\n",
        "train2 = data[:ntrain].copy()\r\n",
        "target = train2.FORCE_2020_LITHOFACIES_LITHOLOGY.copy()\r\n",
        "validation1_target = valid1.FORCE_2020_LITHOFACIES_LITHOLOGY.copy()\r\n",
        "validation2_target = valid2.FORCE_2020_LITHOFACIES_LITHOLOGY.copy()\r\n",
        "train2.drop(['FORCE_2020_LITHOFACIES_LITHOLOGY'], axis=1, inplace=True)\r\n",
        " \r\n",
        "test2 = data[ntrain:(ntest+ntrain)].copy()\r\n",
        "test2.drop(['FORCE_2020_LITHOFACIES_LITHOLOGY'], axis=1, inplace=True)\r\n",
        "test2 = test2.reset_index(drop=True)\r\n",
        " \r\n",
        "validation1 = data[(ntest+ntrain):(ntest+ntrain+nvalid1)].copy()\r\n",
        "validation1.drop(['FORCE_2020_LITHOFACIES_LITHOLOGY'], axis=1, inplace=True)\r\n",
        "validation1 = validation1.reset_index(drop=True)\r\n",
        " \r\n",
        "validation2 = data[(ntrain+ntest+nvalid1): (ntrain+ntest+nvalid1+nvalid2)].copy()\r\n",
        "validation2.drop(['FORCE_2020_LITHOFACIES_LITHOLOGY'], axis=1, inplace=True)\r\n",
        "validation2 = validation2.reset_index(drop=True)\r\n",
        " \r\n",
        " \r\n",
        "validation3 = data[(ntrain+ntest+nvalid1+nvalid2):].copy()\r\n",
        "validation3.drop(['FORCE_2020_LITHOFACIES_LITHOLOGY'], axis=1, inplace=True)\r\n",
        "validation3 = validation3.reset_index(drop=True)\r\n",
        " \r\n",
        "print(train2.shape, test2.shape, validation1.shape, valid1.shape, validation2.shape, validation3.shape, valid2.shape)"
      ],
      "execution_count": null,
      "outputs": [
        {
          "output_type": "stream",
          "text": [
            "(964965, 24) (136786, 24) (114079, 24) (114079, 29) (91467, 24) (205546, 24) (91467, 29)\n"
          ],
          "name": "stdout"
        }
      ]
    },
    {
      "cell_type": "code",
      "metadata": {
        "id": "TBRXwxlt8Wle"
      },
      "source": [
        "traindata = train2\r\n",
        "testdata = test2"
      ],
      "execution_count": null,
      "outputs": []
    },
    {
      "cell_type": "code",
      "metadata": {
        "id": "UWWgxb6X7f8c"
      },
      "source": [
        "class Model():\r\n",
        "    \r\n",
        "    def __init__(self, train, validation1, validation2, validation3, train_label, valid_label1, valid_label2, valid_label3):\r\n",
        "        \r\n",
        "        \r\n",
        "        self.train = train\r\n",
        "        #self.test = test\r\n",
        "        self.validation1 = validation1\r\n",
        "        self.validation2 = validation2\r\n",
        "        self.validation3 = validation3\r\n",
        "        self.train_label = train_label\r\n",
        "        self.valid_label1 = valid_label1\r\n",
        "        self.valid_label2 = valid_label2\r\n",
        "        self.valid_label3 = valid_label3\r\n",
        "        \r\n",
        "    def __call__(self, plot = True):\r\n",
        "        return self.fit(plot)\r\n",
        "    \r\n",
        "    def fit(self, plot):\r\n",
        " \r\n",
        "      #self.x_train, self.x_test, self.y_train, self.y_test = ms.train_test_split(self.train, \r\n",
        "                                                                                  # pd.DataFrame(np.array(self.train_label)), \r\n",
        "                                                                                   #test_size=0.2,\r\n",
        "                                                                                   #random_state=212)\r\n",
        "      #self.x_train = self.train.iloc[:700000]\r\n",
        "      #self.x_test = self.train.iloc[700000:]\r\n",
        "      #self.y_train = pd.DataFrame(self.train_label).iloc[:700000]\r\n",
        "      #self.y_test = pd.DataFrame(self.train_label).iloc[700000:]\r\n",
        "      \r\n",
        "      def show_evaluation(pred, true):\r\n",
        "        \r\n",
        "        print(f'Default score: {score(true.values, pred)}')\r\n",
        "        print(f'Accuracy is: {accuracy_score(true, pred)}')\r\n",
        "        print(f'F1 is: {f1_score(pred, true.values, average=\"weighted\")}')\r\n",
        " \r\n",
        "      split = 10\r\n",
        "      kf = StratifiedKFold(n_splits=split, random_state=42, shuffle=True)\r\n",
        "  \r\n",
        "      #pred = np.zeros((len(self.test), 12))\r\n",
        "      val1 = np.zeros((len(self.validation1), 12))\r\n",
        "      val2 = np.zeros((len(self.validation2), 12))\r\n",
        "      val3 = np.zeros((len(self.validation3), 12))\r\n",
        " \r\n",
        "      model = XGBClassifier(n_estimators=100, max_depth=5, booster='gbtree',\r\n",
        "                            objective='multi:softprob', learning_rate=0.1, random_state=0,\r\n",
        "                            subsample=0.9, colsample_bytree=0.9, tree_method='gpu_hist',\r\n",
        "                            eval_metric='mlogloss', verbose=2020, reg_lambda=300)\r\n",
        "\r\n",
        "      #model = RandomForestClassifier(n_estimators=100, random_state= 42, min_samples_split=13,\r\n",
        "                                     #class_weight='balanced', n_jobs=-1,criterion = 'entropy', verbose=2)\r\n",
        "      \r\n",
        "      i = 1\r\n",
        "      for (train_index, test_index) in kf.split(pd.DataFrame(traindata), pd.DataFrame(lithology)):\r\n",
        "        X_train,X_test = pd.DataFrame(traindata).iloc[train_index], pd.DataFrame(traindata).iloc[test_index]\r\n",
        "        Y_train,Y_test = pd.DataFrame(lithology).iloc[train_index],pd.DataFrame(lithology).iloc[test_index]\r\n",
        "    \r\n",
        "        \r\n",
        "        model.fit(X_train, Y_train, early_stopping_rounds=100, eval_set=[(X_test, Y_test)], verbose=100)\r\n",
        "        #model.fit(X_train, Y_train)\r\n",
        "        prediction1 = model.predict(self.validation1)\r\n",
        "        prediction = model.predict(self.validation2)\r\n",
        "        print(show_evaluation(prediction1, self.valid_label1))\r\n",
        "        print(show_evaluation(prediction, self.valid_label2))\r\n",
        " \r\n",
        "        print(f'-----------------------FOLD {i}---------------------')\r\n",
        "        i+=1\r\n",
        " \r\n",
        "        #pred += model.predict_proba(self.test)\r\n",
        "        val1 += model.predict_proba(self.validation1)\r\n",
        "        val2 += model.predict_proba(self.validation2)\r\n",
        "        val3 += model.predict_proba(self.validation3)\r\n",
        "      \r\n",
        "      #pred = pd.DataFrame(pred/split)\r\n",
        "      val1 = pd.DataFrame(val1/split)\r\n",
        "      val2 = pd.DataFrame(val2/split)\r\n",
        "      val3 = pd.DataFrame(val3/split)\r\n",
        "    \r\n",
        "      #pred = np.array(pd.DataFrame(pred).idxmax(axis=1))\r\n",
        "      val1 = np.array(pd.DataFrame(val1).idxmax(axis=1))\r\n",
        "      val2 = np.array(pd.DataFrame(val2).idxmax(axis=1))\r\n",
        "      val3 = np.array(pd.DataFrame(val3).idxmax(axis=1))\r\n",
        " \r\n",
        "      print('---------------CROSS VALIDATION COMPLETE')\r\n",
        "      print('----------------TEST EVALUATION------------------')\r\n",
        " \r\n",
        "      print('----------Valid 1-------------')\r\n",
        "      print(show_evaluation(val1, self.valid_label1))\r\n",
        "      print('----------Valid 2-------------')\r\n",
        "      print(show_evaluation(val2, self.valid_label2))\r\n",
        "      print('----------Valid 3-------------')\r\n",
        "      print(show_evaluation(val3, self.valid_label3))\r\n",
        "                  \r\n",
        "      if plot: self.plot_feat_imp(model)\r\n",
        "      return val1, val2, val3, model\r\n",
        "              \r\n",
        "              \r\n",
        "    def plot_feat_imp(self, model):\r\n",
        "        feat_imp = pd.Series(model.feature_importances_).sort_values(ascending=False)\r\n",
        "        plt.figure(figsize=(12,8))\r\n",
        "        feat_imp.plot(kind='bar', title='Feature Importances')\r\n",
        "        plt.ylabel('Feature Importance Score')"
      ],
      "execution_count": null,
      "outputs": []
    },
    {
      "cell_type": "code",
      "metadata": {
        "colab": {
          "base_uri": "https://localhost:8080/",
          "height": 820
        },
        "id": "rW-BsjNy8ClV",
        "outputId": "bf12fde4-ca30-46b6-cacc-8507533583e0"
      },
      "source": [
        "func1_ = Model(traindata, validation1, validation2, validation3, lithology, valid1_lithology, valid2_lithology, valid3_lithology)\r\n",
        "val1, open_test1, open_test11, model1 = func1_()"
      ],
      "execution_count": null,
      "outputs": [
        {
          "output_type": "stream",
          "text": [
            "/usr/local/lib/python3.6/dist-packages/sklearn/preprocessing/_label.py:235: DataConversionWarning: A column-vector y was passed when a 1d array was expected. Please change the shape of y to (n_samples, ), for example using ravel().\n",
            "  y = column_or_1d(y, warn=True)\n",
            "/usr/local/lib/python3.6/dist-packages/sklearn/preprocessing/_label.py:268: DataConversionWarning: A column-vector y was passed when a 1d array was expected. Please change the shape of y to (n_samples, ), for example using ravel().\n",
            "  y = column_or_1d(y, warn=True)\n"
          ],
          "name": "stderr"
        },
        {
          "output_type": "stream",
          "text": [
            "[0]\tvalidation_0-mlogloss:2.15447\n",
            "Will train until validation_0-mlogloss hasn't improved in 100 rounds.\n",
            "[99]\tvalidation_0-mlogloss:0.424193\n",
            "Default score: -0.6611295681063123\n",
            "Accuracy is: 0.7515230673480658\n",
            "F1 is: 0.783463629676568\n",
            "None\n",
            "Default score: -0.5949044464123673\n",
            "Accuracy is: 0.7784884165874031\n",
            "F1 is: 0.8096582298725373\n",
            "None\n",
            "-----------------------FOLD 1---------------------\n",
            "[0]\tvalidation_0-mlogloss:2.15404\n",
            "Will train until validation_0-mlogloss hasn't improved in 100 rounds.\n",
            "[99]\tvalidation_0-mlogloss:0.421079\n",
            "Default score: -0.6568551179445823\n",
            "Accuracy is: 0.7535129164876971\n",
            "F1 is: 0.7865210309590743\n",
            "None\n",
            "Default score: -0.5950096756207157\n",
            "Accuracy is: 0.779188122492265\n",
            "F1 is: 0.8103715957300418\n",
            "None\n",
            "-----------------------FOLD 2---------------------\n",
            "[0]\tvalidation_0-mlogloss:2.1536\n",
            "Will train until validation_0-mlogloss hasn't improved in 100 rounds.\n"
          ],
          "name": "stdout"
        },
        {
          "output_type": "error",
          "ename": "KeyboardInterrupt",
          "evalue": "ignored",
          "traceback": [
            "\u001b[0;31m---------------------------------------------------------------------------\u001b[0m",
            "\u001b[0;31mKeyboardInterrupt\u001b[0m                         Traceback (most recent call last)",
            "\u001b[0;32m<ipython-input-25-492b9c194790>\u001b[0m in \u001b[0;36m<module>\u001b[0;34m()\u001b[0m\n\u001b[1;32m      1\u001b[0m \u001b[0mfunc1_\u001b[0m \u001b[0;34m=\u001b[0m \u001b[0mModel\u001b[0m\u001b[0;34m(\u001b[0m\u001b[0mtraindata\u001b[0m\u001b[0;34m,\u001b[0m \u001b[0mvalidation1\u001b[0m\u001b[0;34m,\u001b[0m \u001b[0mvalidation2\u001b[0m\u001b[0;34m,\u001b[0m \u001b[0mvalidation3\u001b[0m\u001b[0;34m,\u001b[0m \u001b[0mlithology\u001b[0m\u001b[0;34m,\u001b[0m \u001b[0mvalid1_lithology\u001b[0m\u001b[0;34m,\u001b[0m \u001b[0mvalid2_lithology\u001b[0m\u001b[0;34m,\u001b[0m \u001b[0mvalid3_lithology\u001b[0m\u001b[0;34m)\u001b[0m\u001b[0;34m\u001b[0m\u001b[0;34m\u001b[0m\u001b[0m\n\u001b[0;32m----> 2\u001b[0;31m \u001b[0mval1\u001b[0m\u001b[0;34m,\u001b[0m \u001b[0mopen_test1\u001b[0m\u001b[0;34m,\u001b[0m \u001b[0mopen_test11\u001b[0m\u001b[0;34m,\u001b[0m \u001b[0mmodel1\u001b[0m \u001b[0;34m=\u001b[0m \u001b[0mfunc1_\u001b[0m\u001b[0;34m(\u001b[0m\u001b[0;34m)\u001b[0m\u001b[0;34m\u001b[0m\u001b[0;34m\u001b[0m\u001b[0m\n\u001b[0m",
            "\u001b[0;32m<ipython-input-24-1df2a8292caf>\u001b[0m in \u001b[0;36m__call__\u001b[0;34m(self, plot)\u001b[0m\n\u001b[1;32m     15\u001b[0m \u001b[0;34m\u001b[0m\u001b[0m\n\u001b[1;32m     16\u001b[0m     \u001b[0;32mdef\u001b[0m \u001b[0m__call__\u001b[0m\u001b[0;34m(\u001b[0m\u001b[0mself\u001b[0m\u001b[0;34m,\u001b[0m \u001b[0mplot\u001b[0m \u001b[0;34m=\u001b[0m \u001b[0;32mTrue\u001b[0m\u001b[0;34m)\u001b[0m\u001b[0;34m:\u001b[0m\u001b[0;34m\u001b[0m\u001b[0;34m\u001b[0m\u001b[0m\n\u001b[0;32m---> 17\u001b[0;31m         \u001b[0;32mreturn\u001b[0m \u001b[0mself\u001b[0m\u001b[0;34m.\u001b[0m\u001b[0mfit\u001b[0m\u001b[0;34m(\u001b[0m\u001b[0mplot\u001b[0m\u001b[0;34m)\u001b[0m\u001b[0;34m\u001b[0m\u001b[0;34m\u001b[0m\u001b[0m\n\u001b[0m\u001b[1;32m     18\u001b[0m \u001b[0;34m\u001b[0m\u001b[0m\n\u001b[1;32m     19\u001b[0m     \u001b[0;32mdef\u001b[0m \u001b[0mfit\u001b[0m\u001b[0;34m(\u001b[0m\u001b[0mself\u001b[0m\u001b[0;34m,\u001b[0m \u001b[0mplot\u001b[0m\u001b[0;34m)\u001b[0m\u001b[0;34m:\u001b[0m\u001b[0;34m\u001b[0m\u001b[0;34m\u001b[0m\u001b[0m\n",
            "\u001b[0;32m<ipython-input-24-1df2a8292caf>\u001b[0m in \u001b[0;36mfit\u001b[0;34m(self, plot)\u001b[0m\n\u001b[1;32m     56\u001b[0m \u001b[0;34m\u001b[0m\u001b[0m\n\u001b[1;32m     57\u001b[0m \u001b[0;34m\u001b[0m\u001b[0m\n\u001b[0;32m---> 58\u001b[0;31m         \u001b[0mmodel\u001b[0m\u001b[0;34m.\u001b[0m\u001b[0mfit\u001b[0m\u001b[0;34m(\u001b[0m\u001b[0mX_train\u001b[0m\u001b[0;34m,\u001b[0m \u001b[0mY_train\u001b[0m\u001b[0;34m,\u001b[0m \u001b[0mearly_stopping_rounds\u001b[0m\u001b[0;34m=\u001b[0m\u001b[0;36m100\u001b[0m\u001b[0;34m,\u001b[0m \u001b[0meval_set\u001b[0m\u001b[0;34m=\u001b[0m\u001b[0;34m[\u001b[0m\u001b[0;34m(\u001b[0m\u001b[0mX_test\u001b[0m\u001b[0;34m,\u001b[0m \u001b[0mY_test\u001b[0m\u001b[0;34m)\u001b[0m\u001b[0;34m]\u001b[0m\u001b[0;34m,\u001b[0m \u001b[0mverbose\u001b[0m\u001b[0;34m=\u001b[0m\u001b[0;36m100\u001b[0m\u001b[0;34m)\u001b[0m\u001b[0;34m\u001b[0m\u001b[0;34m\u001b[0m\u001b[0m\n\u001b[0m\u001b[1;32m     59\u001b[0m         \u001b[0;31m#model.fit(X_train, Y_train)\u001b[0m\u001b[0;34m\u001b[0m\u001b[0;34m\u001b[0m\u001b[0;34m\u001b[0m\u001b[0m\n\u001b[1;32m     60\u001b[0m         \u001b[0mprediction1\u001b[0m \u001b[0;34m=\u001b[0m \u001b[0mmodel\u001b[0m\u001b[0;34m.\u001b[0m\u001b[0mpredict\u001b[0m\u001b[0;34m(\u001b[0m\u001b[0mself\u001b[0m\u001b[0;34m.\u001b[0m\u001b[0mvalidation1\u001b[0m\u001b[0;34m)\u001b[0m\u001b[0;34m\u001b[0m\u001b[0;34m\u001b[0m\u001b[0m\n",
            "\u001b[0;32m/usr/local/lib/python3.6/dist-packages/xgboost/sklearn.py\u001b[0m in \u001b[0;36mfit\u001b[0;34m(self, X, y, sample_weight, eval_set, eval_metric, early_stopping_rounds, verbose, xgb_model, sample_weight_eval_set, callbacks)\u001b[0m\n\u001b[1;32m    730\u001b[0m                               \u001b[0mevals_result\u001b[0m\u001b[0;34m=\u001b[0m\u001b[0mevals_result\u001b[0m\u001b[0;34m,\u001b[0m \u001b[0mobj\u001b[0m\u001b[0;34m=\u001b[0m\u001b[0mobj\u001b[0m\u001b[0;34m,\u001b[0m \u001b[0mfeval\u001b[0m\u001b[0;34m=\u001b[0m\u001b[0mfeval\u001b[0m\u001b[0;34m,\u001b[0m\u001b[0;34m\u001b[0m\u001b[0;34m\u001b[0m\u001b[0m\n\u001b[1;32m    731\u001b[0m                               \u001b[0mverbose_eval\u001b[0m\u001b[0;34m=\u001b[0m\u001b[0mverbose\u001b[0m\u001b[0;34m,\u001b[0m \u001b[0mxgb_model\u001b[0m\u001b[0;34m=\u001b[0m\u001b[0mxgb_model\u001b[0m\u001b[0;34m,\u001b[0m\u001b[0;34m\u001b[0m\u001b[0;34m\u001b[0m\u001b[0m\n\u001b[0;32m--> 732\u001b[0;31m                               callbacks=callbacks)\n\u001b[0m\u001b[1;32m    733\u001b[0m \u001b[0;34m\u001b[0m\u001b[0m\n\u001b[1;32m    734\u001b[0m         \u001b[0mself\u001b[0m\u001b[0;34m.\u001b[0m\u001b[0mobjective\u001b[0m \u001b[0;34m=\u001b[0m \u001b[0mxgb_options\u001b[0m\u001b[0;34m[\u001b[0m\u001b[0;34m\"objective\"\u001b[0m\u001b[0;34m]\u001b[0m\u001b[0;34m\u001b[0m\u001b[0;34m\u001b[0m\u001b[0m\n",
            "\u001b[0;32m/usr/local/lib/python3.6/dist-packages/xgboost/training.py\u001b[0m in \u001b[0;36mtrain\u001b[0;34m(params, dtrain, num_boost_round, evals, obj, feval, maximize, early_stopping_rounds, evals_result, verbose_eval, xgb_model, callbacks, learning_rates)\u001b[0m\n\u001b[1;32m    214\u001b[0m                            \u001b[0mevals\u001b[0m\u001b[0;34m=\u001b[0m\u001b[0mevals\u001b[0m\u001b[0;34m,\u001b[0m\u001b[0;34m\u001b[0m\u001b[0;34m\u001b[0m\u001b[0m\n\u001b[1;32m    215\u001b[0m                            \u001b[0mobj\u001b[0m\u001b[0;34m=\u001b[0m\u001b[0mobj\u001b[0m\u001b[0;34m,\u001b[0m \u001b[0mfeval\u001b[0m\u001b[0;34m=\u001b[0m\u001b[0mfeval\u001b[0m\u001b[0;34m,\u001b[0m\u001b[0;34m\u001b[0m\u001b[0;34m\u001b[0m\u001b[0m\n\u001b[0;32m--> 216\u001b[0;31m                            xgb_model=xgb_model, callbacks=callbacks)\n\u001b[0m\u001b[1;32m    217\u001b[0m \u001b[0;34m\u001b[0m\u001b[0m\n\u001b[1;32m    218\u001b[0m \u001b[0;34m\u001b[0m\u001b[0m\n",
            "\u001b[0;32m/usr/local/lib/python3.6/dist-packages/xgboost/training.py\u001b[0m in \u001b[0;36m_train_internal\u001b[0;34m(params, dtrain, num_boost_round, evals, obj, feval, xgb_model, callbacks)\u001b[0m\n\u001b[1;32m     72\u001b[0m         \u001b[0;31m# Skip the first update if it is a recovery step.\u001b[0m\u001b[0;34m\u001b[0m\u001b[0;34m\u001b[0m\u001b[0;34m\u001b[0m\u001b[0m\n\u001b[1;32m     73\u001b[0m         \u001b[0;32mif\u001b[0m \u001b[0mversion\u001b[0m \u001b[0;34m%\u001b[0m \u001b[0;36m2\u001b[0m \u001b[0;34m==\u001b[0m \u001b[0;36m0\u001b[0m\u001b[0;34m:\u001b[0m\u001b[0;34m\u001b[0m\u001b[0;34m\u001b[0m\u001b[0m\n\u001b[0;32m---> 74\u001b[0;31m             \u001b[0mbst\u001b[0m\u001b[0;34m.\u001b[0m\u001b[0mupdate\u001b[0m\u001b[0;34m(\u001b[0m\u001b[0mdtrain\u001b[0m\u001b[0;34m,\u001b[0m \u001b[0mi\u001b[0m\u001b[0;34m,\u001b[0m \u001b[0mobj\u001b[0m\u001b[0;34m)\u001b[0m\u001b[0;34m\u001b[0m\u001b[0;34m\u001b[0m\u001b[0m\n\u001b[0m\u001b[1;32m     75\u001b[0m             \u001b[0mbst\u001b[0m\u001b[0;34m.\u001b[0m\u001b[0msave_rabit_checkpoint\u001b[0m\u001b[0;34m(\u001b[0m\u001b[0;34m)\u001b[0m\u001b[0;34m\u001b[0m\u001b[0;34m\u001b[0m\u001b[0m\n\u001b[1;32m     76\u001b[0m             \u001b[0mversion\u001b[0m \u001b[0;34m+=\u001b[0m \u001b[0;36m1\u001b[0m\u001b[0;34m\u001b[0m\u001b[0;34m\u001b[0m\u001b[0m\n",
            "\u001b[0;32m/usr/local/lib/python3.6/dist-packages/xgboost/core.py\u001b[0m in \u001b[0;36mupdate\u001b[0;34m(self, dtrain, iteration, fobj)\u001b[0m\n\u001b[1;32m   1107\u001b[0m         \u001b[0;32mif\u001b[0m \u001b[0mfobj\u001b[0m \u001b[0;32mis\u001b[0m \u001b[0;32mNone\u001b[0m\u001b[0;34m:\u001b[0m\u001b[0;34m\u001b[0m\u001b[0;34m\u001b[0m\u001b[0m\n\u001b[1;32m   1108\u001b[0m             _check_call(_LIB.XGBoosterUpdateOneIter(self.handle, ctypes.c_int(iteration),\n\u001b[0;32m-> 1109\u001b[0;31m                                                     dtrain.handle))\n\u001b[0m\u001b[1;32m   1110\u001b[0m         \u001b[0;32melse\u001b[0m\u001b[0;34m:\u001b[0m\u001b[0;34m\u001b[0m\u001b[0;34m\u001b[0m\u001b[0m\n\u001b[1;32m   1111\u001b[0m             \u001b[0mpred\u001b[0m \u001b[0;34m=\u001b[0m \u001b[0mself\u001b[0m\u001b[0;34m.\u001b[0m\u001b[0mpredict\u001b[0m\u001b[0;34m(\u001b[0m\u001b[0mdtrain\u001b[0m\u001b[0;34m)\u001b[0m\u001b[0;34m\u001b[0m\u001b[0;34m\u001b[0m\u001b[0m\n",
            "\u001b[0;31mKeyboardInterrupt\u001b[0m: "
          ]
        }
      ]
    },
    {
      "cell_type": "code",
      "metadata": {
        "colab": {
          "base_uri": "https://localhost:8080/"
        },
        "id": "cJp-FxB-8xh5",
        "outputId": "051bb2f3-940f-45c7-d2a3-077da3cf1470"
      },
      "source": [
        "print(show_evaluation(val1, valid1_lithology))\r\n",
        "print(show_evaluation(open_test1, valid2_lithology))\r\n",
        "print(show_evaluation(open_test11, valid3_lithology))"
      ],
      "execution_count": null,
      "outputs": [
        {
          "output_type": "stream",
          "text": [
            "Default score: -0.6827439756659859\n",
            "Accuracy is: 0.7440019635515739\n",
            "F1 is: 0.7994350729294114\n",
            "None\n",
            "Default score: -0.5664665945094952\n",
            "Accuracy is: 0.7926574611608558\n",
            "F1 is: 0.8390232361458554\n",
            "None\n",
            "Default score: -0.6761053486810739\n",
            "Accuracy is: 0.7501727107314178\n",
            "F1 is: 0.8034899884348551\n",
            "None\n"
          ],
          "name": "stdout"
        }
      ]
    },
    {
      "cell_type": "code",
      "metadata": {
        "id": "OmXcuPQm9IRy"
      },
      "source": [
        ""
      ],
      "execution_count": null,
      "outputs": []
    }
  ]
}