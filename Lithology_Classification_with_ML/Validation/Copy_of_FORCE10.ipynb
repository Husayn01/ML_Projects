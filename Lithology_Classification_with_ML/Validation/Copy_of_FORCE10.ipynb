{
  "nbformat": 4,
  "nbformat_minor": 0,
  "metadata": {
    "colab": {
      "name": "Copy of FORCE10.ipynb",
      "provenance": [],
      "collapsed_sections": []
    },
    "kernelspec": {
      "name": "python3",
      "display_name": "Python 3"
    }
  },
  "cells": [
    {
      "cell_type": "code",
      "metadata": {
        "id": "-JXBVkh1SBTZ",
        "colab": {
          "base_uri": "https://localhost:8080/",
          "height": 343
        },
        "outputId": "82a19c18-f4d0-4260-cd96-531b47809ffc"
      },
      "source": [
        "import pandas as pd\n",
        "import numpy as np\n",
        "import numpy.random as nr\n",
        "import matplotlib.pyplot as plt\n",
        "import sklearn\n",
        "from sklearn.linear_model import LogisticRegression\n",
        "from sklearn.preprocessing import LabelEncoder\n",
        "from sklearn.ensemble import RandomForestClassifier, ExtraTreesClassifier\n",
        "!pip install catboost\n",
        "from catboost import CatBoostClassifier\n",
        "from xgboost import XGBClassifier\n",
        "from sklearn import preprocessing\n",
        "import sklearn.model_selection as ms\n",
        "from sklearn.model_selection import KFold, StratifiedKFold\n",
        "from sklearn.metrics import accuracy_score, f1_score"
      ],
      "execution_count": null,
      "outputs": [
        {
          "output_type": "stream",
          "text": [
            "Collecting catboost\n",
            "\u001b[?25l  Downloading https://files.pythonhosted.org/packages/90/86/c3dcb600b4f9e7584ed90ea9d30a717fb5c0111574675f442c3e7bc19535/catboost-0.24.1-cp36-none-manylinux1_x86_64.whl (66.1MB)\n",
            "\u001b[K     |████████████████████████████████| 66.1MB 92kB/s \n",
            "\u001b[?25hRequirement already satisfied: scipy in /usr/local/lib/python3.6/dist-packages (from catboost) (1.4.1)\n",
            "Requirement already satisfied: six in /usr/local/lib/python3.6/dist-packages (from catboost) (1.15.0)\n",
            "Requirement already satisfied: pandas>=0.24.0 in /usr/local/lib/python3.6/dist-packages (from catboost) (1.1.2)\n",
            "Requirement already satisfied: matplotlib in /usr/local/lib/python3.6/dist-packages (from catboost) (3.2.2)\n",
            "Requirement already satisfied: numpy>=1.16.0 in /usr/local/lib/python3.6/dist-packages (from catboost) (1.18.5)\n",
            "Requirement already satisfied: graphviz in /usr/local/lib/python3.6/dist-packages (from catboost) (0.10.1)\n",
            "Requirement already satisfied: plotly in /usr/local/lib/python3.6/dist-packages (from catboost) (4.4.1)\n",
            "Requirement already satisfied: python-dateutil>=2.7.3 in /usr/local/lib/python3.6/dist-packages (from pandas>=0.24.0->catboost) (2.8.1)\n",
            "Requirement already satisfied: pytz>=2017.2 in /usr/local/lib/python3.6/dist-packages (from pandas>=0.24.0->catboost) (2018.9)\n",
            "Requirement already satisfied: kiwisolver>=1.0.1 in /usr/local/lib/python3.6/dist-packages (from matplotlib->catboost) (1.2.0)\n",
            "Requirement already satisfied: pyparsing!=2.0.4,!=2.1.2,!=2.1.6,>=2.0.1 in /usr/local/lib/python3.6/dist-packages (from matplotlib->catboost) (2.4.7)\n",
            "Requirement already satisfied: cycler>=0.10 in /usr/local/lib/python3.6/dist-packages (from matplotlib->catboost) (0.10.0)\n",
            "Requirement already satisfied: retrying>=1.3.3 in /usr/local/lib/python3.6/dist-packages (from plotly->catboost) (1.3.3)\n",
            "Installing collected packages: catboost\n",
            "Successfully installed catboost-0.24.1\n"
          ],
          "name": "stdout"
        }
      ]
    },
    {
      "cell_type": "code",
      "metadata": {
        "id": "2mUEp7Px08r-"
      },
      "source": [
        "!pip install petroeval\n",
        "import petroeval as pet\n",
        "from petroeval import evaluate_reservoir\n",
        "from petroeval import log_plot, three_plots\n",
        "from petroeval import FormationEvaluation, preprocessing\n",
        "from petroeval import visualizations\n",
        "from petroeval.visualizations import summary"
      ],
      "execution_count": null,
      "outputs": []
    },
    {
      "cell_type": "code",
      "metadata": {
        "id": "pNMIYbn1v6hi"
      },
      "source": [
        "def fill_missing_values(data):\n",
        "    \n",
        "    '''\n",
        "    Function to input missing values based on the column object type\n",
        "    '''\n",
        "    \n",
        "    cols = list(data.columns)\n",
        "    for col in cols:\n",
        "        if data[col].dtype == 'int64' or data[col].dtype == 'float64':\n",
        "        \n",
        "            data[col] = data[col].fillna(data[col].mean())\n",
        "        \n",
        "        #elif data[col].dtype == 'O' or data[col].dtype == 'object':\n",
        "        #    data[col] = data[col].fillna(data[col].mode()[0])\n",
        "            \n",
        "        else:\n",
        "            data[col] = data[col].fillna(data[col].mode()[0])\n",
        "            \n",
        "    return data\n",
        " \n",
        "def one_hot_encoding(traindata, *args):\n",
        "    \n",
        "    for ii in args:\n",
        "        traindata = pd.get_dummies(traindata, prefix=[ii], columns=[ii])\n",
        "        \n",
        "    return traindata\n",
        " \n",
        "def drop_columns(traindata, *args):\n",
        "    \n",
        "    #labels = np.array(traindata[target])\n",
        "    \n",
        "    columns = []\n",
        "    for _ in args:\n",
        "        columns.append(_)\n",
        "        \n",
        "    traindata = traindata.drop(columns, axis=1)\n",
        "    #traindata = traindata.drop(target, axis=1)\n",
        "    #testdata = testdata.drop(columns, axis=1)\n",
        "        \n",
        "    return traindata\n",
        " \n",
        "def process(traindata):\n",
        "    \n",
        "    cols = list(traindata.columns)\n",
        "    for _ in cols:\n",
        "        traindata[_] = np.where(traindata[_] == np.inf, -999, traindata[_])\n",
        "        traindata[_] = np.where(traindata[_] == np.nan, -999, traindata[_])\n",
        "        traindata[_] = np.where(traindata[_] == -np.inf, -999, traindata[_])\n",
        "        \n",
        "    return traindata\n",
        " \n",
        "def show_evaluation(pred, true):\n",
        "  print(f'Default score: {score(true.values, pred)}')\n",
        "  print(f'Accuracy is: {accuracy_score(true, pred)}')\n",
        "  print(f'F1 is: {f1_score(pred, true.values, average=\"weighted\")}')\n",
        " \n",
        "def freq_encode(data, cols):\n",
        "    for i in cols:\n",
        "        encoding = data.groupby(i).size()\n",
        "        encoding = encoding/len(data)\n",
        "        data[i + '_enc'] = data[i].map(encoding)\n",
        "    return data\n",
        " \n",
        " \n",
        "def mean_target(data, cols):\n",
        "    kf = KFold(5)\n",
        "    a = pd.DataFrame()\n",
        "    for tr_ind, val_ind in kf.split(data):\n",
        "        X_tr, X_val= data.iloc[tr_ind].copy(), data.iloc[val_ind].copy()\n",
        "        for col in cols:\n",
        "            means = X_val[col].map(X_tr.groupby(col).FORCE_2020_LITHOFACIES_LITHOLOGY.mean())\n",
        "            X_val[col + '_mean_target'] = means + 0.0001\n",
        "        a = pd.concat((a, X_val))\n",
        "    #prior = FORCE_2020_LITHOFACIES_LITHOLOGY.mean()\n",
        "    #a.fillna(prior, inplace=True)\n",
        "    return a\n",
        " \n",
        "def make_submission(prediction, filename):\n",
        " \n",
        "  path = '/content/drive/My Drive/FORCE-Lithology-Prediction/'\n",
        " \n",
        "  test = pd.read_csv('/content/drive/My Drive/FORCE-Lithology-Prediction/Test.csv', sep=';')\n",
        "  #test_prediction = model.predict(testdata)\n",
        " \n",
        "  #test_prediction\n",
        "  category_to_lithology = {y:x for x,y in lithology_numbers.items()}\n",
        "  test_prediction_for_submission = np.vectorize(category_to_lithology.get)(prediction)\n",
        "  np.savetxt(path+filename+'.csv', test_prediction_for_submission, header='lithology', fmt='%i')"
      ],
      "execution_count": null,
      "outputs": []
    },
    {
      "cell_type": "code",
      "metadata": {
        "id": "Ljsmjy22v_O5"
      },
      "source": [
        "A = np.load('/content/drive/My Drive/FORCE-Lithology-Prediction/penalty_matrix.npy')\n",
        " \n",
        "def score(y_true, y_pred):\n",
        "    S = 0.0\n",
        "    y_true = y_true.astype(int)\n",
        "    y_pred = y_pred.astype(int)\n",
        "    for i in range(0, y_true.shape[0]):\n",
        "        S -= A[y_true[i], y_pred[i]]\n",
        "    return S/y_true.shape[0]\n",
        " \n",
        "def evaluate(model):\n",
        "    feat_imp = pd.Series(model.feature_importances_).sort_values(ascending=False)\n",
        "    plt.figure(figsize=(24,8))\n",
        "    feat_imp.plot(kind='bar', title=f'Feature Importances {len(model.feature_importances_)}')\n",
        "    plt.ylabel('Feature Importance Score')"
      ],
      "execution_count": null,
      "outputs": []
    },
    {
      "cell_type": "code",
      "metadata": {
        "id": "oQJPcYGPwBlZ"
      },
      "source": [
        "#importing files\n",
        "train = pd.read_csv('/content/drive/My Drive/FORCE-Lithology-Prediction/train1.csv')\n",
        "test = pd.read_csv('/content/drive/My Drive/FORCE-Lithology-Prediction/Test.csv', sep=';')\n",
        "valid1 = pd.read_csv('/content/drive/My Drive/FORCE-Lithology-Prediction/valid4.csv')\n",
        "valid2 = pd.read_csv('/content/drive/My Drive/FORCE-Lithology-Prediction/valid5.csv')\n",
        "valid3 = pd.concat((valid1, valid2)).reset_index(drop=True)\n",
        " \n",
        "ntrain = train.shape[0]\n",
        "ntest = test.shape[0]\n",
        "nvalid1 = valid1.shape[0]\n",
        "nvalid2 = valid2.shape[0]\n",
        "nvalid3 = valid3.shape[0]\n",
        "target = train.FORCE_2020_LITHOFACIES_LITHOLOGY.copy()\n",
        "df = pd.concat((train, test, valid1, valid2, valid3)).reset_index(drop=True)"
      ],
      "execution_count": null,
      "outputs": []
    },
    {
      "cell_type": "code",
      "metadata": {
        "id": "tMfUNYiuyMa_",
        "colab": {
          "base_uri": "https://localhost:8080/",
          "height": 85
        },
        "outputId": "98523aba-0017-4b57-d16e-f8140e62f1c2"
      },
      "source": [
        "df['LITHO'] = None\n",
        "df.loc[df.GR < 64, 'LITHO'] = 'ss'\n",
        "df.loc[df.GR > 98, 'LITHO'] = 'sh'\n",
        "df.loc[(df.GR >= 64) & (df.GR <= 98), 'LITHO'] = 'ssh'\n",
        "df.LITHO.value_counts()"
      ],
      "execution_count": null,
      "outputs": [
        {
          "output_type": "execute_result",
          "data": {
            "text/plain": [
              "ss     699066\n",
              "ssh    578041\n",
              "sh     235736\n",
              "Name: LITHO, dtype: int64"
            ]
          },
          "metadata": {
            "tags": []
          },
          "execution_count": 5
        }
      ]
    },
    {
      "cell_type": "code",
      "metadata": {
        "id": "MoSip3vIwDfY"
      },
      "source": [
        "lithology = train['FORCE_2020_LITHOFACIES_LITHOLOGY']\n",
        "valid1_lithology = valid1['FORCE_2020_LITHOFACIES_LITHOLOGY']\n",
        "valid2_lithology = valid2['FORCE_2020_LITHOFACIES_LITHOLOGY']\n",
        "valid3_lithology = valid3['FORCE_2020_LITHOFACIES_LITHOLOGY']\n",
        " \n",
        "lithology_numbers = {30000: 0,\n",
        "                 65030: 1,\n",
        "                 65000: 2,\n",
        "                 80000: 3,\n",
        "                 74000: 4,\n",
        "                 70000: 5,\n",
        "                 70032: 6,\n",
        "                 88000: 7,\n",
        "                 86000: 8,\n",
        "                 99000: 9,\n",
        "                 90000: 10,\n",
        "                 93000: 11}\n",
        " \n",
        "lithology = lithology.map(lithology_numbers)\n",
        "valid1_lithology = valid1_lithology.map(lithology_numbers)\n",
        "valid2_lithology = valid2_lithology.map(lithology_numbers)\n",
        "valid3_lithology = valid3_lithology.map(lithology_numbers)"
      ],
      "execution_count": null,
      "outputs": []
    },
    {
      "cell_type": "code",
      "metadata": {
        "id": "3imMHrOnWLjc",
        "colab": {
          "base_uri": "https://localhost:8080/",
          "height": 51
        },
        "outputId": "ca62a9d2-67b1-42d8-e51c-48442ea96a81"
      },
      "source": [
        "print(df.shape)\n",
        "cols = ['FORCE_2020_LITHOFACIES_CONFIDENCE', 'SGR', \n",
        "        'DTS', 'RXO', 'DRHO', 'ROPA', 'RMIC', 'RSHA', 'MUDWEIGHT', 'ROP', 'PEF', 'BS', 'DCAL']\n",
        "df = drop_columns(df, *cols)\n",
        "print(df.shape)"
      ],
      "execution_count": null,
      "outputs": [
        {
          "output_type": "stream",
          "text": [
            "(1512843, 29)\n",
            "(1512843, 16)\n"
          ],
          "name": "stdout"
        }
      ]
    },
    {
      "cell_type": "code",
      "metadata": {
        "id": "yJmoiWv1wJYe",
        "colab": {
          "base_uri": "https://localhost:8080/",
          "height": 50
        },
        "outputId": "1255d534-2fcc-4ce8-efd7-1e329c0d4cc2"
      },
      "source": [
        "df = freq_encode(df, ['FORMATION', 'GROUP'])\n",
        "print(df.shape)\n",
        "df = mean_target(df, ['FORMATION', 'GROUP'])\n",
        "df.shape"
      ],
      "execution_count": null,
      "outputs": [
        {
          "output_type": "stream",
          "text": [
            "(1500138, 21)\n"
          ],
          "name": "stdout"
        },
        {
          "output_type": "execute_result",
          "data": {
            "text/plain": [
              "(1500138, 23)"
            ]
          },
          "metadata": {
            "tags": []
          },
          "execution_count": 7
        }
      ]
    },
    {
      "cell_type": "code",
      "metadata": {
        "id": "2DePecbLdUUc",
        "colab": {
          "base_uri": "https://localhost:8080/",
          "height": 34
        },
        "outputId": "3f642d57-ced9-4e9b-d09f-ab3469bf9813"
      },
      "source": [
        "df['GROUP_encoded'] = df['GROUP'].astype('category')\n",
        "df['GROUP_encoded'] = df['GROUP_encoded'].cat.codes \n",
        "df['FORMATION_encoded'] = df['FORMATION'].astype('category')\n",
        "df['FORMATION_encoded'] = df['FORMATION_encoded'].cat.codes\n",
        "#df['LITHO_encoded'] = df['LITHO'].astype('category')\n",
        "#df['LITHO_encoded'] = df['LITHO_encoded'].cat.codes\n",
        "df.shape"
      ],
      "execution_count": null,
      "outputs": [
        {
          "output_type": "execute_result",
          "data": {
            "text/plain": [
              "(1512843, 18)"
            ]
          },
          "metadata": {
            "tags": []
          },
          "execution_count": 7
        }
      ]
    },
    {
      "cell_type": "code",
      "metadata": {
        "id": "i1Bv8wjdwOg7",
        "colab": {
          "base_uri": "https://localhost:8080/",
          "height": 33
        },
        "outputId": "98f08477-b787-4531-c954-d3105e0b4c08"
      },
      "source": [
        "col = ['GROUP']\n",
        " \n",
        "df = one_hot_encoding(df, *col)\n",
        "df.shape"
      ],
      "execution_count": null,
      "outputs": [
        {
          "output_type": "execute_result",
          "data": {
            "text/plain": [
              "(1500138, 32)"
            ]
          },
          "metadata": {
            "tags": []
          },
          "execution_count": 7
        }
      ]
    },
    {
      "cell_type": "code",
      "metadata": {
        "id": "JCByQuFLwO1L",
        "colab": {
          "base_uri": "https://localhost:8080/",
          "height": 54
        },
        "outputId": "489239f7-b6a3-4a4b-caa5-3af10f470e8f"
      },
      "source": [
        "df = df.drop(['WELL', 'GROUP', 'FORMATION'], axis=1)\n",
        "df.shape\n",
        " \n",
        "df = df.fillna(-999)\n",
        "df = process(df)\n",
        "data = df.copy()\n",
        " \n",
        "train2 = data[:ntrain].copy()\n",
        "target = train2.FORCE_2020_LITHOFACIES_LITHOLOGY.copy()\n",
        "validation1_target = valid1.FORCE_2020_LITHOFACIES_LITHOLOGY.copy()\n",
        "validation2_target = valid2.FORCE_2020_LITHOFACIES_LITHOLOGY.copy()\n",
        "train2.drop(['FORCE_2020_LITHOFACIES_LITHOLOGY'], axis=1, inplace=True)\n",
        " \n",
        "test2 = data[ntrain:(ntest+ntrain)].copy()\n",
        "test2.drop(['FORCE_2020_LITHOFACIES_LITHOLOGY'], axis=1, inplace=True)\n",
        "test2 = test2.reset_index(drop=True)\n",
        " \n",
        "validation1 = data[(ntest+ntrain):(ntest+ntrain+nvalid1)].copy()\n",
        "validation1.drop(['FORCE_2020_LITHOFACIES_LITHOLOGY'], axis=1, inplace=True)\n",
        "validation1 = validation1.reset_index(drop=True)\n",
        " \n",
        "validation2 = data[(ntrain+ntest+nvalid1): (ntrain+ntest+nvalid1+nvalid2)].copy()\n",
        "validation2.drop(['FORCE_2020_LITHOFACIES_LITHOLOGY'], axis=1, inplace=True)\n",
        "validation2 = validation2.reset_index(drop=True)\n",
        " \n",
        " \n",
        "validation3 = data[(ntrain+ntest+nvalid1+nvalid2):].copy()\n",
        "validation3.drop(['FORCE_2020_LITHOFACIES_LITHOLOGY'], axis=1, inplace=True)\n",
        "validation3 = validation3.reset_index(drop=True)\n",
        " \n",
        "print(train2.shape, test2.shape, validation1.shape, valid1.shape, validation2.shape, validation3.shape, valid2.shape)"
      ],
      "execution_count": null,
      "outputs": [
        {
          "output_type": "stream",
          "text": [
            "(964965, 14) (136786, 14) (114079, 14) (114079, 29) (91467, 14) (205546, 14) (91467, 29)\n"
          ],
          "name": "stdout"
        }
      ]
    },
    {
      "cell_type": "code",
      "metadata": {
        "id": "tIe-M1uSwRsR"
      },
      "source": [
        "traindata = train2\n",
        "testdata = test2\n",
        "from sklearn.preprocessing import StandardScaler\n",
        " \n",
        "scaler = StandardScaler().fit(traindata)\n",
        "def scale_data(data):\n",
        "  \n",
        "  data = scaler.transform(data)\n",
        "  #testdata = scaler.transform(testdata)\n",
        "  data = pd.DataFrame(data, columns=testdata.columns)\n",
        " \n",
        "  return data"
      ],
      "execution_count": null,
      "outputs": []
    },
    {
      "cell_type": "code",
      "metadata": {
        "id": "KgfiCndhwUD_"
      },
      "source": [
        "traindata = scale_data(traindata)\n",
        "testdata = scale_data(testdata)\n",
        "validation1 = scale_data(validation1)\n",
        "validation2 = scale_data(validation2)\n",
        "validation3 = scale_data(validation3)"
      ],
      "execution_count": null,
      "outputs": []
    },
    {
      "cell_type": "code",
      "metadata": {
        "id": "7QatLRTyieQX"
      },
      "source": [
        "traindata.sort_index(inplace=True)"
      ],
      "execution_count": null,
      "outputs": []
    },
    {
      "cell_type": "code",
      "metadata": {
        "id": "e19G1ymGhpOG"
      },
      "source": [
        ""
      ],
      "execution_count": null,
      "outputs": []
    },
    {
      "cell_type": "code",
      "metadata": {
        "id": "6s_EyKgjCI-k"
      },
      "source": [
        ""
      ],
      "execution_count": null,
      "outputs": []
    },
    {
      "cell_type": "code",
      "metadata": {
        "id": "ISyecAglCIyk"
      },
      "source": [
        "lithology1 = pd.DataFrame(lithology)\n",
        "lithology1.sort_index(inplace=True)\n",
        "#lithology1"
      ],
      "execution_count": null,
      "outputs": []
    },
    {
      "cell_type": "code",
      "metadata": {
        "id": "7knlIE7QDvVI"
      },
      "source": [
        "#ytrain2"
      ],
      "execution_count": null,
      "outputs": []
    },
    {
      "cell_type": "code",
      "metadata": {
        "id": "_Q2oafNGD36p"
      },
      "source": [
        "#train2"
      ],
      "execution_count": null,
      "outputs": []
    },
    {
      "cell_type": "code",
      "metadata": {
        "id": "CHl_GW5Ab_ZH",
        "colab": {
          "base_uri": "https://localhost:8080/",
          "height": 34
        },
        "outputId": "f3a26aca-0c72-4916-893a-423e012921ea"
      },
      "source": [
        "train1 = traindata.iloc[:100000]\n",
        "train2 = traindata.iloc[100000:200000]\n",
        "train3 = traindata.iloc[200000:300000]\n",
        "train4 = traindata.iloc[300000:400000]\n",
        "train5 = traindata.iloc[400000:]\n",
        "#train6 = traindata.iloc[500000:600000]\n",
        "#train7 = traindata.iloc[600000:700000]\n",
        "#train8 = traindata.iloc[700000:]\n",
        " \n",
        "train1.shape, train5.shape#, train7.shape"
      ],
      "execution_count": null,
      "outputs": [
        {
          "output_type": "execute_result",
          "data": {
            "text/plain": [
              "((100000, 14), (178979, 14))"
            ]
          },
          "metadata": {
            "tags": []
          },
          "execution_count": 37
        }
      ]
    },
    {
      "cell_type": "code",
      "metadata": {
        "id": "g5k1BVw9b_Up",
        "colab": {
          "base_uri": "https://localhost:8080/",
          "height": 54
        },
        "outputId": "9e90b6aa-dc41-46bd-afe0-aa7c41dcc0b3"
      },
      "source": [
        "ytrain1 = lithology1.iloc[:100000]\n",
        "ytrain2 = lithology1.iloc[100000:200000]\n",
        "ytrain3 = lithology1.iloc[200000:300000]\n",
        "ytrain4 = lithology1.iloc[300000:400000]\n",
        "ytrain5 = lithology1.iloc[400000:]\n",
        "#ytrain6 = lithology1.iloc[500000:600000]\n",
        "#ytrain7 = lithology1.iloc[600000:700000]\n",
        "#ytrain8 = lithology1.iloc[700000:]\n",
        " \n",
        "ytrain1.shape, ytrain2.shape, ytrain5.shape"
      ],
      "execution_count": null,
      "outputs": [
        {
          "output_type": "execute_result",
          "data": {
            "text/plain": [
              "((100000, 1), (100000, 1), (178979, 1))"
            ]
          },
          "metadata": {
            "tags": []
          },
          "execution_count": 38
        }
      ]
    },
    {
      "cell_type": "code",
      "metadata": {
        "id": "nJJEZuNKDrlR",
        "colab": {
          "base_uri": "https://localhost:8080/",
          "height": 54
        },
        "outputId": "3710e7b8-d8b4-4b07-995d-00695ede8deb"
      },
      "source": [
        "validation, traindata, valid_target, lithology = ms.train_test_split(traindata, lithology, random_state=405, test_size=0.6, stratify=lithology)\n",
        "print(validation.shape, valid_target.shape, traindata.shape, lithology.shape)"
      ],
      "execution_count": null,
      "outputs": [
        {
          "output_type": "stream",
          "text": [
            "(385986, 14) (385986,) (578979, 14) (578979,)\n"
          ],
          "name": "stdout"
        }
      ]
    },
    {
      "cell_type": "code",
      "metadata": {
        "id": "atj0QkIUDrf_",
        "colab": {
          "base_uri": "https://localhost:8080/",
          "height": 54
        },
        "outputId": "0da13729-fc10-47fa-80fc-cd2ba1d994f5"
      },
      "source": [
        "train1, sample1, ytrain1, ysample1 = ms.train_test_split(traindata, lithology, random_state=405, test_size=0.8, stratify=lithology)\n",
        "print(train1.shape, ytrain1.shape, sample1.shape)"
      ],
      "execution_count": null,
      "outputs": [
        {
          "output_type": "stream",
          "text": [
            "(115795, 14) (115795,) (463184, 14)\n"
          ],
          "name": "stdout"
        }
      ]
    },
    {
      "cell_type": "code",
      "metadata": {
        "id": "OJQty7L3DrZ6",
        "colab": {
          "base_uri": "https://localhost:8080/",
          "height": 54
        },
        "outputId": "5f1093b9-e8c3-432a-a26c-a7f7e79ce875"
      },
      "source": [
        "train2, sample2, ytrain2, ysample2 = ms.train_test_split(sample1, ysample1, random_state=405, test_size=0.75, stratify=ysample1)\n",
        "print(train2.shape, ytrain2.shape, sample2.shape)"
      ],
      "execution_count": null,
      "outputs": [
        {
          "output_type": "stream",
          "text": [
            "(115796, 14) (115796,) (347388, 14)\n"
          ],
          "name": "stdout"
        }
      ]
    },
    {
      "cell_type": "code",
      "metadata": {
        "id": "L_fcCv8QDzgC",
        "colab": {
          "base_uri": "https://localhost:8080/",
          "height": 54
        },
        "outputId": "c505b183-3651-4cd2-e64b-49d257cc46b5"
      },
      "source": [
        "train3, train4, ytrain3, ytrain4 = ms.train_test_split(sample2, ysample2, random_state=405, test_size=0.666666667, stratify=ysample2)\n",
        "print(train3.shape, ytrain3.shape, train4.shape, ytrain4.shape)"
      ],
      "execution_count": null,
      "outputs": [
        {
          "output_type": "stream",
          "text": [
            "(115795, 14) (115795,) (231593, 14) (231593,)\n"
          ],
          "name": "stdout"
        }
      ]
    },
    {
      "cell_type": "code",
      "metadata": {
        "id": "cib7v33o7NkW",
        "colab": {
          "base_uri": "https://localhost:8080/",
          "height": 54
        },
        "outputId": "229a8b07-0094-492c-cd6b-d3a18358c1fa"
      },
      "source": [
        "train5, train4, ytrain5, ytrain4 = ms.train_test_split(train4, ytrain4, random_state=405, test_size=0.5, stratify=ytrain4)\n",
        "print(train5.shape, ytrain5.shape, train4.shape, ytrain4.shape)"
      ],
      "execution_count": null,
      "outputs": [
        {
          "output_type": "stream",
          "text": [
            "(115796, 14) (115796,) (115797, 14) (115797,)\n"
          ],
          "name": "stdout"
        }
      ]
    },
    {
      "cell_type": "code",
      "metadata": {
        "id": "XfHzmZupi5Dj"
      },
      "source": [
        "class Model():\n",
        "    \n",
        "    def __init__(self, train, validation1, validation2, validation3, train_label, valid_label1, valid_label2, valid_label3):\n",
        "        \n",
        "        \n",
        "        self.train = train\n",
        "        #self.test = test\n",
        "        self.validation1 = validation1\n",
        "        self.validation2 = validation2\n",
        "        self.validation3 = validation3\n",
        "        self.train_label = train_label\n",
        "        self.valid_label1 = valid_label1\n",
        "        self.valid_label2 = valid_label2\n",
        "        self.valid_label3 = valid_label3\n",
        "        \n",
        "    def __call__(self, plot = True):\n",
        "        return self.fit(plot)\n",
        "    \n",
        "    def fit(self, plot):\n",
        " \n",
        "      #self.x_train, self.x_test, self.y_train, self.y_test = ms.train_test_split(self.train, \n",
        "                                                                                  # pd.DataFrame(np.array(self.train_label)), \n",
        "                                                                                   #test_size=0.2,\n",
        "                                                                                   #random_state=212)\n",
        "      #self.x_train = self.train.iloc[:700000]\n",
        "      #self.x_test = self.train.iloc[700000:]\n",
        "      #self.y_train = pd.DataFrame(self.train_label).iloc[:700000]\n",
        "      #self.y_test = pd.DataFrame(self.train_label).iloc[700000:]\n",
        "      \n",
        "      def show_evaluation(pred, true):\n",
        "        \n",
        "        print(f'Default score: {score(true.values, pred)}')\n",
        "        print(f'Accuracy is: {accuracy_score(true, pred)}')\n",
        "        print(f'F1 is: {f1_score(pred, true.values, average=\"weighted\")}')\n",
        " \n",
        "      split = 5\n",
        "      kf = StratifiedKFold(n_splits=split, shuffle=True)\n",
        "  \n",
        "      #pred = np.zeros((len(self.test), 12))\n",
        "      val1 = np.zeros((len(self.validation1), 12))\n",
        "      val2 = np.zeros((len(self.validation2), 12))\n",
        "      val3 = np.zeros((len(self.validation3), 12))\n",
        " \n",
        "      model = CatBoostClassifier(n_estimators=100000, random_state=2020, learning_rate=0.1,\n",
        "                                 use_best_model=True, max_depth=8,\n",
        "                                 eval_metric='MultiClass', task_type='GPU', verbose=100)\n",
        " \n",
        "      #model = XGBClassifier(n_estimators=100000, max_depth=10,\n",
        "                            #objective='multi:softprob', learning_rate=0.033,\n",
        "                            #subsample=0.9, col_sample_bytree=0.9, tree_method='gpu_hist',\n",
        "                            #eval_metric='mlogloss', verbose=2020)\n",
        "      #model = RandomForestClassifier(n_estimators=100, class_weight='balanced', verbose=2)\n",
        "      i = 1\n",
        "      for (train_index, test_index) in kf.split(pd.DataFrame(traindata), pd.DataFrame(lithology)):\n",
        "        X_train,X_test = pd.DataFrame(traindata).iloc[train_index], pd.DataFrame(traindata).iloc[test_index]\n",
        "        Y_train,Y_test = pd.DataFrame(lithology).iloc[train_index],pd.DataFrame(lithology).iloc[test_index]\n",
        "    \n",
        "        \n",
        "        model.fit(X_train, Y_train, early_stopping_rounds=200, eval_set=[(X_test, Y_test)], verbose=1000)\n",
        "        #model.fit(X_train, Y_train)\n",
        "        prediction1 = model.predict(self.validation1)\n",
        "        prediction = model.predict(self.validation2)\n",
        "        print(show_evaluation(prediction1, self.valid_label1))\n",
        "        print(show_evaluation(prediction, self.valid_label2))\n",
        " \n",
        "        print(f'-----------------------FOLD {i}---------------------')\n",
        "        i+=1\n",
        " \n",
        "        #pred += model.predict_proba(self.test)\n",
        "        val1 += model.predict_proba(self.validation1)\n",
        "        val2 += model.predict_proba(self.validation2)\n",
        "        val3 += model.predict_proba(self.validation3)\n",
        "      \n",
        "      #pred = pd.DataFrame(pred/split)\n",
        "      val1 = pd.DataFrame(val1/split)\n",
        "      val2 = pd.DataFrame(val2/split)\n",
        "      val3 = pd.DataFrame(val3/split)\n",
        "    \n",
        "      #pred = np.array(pd.DataFrame(pred).idxmax(axis=1))\n",
        "      val1 = np.array(pd.DataFrame(val1).idxmax(axis=1))\n",
        "      val2 = np.array(pd.DataFrame(val2).idxmax(axis=1))\n",
        "      val3 = np.array(pd.DataFrame(val3).idxmax(axis=1))\n",
        " \n",
        "      print('---------------CROSS VALIDATION COMPLETE')\n",
        "      print('----------------TEST EVALUATION------------------')\n",
        " \n",
        "      print('----------Valid 1-------------')\n",
        "      print(show_evaluation(val1, self.valid_label1))\n",
        "      print('----------Valid 2-------------')\n",
        "      print(show_evaluation(val2, self.valid_label2))\n",
        "      print('----------Valid 3-------------')\n",
        "      print(show_evaluation(val3, self.valid_label3))\n",
        "                  \n",
        "      if plot: self.plot_feat_imp(model)\n",
        "      return val1, val2, val3, model\n",
        "              \n",
        "              \n",
        "    def plot_feat_imp(self, model):\n",
        "        feat_imp = pd.Series(model.feature_importances_).sort_values(ascending=False)\n",
        "        plt.figure(figsize=(12,8))\n",
        "        feat_imp.plot(kind='bar', title='Feature Importances')\n",
        "        plt.ylabel('Feature Importance Score')"
      ],
      "execution_count": null,
      "outputs": []
    },
    {
      "cell_type": "code",
      "metadata": {
        "id": "f2zwYEqlTvvS"
      },
      "source": [
        "class Model():\n",
        "    \n",
        "    def __init__(self, train, test, open_test, open_test1, validation, train_label, test_label, test_label1):\n",
        "        \n",
        "        \n",
        "        self.train = train\n",
        "        self.test = test\n",
        "        self.open_test = open_test\n",
        "        self.open_test1 = open_test1\n",
        "        self.validation = validation\n",
        "        self.train_label = train_label\n",
        "        self.test_label = test_label\n",
        "        self.test_label1 = test_label1\n",
        "        \n",
        "    def __call__(self, plot = True):\n",
        "        return self.fit(plot)\n",
        "    \n",
        "    def fit(self, plot):\n",
        " \n",
        "      self.x_train, self.x_test, self.y_train, self.y_test = ms.train_test_split(self.train, \n",
        "                                                                                   pd.DataFrame(np.array(self.train_label)), \n",
        "                                                                                   test_size=0.2,\n",
        "                                                                                   random_state=212)\n",
        "      \n",
        "      def show_evaluation(pred, true):\n",
        "        \n",
        "        print(f'Default score: {score(true.values, pred)}')\n",
        "        print(f'Accuracy is: {accuracy_score(true, pred)}')\n",
        "        print(f'F1 is: {f1_score(pred, true.values, average=\"weighted\")}')\n",
        " \n",
        "      \n",
        "      #model = ExtraTreesClassifier(n_estimators=100, class_weight='balanced', max_depth=20, verbose=2)\n",
        "      model = XGBClassifier(n_estimators=10000, max_depth=10, reg_lambda=20,\n",
        "                            objective='multi:softmax', learning_rate=0.033,\n",
        "                            subsample=0.9, col_sample_bytree=0.9, tree_method='gpu_hist',\n",
        "                            eval_metric='mlogloss', verbose=2020)\n",
        "      \n",
        "      model = RandomForestClassifier(n_estimators=100, class_weight='balanced', verbose=2, random_state=30)\n",
        " \n",
        "      #model = CatBoostClassifier(n_estimators=20, random_state=3030, learning_rate=0.1,\n",
        "                                 #use_best_model=True, max_depth=4,\n",
        "                                 #eval_metric='MultiClass', task_type='CPU', verbose=100)\n",
        " \n",
        " \n",
        "      \n",
        "      model.fit(self.train, self.train_label)\n",
        "      #model.fit(self.x_train, self.y_train, early_stopping_rounds=100, eval_set=[(self.x_test, self.y_test)], verbose=100)\n",
        "      pred = model.predict_proba(self.test)      \n",
        "      open_pred = model.predict_proba(self.open_test)\n",
        "      open_pred1 = model.predict_proba(self.open_test1)\n",
        "      val = model.predict_proba(self.validation)\n",
        "        \n",
        " \n",
        "      print('----------------TEST EVALUATION------------------')\n",
        "      print(show_evaluation(open_pred, self.test_label))\n",
        "      print(show_evaluation(open_pred1, self.test_label1))\n",
        "                  \n",
        "      if plot: self.plot_feat_imp(model)\n",
        "      return pred, open_pred, open_pred1, val, model\n",
        "              \n",
        "              \n",
        "    def plot_feat_imp(self, model):\n",
        "        feat_imp = pd.Series(model.feature_importances_).sort_values(ascending=False)\n",
        "        plt.figure(figsize=(30,8))\n",
        "        feat_imp.plot(kind='bar', title='Feature Importances')\n",
        "        plt.ylabel('Feature Importance Score')"
      ],
      "execution_count": null,
      "outputs": []
    },
    {
      "cell_type": "code",
      "metadata": {
        "id": "LOuTli7WMHdl"
      },
      "source": [
        "traindata.columns"
      ],
      "execution_count": null,
      "outputs": []
    },
    {
      "cell_type": "code",
      "metadata": {
        "id": "boEdxaOwrV1W",
        "colab": {
          "base_uri": "https://localhost:8080/",
          "height": 1000
        },
        "outputId": "34976baa-e7c0-43a8-d742-e947316c4dfe"
      },
      "source": [
        "func1_= Model(train1, validation, validation1, validation2, validation3, ytrain1, valid1_lithology, valid2_lithology)\n",
        "pred1, val1, open_test1, open_test11, model1 = func1_()"
      ],
      "execution_count": null,
      "outputs": [
        {
          "output_type": "stream",
          "text": [
            "[Parallel(n_jobs=1)]: Using backend SequentialBackend with 1 concurrent workers.\n"
          ],
          "name": "stderr"
        },
        {
          "output_type": "stream",
          "text": [
            "building tree 1 of 100\n"
          ],
          "name": "stdout"
        },
        {
          "output_type": "stream",
          "text": [
            "[Parallel(n_jobs=1)]: Done   1 out of   1 | elapsed:    0.5s remaining:    0.0s\n"
          ],
          "name": "stderr"
        },
        {
          "output_type": "stream",
          "text": [
            "building tree 2 of 100\n",
            "building tree 3 of 100\n",
            "building tree 4 of 100\n",
            "building tree 5 of 100\n",
            "building tree 6 of 100\n",
            "building tree 7 of 100\n",
            "building tree 8 of 100\n",
            "building tree 9 of 100\n",
            "building tree 10 of 100\n",
            "building tree 11 of 100\n",
            "building tree 12 of 100\n",
            "building tree 13 of 100\n",
            "building tree 14 of 100\n",
            "building tree 15 of 100\n",
            "building tree 16 of 100\n",
            "building tree 17 of 100\n",
            "building tree 18 of 100\n",
            "building tree 19 of 100\n",
            "building tree 20 of 100\n",
            "building tree 21 of 100\n",
            "building tree 22 of 100\n",
            "building tree 23 of 100\n",
            "building tree 24 of 100\n",
            "building tree 25 of 100\n",
            "building tree 26 of 100\n",
            "building tree 27 of 100\n",
            "building tree 28 of 100\n",
            "building tree 29 of 100\n",
            "building tree 30 of 100\n",
            "building tree 31 of 100\n",
            "building tree 32 of 100\n",
            "building tree 33 of 100\n",
            "building tree 34 of 100\n",
            "building tree 35 of 100\n",
            "building tree 36 of 100\n",
            "building tree 37 of 100\n",
            "building tree 38 of 100\n",
            "building tree 39 of 100\n",
            "building tree 40 of 100\n",
            "building tree 41 of 100\n",
            "building tree 42 of 100\n",
            "building tree 43 of 100\n",
            "building tree 44 of 100\n",
            "building tree 45 of 100\n",
            "building tree 46 of 100\n",
            "building tree 47 of 100\n",
            "building tree 48 of 100\n",
            "building tree 49 of 100\n",
            "building tree 50 of 100\n",
            "building tree 51 of 100\n",
            "building tree 52 of 100\n",
            "building tree 53 of 100\n",
            "building tree 54 of 100\n",
            "building tree 55 of 100\n",
            "building tree 56 of 100\n",
            "building tree 57 of 100\n",
            "building tree 58 of 100\n",
            "building tree 59 of 100\n",
            "building tree 60 of 100\n",
            "building tree 61 of 100\n",
            "building tree 62 of 100\n",
            "building tree 63 of 100\n",
            "building tree 64 of 100\n",
            "building tree 65 of 100\n",
            "building tree 66 of 100\n",
            "building tree 67 of 100\n",
            "building tree 68 of 100\n",
            "building tree 69 of 100\n",
            "building tree 70 of 100\n",
            "building tree 71 of 100\n",
            "building tree 72 of 100\n",
            "building tree 73 of 100\n",
            "building tree 74 of 100\n",
            "building tree 75 of 100\n",
            "building tree 76 of 100\n",
            "building tree 77 of 100\n",
            "building tree 78 of 100\n",
            "building tree 79 of 100\n",
            "building tree 80 of 100\n",
            "building tree 81 of 100\n",
            "building tree 82 of 100\n",
            "building tree 83 of 100\n",
            "building tree 84 of 100\n",
            "building tree 85 of 100\n",
            "building tree 86 of 100\n",
            "building tree 87 of 100\n",
            "building tree 88 of 100\n",
            "building tree 89 of 100\n",
            "building tree 90 of 100\n",
            "building tree 91 of 100\n",
            "building tree 92 of 100\n",
            "building tree 93 of 100\n",
            "building tree 94 of 100\n",
            "building tree 95 of 100\n",
            "building tree 96 of 100\n",
            "building tree 97 of 100\n",
            "building tree 98 of 100\n",
            "building tree 99 of 100\n",
            "building tree 100 of 100\n"
          ],
          "name": "stdout"
        },
        {
          "output_type": "stream",
          "text": [
            "[Parallel(n_jobs=1)]: Done 100 out of 100 | elapsed:   54.3s finished\n",
            "[Parallel(n_jobs=1)]: Using backend SequentialBackend with 1 concurrent workers.\n",
            "[Parallel(n_jobs=1)]: Done   1 out of   1 | elapsed:    0.1s remaining:    0.0s\n",
            "[Parallel(n_jobs=1)]: Done 100 out of 100 | elapsed:   12.1s finished\n",
            "[Parallel(n_jobs=1)]: Using backend SequentialBackend with 1 concurrent workers.\n",
            "[Parallel(n_jobs=1)]: Done   1 out of   1 | elapsed:    0.0s remaining:    0.0s\n",
            "[Parallel(n_jobs=1)]: Done 100 out of 100 | elapsed:    1.8s finished\n",
            "[Parallel(n_jobs=1)]: Using backend SequentialBackend with 1 concurrent workers.\n",
            "[Parallel(n_jobs=1)]: Done   1 out of   1 | elapsed:    0.0s remaining:    0.0s\n",
            "[Parallel(n_jobs=1)]: Done 100 out of 100 | elapsed:    1.5s finished\n",
            "[Parallel(n_jobs=1)]: Using backend SequentialBackend with 1 concurrent workers.\n",
            "[Parallel(n_jobs=1)]: Done   1 out of   1 | elapsed:    0.0s remaining:    0.0s\n",
            "[Parallel(n_jobs=1)]: Done 100 out of 100 | elapsed:    3.2s finished\n"
          ],
          "name": "stderr"
        },
        {
          "output_type": "stream",
          "text": [
            "----------------TEST EVALUATION------------------\n",
            "Default score: [-2.76868442 -2.76868442 -2.76329999 -2.76868442 -2.76868442 -2.7686888\n",
            " -2.76868442 -2.76868442 -2.76868442 -2.76868442 -2.76868442 -2.76868442]\n"
          ],
          "name": "stdout"
        },
        {
          "output_type": "error",
          "ename": "ValueError",
          "evalue": "ignored",
          "traceback": [
            "\u001b[0;31m---------------------------------------------------------------------------\u001b[0m",
            "\u001b[0;31mValueError\u001b[0m                                Traceback (most recent call last)",
            "\u001b[0;32m<ipython-input-19-8e5af0cd9eef>\u001b[0m in \u001b[0;36m<module>\u001b[0;34m()\u001b[0m\n\u001b[1;32m      1\u001b[0m \u001b[0mfunc1_\u001b[0m\u001b[0;34m=\u001b[0m \u001b[0mModel\u001b[0m\u001b[0;34m(\u001b[0m\u001b[0mtrain1\u001b[0m\u001b[0;34m,\u001b[0m \u001b[0mvalidation\u001b[0m\u001b[0;34m,\u001b[0m \u001b[0mvalidation1\u001b[0m\u001b[0;34m,\u001b[0m \u001b[0mvalidation2\u001b[0m\u001b[0;34m,\u001b[0m \u001b[0mvalidation3\u001b[0m\u001b[0;34m,\u001b[0m \u001b[0mytrain1\u001b[0m\u001b[0;34m,\u001b[0m \u001b[0mvalid1_lithology\u001b[0m\u001b[0;34m,\u001b[0m \u001b[0mvalid2_lithology\u001b[0m\u001b[0;34m)\u001b[0m\u001b[0;34m\u001b[0m\u001b[0;34m\u001b[0m\u001b[0m\n\u001b[0;32m----> 2\u001b[0;31m \u001b[0mpred1\u001b[0m\u001b[0;34m,\u001b[0m \u001b[0mval1\u001b[0m\u001b[0;34m,\u001b[0m \u001b[0mopen_test1\u001b[0m\u001b[0;34m,\u001b[0m \u001b[0mopen_test11\u001b[0m\u001b[0;34m,\u001b[0m \u001b[0mmodel1\u001b[0m \u001b[0;34m=\u001b[0m \u001b[0mfunc1_\u001b[0m\u001b[0;34m(\u001b[0m\u001b[0;34m)\u001b[0m\u001b[0;34m\u001b[0m\u001b[0;34m\u001b[0m\u001b[0m\n\u001b[0m",
            "\u001b[0;32m<ipython-input-18-5843bd3c07f1>\u001b[0m in \u001b[0;36m__call__\u001b[0;34m(self, plot)\u001b[0m\n\u001b[1;32m     14\u001b[0m \u001b[0;34m\u001b[0m\u001b[0m\n\u001b[1;32m     15\u001b[0m     \u001b[0;32mdef\u001b[0m \u001b[0m__call__\u001b[0m\u001b[0;34m(\u001b[0m\u001b[0mself\u001b[0m\u001b[0;34m,\u001b[0m \u001b[0mplot\u001b[0m \u001b[0;34m=\u001b[0m \u001b[0;32mTrue\u001b[0m\u001b[0;34m)\u001b[0m\u001b[0;34m:\u001b[0m\u001b[0;34m\u001b[0m\u001b[0;34m\u001b[0m\u001b[0m\n\u001b[0;32m---> 16\u001b[0;31m         \u001b[0;32mreturn\u001b[0m \u001b[0mself\u001b[0m\u001b[0;34m.\u001b[0m\u001b[0mfit\u001b[0m\u001b[0;34m(\u001b[0m\u001b[0mplot\u001b[0m\u001b[0;34m)\u001b[0m\u001b[0;34m\u001b[0m\u001b[0;34m\u001b[0m\u001b[0m\n\u001b[0m\u001b[1;32m     17\u001b[0m \u001b[0;34m\u001b[0m\u001b[0m\n\u001b[1;32m     18\u001b[0m     \u001b[0;32mdef\u001b[0m \u001b[0mfit\u001b[0m\u001b[0;34m(\u001b[0m\u001b[0mself\u001b[0m\u001b[0;34m,\u001b[0m \u001b[0mplot\u001b[0m\u001b[0;34m)\u001b[0m\u001b[0;34m:\u001b[0m\u001b[0;34m\u001b[0m\u001b[0;34m\u001b[0m\u001b[0m\n",
            "\u001b[0;32m<ipython-input-18-5843bd3c07f1>\u001b[0m in \u001b[0;36mfit\u001b[0;34m(self, plot)\u001b[0m\n\u001b[1;32m     53\u001b[0m \u001b[0;34m\u001b[0m\u001b[0m\n\u001b[1;32m     54\u001b[0m       \u001b[0mprint\u001b[0m\u001b[0;34m(\u001b[0m\u001b[0;34m'----------------TEST EVALUATION------------------'\u001b[0m\u001b[0;34m)\u001b[0m\u001b[0;34m\u001b[0m\u001b[0;34m\u001b[0m\u001b[0m\n\u001b[0;32m---> 55\u001b[0;31m       \u001b[0mprint\u001b[0m\u001b[0;34m(\u001b[0m\u001b[0mshow_evaluation\u001b[0m\u001b[0;34m(\u001b[0m\u001b[0mopen_pred\u001b[0m\u001b[0;34m,\u001b[0m \u001b[0mself\u001b[0m\u001b[0;34m.\u001b[0m\u001b[0mtest_label\u001b[0m\u001b[0;34m)\u001b[0m\u001b[0;34m)\u001b[0m\u001b[0;34m\u001b[0m\u001b[0;34m\u001b[0m\u001b[0m\n\u001b[0m\u001b[1;32m     56\u001b[0m       \u001b[0mprint\u001b[0m\u001b[0;34m(\u001b[0m\u001b[0mshow_evaluation\u001b[0m\u001b[0;34m(\u001b[0m\u001b[0mopen_pred1\u001b[0m\u001b[0;34m,\u001b[0m \u001b[0mself\u001b[0m\u001b[0;34m.\u001b[0m\u001b[0mtest_label1\u001b[0m\u001b[0;34m)\u001b[0m\u001b[0;34m)\u001b[0m\u001b[0;34m\u001b[0m\u001b[0;34m\u001b[0m\u001b[0m\n\u001b[1;32m     57\u001b[0m \u001b[0;34m\u001b[0m\u001b[0m\n",
            "\u001b[0;32m<ipython-input-18-5843bd3c07f1>\u001b[0m in \u001b[0;36mshow_evaluation\u001b[0;34m(pred, true)\u001b[0m\n\u001b[1;32m     26\u001b[0m \u001b[0;34m\u001b[0m\u001b[0m\n\u001b[1;32m     27\u001b[0m         \u001b[0mprint\u001b[0m\u001b[0;34m(\u001b[0m\u001b[0;34mf'Default score: {score(true.values, pred)}'\u001b[0m\u001b[0;34m)\u001b[0m\u001b[0;34m\u001b[0m\u001b[0;34m\u001b[0m\u001b[0m\n\u001b[0;32m---> 28\u001b[0;31m         \u001b[0mprint\u001b[0m\u001b[0;34m(\u001b[0m\u001b[0;34mf'Accuracy is: {accuracy_score(true, pred)}'\u001b[0m\u001b[0;34m)\u001b[0m\u001b[0;34m\u001b[0m\u001b[0;34m\u001b[0m\u001b[0m\n\u001b[0m\u001b[1;32m     29\u001b[0m         \u001b[0mprint\u001b[0m\u001b[0;34m(\u001b[0m\u001b[0;34mf'F1 is: {f1_score(pred, true.values, average=\"weighted\")}'\u001b[0m\u001b[0;34m)\u001b[0m\u001b[0;34m\u001b[0m\u001b[0;34m\u001b[0m\u001b[0m\n\u001b[1;32m     30\u001b[0m \u001b[0;34m\u001b[0m\u001b[0m\n",
            "\u001b[0;32m/usr/local/lib/python3.6/dist-packages/sklearn/metrics/_classification.py\u001b[0m in \u001b[0;36maccuracy_score\u001b[0;34m(y_true, y_pred, normalize, sample_weight)\u001b[0m\n\u001b[1;32m    183\u001b[0m \u001b[0;34m\u001b[0m\u001b[0m\n\u001b[1;32m    184\u001b[0m     \u001b[0;31m# Compute accuracy for each possible representation\u001b[0m\u001b[0;34m\u001b[0m\u001b[0;34m\u001b[0m\u001b[0;34m\u001b[0m\u001b[0m\n\u001b[0;32m--> 185\u001b[0;31m     \u001b[0my_type\u001b[0m\u001b[0;34m,\u001b[0m \u001b[0my_true\u001b[0m\u001b[0;34m,\u001b[0m \u001b[0my_pred\u001b[0m \u001b[0;34m=\u001b[0m \u001b[0m_check_targets\u001b[0m\u001b[0;34m(\u001b[0m\u001b[0my_true\u001b[0m\u001b[0;34m,\u001b[0m \u001b[0my_pred\u001b[0m\u001b[0;34m)\u001b[0m\u001b[0;34m\u001b[0m\u001b[0;34m\u001b[0m\u001b[0m\n\u001b[0m\u001b[1;32m    186\u001b[0m     \u001b[0mcheck_consistent_length\u001b[0m\u001b[0;34m(\u001b[0m\u001b[0my_true\u001b[0m\u001b[0;34m,\u001b[0m \u001b[0my_pred\u001b[0m\u001b[0;34m,\u001b[0m \u001b[0msample_weight\u001b[0m\u001b[0;34m)\u001b[0m\u001b[0;34m\u001b[0m\u001b[0;34m\u001b[0m\u001b[0m\n\u001b[1;32m    187\u001b[0m     \u001b[0;32mif\u001b[0m \u001b[0my_type\u001b[0m\u001b[0;34m.\u001b[0m\u001b[0mstartswith\u001b[0m\u001b[0;34m(\u001b[0m\u001b[0;34m'multilabel'\u001b[0m\u001b[0;34m)\u001b[0m\u001b[0;34m:\u001b[0m\u001b[0;34m\u001b[0m\u001b[0;34m\u001b[0m\u001b[0m\n",
            "\u001b[0;32m/usr/local/lib/python3.6/dist-packages/sklearn/metrics/_classification.py\u001b[0m in \u001b[0;36m_check_targets\u001b[0;34m(y_true, y_pred)\u001b[0m\n\u001b[1;32m     88\u001b[0m     \u001b[0;32mif\u001b[0m \u001b[0mlen\u001b[0m\u001b[0;34m(\u001b[0m\u001b[0my_type\u001b[0m\u001b[0;34m)\u001b[0m \u001b[0;34m>\u001b[0m \u001b[0;36m1\u001b[0m\u001b[0;34m:\u001b[0m\u001b[0;34m\u001b[0m\u001b[0;34m\u001b[0m\u001b[0m\n\u001b[1;32m     89\u001b[0m         raise ValueError(\"Classification metrics can't handle a mix of {0} \"\n\u001b[0;32m---> 90\u001b[0;31m                          \"and {1} targets\".format(type_true, type_pred))\n\u001b[0m\u001b[1;32m     91\u001b[0m \u001b[0;34m\u001b[0m\u001b[0m\n\u001b[1;32m     92\u001b[0m     \u001b[0;31m# We can't have more than one value on y_type => The set is no more needed\u001b[0m\u001b[0;34m\u001b[0m\u001b[0;34m\u001b[0m\u001b[0;34m\u001b[0m\u001b[0m\n",
            "\u001b[0;31mValueError\u001b[0m: Classification metrics can't handle a mix of multiclass and continuous-multioutput targets"
          ]
        }
      ]
    },
    {
      "cell_type": "code",
      "metadata": {
        "id": "IBdQMDbDtOCk"
      },
      "source": [
        "func2_= Model(train2, validation, validation1, validation2, validation3, ytrain2, valid1_lithology, valid2_lithology)\n",
        "pred2, val2, open_test2, open_test22, model2 = func2_()"
      ],
      "execution_count": null,
      "outputs": []
    },
    {
      "cell_type": "code",
      "metadata": {
        "id": "DGgYgqHRtAGh"
      },
      "source": [
        "func3_= Model(train3, validation, validation1, validation2, validation3, ytrain3, valid1_lithology, valid2_lithology)\n",
        "pred3, val3, open_test3, open_test33, model3 = func3_()"
      ],
      "execution_count": null,
      "outputs": []
    },
    {
      "cell_type": "code",
      "metadata": {
        "id": "Kxd-m_t93be0"
      },
      "source": [
        "func4_= Model(train4, validation, validation1, validation2, validation3, ytrain4, valid1_lithology, valid2_lithology)\n",
        "pred4, val4, open_test4, open_test44, model4 = func4_()"
      ],
      "execution_count": null,
      "outputs": []
    },
    {
      "cell_type": "code",
      "metadata": {
        "id": "FLeLhZX-3Lt8"
      },
      "source": [
        "func5_= Model(train5, validation, validation1, validation2, validation3, ytrain5, valid1_lithology, valid2_lithology)\n",
        "pred5, val5, open_test5, open_test55, model5 = func5_()"
      ],
      "execution_count": null,
      "outputs": []
    },
    {
      "cell_type": "code",
      "metadata": {
        "id": "UHl8fcAdWwk9"
      },
      "source": [
        "class Model():\n",
        "    \n",
        "    def __init__(self, train, test, open_test, open_test1, validation, train_label, test_label, test_label1):\n",
        "        \n",
        "        \n",
        "        self.train = train\n",
        "        self.test = test\n",
        "        self.open_test = open_test\n",
        "        self.open_test1 = open_test1\n",
        "        self.validation = validation\n",
        "        self.train_label = train_label\n",
        "        self.test_label = test_label\n",
        "        self.test_label1 = test_label1\n",
        "        \n",
        "    def __call__(self, plot = True):\n",
        "        return self.fit(plot)\n",
        "    \n",
        "    def fit(self, plot):\n",
        " \n",
        "      self.x_train, self.x_test, self.y_train, self.y_test = ms.train_test_split(self.train, \n",
        "                                                                                   pd.DataFrame(np.array(self.train_label)), \n",
        "                                                                                   test_size=0.2,\n",
        "                                                                                   random_state=212)\n",
        "      \n",
        "      def show_evaluation(pred, true):\n",
        "        \n",
        "        print(f'Default score: {score(true.values, pred)}')\n",
        "        print(f'Accuracy is: {accuracy_score(true, pred)}')\n",
        "        print(f'F1 is: {f1_score(pred, true.values, average=\"weighted\")}')\n",
        " \n",
        "      #model = RandomForestClassifier(n_estimators=100, class_weight='balanced', max_depth=22, verbose=2)\n",
        "      #model = ExtraTreesClassifier(n_estimators=100, class_weight='balanced', max_depth=20, verbose=2)\n",
        "      model = XGBClassifier(n_estimators=10000, max_depth=10, reg_lambda=30,\n",
        "                            objective='multi:softmax', learning_rate=0.033,\n",
        "                            subsample=0.9, col_sample_bytree=0.9, tree_method='gpu_hist',\n",
        "                            eval_metric='mlogloss', verbose=2020)\n",
        " \n",
        "      #model = CatBoostClassifier(n_estimators=20, random_state=3030, learning_rate=0.1,\n",
        "                                 #use_best_model=True, max_depth=4,\n",
        "                                 #eval_metric='MultiClass', task_type='CPU', verbose=100)\n",
        " \n",
        " \n",
        "      \n",
        "      #model.fit(self.train, self.train_label)\n",
        "      model.fit(self.x_train, self.y_train, early_stopping_rounds=100, eval_set=[(self.x_test, self.y_test)], verbose=100)\n",
        "      pred = model.predict(self.test)      \n",
        "      open_pred = model.predict(self.open_test)\n",
        "      open_pred1 = model.predict(self.open_test1)\n",
        "      val = model.predict(self.validation)\n",
        "        \n",
        " \n",
        "      print('----------------TEST EVALUATION------------------')\n",
        "      print(show_evaluation(open_pred, self.test_label))\n",
        "      print(show_evaluation(open_pred1, self.test_label1))\n",
        "                  \n",
        "      if plot: self.plot_feat_imp(model)\n",
        "      return pred, open_pred, open_pred1, val, model\n",
        "              \n",
        "              \n",
        "    def plot_feat_imp(self, model):\n",
        "        feat_imp = pd.Series(model.feature_importances_).sort_values(ascending=False)\n",
        "        plt.figure(figsize=(30,8))\n",
        "        feat_imp.plot(kind='bar', title='Feature Importances')\n",
        "        plt.ylabel('Feature Importance Score')"
      ],
      "execution_count": null,
      "outputs": []
    },
    {
      "cell_type": "code",
      "metadata": {
        "id": "DnF7L1Zw5ecu"
      },
      "source": [
        ""
      ],
      "execution_count": null,
      "outputs": []
    },
    {
      "cell_type": "code",
      "metadata": {
        "id": "xdCnPEEnwbOk",
        "colab": {
          "base_uri": "https://localhost:8080/",
          "height": 488
        },
        "outputId": "2d3ff66d-1a42-4dc0-a88b-aae70ab455ab"
      },
      "source": [
        "for i,j in enumerate(train1.columns):\n",
        "    print(i,j)"
      ],
      "execution_count": null,
      "outputs": [
        {
          "output_type": "stream",
          "text": [
            "0 DEPTH_MD\n",
            "1 X_LOC\n",
            "2 Y_LOC\n",
            "3 Z_LOC\n",
            "4 CALI\n",
            "5 RMED\n",
            "6 RDEP\n",
            "7 RHOB\n",
            "8 GR\n",
            "9 NPHI\n",
            "10 PEF\n",
            "11 DTC\n",
            "12 SP\n",
            "13 BS\n",
            "14 DRHO\n",
            "15 GROUP_BAAT GP.\n",
            "16 GROUP_BOKNFJORD GP.\n",
            "17 GROUP_CROMER KNOLL GP.\n",
            "18 GROUP_DUNLIN GP.\n",
            "19 GROUP_HEGRE GP.\n",
            "20 GROUP_HORDALAND GP.\n",
            "21 GROUP_NORDLAND GP.\n",
            "22 GROUP_ROGALAND GP.\n",
            "23 GROUP_ROTLIEGENDES GP.\n",
            "24 GROUP_SHETLAND GP.\n",
            "25 GROUP_TYNE GP.\n",
            "26 GROUP_VESTLAND GP.\n",
            "27 GROUP_VIKING GP.\n",
            "28 GROUP_ZECHSTEIN GP.\n"
          ],
          "name": "stdout"
        }
      ]
    },
    {
      "cell_type": "code",
      "metadata": {
        "id": "m-sEsGNXJGSn",
        "colab": {
          "base_uri": "https://localhost:8080/",
          "height": 827
        },
        "outputId": "93fa5893-23de-45a5-a82f-25a16ddc4304"
      },
      "source": [
        "func4_= Model(train4, validation, validation1, validation2, validation3, ytrain4, valid1_lithology, valid2_lithology)\n",
        "pred4, val4, open_test4, open_test44, model4 = func4_()  #max-depth=6, gamma=50"
      ],
      "execution_count": null,
      "outputs": [
        {
          "output_type": "stream",
          "text": [
            "[0]\tvalidation_0-mlogloss:2.36832\n",
            "Will train until validation_0-mlogloss hasn't improved in 100 rounds.\n",
            "[100]\tvalidation_0-mlogloss:0.50636\n",
            "[200]\tvalidation_0-mlogloss:0.366956\n",
            "[300]\tvalidation_0-mlogloss:0.323344\n",
            "[400]\tvalidation_0-mlogloss:0.300713\n",
            "[500]\tvalidation_0-mlogloss:0.285859\n",
            "[600]\tvalidation_0-mlogloss:0.275687\n",
            "[700]\tvalidation_0-mlogloss:0.268136\n",
            "[800]\tvalidation_0-mlogloss:0.262334\n",
            "[900]\tvalidation_0-mlogloss:0.257521\n",
            "[1000]\tvalidation_0-mlogloss:0.253785\n",
            "[1100]\tvalidation_0-mlogloss:0.250565\n",
            "[1200]\tvalidation_0-mlogloss:0.247941\n",
            "[1300]\tvalidation_0-mlogloss:0.24568\n",
            "[1400]\tvalidation_0-mlogloss:0.243788\n",
            "[1500]\tvalidation_0-mlogloss:0.242189\n",
            "[1600]\tvalidation_0-mlogloss:0.240815\n",
            "[1700]\tvalidation_0-mlogloss:0.239652\n",
            "[1800]\tvalidation_0-mlogloss:0.23864\n",
            "[1900]\tvalidation_0-mlogloss:0.237847\n",
            "[2000]\tvalidation_0-mlogloss:0.237106\n",
            "[2100]\tvalidation_0-mlogloss:0.23652\n",
            "[2200]\tvalidation_0-mlogloss:0.236098\n",
            "[2300]\tvalidation_0-mlogloss:0.235718\n",
            "[2400]\tvalidation_0-mlogloss:0.235434\n",
            "[2500]\tvalidation_0-mlogloss:0.235239\n",
            "[2600]\tvalidation_0-mlogloss:0.235131\n",
            "[2700]\tvalidation_0-mlogloss:0.235063\n",
            "[2800]\tvalidation_0-mlogloss:0.235128\n",
            "Stopping. Best iteration:\n",
            "[2719]\tvalidation_0-mlogloss:0.235045\n",
            "\n",
            "----------------TEST EVALUATION------------------\n",
            "Default score: -0.6863422841973335\n",
            "Accuracy is: 0.7507475501080617\n",
            "F1 is: 0.7611790407705822\n",
            "None\n",
            "Default score: -0.9340727789312644\n",
            "Accuracy is: 0.6394710960550759\n",
            "F1 is: 0.7074845117515808\n",
            "None\n"
          ],
          "name": "stdout"
        },
        {
          "output_type": "display_data",
          "data": {
            "image/png": "[encoded data removed]",
            "text/plain": [
              "<Figure size 2160x576 with 1 Axes>"
            ]
          },
          "metadata": {
            "tags": [],
            "needs_background": "light"
          }
        }
      ]
    },
    {
      "cell_type": "code",
      "metadata": {
        "id": "M81EI3H4XJ7o",
        "colab": {
          "base_uri": "https://localhost:8080/",
          "height": 394
        },
        "outputId": "053014ef-3dda-473b-f2f6-c0651359c4fa"
      },
      "source": [
        "func5_= Model(train5, validation, validation1, validation2, validation3, ytrain5, valid1_lithology, valid2_lithology)\n",
        "pred5, val5, open_test5, open_test55, model5 = func5_()   #max-depth=4, gamma=100"
      ],
      "execution_count": null,
      "outputs": [
        {
          "output_type": "stream",
          "text": [
            "[0]\tvalidation_0-mlogloss:2.36059\n",
            "Will train until validation_0-mlogloss hasn't improved in 100 rounds.\n",
            "[100]\tvalidation_0-mlogloss:0.441665\n",
            "[200]\tvalidation_0-mlogloss:0.311872\n",
            "[300]\tvalidation_0-mlogloss:0.275655\n",
            "[400]\tvalidation_0-mlogloss:0.258251\n",
            "[500]\tvalidation_0-mlogloss:0.24808\n",
            "[600]\tvalidation_0-mlogloss:0.241141\n",
            "[700]\tvalidation_0-mlogloss:0.23645\n",
            "[800]\tvalidation_0-mlogloss:0.232931\n",
            "[900]\tvalidation_0-mlogloss:0.230312\n",
            "[1000]\tvalidation_0-mlogloss:0.228279\n",
            "[1100]\tvalidation_0-mlogloss:0.226733\n",
            "[1200]\tvalidation_0-mlogloss:0.225637\n",
            "[1300]\tvalidation_0-mlogloss:0.224838\n",
            "[1400]\tvalidation_0-mlogloss:0.224361\n",
            "[1500]\tvalidation_0-mlogloss:0.224124\n",
            "[1600]\tvalidation_0-mlogloss:0.224164\n",
            "Stopping. Best iteration:\n",
            "[1536]\tvalidation_0-mlogloss:0.22407\n",
            "\n",
            "----------------TEST EVALUATION------------------\n",
            "Default score: -0.6793737849226792\n",
            "Accuracy is: 0.7451125519337616\n",
            "F1 is: 0.7562190929194389\n",
            "None\n",
            "Default score: -0.9153111681783411\n",
            "Accuracy is: 0.6427712818271227\n",
            "F1 is: 0.7135083130294755\n",
            "None\n"
          ],
          "name": "stdout"
        }
      ]
    },
    {
      "cell_type": "code",
      "metadata": {
        "id": "vljhWPJfXT4b",
        "colab": {
          "base_uri": "https://localhost:8080/",
          "height": 1000
        },
        "outputId": "3ce37729-cc2f-4228-9ea1-30bdbbff42ad"
      },
      "source": [
        "func6_= Model(train1, validation, validation1, validation2, validation3, ytrain1, valid1_lithology, valid2_lithology)\n",
        "pred6, val6, open_test6, open_test66, model6 = func6_()  "
      ],
      "execution_count": null,
      "outputs": [
        {
          "output_type": "stream",
          "text": [
            "[Parallel(n_jobs=1)]: Using backend SequentialBackend with 1 concurrent workers.\n"
          ],
          "name": "stderr"
        },
        {
          "output_type": "stream",
          "text": [
            "building tree 1 of 100\n"
          ],
          "name": "stdout"
        },
        {
          "output_type": "stream",
          "text": [
            "[Parallel(n_jobs=1)]: Done   1 out of   1 | elapsed:    0.5s remaining:    0.0s\n"
          ],
          "name": "stderr"
        },
        {
          "output_type": "stream",
          "text": [
            "building tree 2 of 100\n",
            "building tree 3 of 100\n",
            "building tree 4 of 100\n",
            "building tree 5 of 100\n",
            "building tree 6 of 100\n",
            "building tree 7 of 100\n",
            "building tree 8 of 100\n",
            "building tree 9 of 100\n",
            "building tree 10 of 100\n",
            "building tree 11 of 100\n",
            "building tree 12 of 100\n",
            "building tree 13 of 100\n",
            "building tree 14 of 100\n",
            "building tree 15 of 100\n",
            "building tree 16 of 100\n",
            "building tree 17 of 100\n",
            "building tree 18 of 100\n",
            "building tree 19 of 100\n",
            "building tree 20 of 100\n",
            "building tree 21 of 100\n",
            "building tree 22 of 100\n",
            "building tree 23 of 100\n",
            "building tree 24 of 100\n",
            "building tree 25 of 100\n",
            "building tree 26 of 100\n",
            "building tree 27 of 100\n",
            "building tree 28 of 100\n",
            "building tree 29 of 100\n",
            "building tree 30 of 100\n",
            "building tree 31 of 100\n",
            "building tree 32 of 100\n",
            "building tree 33 of 100\n",
            "building tree 34 of 100\n",
            "building tree 35 of 100\n",
            "building tree 36 of 100\n",
            "building tree 37 of 100\n",
            "building tree 38 of 100\n",
            "building tree 39 of 100\n",
            "building tree 40 of 100\n",
            "building tree 41 of 100\n",
            "building tree 42 of 100\n",
            "building tree 43 of 100\n",
            "building tree 44 of 100\n",
            "building tree 45 of 100\n",
            "building tree 46 of 100\n",
            "building tree 47 of 100\n",
            "building tree 48 of 100\n",
            "building tree 49 of 100\n",
            "building tree 50 of 100\n",
            "building tree 51 of 100\n",
            "building tree 52 of 100\n",
            "building tree 53 of 100\n",
            "building tree 54 of 100\n",
            "building tree 55 of 100\n",
            "building tree 56 of 100\n",
            "building tree 57 of 100\n",
            "building tree 58 of 100\n",
            "building tree 59 of 100\n",
            "building tree 60 of 100\n",
            "building tree 61 of 100\n",
            "building tree 62 of 100\n",
            "building tree 63 of 100\n",
            "building tree 64 of 100\n",
            "building tree 65 of 100\n",
            "building tree 66 of 100\n",
            "building tree 67 of 100\n",
            "building tree 68 of 100\n",
            "building tree 69 of 100\n",
            "building tree 70 of 100\n",
            "building tree 71 of 100\n",
            "building tree 72 of 100\n",
            "building tree 73 of 100\n",
            "building tree 74 of 100\n",
            "building tree 75 of 100\n",
            "building tree 76 of 100\n",
            "building tree 77 of 100\n",
            "building tree 78 of 100\n",
            "building tree 79 of 100\n",
            "building tree 80 of 100\n",
            "building tree 81 of 100\n",
            "building tree 82 of 100\n",
            "building tree 83 of 100\n",
            "building tree 84 of 100\n",
            "building tree 85 of 100\n",
            "building tree 86 of 100\n",
            "building tree 87 of 100\n",
            "building tree 88 of 100\n",
            "building tree 89 of 100\n",
            "building tree 90 of 100\n",
            "building tree 91 of 100\n",
            "building tree 92 of 100\n",
            "building tree 93 of 100\n",
            "building tree 94 of 100\n",
            "building tree 95 of 100\n",
            "building tree 96 of 100\n",
            "building tree 97 of 100\n",
            "building tree 98 of 100\n",
            "building tree 99 of 100\n",
            "building tree 100 of 100\n"
          ],
          "name": "stdout"
        },
        {
          "output_type": "stream",
          "text": [
            "[Parallel(n_jobs=1)]: Done 100 out of 100 | elapsed:   46.9s finished\n",
            "[Parallel(n_jobs=1)]: Using backend SequentialBackend with 1 concurrent workers.\n",
            "[Parallel(n_jobs=1)]: Done   1 out of   1 | elapsed:    0.1s remaining:    0.0s\n",
            "[Parallel(n_jobs=1)]: Done 100 out of 100 | elapsed:   10.3s finished\n",
            "[Parallel(n_jobs=1)]: Using backend SequentialBackend with 1 concurrent workers.\n",
            "[Parallel(n_jobs=1)]: Done   1 out of   1 | elapsed:    0.0s remaining:    0.0s\n",
            "[Parallel(n_jobs=1)]: Done 100 out of 100 | elapsed:    1.7s finished\n",
            "[Parallel(n_jobs=1)]: Using backend SequentialBackend with 1 concurrent workers.\n",
            "[Parallel(n_jobs=1)]: Done   1 out of   1 | elapsed:    0.0s remaining:    0.0s\n",
            "[Parallel(n_jobs=1)]: Done 100 out of 100 | elapsed:    1.4s finished\n",
            "[Parallel(n_jobs=1)]: Using backend SequentialBackend with 1 concurrent workers.\n",
            "[Parallel(n_jobs=1)]: Done   1 out of   1 | elapsed:    0.0s remaining:    0.0s\n",
            "[Parallel(n_jobs=1)]: Done 100 out of 100 | elapsed:    3.1s finished\n"
          ],
          "name": "stderr"
        },
        {
          "output_type": "stream",
          "text": [
            "----------------TEST EVALUATION------------------\n",
            "Default score: -0.6430532788681528\n",
            "Accuracy is: 0.7555027656273284\n",
            "F1 is: 0.7796439527514178\n",
            "None\n",
            "Default score: -0.5867990641433523\n",
            "Accuracy is: 0.7828725113975532\n",
            "F1 is: 0.8067187452422184\n",
            "None\n"
          ],
          "name": "stdout"
        },
        {
          "output_type": "display_data",
          "data": {
            "image/png": "[encoded data removed]",
            "text/plain": [
              "<Figure size 2160x576 with 1 Axes>"
            ]
          },
          "metadata": {
            "tags": [],
            "needs_background": "light"
          }
        }
      ]
    },
    {
      "cell_type": "code",
      "metadata": {
        "id": "PdgXWCkcXTw7",
        "colab": {
          "base_uri": "https://localhost:8080/",
          "height": 1000
        },
        "outputId": "cb59bbef-3343-4b21-a81c-2c886fc82555"
      },
      "source": [
        "func7_= Model(train2, validation, validation1, validation2, validation3, ytrain2, valid1_lithology, valid2_lithology)\n",
        "pred7, val7, open_test7, open_test77, model7 = func7_() "
      ],
      "execution_count": null,
      "outputs": [
        {
          "output_type": "stream",
          "text": [
            "[Parallel(n_jobs=1)]: Using backend SequentialBackend with 1 concurrent workers.\n"
          ],
          "name": "stderr"
        },
        {
          "output_type": "stream",
          "text": [
            "building tree 1 of 100\n"
          ],
          "name": "stdout"
        },
        {
          "output_type": "stream",
          "text": [
            "[Parallel(n_jobs=1)]: Done   1 out of   1 | elapsed:    0.5s remaining:    0.0s\n"
          ],
          "name": "stderr"
        },
        {
          "output_type": "stream",
          "text": [
            "building tree 2 of 100\n",
            "building tree 3 of 100\n",
            "building tree 4 of 100\n",
            "building tree 5 of 100\n",
            "building tree 6 of 100\n",
            "building tree 7 of 100\n",
            "building tree 8 of 100\n",
            "building tree 9 of 100\n",
            "building tree 10 of 100\n",
            "building tree 11 of 100\n",
            "building tree 12 of 100\n",
            "building tree 13 of 100\n",
            "building tree 14 of 100\n",
            "building tree 15 of 100\n",
            "building tree 16 of 100\n",
            "building tree 17 of 100\n",
            "building tree 18 of 100\n",
            "building tree 19 of 100\n",
            "building tree 20 of 100\n",
            "building tree 21 of 100\n",
            "building tree 22 of 100\n",
            "building tree 23 of 100\n",
            "building tree 24 of 100\n",
            "building tree 25 of 100\n",
            "building tree 26 of 100\n",
            "building tree 27 of 100\n",
            "building tree 28 of 100\n",
            "building tree 29 of 100\n",
            "building tree 30 of 100\n",
            "building tree 31 of 100\n",
            "building tree 32 of 100\n",
            "building tree 33 of 100\n",
            "building tree 34 of 100\n",
            "building tree 35 of 100\n",
            "building tree 36 of 100\n",
            "building tree 37 of 100\n",
            "building tree 38 of 100\n",
            "building tree 39 of 100\n",
            "building tree 40 of 100\n",
            "building tree 41 of 100\n",
            "building tree 42 of 100\n",
            "building tree 43 of 100\n",
            "building tree 44 of 100\n",
            "building tree 45 of 100\n",
            "building tree 46 of 100\n",
            "building tree 47 of 100\n",
            "building tree 48 of 100\n",
            "building tree 49 of 100\n",
            "building tree 50 of 100\n",
            "building tree 51 of 100\n",
            "building tree 52 of 100\n",
            "building tree 53 of 100\n",
            "building tree 54 of 100\n",
            "building tree 55 of 100\n",
            "building tree 56 of 100\n",
            "building tree 57 of 100\n",
            "building tree 58 of 100\n",
            "building tree 59 of 100\n",
            "building tree 60 of 100\n",
            "building tree 61 of 100\n",
            "building tree 62 of 100\n",
            "building tree 63 of 100\n",
            "building tree 64 of 100\n",
            "building tree 65 of 100\n",
            "building tree 66 of 100\n",
            "building tree 67 of 100\n",
            "building tree 68 of 100\n",
            "building tree 69 of 100\n",
            "building tree 70 of 100\n",
            "building tree 71 of 100\n",
            "building tree 72 of 100\n",
            "building tree 73 of 100\n",
            "building tree 74 of 100\n",
            "building tree 75 of 100\n",
            "building tree 76 of 100\n",
            "building tree 77 of 100\n",
            "building tree 78 of 100\n",
            "building tree 79 of 100\n",
            "building tree 80 of 100\n",
            "building tree 81 of 100\n",
            "building tree 82 of 100\n",
            "building tree 83 of 100\n",
            "building tree 84 of 100\n",
            "building tree 85 of 100\n",
            "building tree 86 of 100\n",
            "building tree 87 of 100\n",
            "building tree 88 of 100\n",
            "building tree 89 of 100\n",
            "building tree 90 of 100\n",
            "building tree 91 of 100\n",
            "building tree 92 of 100\n",
            "building tree 93 of 100\n",
            "building tree 94 of 100\n",
            "building tree 95 of 100\n",
            "building tree 96 of 100\n",
            "building tree 97 of 100\n",
            "building tree 98 of 100\n",
            "building tree 99 of 100\n",
            "building tree 100 of 100\n"
          ],
          "name": "stdout"
        },
        {
          "output_type": "stream",
          "text": [
            "[Parallel(n_jobs=1)]: Done 100 out of 100 | elapsed:   46.9s finished\n",
            "[Parallel(n_jobs=1)]: Using backend SequentialBackend with 1 concurrent workers.\n",
            "[Parallel(n_jobs=1)]: Done   1 out of   1 | elapsed:    0.1s remaining:    0.0s\n",
            "[Parallel(n_jobs=1)]: Done 100 out of 100 | elapsed:   10.1s finished\n",
            "[Parallel(n_jobs=1)]: Using backend SequentialBackend with 1 concurrent workers.\n",
            "[Parallel(n_jobs=1)]: Done   1 out of   1 | elapsed:    0.0s remaining:    0.0s\n",
            "[Parallel(n_jobs=1)]: Done 100 out of 100 | elapsed:    1.7s finished\n",
            "[Parallel(n_jobs=1)]: Using backend SequentialBackend with 1 concurrent workers.\n",
            "[Parallel(n_jobs=1)]: Done   1 out of   1 | elapsed:    0.0s remaining:    0.0s\n",
            "[Parallel(n_jobs=1)]: Done 100 out of 100 | elapsed:    1.4s finished\n",
            "[Parallel(n_jobs=1)]: Using backend SequentialBackend with 1 concurrent workers.\n",
            "[Parallel(n_jobs=1)]: Done   1 out of   1 | elapsed:    0.0s remaining:    0.0s\n",
            "[Parallel(n_jobs=1)]: Done 100 out of 100 | elapsed:    3.0s finished\n"
          ],
          "name": "stderr"
        },
        {
          "output_type": "stream",
          "text": [
            "----------------TEST EVALUATION------------------\n",
            "Default score: -0.6372491869669265\n",
            "Accuracy is: 0.7571858098335364\n",
            "F1 is: 0.7804755836870215\n",
            "None\n",
            "Default score: -0.5610807723003924\n",
            "Accuracy is: 0.7877376540172959\n",
            "F1 is: 0.8005691698187195\n",
            "None\n"
          ],
          "name": "stdout"
        },
        {
          "output_type": "display_data",
          "data": {
            "image/png": "[encoded data removed]",
            "text/plain": [
              "<Figure size 2160x576 with 1 Axes>"
            ]
          },
          "metadata": {
            "tags": [],
            "needs_background": "light"
          }
        }
      ]
    },
    {
      "cell_type": "code",
      "metadata": {
        "id": "wqql19IvXTqU",
        "colab": {
          "base_uri": "https://localhost:8080/",
          "height": 1000
        },
        "outputId": "52f799ab-8a66-4c41-d04c-b9bd420db8b4"
      },
      "source": [
        "func8_= Model(train3, validation, validation1, validation2, validation3, ytrain3, valid1_lithology, valid2_lithology)\n",
        "pred8, val8, open_test8, open_test88, model8 = func8_() "
      ],
      "execution_count": null,
      "outputs": [
        {
          "output_type": "stream",
          "text": [
            "[Parallel(n_jobs=1)]: Using backend SequentialBackend with 1 concurrent workers.\n"
          ],
          "name": "stderr"
        },
        {
          "output_type": "stream",
          "text": [
            "building tree 1 of 100\n"
          ],
          "name": "stdout"
        },
        {
          "output_type": "stream",
          "text": [
            "[Parallel(n_jobs=1)]: Done   1 out of   1 | elapsed:    0.5s remaining:    0.0s\n"
          ],
          "name": "stderr"
        },
        {
          "output_type": "stream",
          "text": [
            "building tree 2 of 100\n",
            "building tree 3 of 100\n",
            "building tree 4 of 100\n",
            "building tree 5 of 100\n",
            "building tree 6 of 100\n",
            "building tree 7 of 100\n",
            "building tree 8 of 100\n",
            "building tree 9 of 100\n",
            "building tree 10 of 100\n",
            "building tree 11 of 100\n",
            "building tree 12 of 100\n",
            "building tree 13 of 100\n",
            "building tree 14 of 100\n",
            "building tree 15 of 100\n",
            "building tree 16 of 100\n",
            "building tree 17 of 100\n",
            "building tree 18 of 100\n",
            "building tree 19 of 100\n",
            "building tree 20 of 100\n",
            "building tree 21 of 100\n",
            "building tree 22 of 100\n",
            "building tree 23 of 100\n",
            "building tree 24 of 100\n",
            "building tree 25 of 100\n",
            "building tree 26 of 100\n",
            "building tree 27 of 100\n",
            "building tree 28 of 100\n",
            "building tree 29 of 100\n",
            "building tree 30 of 100\n",
            "building tree 31 of 100\n",
            "building tree 32 of 100\n",
            "building tree 33 of 100\n",
            "building tree 34 of 100\n",
            "building tree 35 of 100\n",
            "building tree 36 of 100\n",
            "building tree 37 of 100\n",
            "building tree 38 of 100\n",
            "building tree 39 of 100\n",
            "building tree 40 of 100\n",
            "building tree 41 of 100\n",
            "building tree 42 of 100\n",
            "building tree 43 of 100\n",
            "building tree 44 of 100\n",
            "building tree 45 of 100\n",
            "building tree 46 of 100\n",
            "building tree 47 of 100\n",
            "building tree 48 of 100\n",
            "building tree 49 of 100\n",
            "building tree 50 of 100\n",
            "building tree 51 of 100\n",
            "building tree 52 of 100\n",
            "building tree 53 of 100\n",
            "building tree 54 of 100\n",
            "building tree 55 of 100\n",
            "building tree 56 of 100\n",
            "building tree 57 of 100\n",
            "building tree 58 of 100\n",
            "building tree 59 of 100\n",
            "building tree 60 of 100\n",
            "building tree 61 of 100\n",
            "building tree 62 of 100\n",
            "building tree 63 of 100\n",
            "building tree 64 of 100\n",
            "building tree 65 of 100\n",
            "building tree 66 of 100\n",
            "building tree 67 of 100\n",
            "building tree 68 of 100\n",
            "building tree 69 of 100\n",
            "building tree 70 of 100\n",
            "building tree 71 of 100\n",
            "building tree 72 of 100\n",
            "building tree 73 of 100\n",
            "building tree 74 of 100\n",
            "building tree 75 of 100\n",
            "building tree 76 of 100\n",
            "building tree 77 of 100\n",
            "building tree 78 of 100\n",
            "building tree 79 of 100\n",
            "building tree 80 of 100\n",
            "building tree 81 of 100\n",
            "building tree 82 of 100\n",
            "building tree 83 of 100\n",
            "building tree 84 of 100\n",
            "building tree 85 of 100\n",
            "building tree 86 of 100\n",
            "building tree 87 of 100\n",
            "building tree 88 of 100\n",
            "building tree 89 of 100\n",
            "building tree 90 of 100\n",
            "building tree 91 of 100\n",
            "building tree 92 of 100\n",
            "building tree 93 of 100\n",
            "building tree 94 of 100\n",
            "building tree 95 of 100\n",
            "building tree 96 of 100\n",
            "building tree 97 of 100\n",
            "building tree 98 of 100\n",
            "building tree 99 of 100\n",
            "building tree 100 of 100\n"
          ],
          "name": "stdout"
        },
        {
          "output_type": "stream",
          "text": [
            "[Parallel(n_jobs=1)]: Done 100 out of 100 | elapsed:   46.3s finished\n",
            "[Parallel(n_jobs=1)]: Using backend SequentialBackend with 1 concurrent workers.\n",
            "[Parallel(n_jobs=1)]: Done   1 out of   1 | elapsed:    0.1s remaining:    0.0s\n",
            "[Parallel(n_jobs=1)]: Done 100 out of 100 | elapsed:   10.4s finished\n",
            "[Parallel(n_jobs=1)]: Using backend SequentialBackend with 1 concurrent workers.\n",
            "[Parallel(n_jobs=1)]: Done   1 out of   1 | elapsed:    0.0s remaining:    0.0s\n",
            "[Parallel(n_jobs=1)]: Done 100 out of 100 | elapsed:    1.7s finished\n",
            "[Parallel(n_jobs=1)]: Using backend SequentialBackend with 1 concurrent workers.\n",
            "[Parallel(n_jobs=1)]: Done   1 out of   1 | elapsed:    0.0s remaining:    0.0s\n",
            "[Parallel(n_jobs=1)]: Done 100 out of 100 | elapsed:    1.3s finished\n",
            "[Parallel(n_jobs=1)]: Using backend SequentialBackend with 1 concurrent workers.\n",
            "[Parallel(n_jobs=1)]: Done   1 out of   1 | elapsed:    0.0s remaining:    0.0s\n",
            "[Parallel(n_jobs=1)]: Done 100 out of 100 | elapsed:    3.1s finished\n"
          ],
          "name": "stderr"
        },
        {
          "output_type": "stream",
          "text": [
            "----------------TEST EVALUATION------------------\n",
            "Default score: -0.6627786446234627\n",
            "Accuracy is: 0.7464739347294419\n",
            "F1 is: 0.7734938514756174\n",
            "None\n",
            "Default score: -0.5825201985415505\n",
            "Accuracy is: 0.781626160254518\n",
            "F1 is: 0.805426572055224\n",
            "None\n"
          ],
          "name": "stdout"
        },
        {
          "output_type": "display_data",
          "data": {
            "image/png": "[encoded data removed]",
            "text/plain": [
              "<Figure size 2160x576 with 1 Axes>"
            ]
          },
          "metadata": {
            "tags": [],
            "needs_background": "light"
          }
        }
      ]
    },
    {
      "cell_type": "code",
      "metadata": {
        "id": "mqz_-417XTis",
        "colab": {
          "base_uri": "https://localhost:8080/",
          "height": 1000
        },
        "outputId": "6967f76e-22f5-4e61-abeb-b61f6d3549f6"
      },
      "source": [
        "func9_= Model(train4, validation, validation1, validation2, validation3, ytrain4, valid1_lithology, valid2_lithology)\n",
        "pred9, val9, open_test9, open_test99, model9 = func9_()  #max-depth=5"
      ],
      "execution_count": null,
      "outputs": [
        {
          "output_type": "stream",
          "text": [
            "[Parallel(n_jobs=1)]: Using backend SequentialBackend with 1 concurrent workers.\n"
          ],
          "name": "stderr"
        },
        {
          "output_type": "stream",
          "text": [
            "building tree 1 of 100\n"
          ],
          "name": "stdout"
        },
        {
          "output_type": "stream",
          "text": [
            "[Parallel(n_jobs=1)]: Done   1 out of   1 | elapsed:    0.5s remaining:    0.0s\n"
          ],
          "name": "stderr"
        },
        {
          "output_type": "stream",
          "text": [
            "building tree 2 of 100\n",
            "building tree 3 of 100\n",
            "building tree 4 of 100\n",
            "building tree 5 of 100\n",
            "building tree 6 of 100\n",
            "building tree 7 of 100\n",
            "building tree 8 of 100\n",
            "building tree 9 of 100\n",
            "building tree 10 of 100\n",
            "building tree 11 of 100\n",
            "building tree 12 of 100\n",
            "building tree 13 of 100\n",
            "building tree 14 of 100\n",
            "building tree 15 of 100\n",
            "building tree 16 of 100\n",
            "building tree 17 of 100\n",
            "building tree 18 of 100\n",
            "building tree 19 of 100\n",
            "building tree 20 of 100\n",
            "building tree 21 of 100\n",
            "building tree 22 of 100\n",
            "building tree 23 of 100\n",
            "building tree 24 of 100\n",
            "building tree 25 of 100\n",
            "building tree 26 of 100\n",
            "building tree 27 of 100\n",
            "building tree 28 of 100\n",
            "building tree 29 of 100\n",
            "building tree 30 of 100\n",
            "building tree 31 of 100\n",
            "building tree 32 of 100\n",
            "building tree 33 of 100\n",
            "building tree 34 of 100\n",
            "building tree 35 of 100\n",
            "building tree 36 of 100\n",
            "building tree 37 of 100\n",
            "building tree 38 of 100\n",
            "building tree 39 of 100\n",
            "building tree 40 of 100\n",
            "building tree 41 of 100\n",
            "building tree 42 of 100\n",
            "building tree 43 of 100\n",
            "building tree 44 of 100\n",
            "building tree 45 of 100\n",
            "building tree 46 of 100\n",
            "building tree 47 of 100\n",
            "building tree 48 of 100\n",
            "building tree 49 of 100\n",
            "building tree 50 of 100\n",
            "building tree 51 of 100\n",
            "building tree 52 of 100\n",
            "building tree 53 of 100\n",
            "building tree 54 of 100\n",
            "building tree 55 of 100\n",
            "building tree 56 of 100\n",
            "building tree 57 of 100\n",
            "building tree 58 of 100\n",
            "building tree 59 of 100\n",
            "building tree 60 of 100\n",
            "building tree 61 of 100\n",
            "building tree 62 of 100\n",
            "building tree 63 of 100\n",
            "building tree 64 of 100\n",
            "building tree 65 of 100\n",
            "building tree 66 of 100\n",
            "building tree 67 of 100\n",
            "building tree 68 of 100\n",
            "building tree 69 of 100\n",
            "building tree 70 of 100\n",
            "building tree 71 of 100\n",
            "building tree 72 of 100\n",
            "building tree 73 of 100\n",
            "building tree 74 of 100\n",
            "building tree 75 of 100\n",
            "building tree 76 of 100\n",
            "building tree 77 of 100\n",
            "building tree 78 of 100\n",
            "building tree 79 of 100\n",
            "building tree 80 of 100\n",
            "building tree 81 of 100\n",
            "building tree 82 of 100\n",
            "building tree 83 of 100\n",
            "building tree 84 of 100\n",
            "building tree 85 of 100\n",
            "building tree 86 of 100\n",
            "building tree 87 of 100\n",
            "building tree 88 of 100\n",
            "building tree 89 of 100\n",
            "building tree 90 of 100\n",
            "building tree 91 of 100\n",
            "building tree 92 of 100\n",
            "building tree 93 of 100\n",
            "building tree 94 of 100\n",
            "building tree 95 of 100\n",
            "building tree 96 of 100\n",
            "building tree 97 of 100\n",
            "building tree 98 of 100\n",
            "building tree 99 of 100\n",
            "building tree 100 of 100\n"
          ],
          "name": "stdout"
        },
        {
          "output_type": "stream",
          "text": [
            "[Parallel(n_jobs=1)]: Done 100 out of 100 | elapsed:   46.3s finished\n",
            "[Parallel(n_jobs=1)]: Using backend SequentialBackend with 1 concurrent workers.\n",
            "[Parallel(n_jobs=1)]: Done   1 out of   1 | elapsed:    0.1s remaining:    0.0s\n",
            "[Parallel(n_jobs=1)]: Done 100 out of 100 | elapsed:   10.3s finished\n",
            "[Parallel(n_jobs=1)]: Using backend SequentialBackend with 1 concurrent workers.\n",
            "[Parallel(n_jobs=1)]: Done   1 out of   1 | elapsed:    0.0s remaining:    0.0s\n",
            "[Parallel(n_jobs=1)]: Done 100 out of 100 | elapsed:    1.6s finished\n",
            "[Parallel(n_jobs=1)]: Using backend SequentialBackend with 1 concurrent workers.\n",
            "[Parallel(n_jobs=1)]: Done   1 out of   1 | elapsed:    0.0s remaining:    0.0s\n",
            "[Parallel(n_jobs=1)]: Done 100 out of 100 | elapsed:    1.3s finished\n",
            "[Parallel(n_jobs=1)]: Using backend SequentialBackend with 1 concurrent workers.\n",
            "[Parallel(n_jobs=1)]: Done   1 out of   1 | elapsed:    0.0s remaining:    0.0s\n",
            "[Parallel(n_jobs=1)]: Done 100 out of 100 | elapsed:    3.1s finished\n"
          ],
          "name": "stderr"
        },
        {
          "output_type": "stream",
          "text": [
            "----------------TEST EVALUATION------------------\n",
            "Default score: -0.648185687111563\n",
            "Accuracy is: 0.7510409453098291\n",
            "F1 is: 0.7781302287371177\n",
            "None\n",
            "Default score: -0.5953595285731466\n",
            "Accuracy is: 0.7796473044923306\n",
            "F1 is: 0.80291897135\n",
            "None\n"
          ],
          "name": "stdout"
        },
        {
          "output_type": "display_data",
          "data": {
            "image/png": "[encoded data removed]",
            "text/plain": [
              "<Figure size 2160x576 with 1 Axes>"
            ]
          },
          "metadata": {
            "tags": [],
            "needs_background": "light"
          }
        }
      ]
    },
    {
      "cell_type": "code",
      "metadata": {
        "id": "nMZrHiTOXTZP",
        "colab": {
          "base_uri": "https://localhost:8080/",
          "height": 1000
        },
        "outputId": "29017b2a-de7d-4c3a-8de9-d09340aac6a7"
      },
      "source": [
        "func10_= Model(train5, validation, validation1, validation2, validation3, ytrain5, valid1_lithology, valid2_lithology)\n",
        "pred10, val10, open_test10, open_test110, model10 = func10_()  #max-depth=6"
      ],
      "execution_count": null,
      "outputs": [
        {
          "output_type": "stream",
          "text": [
            "[Parallel(n_jobs=1)]: Using backend SequentialBackend with 1 concurrent workers.\n"
          ],
          "name": "stderr"
        },
        {
          "output_type": "stream",
          "text": [
            "building tree 1 of 100\n"
          ],
          "name": "stdout"
        },
        {
          "output_type": "stream",
          "text": [
            "[Parallel(n_jobs=1)]: Done   1 out of   1 | elapsed:    0.5s remaining:    0.0s\n"
          ],
          "name": "stderr"
        },
        {
          "output_type": "stream",
          "text": [
            "building tree 2 of 100\n",
            "building tree 3 of 100\n",
            "building tree 4 of 100\n",
            "building tree 5 of 100\n",
            "building tree 6 of 100\n",
            "building tree 7 of 100\n",
            "building tree 8 of 100\n",
            "building tree 9 of 100\n",
            "building tree 10 of 100\n",
            "building tree 11 of 100\n",
            "building tree 12 of 100\n",
            "building tree 13 of 100\n",
            "building tree 14 of 100\n",
            "building tree 15 of 100\n",
            "building tree 16 of 100\n",
            "building tree 17 of 100\n",
            "building tree 18 of 100\n",
            "building tree 19 of 100\n",
            "building tree 20 of 100\n",
            "building tree 21 of 100\n",
            "building tree 22 of 100\n",
            "building tree 23 of 100\n",
            "building tree 24 of 100\n",
            "building tree 25 of 100\n",
            "building tree 26 of 100\n",
            "building tree 27 of 100\n",
            "building tree 28 of 100\n",
            "building tree 29 of 100\n",
            "building tree 30 of 100\n",
            "building tree 31 of 100\n",
            "building tree 32 of 100\n",
            "building tree 33 of 100\n",
            "building tree 34 of 100\n",
            "building tree 35 of 100\n",
            "building tree 36 of 100\n",
            "building tree 37 of 100\n",
            "building tree 38 of 100\n",
            "building tree 39 of 100\n",
            "building tree 40 of 100\n",
            "building tree 41 of 100\n",
            "building tree 42 of 100\n",
            "building tree 43 of 100\n",
            "building tree 44 of 100\n",
            "building tree 45 of 100\n",
            "building tree 46 of 100\n",
            "building tree 47 of 100\n",
            "building tree 48 of 100\n",
            "building tree 49 of 100\n",
            "building tree 50 of 100\n",
            "building tree 51 of 100\n",
            "building tree 52 of 100\n",
            "building tree 53 of 100\n",
            "building tree 54 of 100\n",
            "building tree 55 of 100\n",
            "building tree 56 of 100\n",
            "building tree 57 of 100\n",
            "building tree 58 of 100\n",
            "building tree 59 of 100\n",
            "building tree 60 of 100\n",
            "building tree 61 of 100\n",
            "building tree 62 of 100\n",
            "building tree 63 of 100\n",
            "building tree 64 of 100\n",
            "building tree 65 of 100\n",
            "building tree 66 of 100\n",
            "building tree 67 of 100\n",
            "building tree 68 of 100\n",
            "building tree 69 of 100\n",
            "building tree 70 of 100\n",
            "building tree 71 of 100\n",
            "building tree 72 of 100\n",
            "building tree 73 of 100\n",
            "building tree 74 of 100\n",
            "building tree 75 of 100\n",
            "building tree 76 of 100\n",
            "building tree 77 of 100\n",
            "building tree 78 of 100\n",
            "building tree 79 of 100\n",
            "building tree 80 of 100\n",
            "building tree 81 of 100\n",
            "building tree 82 of 100\n",
            "building tree 83 of 100\n",
            "building tree 84 of 100\n",
            "building tree 85 of 100\n",
            "building tree 86 of 100\n",
            "building tree 87 of 100\n",
            "building tree 88 of 100\n",
            "building tree 89 of 100\n",
            "building tree 90 of 100\n",
            "building tree 91 of 100\n",
            "building tree 92 of 100\n",
            "building tree 93 of 100\n",
            "building tree 94 of 100\n",
            "building tree 95 of 100\n",
            "building tree 96 of 100\n",
            "building tree 97 of 100\n",
            "building tree 98 of 100\n",
            "building tree 99 of 100\n",
            "building tree 100 of 100\n"
          ],
          "name": "stdout"
        },
        {
          "output_type": "stream",
          "text": [
            "[Parallel(n_jobs=1)]: Done 100 out of 100 | elapsed:   46.8s finished\n",
            "[Parallel(n_jobs=1)]: Using backend SequentialBackend with 1 concurrent workers.\n",
            "[Parallel(n_jobs=1)]: Done   1 out of   1 | elapsed:    0.1s remaining:    0.0s\n",
            "[Parallel(n_jobs=1)]: Done 100 out of 100 | elapsed:   10.3s finished\n",
            "[Parallel(n_jobs=1)]: Using backend SequentialBackend with 1 concurrent workers.\n",
            "[Parallel(n_jobs=1)]: Done   1 out of   1 | elapsed:    0.0s remaining:    0.0s\n",
            "[Parallel(n_jobs=1)]: Done 100 out of 100 | elapsed:    1.7s finished\n",
            "[Parallel(n_jobs=1)]: Using backend SequentialBackend with 1 concurrent workers.\n",
            "[Parallel(n_jobs=1)]: Done   1 out of   1 | elapsed:    0.0s remaining:    0.0s\n",
            "[Parallel(n_jobs=1)]: Done 100 out of 100 | elapsed:    1.4s finished\n",
            "[Parallel(n_jobs=1)]: Using backend SequentialBackend with 1 concurrent workers.\n",
            "[Parallel(n_jobs=1)]: Done   1 out of   1 | elapsed:    0.0s remaining:    0.0s\n",
            "[Parallel(n_jobs=1)]: Done 100 out of 100 | elapsed:    3.1s finished\n"
          ],
          "name": "stderr"
        },
        {
          "output_type": "stream",
          "text": [
            "----------------TEST EVALUATION------------------\n",
            "Default score: -0.6622625548961685\n",
            "Accuracy is: 0.7450451003252132\n",
            "F1 is: 0.7768047509886961\n",
            "None\n",
            "Default score: -0.5762720434692293\n",
            "Accuracy is: 0.7855948046836564\n",
            "F1 is: 0.8064451028352332\n",
            "None\n"
          ],
          "name": "stdout"
        },
        {
          "output_type": "display_data",
          "data": {
            "image/png": "[encoded data removed]",
            "text/plain": [
              "<Figure size 2160x576 with 1 Axes>"
            ]
          },
          "metadata": {
            "tags": [],
            "needs_background": "light"
          }
        }
      ]
    },
    {
      "cell_type": "code",
      "metadata": {
        "id": "G9KiSY-F5COA",
        "colab": {
          "base_uri": "https://localhost:8080/",
          "height": 261
        },
        "outputId": "d4a34b1a-09c2-4997-c2f3-150e8d477772"
      },
      "source": [
        "for (i, j) in enumerate(train5.columns):\n",
        "  print(i, j)"
      ],
      "execution_count": null,
      "outputs": [
        {
          "output_type": "stream",
          "text": [
            "0 DEPTH_MD\n",
            "1 X_LOC\n",
            "2 Y_LOC\n",
            "3 Z_LOC\n",
            "4 CALI\n",
            "5 RMED\n",
            "6 RDEP\n",
            "7 RHOB\n",
            "8 GR\n",
            "9 NPHI\n",
            "10 DTC\n",
            "11 SP\n",
            "12 GROUP_encoded\n",
            "13 FORMATION_encoded\n",
            "14 LITHO_encoded\n"
          ],
          "name": "stdout"
        }
      ]
    },
    {
      "cell_type": "code",
      "metadata": {
        "id": "x_O1S07B2X3l",
        "colab": {
          "base_uri": "https://localhost:8080/",
          "height": 1000
        },
        "outputId": "b9e6f44e-7666-4b38-e039-e992f6c955b8"
      },
      "source": [
        "func11_= Model(train1, validation, validation1, validation2, validation3, ytrain1, valid1_lithology, valid2_lithology)\n",
        "pred11, val11, open_test11a, open_test111, model11 = func11_()  #max-depth=6"
      ],
      "execution_count": null,
      "outputs": [
        {
          "output_type": "stream",
          "text": [
            "[Parallel(n_jobs=1)]: Using backend SequentialBackend with 1 concurrent workers.\n"
          ],
          "name": "stderr"
        },
        {
          "output_type": "stream",
          "text": [
            "building tree 1 of 100\n"
          ],
          "name": "stdout"
        },
        {
          "output_type": "stream",
          "text": [
            "[Parallel(n_jobs=1)]: Done   1 out of   1 | elapsed:    0.5s remaining:    0.0s\n"
          ],
          "name": "stderr"
        },
        {
          "output_type": "stream",
          "text": [
            "building tree 2 of 100\n",
            "building tree 3 of 100\n",
            "building tree 4 of 100\n",
            "building tree 5 of 100\n",
            "building tree 6 of 100\n",
            "building tree 7 of 100\n",
            "building tree 8 of 100\n",
            "building tree 9 of 100\n",
            "building tree 10 of 100\n",
            "building tree 11 of 100\n",
            "building tree 12 of 100\n",
            "building tree 13 of 100\n",
            "building tree 14 of 100\n",
            "building tree 15 of 100\n",
            "building tree 16 of 100\n",
            "building tree 17 of 100\n",
            "building tree 18 of 100\n",
            "building tree 19 of 100\n",
            "building tree 20 of 100\n",
            "building tree 21 of 100\n",
            "building tree 22 of 100\n",
            "building tree 23 of 100\n",
            "building tree 24 of 100\n",
            "building tree 25 of 100\n",
            "building tree 26 of 100\n",
            "building tree 27 of 100\n",
            "building tree 28 of 100\n",
            "building tree 29 of 100\n",
            "building tree 30 of 100\n",
            "building tree 31 of 100\n",
            "building tree 32 of 100\n",
            "building tree 33 of 100\n",
            "building tree 34 of 100\n",
            "building tree 35 of 100\n",
            "building tree 36 of 100\n",
            "building tree 37 of 100\n",
            "building tree 38 of 100\n",
            "building tree 39 of 100\n",
            "building tree 40 of 100\n",
            "building tree 41 of 100\n",
            "building tree 42 of 100\n",
            "building tree 43 of 100\n",
            "building tree 44 of 100\n",
            "building tree 45 of 100\n",
            "building tree 46 of 100\n",
            "building tree 47 of 100\n",
            "building tree 48 of 100\n",
            "building tree 49 of 100\n",
            "building tree 50 of 100\n",
            "building tree 51 of 100\n",
            "building tree 52 of 100\n",
            "building tree 53 of 100\n",
            "building tree 54 of 100\n",
            "building tree 55 of 100\n",
            "building tree 56 of 100\n",
            "building tree 57 of 100\n",
            "building tree 58 of 100\n",
            "building tree 59 of 100\n",
            "building tree 60 of 100\n",
            "building tree 61 of 100\n",
            "building tree 62 of 100\n",
            "building tree 63 of 100\n",
            "building tree 64 of 100\n",
            "building tree 65 of 100\n",
            "building tree 66 of 100\n",
            "building tree 67 of 100\n",
            "building tree 68 of 100\n",
            "building tree 69 of 100\n",
            "building tree 70 of 100\n",
            "building tree 71 of 100\n",
            "building tree 72 of 100\n",
            "building tree 73 of 100\n",
            "building tree 74 of 100\n",
            "building tree 75 of 100\n",
            "building tree 76 of 100\n",
            "building tree 77 of 100\n",
            "building tree 78 of 100\n",
            "building tree 79 of 100\n",
            "building tree 80 of 100\n",
            "building tree 81 of 100\n",
            "building tree 82 of 100\n",
            "building tree 83 of 100\n",
            "building tree 84 of 100\n",
            "building tree 85 of 100\n",
            "building tree 86 of 100\n",
            "building tree 87 of 100\n",
            "building tree 88 of 100\n",
            "building tree 89 of 100\n",
            "building tree 90 of 100\n",
            "building tree 91 of 100\n",
            "building tree 92 of 100\n",
            "building tree 93 of 100\n",
            "building tree 94 of 100\n",
            "building tree 95 of 100\n",
            "building tree 96 of 100\n",
            "building tree 97 of 100\n",
            "building tree 98 of 100\n",
            "building tree 99 of 100\n",
            "building tree 100 of 100\n"
          ],
          "name": "stdout"
        },
        {
          "output_type": "stream",
          "text": [
            "[Parallel(n_jobs=1)]: Done 100 out of 100 | elapsed:   47.4s finished\n",
            "[Parallel(n_jobs=1)]: Using backend SequentialBackend with 1 concurrent workers.\n",
            "[Parallel(n_jobs=1)]: Done   1 out of   1 | elapsed:    0.1s remaining:    0.0s\n",
            "[Parallel(n_jobs=1)]: Done 100 out of 100 | elapsed:   10.1s finished\n",
            "[Parallel(n_jobs=1)]: Using backend SequentialBackend with 1 concurrent workers.\n",
            "[Parallel(n_jobs=1)]: Done   1 out of   1 | elapsed:    0.0s remaining:    0.0s\n",
            "[Parallel(n_jobs=1)]: Done 100 out of 100 | elapsed:    1.7s finished\n",
            "[Parallel(n_jobs=1)]: Using backend SequentialBackend with 1 concurrent workers.\n",
            "[Parallel(n_jobs=1)]: Done   1 out of   1 | elapsed:    0.0s remaining:    0.0s\n",
            "[Parallel(n_jobs=1)]: Done 100 out of 100 | elapsed:    1.4s finished\n",
            "[Parallel(n_jobs=1)]: Using backend SequentialBackend with 1 concurrent workers.\n",
            "[Parallel(n_jobs=1)]: Done   1 out of   1 | elapsed:    0.0s remaining:    0.0s\n",
            "[Parallel(n_jobs=1)]: Done 100 out of 100 | elapsed:    3.0s finished\n"
          ],
          "name": "stderr"
        },
        {
          "output_type": "stream",
          "text": [
            "----------------TEST EVALUATION------------------\n",
            "Default score: -0.6446234626881372\n",
            "Accuracy is: 0.7550294094443324\n",
            "F1 is: 0.7771409988250183\n",
            "None\n",
            "Default score: -0.5789888703029508\n",
            "Accuracy is: 0.7861305170170663\n",
            "F1 is: 0.8090973438480769\n",
            "None\n"
          ],
          "name": "stdout"
        },
        {
          "output_type": "display_data",
          "data": {
            "image/png": "[encoded data removed]",
            "text/plain": [
              "<Figure size 2160x576 with 1 Axes>"
            ]
          },
          "metadata": {
            "tags": [],
            "needs_background": "light"
          }
        }
      ]
    },
    {
      "cell_type": "code",
      "metadata": {
        "id": "xT5ZXhnO2Y7G",
        "colab": {
          "base_uri": "https://localhost:8080/",
          "height": 1000
        },
        "outputId": "3b691137-d07f-4cd0-afa1-f060922e8888"
      },
      "source": [
        "func12_= Model(train2, validation, validation1, validation2, validation3, ytrain2, valid1_lithology, valid2_lithology)\n",
        "pred12, val12, open_test12, open_test112, model12 = func12_()  #max-depth=6"
      ],
      "execution_count": null,
      "outputs": [
        {
          "output_type": "stream",
          "text": [
            "[Parallel(n_jobs=1)]: Using backend SequentialBackend with 1 concurrent workers.\n"
          ],
          "name": "stderr"
        },
        {
          "output_type": "stream",
          "text": [
            "building tree 1 of 100\n"
          ],
          "name": "stdout"
        },
        {
          "output_type": "stream",
          "text": [
            "[Parallel(n_jobs=1)]: Done   1 out of   1 | elapsed:    0.5s remaining:    0.0s\n"
          ],
          "name": "stderr"
        },
        {
          "output_type": "stream",
          "text": [
            "building tree 2 of 100\n",
            "building tree 3 of 100\n",
            "building tree 4 of 100\n",
            "building tree 5 of 100\n",
            "building tree 6 of 100\n",
            "building tree 7 of 100\n",
            "building tree 8 of 100\n",
            "building tree 9 of 100\n",
            "building tree 10 of 100\n",
            "building tree 11 of 100\n",
            "building tree 12 of 100\n",
            "building tree 13 of 100\n",
            "building tree 14 of 100\n",
            "building tree 15 of 100\n",
            "building tree 16 of 100\n",
            "building tree 17 of 100\n",
            "building tree 18 of 100\n",
            "building tree 19 of 100\n",
            "building tree 20 of 100\n",
            "building tree 21 of 100\n",
            "building tree 22 of 100\n",
            "building tree 23 of 100\n",
            "building tree 24 of 100\n",
            "building tree 25 of 100\n",
            "building tree 26 of 100\n",
            "building tree 27 of 100\n",
            "building tree 28 of 100\n",
            "building tree 29 of 100\n",
            "building tree 30 of 100\n",
            "building tree 31 of 100\n",
            "building tree 32 of 100\n",
            "building tree 33 of 100\n",
            "building tree 34 of 100\n",
            "building tree 35 of 100\n",
            "building tree 36 of 100\n",
            "building tree 37 of 100\n",
            "building tree 38 of 100\n",
            "building tree 39 of 100\n",
            "building tree 40 of 100\n",
            "building tree 41 of 100\n",
            "building tree 42 of 100\n",
            "building tree 43 of 100\n",
            "building tree 44 of 100\n",
            "building tree 45 of 100\n",
            "building tree 46 of 100\n",
            "building tree 47 of 100\n",
            "building tree 48 of 100\n",
            "building tree 49 of 100\n",
            "building tree 50 of 100\n",
            "building tree 51 of 100\n",
            "building tree 52 of 100\n",
            "building tree 53 of 100\n",
            "building tree 54 of 100\n",
            "building tree 55 of 100\n",
            "building tree 56 of 100\n",
            "building tree 57 of 100\n",
            "building tree 58 of 100\n",
            "building tree 59 of 100\n",
            "building tree 60 of 100\n",
            "building tree 61 of 100\n",
            "building tree 62 of 100\n",
            "building tree 63 of 100\n",
            "building tree 64 of 100\n",
            "building tree 65 of 100\n",
            "building tree 66 of 100\n",
            "building tree 67 of 100\n",
            "building tree 68 of 100\n",
            "building tree 69 of 100\n",
            "building tree 70 of 100\n",
            "building tree 71 of 100\n",
            "building tree 72 of 100\n",
            "building tree 73 of 100\n",
            "building tree 74 of 100\n",
            "building tree 75 of 100\n",
            "building tree 76 of 100\n",
            "building tree 77 of 100\n",
            "building tree 78 of 100\n",
            "building tree 79 of 100\n",
            "building tree 80 of 100\n",
            "building tree 81 of 100\n",
            "building tree 82 of 100\n",
            "building tree 83 of 100\n",
            "building tree 84 of 100\n",
            "building tree 85 of 100\n",
            "building tree 86 of 100\n",
            "building tree 87 of 100\n",
            "building tree 88 of 100\n",
            "building tree 89 of 100\n",
            "building tree 90 of 100\n",
            "building tree 91 of 100\n",
            "building tree 92 of 100\n",
            "building tree 93 of 100\n",
            "building tree 94 of 100\n",
            "building tree 95 of 100\n",
            "building tree 96 of 100\n",
            "building tree 97 of 100\n",
            "building tree 98 of 100\n",
            "building tree 99 of 100\n",
            "building tree 100 of 100\n"
          ],
          "name": "stdout"
        },
        {
          "output_type": "stream",
          "text": [
            "[Parallel(n_jobs=1)]: Done 100 out of 100 | elapsed:   47.8s finished\n",
            "[Parallel(n_jobs=1)]: Using backend SequentialBackend with 1 concurrent workers.\n",
            "[Parallel(n_jobs=1)]: Done   1 out of   1 | elapsed:    0.1s remaining:    0.0s\n",
            "[Parallel(n_jobs=1)]: Done 100 out of 100 | elapsed:   10.0s finished\n",
            "[Parallel(n_jobs=1)]: Using backend SequentialBackend with 1 concurrent workers.\n",
            "[Parallel(n_jobs=1)]: Done   1 out of   1 | elapsed:    0.0s remaining:    0.0s\n",
            "[Parallel(n_jobs=1)]: Done 100 out of 100 | elapsed:    1.7s finished\n",
            "[Parallel(n_jobs=1)]: Using backend SequentialBackend with 1 concurrent workers.\n",
            "[Parallel(n_jobs=1)]: Done   1 out of   1 | elapsed:    0.0s remaining:    0.0s\n",
            "[Parallel(n_jobs=1)]: Done 100 out of 100 | elapsed:    1.3s finished\n",
            "[Parallel(n_jobs=1)]: Using backend SequentialBackend with 1 concurrent workers.\n",
            "[Parallel(n_jobs=1)]: Done   1 out of   1 | elapsed:    0.0s remaining:    0.0s\n",
            "[Parallel(n_jobs=1)]: Done 100 out of 100 | elapsed:    3.1s finished\n"
          ],
          "name": "stderr"
        },
        {
          "output_type": "stream",
          "text": [
            "----------------TEST EVALUATION------------------\n",
            "Default score: -0.6498961246153981\n",
            "Accuracy is: 0.7511636672831985\n",
            "F1 is: 0.7745747047967058\n",
            "None\n",
            "Default score: -0.5824149693332021\n",
            "Accuracy is: 0.7835503514928881\n",
            "F1 is: 0.8042882956973216\n",
            "None\n"
          ],
          "name": "stdout"
        },
        {
          "output_type": "display_data",
          "data": {
            "image/png": "[encoded data removed]",
            "text/plain": [
              "<Figure size 2160x576 with 1 Axes>"
            ]
          },
          "metadata": {
            "tags": [],
            "needs_background": "light"
          }
        }
      ]
    },
    {
      "cell_type": "code",
      "metadata": {
        "id": "07J40_L3a-KY"
      },
      "source": [
        "stack = np.column_stack((pred1, pred2, pred3, pred4, pred5, pred6, pred7, pred8, pred9, pred10))\n",
        "stack_p = np.column_stack((val1, val2, val3, val4, val5, val6, val7, val8, val9, val10))\n",
        "stack_open = np.column_stack((open_test1, open_test2, open_test3, open_test4, open_test5, open_test6, open_test7, open_test8, open_test9, open_test10))\n",
        "stack_open1 = np.column_stack((open_test11, open_test22, open_test33, open_test44, open_test55, open_test66, open_test77, open_test88, open_test99, open_test110))"
      ],
      "execution_count": null,
      "outputs": []
    },
    {
      "cell_type": "code",
      "metadata": {
        "id": "Enpxl-YzHzDt"
      },
      "source": [
        "stack = np.column_stack((pred1, pred2, pred3, pred4, pred5))\n",
        "stack_p = np.column_stack((val1, val2, val3, val4, val5))\n",
        "stack_open = np.column_stack((open_test1, open_test2, open_test3, open_test4, open_test5))\n",
        "stack_open1 = np.column_stack((open_test11, open_test22, open_test33, open_test44, open_test55))"
      ],
      "execution_count": null,
      "outputs": []
    },
    {
      "cell_type": "code",
      "metadata": {
        "id": "0bfmrHHn7SMo",
        "colab": {
          "base_uri": "https://localhost:8080/",
          "height": 33
        },
        "outputId": "61f6d843-2db2-4535-ebcd-eea9f4bed950"
      },
      "source": [
        "open_test77.shape, open_test66.shape, open_test55.shape, open_test44.shape, open_test11/shapeopen_test111.shape, open_test112.shape, open_test110.shape, open_test99.shape, open_test88.shape"
      ],
      "execution_count": null,
      "outputs": [
        {
          "output_type": "execute_result",
          "data": {
            "text/plain": [
              "((192841,), (192841,), (192841,), (192841,), (192841,))"
            ]
          },
          "metadata": {
            "tags": []
          },
          "execution_count": 54
        }
      ]
    },
    {
      "cell_type": "code",
      "metadata": {
        "id": "hqXOCX4OIw9j"
      },
      "source": [
        "stack = np.column_stack((pred1, pred2, pred3, pred4, pred5, pred6, pred7, pred8, pred9, pred10, pred11, pred12,\n",
        "                         pred13, pred14, pred15, pred16, pred17, pred18, pred19, pred20, pred21, pred22, pred23, pred24))\n",
        "stack_p = np.column_stack((val1, val2, val3, val4, val5, val6, val7, val8, val9, val10, val11, val12,\n",
        "                           val13, val14, val15, val16, val17, val18, val19, val20, val21, val22, val23, val24))\n",
        "stack_open = np.column_stack((open_test1, open_test2, open_test3, open_test4, open_test5, open_test6, open_test7, open_test8, open_test9, open_test10, open_test11a, open_test12,\n",
        "                              open_test13, open_test14, open_test15, open_test16, open_test17, open_test18, open_test19, open_test20, open_test21, open_test22a, open_test23, open_test24))\n",
        "stack_open1 = np.column_stack((open_test11, open_test22, open_test33, open_test44, open_test55, open_test66, open_test77, open_test88, open_test99, open_test110, open_test111, open_test112,\n",
        "                               open_test113, open_test114, open_test115, open_test116, open_test117, open_test118, open_test99, open_test110, open_test111, open_test112))"
      ],
      "execution_count": null,
      "outputs": []
    },
    {
      "cell_type": "code",
      "metadata": {
        "id": "xj9CZEWabxyG",
        "colab": {
          "base_uri": "https://localhost:8080/",
          "height": 1000
        },
        "outputId": "495b519b-2ef4-4594-f9db-fe78cf97fa4c"
      },
      "source": [
        " \n",
        "nr.seed(33)\n",
        "pd.DataFrame(stack_open).sample(50)"
      ],
      "execution_count": null,
      "outputs": [
        {
          "output_type": "execute_result",
          "data": {
            "text/html": [
              "<div>\n",
              "<style scoped>\n",
              "    .dataframe tbody tr th:only-of-type {\n",
              "        vertical-align: middle;\n",
              "    }\n",
              "\n",
              "    .dataframe tbody tr th {\n",
              "        vertical-align: top;\n",
              "    }\n",
              "\n",
              "    .dataframe thead th {\n",
              "        text-align: right;\n",
              "    }\n",
              "</style>\n",
              "<table border=\"1\" class=\"dataframe\">\n",
              "  <thead>\n",
              "    <tr style=\"text-align: right;\">\n",
              "      <th></th>\n",
              "      <th>0</th>\n",
              "      <th>1</th>\n",
              "      <th>2</th>\n",
              "      <th>3</th>\n",
              "      <th>4</th>\n",
              "    </tr>\n",
              "  </thead>\n",
              "  <tbody>\n",
              "    <tr>\n",
              "      <th>61588</th>\n",
              "      <td>5</td>\n",
              "      <td>5</td>\n",
              "      <td>5</td>\n",
              "      <td>0</td>\n",
              "      <td>5</td>\n",
              "    </tr>\n",
              "    <tr>\n",
              "      <th>32912</th>\n",
              "      <td>2</td>\n",
              "      <td>2</td>\n",
              "      <td>2</td>\n",
              "      <td>2</td>\n",
              "      <td>2</td>\n",
              "    </tr>\n",
              "    <tr>\n",
              "      <th>66937</th>\n",
              "      <td>2</td>\n",
              "      <td>2</td>\n",
              "      <td>2</td>\n",
              "      <td>2</td>\n",
              "      <td>2</td>\n",
              "    </tr>\n",
              "    <tr>\n",
              "      <th>21929</th>\n",
              "      <td>2</td>\n",
              "      <td>2</td>\n",
              "      <td>2</td>\n",
              "      <td>2</td>\n",
              "      <td>2</td>\n",
              "    </tr>\n",
              "    <tr>\n",
              "      <th>27053</th>\n",
              "      <td>2</td>\n",
              "      <td>2</td>\n",
              "      <td>1</td>\n",
              "      <td>0</td>\n",
              "      <td>2</td>\n",
              "    </tr>\n",
              "    <tr>\n",
              "      <th>57157</th>\n",
              "      <td>2</td>\n",
              "      <td>2</td>\n",
              "      <td>2</td>\n",
              "      <td>2</td>\n",
              "      <td>2</td>\n",
              "    </tr>\n",
              "    <tr>\n",
              "      <th>28521</th>\n",
              "      <td>2</td>\n",
              "      <td>2</td>\n",
              "      <td>0</td>\n",
              "      <td>0</td>\n",
              "      <td>0</td>\n",
              "    </tr>\n",
              "    <tr>\n",
              "      <th>53182</th>\n",
              "      <td>5</td>\n",
              "      <td>5</td>\n",
              "      <td>5</td>\n",
              "      <td>0</td>\n",
              "      <td>2</td>\n",
              "    </tr>\n",
              "    <tr>\n",
              "      <th>64435</th>\n",
              "      <td>2</td>\n",
              "      <td>2</td>\n",
              "      <td>2</td>\n",
              "      <td>2</td>\n",
              "      <td>1</td>\n",
              "    </tr>\n",
              "    <tr>\n",
              "      <th>54924</th>\n",
              "      <td>2</td>\n",
              "      <td>2</td>\n",
              "      <td>2</td>\n",
              "      <td>2</td>\n",
              "      <td>2</td>\n",
              "    </tr>\n",
              "    <tr>\n",
              "      <th>45275</th>\n",
              "      <td>2</td>\n",
              "      <td>2</td>\n",
              "      <td>2</td>\n",
              "      <td>2</td>\n",
              "      <td>2</td>\n",
              "    </tr>\n",
              "    <tr>\n",
              "      <th>54614</th>\n",
              "      <td>2</td>\n",
              "      <td>2</td>\n",
              "      <td>2</td>\n",
              "      <td>2</td>\n",
              "      <td>2</td>\n",
              "    </tr>\n",
              "    <tr>\n",
              "      <th>73513</th>\n",
              "      <td>3</td>\n",
              "      <td>2</td>\n",
              "      <td>0</td>\n",
              "      <td>0</td>\n",
              "      <td>0</td>\n",
              "    </tr>\n",
              "    <tr>\n",
              "      <th>7859</th>\n",
              "      <td>5</td>\n",
              "      <td>2</td>\n",
              "      <td>2</td>\n",
              "      <td>2</td>\n",
              "      <td>2</td>\n",
              "    </tr>\n",
              "    <tr>\n",
              "      <th>29125</th>\n",
              "      <td>2</td>\n",
              "      <td>2</td>\n",
              "      <td>2</td>\n",
              "      <td>2</td>\n",
              "      <td>2</td>\n",
              "    </tr>\n",
              "    <tr>\n",
              "      <th>7450</th>\n",
              "      <td>5</td>\n",
              "      <td>2</td>\n",
              "      <td>2</td>\n",
              "      <td>2</td>\n",
              "      <td>2</td>\n",
              "    </tr>\n",
              "    <tr>\n",
              "      <th>34894</th>\n",
              "      <td>2</td>\n",
              "      <td>2</td>\n",
              "      <td>2</td>\n",
              "      <td>2</td>\n",
              "      <td>2</td>\n",
              "    </tr>\n",
              "    <tr>\n",
              "      <th>10705</th>\n",
              "      <td>5</td>\n",
              "      <td>2</td>\n",
              "      <td>2</td>\n",
              "      <td>2</td>\n",
              "      <td>2</td>\n",
              "    </tr>\n",
              "    <tr>\n",
              "      <th>14964</th>\n",
              "      <td>2</td>\n",
              "      <td>2</td>\n",
              "      <td>2</td>\n",
              "      <td>2</td>\n",
              "      <td>2</td>\n",
              "    </tr>\n",
              "    <tr>\n",
              "      <th>21341</th>\n",
              "      <td>2</td>\n",
              "      <td>2</td>\n",
              "      <td>2</td>\n",
              "      <td>2</td>\n",
              "      <td>2</td>\n",
              "    </tr>\n",
              "    <tr>\n",
              "      <th>9800</th>\n",
              "      <td>2</td>\n",
              "      <td>2</td>\n",
              "      <td>2</td>\n",
              "      <td>2</td>\n",
              "      <td>2</td>\n",
              "    </tr>\n",
              "    <tr>\n",
              "      <th>84493</th>\n",
              "      <td>2</td>\n",
              "      <td>2</td>\n",
              "      <td>2</td>\n",
              "      <td>2</td>\n",
              "      <td>2</td>\n",
              "    </tr>\n",
              "    <tr>\n",
              "      <th>67444</th>\n",
              "      <td>2</td>\n",
              "      <td>2</td>\n",
              "      <td>2</td>\n",
              "      <td>2</td>\n",
              "      <td>2</td>\n",
              "    </tr>\n",
              "    <tr>\n",
              "      <th>59882</th>\n",
              "      <td>2</td>\n",
              "      <td>2</td>\n",
              "      <td>2</td>\n",
              "      <td>2</td>\n",
              "      <td>2</td>\n",
              "    </tr>\n",
              "    <tr>\n",
              "      <th>51598</th>\n",
              "      <td>2</td>\n",
              "      <td>2</td>\n",
              "      <td>2</td>\n",
              "      <td>9</td>\n",
              "      <td>2</td>\n",
              "    </tr>\n",
              "    <tr>\n",
              "      <th>29681</th>\n",
              "      <td>0</td>\n",
              "      <td>0</td>\n",
              "      <td>0</td>\n",
              "      <td>0</td>\n",
              "      <td>0</td>\n",
              "    </tr>\n",
              "    <tr>\n",
              "      <th>48763</th>\n",
              "      <td>2</td>\n",
              "      <td>2</td>\n",
              "      <td>0</td>\n",
              "      <td>0</td>\n",
              "      <td>0</td>\n",
              "    </tr>\n",
              "    <tr>\n",
              "      <th>32864</th>\n",
              "      <td>2</td>\n",
              "      <td>2</td>\n",
              "      <td>2</td>\n",
              "      <td>2</td>\n",
              "      <td>2</td>\n",
              "    </tr>\n",
              "    <tr>\n",
              "      <th>9810</th>\n",
              "      <td>5</td>\n",
              "      <td>2</td>\n",
              "      <td>2</td>\n",
              "      <td>2</td>\n",
              "      <td>2</td>\n",
              "    </tr>\n",
              "    <tr>\n",
              "      <th>31701</th>\n",
              "      <td>2</td>\n",
              "      <td>2</td>\n",
              "      <td>2</td>\n",
              "      <td>2</td>\n",
              "      <td>2</td>\n",
              "    </tr>\n",
              "    <tr>\n",
              "      <th>30083</th>\n",
              "      <td>5</td>\n",
              "      <td>2</td>\n",
              "      <td>2</td>\n",
              "      <td>2</td>\n",
              "      <td>2</td>\n",
              "    </tr>\n",
              "    <tr>\n",
              "      <th>35364</th>\n",
              "      <td>2</td>\n",
              "      <td>2</td>\n",
              "      <td>2</td>\n",
              "      <td>2</td>\n",
              "      <td>2</td>\n",
              "    </tr>\n",
              "    <tr>\n",
              "      <th>54220</th>\n",
              "      <td>0</td>\n",
              "      <td>1</td>\n",
              "      <td>0</td>\n",
              "      <td>0</td>\n",
              "      <td>0</td>\n",
              "    </tr>\n",
              "    <tr>\n",
              "      <th>43515</th>\n",
              "      <td>2</td>\n",
              "      <td>2</td>\n",
              "      <td>2</td>\n",
              "      <td>2</td>\n",
              "      <td>2</td>\n",
              "    </tr>\n",
              "    <tr>\n",
              "      <th>74278</th>\n",
              "      <td>2</td>\n",
              "      <td>2</td>\n",
              "      <td>2</td>\n",
              "      <td>2</td>\n",
              "      <td>2</td>\n",
              "    </tr>\n",
              "    <tr>\n",
              "      <th>84538</th>\n",
              "      <td>2</td>\n",
              "      <td>2</td>\n",
              "      <td>2</td>\n",
              "      <td>2</td>\n",
              "      <td>2</td>\n",
              "    </tr>\n",
              "    <tr>\n",
              "      <th>63413</th>\n",
              "      <td>0</td>\n",
              "      <td>0</td>\n",
              "      <td>2</td>\n",
              "      <td>0</td>\n",
              "      <td>0</td>\n",
              "    </tr>\n",
              "    <tr>\n",
              "      <th>73835</th>\n",
              "      <td>2</td>\n",
              "      <td>0</td>\n",
              "      <td>0</td>\n",
              "      <td>2</td>\n",
              "      <td>0</td>\n",
              "    </tr>\n",
              "    <tr>\n",
              "      <th>22477</th>\n",
              "      <td>2</td>\n",
              "      <td>2</td>\n",
              "      <td>2</td>\n",
              "      <td>2</td>\n",
              "      <td>2</td>\n",
              "    </tr>\n",
              "    <tr>\n",
              "      <th>78638</th>\n",
              "      <td>2</td>\n",
              "      <td>2</td>\n",
              "      <td>2</td>\n",
              "      <td>2</td>\n",
              "      <td>2</td>\n",
              "    </tr>\n",
              "    <tr>\n",
              "      <th>82781</th>\n",
              "      <td>2</td>\n",
              "      <td>2</td>\n",
              "      <td>2</td>\n",
              "      <td>2</td>\n",
              "      <td>2</td>\n",
              "    </tr>\n",
              "    <tr>\n",
              "      <th>61443</th>\n",
              "      <td>5</td>\n",
              "      <td>5</td>\n",
              "      <td>5</td>\n",
              "      <td>0</td>\n",
              "      <td>2</td>\n",
              "    </tr>\n",
              "    <tr>\n",
              "      <th>41007</th>\n",
              "      <td>5</td>\n",
              "      <td>5</td>\n",
              "      <td>5</td>\n",
              "      <td>5</td>\n",
              "      <td>5</td>\n",
              "    </tr>\n",
              "    <tr>\n",
              "      <th>32868</th>\n",
              "      <td>2</td>\n",
              "      <td>2</td>\n",
              "      <td>2</td>\n",
              "      <td>2</td>\n",
              "      <td>2</td>\n",
              "    </tr>\n",
              "    <tr>\n",
              "      <th>89113</th>\n",
              "      <td>2</td>\n",
              "      <td>2</td>\n",
              "      <td>2</td>\n",
              "      <td>2</td>\n",
              "      <td>2</td>\n",
              "    </tr>\n",
              "    <tr>\n",
              "      <th>49905</th>\n",
              "      <td>2</td>\n",
              "      <td>2</td>\n",
              "      <td>2</td>\n",
              "      <td>2</td>\n",
              "      <td>2</td>\n",
              "    </tr>\n",
              "    <tr>\n",
              "      <th>15702</th>\n",
              "      <td>5</td>\n",
              "      <td>2</td>\n",
              "      <td>2</td>\n",
              "      <td>2</td>\n",
              "      <td>0</td>\n",
              "    </tr>\n",
              "    <tr>\n",
              "      <th>6234</th>\n",
              "      <td>2</td>\n",
              "      <td>2</td>\n",
              "      <td>2</td>\n",
              "      <td>2</td>\n",
              "      <td>2</td>\n",
              "    </tr>\n",
              "    <tr>\n",
              "      <th>32555</th>\n",
              "      <td>2</td>\n",
              "      <td>2</td>\n",
              "      <td>2</td>\n",
              "      <td>2</td>\n",
              "      <td>2</td>\n",
              "    </tr>\n",
              "    <tr>\n",
              "      <th>18392</th>\n",
              "      <td>2</td>\n",
              "      <td>2</td>\n",
              "      <td>2</td>\n",
              "      <td>2</td>\n",
              "      <td>1</td>\n",
              "    </tr>\n",
              "  </tbody>\n",
              "</table>\n",
              "</div>"
            ],
            "text/plain": [
              "       0  1  2  3  4\n",
              "61588  5  5  5  0  5\n",
              "32912  2  2  2  2  2\n",
              "66937  2  2  2  2  2\n",
              "21929  2  2  2  2  2\n",
              "27053  2  2  1  0  2\n",
              "57157  2  2  2  2  2\n",
              "28521  2  2  0  0  0\n",
              "53182  5  5  5  0  2\n",
              "64435  2  2  2  2  1\n",
              "54924  2  2  2  2  2\n",
              "45275  2  2  2  2  2\n",
              "54614  2  2  2  2  2\n",
              "73513  3  2  0  0  0\n",
              "7859   5  2  2  2  2\n",
              "29125  2  2  2  2  2\n",
              "7450   5  2  2  2  2\n",
              "34894  2  2  2  2  2\n",
              "10705  5  2  2  2  2\n",
              "14964  2  2  2  2  2\n",
              "21341  2  2  2  2  2\n",
              "9800   2  2  2  2  2\n",
              "84493  2  2  2  2  2\n",
              "67444  2  2  2  2  2\n",
              "59882  2  2  2  2  2\n",
              "51598  2  2  2  9  2\n",
              "29681  0  0  0  0  0\n",
              "48763  2  2  0  0  0\n",
              "32864  2  2  2  2  2\n",
              "9810   5  2  2  2  2\n",
              "31701  2  2  2  2  2\n",
              "30083  5  2  2  2  2\n",
              "35364  2  2  2  2  2\n",
              "54220  0  1  0  0  0\n",
              "43515  2  2  2  2  2\n",
              "74278  2  2  2  2  2\n",
              "84538  2  2  2  2  2\n",
              "63413  0  0  2  0  0\n",
              "73835  2  0  0  2  0\n",
              "22477  2  2  2  2  2\n",
              "78638  2  2  2  2  2\n",
              "82781  2  2  2  2  2\n",
              "61443  5  5  5  0  2\n",
              "41007  5  5  5  5  5\n",
              "32868  2  2  2  2  2\n",
              "89113  2  2  2  2  2\n",
              "49905  2  2  2  2  2\n",
              "15702  5  2  2  2  0\n",
              "6234   2  2  2  2  2\n",
              "32555  2  2  2  2  2\n",
              "18392  2  2  2  2  1"
            ]
          },
          "metadata": {
            "tags": []
          },
          "execution_count": 46
        }
      ]
    },
    {
      "cell_type": "code",
      "metadata": {
        "id": "w4HXtZnWUFBY",
        "colab": {
          "base_uri": "https://localhost:8080/",
          "height": 1000
        },
        "outputId": "77aae114-8a93-4f50-fbe2-95f036981396"
      },
      "source": [
        " \n",
        "nr.seed(33)\n",
        "pd.DataFrame(valid2_lithology).sample(50)"
      ],
      "execution_count": null,
      "outputs": [
        {
          "output_type": "execute_result",
          "data": {
            "text/html": [
              "<div>\n",
              "<style scoped>\n",
              "    .dataframe tbody tr th:only-of-type {\n",
              "        vertical-align: middle;\n",
              "    }\n",
              "\n",
              "    .dataframe tbody tr th {\n",
              "        vertical-align: top;\n",
              "    }\n",
              "\n",
              "    .dataframe thead th {\n",
              "        text-align: right;\n",
              "    }\n",
              "</style>\n",
              "<table border=\"1\" class=\"dataframe\">\n",
              "  <thead>\n",
              "    <tr style=\"text-align: right;\">\n",
              "      <th></th>\n",
              "      <th>FORCE_2020_LITHOFACIES_LITHOLOGY</th>\n",
              "    </tr>\n",
              "  </thead>\n",
              "  <tbody>\n",
              "    <tr>\n",
              "      <th>61588</th>\n",
              "      <td>5</td>\n",
              "    </tr>\n",
              "    <tr>\n",
              "      <th>32912</th>\n",
              "      <td>2</td>\n",
              "    </tr>\n",
              "    <tr>\n",
              "      <th>66937</th>\n",
              "      <td>2</td>\n",
              "    </tr>\n",
              "    <tr>\n",
              "      <th>21929</th>\n",
              "      <td>9</td>\n",
              "    </tr>\n",
              "    <tr>\n",
              "      <th>27053</th>\n",
              "      <td>0</td>\n",
              "    </tr>\n",
              "    <tr>\n",
              "      <th>57157</th>\n",
              "      <td>2</td>\n",
              "    </tr>\n",
              "    <tr>\n",
              "      <th>28521</th>\n",
              "      <td>0</td>\n",
              "    </tr>\n",
              "    <tr>\n",
              "      <th>53182</th>\n",
              "      <td>6</td>\n",
              "    </tr>\n",
              "    <tr>\n",
              "      <th>64435</th>\n",
              "      <td>1</td>\n",
              "    </tr>\n",
              "    <tr>\n",
              "      <th>54924</th>\n",
              "      <td>2</td>\n",
              "    </tr>\n",
              "    <tr>\n",
              "      <th>45275</th>\n",
              "      <td>2</td>\n",
              "    </tr>\n",
              "    <tr>\n",
              "      <th>54614</th>\n",
              "      <td>2</td>\n",
              "    </tr>\n",
              "    <tr>\n",
              "      <th>73513</th>\n",
              "      <td>0</td>\n",
              "    </tr>\n",
              "    <tr>\n",
              "      <th>7859</th>\n",
              "      <td>2</td>\n",
              "    </tr>\n",
              "    <tr>\n",
              "      <th>29125</th>\n",
              "      <td>2</td>\n",
              "    </tr>\n",
              "    <tr>\n",
              "      <th>7450</th>\n",
              "      <td>2</td>\n",
              "    </tr>\n",
              "    <tr>\n",
              "      <th>34894</th>\n",
              "      <td>2</td>\n",
              "    </tr>\n",
              "    <tr>\n",
              "      <th>10705</th>\n",
              "      <td>3</td>\n",
              "    </tr>\n",
              "    <tr>\n",
              "      <th>14964</th>\n",
              "      <td>1</td>\n",
              "    </tr>\n",
              "    <tr>\n",
              "      <th>21341</th>\n",
              "      <td>2</td>\n",
              "    </tr>\n",
              "    <tr>\n",
              "      <th>9800</th>\n",
              "      <td>3</td>\n",
              "    </tr>\n",
              "    <tr>\n",
              "      <th>84493</th>\n",
              "      <td>2</td>\n",
              "    </tr>\n",
              "    <tr>\n",
              "      <th>67444</th>\n",
              "      <td>2</td>\n",
              "    </tr>\n",
              "    <tr>\n",
              "      <th>59882</th>\n",
              "      <td>2</td>\n",
              "    </tr>\n",
              "    <tr>\n",
              "      <th>51598</th>\n",
              "      <td>2</td>\n",
              "    </tr>\n",
              "    <tr>\n",
              "      <th>29681</th>\n",
              "      <td>0</td>\n",
              "    </tr>\n",
              "    <tr>\n",
              "      <th>48763</th>\n",
              "      <td>0</td>\n",
              "    </tr>\n",
              "    <tr>\n",
              "      <th>32864</th>\n",
              "      <td>2</td>\n",
              "    </tr>\n",
              "    <tr>\n",
              "      <th>9810</th>\n",
              "      <td>3</td>\n",
              "    </tr>\n",
              "    <tr>\n",
              "      <th>31701</th>\n",
              "      <td>2</td>\n",
              "    </tr>\n",
              "    <tr>\n",
              "      <th>30083</th>\n",
              "      <td>2</td>\n",
              "    </tr>\n",
              "    <tr>\n",
              "      <th>35364</th>\n",
              "      <td>2</td>\n",
              "    </tr>\n",
              "    <tr>\n",
              "      <th>54220</th>\n",
              "      <td>1</td>\n",
              "    </tr>\n",
              "    <tr>\n",
              "      <th>43515</th>\n",
              "      <td>2</td>\n",
              "    </tr>\n",
              "    <tr>\n",
              "      <th>74278</th>\n",
              "      <td>2</td>\n",
              "    </tr>\n",
              "    <tr>\n",
              "      <th>84538</th>\n",
              "      <td>2</td>\n",
              "    </tr>\n",
              "    <tr>\n",
              "      <th>63413</th>\n",
              "      <td>1</td>\n",
              "    </tr>\n",
              "    <tr>\n",
              "      <th>73835</th>\n",
              "      <td>2</td>\n",
              "    </tr>\n",
              "    <tr>\n",
              "      <th>22477</th>\n",
              "      <td>9</td>\n",
              "    </tr>\n",
              "    <tr>\n",
              "      <th>78638</th>\n",
              "      <td>2</td>\n",
              "    </tr>\n",
              "    <tr>\n",
              "      <th>82781</th>\n",
              "      <td>2</td>\n",
              "    </tr>\n",
              "    <tr>\n",
              "      <th>61443</th>\n",
              "      <td>5</td>\n",
              "    </tr>\n",
              "    <tr>\n",
              "      <th>41007</th>\n",
              "      <td>5</td>\n",
              "    </tr>\n",
              "    <tr>\n",
              "      <th>32868</th>\n",
              "      <td>2</td>\n",
              "    </tr>\n",
              "    <tr>\n",
              "      <th>89113</th>\n",
              "      <td>2</td>\n",
              "    </tr>\n",
              "    <tr>\n",
              "      <th>49905</th>\n",
              "      <td>2</td>\n",
              "    </tr>\n",
              "    <tr>\n",
              "      <th>15702</th>\n",
              "      <td>0</td>\n",
              "    </tr>\n",
              "    <tr>\n",
              "      <th>6234</th>\n",
              "      <td>2</td>\n",
              "    </tr>\n",
              "    <tr>\n",
              "      <th>32555</th>\n",
              "      <td>2</td>\n",
              "    </tr>\n",
              "    <tr>\n",
              "      <th>18392</th>\n",
              "      <td>1</td>\n",
              "    </tr>\n",
              "  </tbody>\n",
              "</table>\n",
              "</div>"
            ],
            "text/plain": [
              "       FORCE_2020_LITHOFACIES_LITHOLOGY\n",
              "61588                                 5\n",
              "32912                                 2\n",
              "66937                                 2\n",
              "21929                                 9\n",
              "27053                                 0\n",
              "57157                                 2\n",
              "28521                                 0\n",
              "53182                                 6\n",
              "64435                                 1\n",
              "54924                                 2\n",
              "45275                                 2\n",
              "54614                                 2\n",
              "73513                                 0\n",
              "7859                                  2\n",
              "29125                                 2\n",
              "7450                                  2\n",
              "34894                                 2\n",
              "10705                                 3\n",
              "14964                                 1\n",
              "21341                                 2\n",
              "9800                                  3\n",
              "84493                                 2\n",
              "67444                                 2\n",
              "59882                                 2\n",
              "51598                                 2\n",
              "29681                                 0\n",
              "48763                                 0\n",
              "32864                                 2\n",
              "9810                                  3\n",
              "31701                                 2\n",
              "30083                                 2\n",
              "35364                                 2\n",
              "54220                                 1\n",
              "43515                                 2\n",
              "74278                                 2\n",
              "84538                                 2\n",
              "63413                                 1\n",
              "73835                                 2\n",
              "22477                                 9\n",
              "78638                                 2\n",
              "82781                                 2\n",
              "61443                                 5\n",
              "41007                                 5\n",
              "32868                                 2\n",
              "89113                                 2\n",
              "49905                                 2\n",
              "15702                                 0\n",
              "6234                                  2\n",
              "32555                                 2\n",
              "18392                                 1"
            ]
          },
          "metadata": {
            "tags": []
          },
          "execution_count": 47
        }
      ]
    },
    {
      "cell_type": "code",
      "metadata": {
        "id": "h6C5IRIoJUpH",
        "colab": {
          "base_uri": "https://localhost:8080/",
          "height": 1000
        },
        "outputId": "2b985607-d1ff-430f-c417-2e0807963042"
      },
      "source": [
        "meta_model = RandomForestClassifier(n_estimators=50, random_state=42, class_weight='balanced', verbose=2)\n",
        "meta_model.fit(stack, valid_target)\n",
        "final_open_pred1 = meta_model.predict(stack_p)\n",
        "final_open_pred11 = meta_model.predict(stack_open)\n",
        "final_open_pred111 = meta_model.predict(stack_open1)"
      ],
      "execution_count": null,
      "outputs": [
        {
          "output_type": "stream",
          "text": [
            "[Parallel(n_jobs=1)]: Using backend SequentialBackend with 1 concurrent workers.\n",
            "[Parallel(n_jobs=1)]: Done   1 out of   1 | elapsed:    0.1s remaining:    0.0s\n"
          ],
          "name": "stderr"
        },
        {
          "output_type": "stream",
          "text": [
            "building tree 1 of 50\n",
            "building tree 2 of 50\n",
            "building tree 3 of 50\n",
            "building tree 4 of 50\n",
            "building tree 5 of 50\n",
            "building tree 6 of 50\n",
            "building tree 7 of 50\n",
            "building tree 8 of 50\n",
            "building tree 9 of 50\n",
            "building tree 10 of 50\n",
            "building tree 11 of 50\n",
            "building tree 12 of 50\n",
            "building tree 13 of 50\n",
            "building tree 14 of 50\n",
            "building tree 15 of 50\n",
            "building tree 16 of 50\n",
            "building tree 17 of 50\n",
            "building tree 18 of 50\n",
            "building tree 19 of 50\n",
            "building tree 20 of 50\n",
            "building tree 21 of 50\n",
            "building tree 22 of 50\n",
            "building tree 23 of 50\n",
            "building tree 24 of 50\n",
            "building tree 25 of 50\n",
            "building tree 26 of 50\n",
            "building tree 27 of 50\n",
            "building tree 28 of 50\n",
            "building tree 29 of 50\n",
            "building tree 30 of 50\n",
            "building tree 31 of 50\n",
            "building tree 32 of 50\n",
            "building tree 33 of 50\n",
            "building tree 34 of 50\n",
            "building tree 35 of 50\n",
            "building tree 36 of 50\n",
            "building tree 37 of 50\n",
            "building tree 38 of 50\n",
            "building tree 39 of 50\n",
            "building tree 40 of 50\n",
            "building tree 41 of 50\n",
            "building tree 42 of 50\n",
            "building tree 43 of 50\n",
            "building tree 44 of 50\n",
            "building tree 45 of 50\n",
            "building tree 46 of 50\n",
            "building tree 47 of 50\n",
            "building tree 48 of 50\n",
            "building tree 49 of 50\n",
            "building tree 50 of 50\n"
          ],
          "name": "stdout"
        },
        {
          "output_type": "stream",
          "text": [
            "[Parallel(n_jobs=1)]: Done  50 out of  50 | elapsed:    3.6s finished\n",
            "[Parallel(n_jobs=1)]: Using backend SequentialBackend with 1 concurrent workers.\n",
            "[Parallel(n_jobs=1)]: Done   1 out of   1 | elapsed:    0.0s remaining:    0.0s\n",
            "[Parallel(n_jobs=1)]: Done  50 out of  50 | elapsed:    0.7s finished\n",
            "[Parallel(n_jobs=1)]: Using backend SequentialBackend with 1 concurrent workers.\n",
            "[Parallel(n_jobs=1)]: Done   1 out of   1 | elapsed:    0.0s remaining:    0.0s\n",
            "[Parallel(n_jobs=1)]: Done  50 out of  50 | elapsed:    0.6s finished\n",
            "[Parallel(n_jobs=1)]: Using backend SequentialBackend with 1 concurrent workers.\n",
            "[Parallel(n_jobs=1)]: Done   1 out of   1 | elapsed:    0.0s remaining:    0.0s\n",
            "[Parallel(n_jobs=1)]: Done  50 out of  50 | elapsed:    1.3s finished\n"
          ],
          "name": "stderr"
        }
      ]
    },
    {
      "cell_type": "code",
      "metadata": {
        "id": "_i-lltkaJVIN",
        "colab": {
          "base_uri": "https://localhost:8080/",
          "height": 1000
        },
        "outputId": "57a592e3-1dc9-4e79-b40b-81b036422dcc"
      },
      "source": [
        "meta_model = ExtraTreesClassifier(n_estimators=50, random_state=42, class_weight='balanced', verbose=2)\n",
        "meta_model.fit(stack, valid_target)\n",
        "final_open_pred2 = meta_model.predict(stack_p)\n",
        "final_open_pred22 = meta_model.predict(stack_open)\n",
        "final_open_pred222 = meta_model.predict(stack_open1)"
      ],
      "execution_count": null,
      "outputs": [
        {
          "output_type": "stream",
          "text": [
            "[Parallel(n_jobs=1)]: Using backend SequentialBackend with 1 concurrent workers.\n",
            "[Parallel(n_jobs=1)]: Done   1 out of   1 | elapsed:    0.1s remaining:    0.0s\n"
          ],
          "name": "stderr"
        },
        {
          "output_type": "stream",
          "text": [
            "building tree 1 of 50\n",
            "building tree 2 of 50\n",
            "building tree 3 of 50\n",
            "building tree 4 of 50\n",
            "building tree 5 of 50\n",
            "building tree 6 of 50\n",
            "building tree 7 of 50\n",
            "building tree 8 of 50\n",
            "building tree 9 of 50\n",
            "building tree 10 of 50\n",
            "building tree 11 of 50\n",
            "building tree 12 of 50\n",
            "building tree 13 of 50\n",
            "building tree 14 of 50\n",
            "building tree 15 of 50\n",
            "building tree 16 of 50\n",
            "building tree 17 of 50\n",
            "building tree 18 of 50\n",
            "building tree 19 of 50\n",
            "building tree 20 of 50\n",
            "building tree 21 of 50\n",
            "building tree 22 of 50\n",
            "building tree 23 of 50\n",
            "building tree 24 of 50\n",
            "building tree 25 of 50\n",
            "building tree 26 of 50\n",
            "building tree 27 of 50\n",
            "building tree 28 of 50\n",
            "building tree 29 of 50\n",
            "building tree 30 of 50\n",
            "building tree 31 of 50\n",
            "building tree 32 of 50\n",
            "building tree 33 of 50\n",
            "building tree 34 of 50\n",
            "building tree 35 of 50\n",
            "building tree 36 of 50\n",
            "building tree 37 of 50\n",
            "building tree 38 of 50\n",
            "building tree 39 of 50\n",
            "building tree 40 of 50\n",
            "building tree 41 of 50\n",
            "building tree 42 of 50\n",
            "building tree 43 of 50\n",
            "building tree 44 of 50\n",
            "building tree 45 of 50\n",
            "building tree 46 of 50\n",
            "building tree 47 of 50\n",
            "building tree 48 of 50\n",
            "building tree 49 of 50\n",
            "building tree 50 of 50\n"
          ],
          "name": "stdout"
        },
        {
          "output_type": "stream",
          "text": [
            "[Parallel(n_jobs=1)]: Done  50 out of  50 | elapsed:    3.3s finished\n",
            "[Parallel(n_jobs=1)]: Using backend SequentialBackend with 1 concurrent workers.\n",
            "[Parallel(n_jobs=1)]: Done   1 out of   1 | elapsed:    0.0s remaining:    0.0s\n",
            "[Parallel(n_jobs=1)]: Done  50 out of  50 | elapsed:    0.6s finished\n",
            "[Parallel(n_jobs=1)]: Using backend SequentialBackend with 1 concurrent workers.\n",
            "[Parallel(n_jobs=1)]: Done   1 out of   1 | elapsed:    0.0s remaining:    0.0s\n",
            "[Parallel(n_jobs=1)]: Done  50 out of  50 | elapsed:    0.6s finished\n",
            "[Parallel(n_jobs=1)]: Using backend SequentialBackend with 1 concurrent workers.\n",
            "[Parallel(n_jobs=1)]: Done   1 out of   1 | elapsed:    0.0s remaining:    0.0s\n",
            "[Parallel(n_jobs=1)]: Done  50 out of  50 | elapsed:    1.3s finished\n"
          ],
          "name": "stderr"
        }
      ]
    },
    {
      "cell_type": "code",
      "metadata": {
        "id": "KJskXNzrJVhQ"
      },
      "source": [
        "meta_model = XGBClassifier(n_estimators=300, max_depth=7, \n",
        "                      objective='multi:softmax', learning_rate=0.1,\n",
        "                      subsample=0.9, col_sample_bytree=0.9, tree_method='gpu_hist',\n",
        "                      eval_metric='mlogloss', verbose=2020)\n",
        "meta_model.fit(stack, valid_target, verbose=50)\n",
        "final_open_pred3 = meta_model.predict(stack_p)\n",
        "final_open_pred33 = meta_model.predict(stack_open)\n",
        "final_open_pred333 = meta_model.predict(stack_open1)"
      ],
      "execution_count": null,
      "outputs": []
    },
    {
      "cell_type": "code",
      "metadata": {
        "id": "lyJLnaIEKoBa"
      },
      "source": [
        "new_stack = np.column_stack((pred1, pred2, pred4))\n",
        "new_stack_p = np.column_stack((final_open_pred1, final_open_pred2, final_open_pred3))\n",
        "new_stack_open = np.column_stack((final_open_pred11, final_open_pred22, final_open_pred33))\n",
        "new_stack_open1 = np.column_stack((final_open_pred111, final_open_pred222, final_open_pred333))"
      ],
      "execution_count": null,
      "outputs": []
    },
    {
      "cell_type": "code",
      "metadata": {
        "id": "npuBoRxXQRrz",
        "colab": {
          "base_uri": "https://localhost:8080/",
          "height": 1000
        },
        "outputId": "48c61d08-3eb1-400e-cfe7-fa0310c56f82"
      },
      "source": [
        "pd.DataFrame(new_stack_p).head(50)"
      ],
      "execution_count": null,
      "outputs": [
        {
          "output_type": "execute_result",
          "data": {
            "text/html": [
              "<div>\n",
              "<style scoped>\n",
              "    .dataframe tbody tr th:only-of-type {\n",
              "        vertical-align: middle;\n",
              "    }\n",
              "\n",
              "    .dataframe tbody tr th {\n",
              "        vertical-align: top;\n",
              "    }\n",
              "\n",
              "    .dataframe thead th {\n",
              "        text-align: right;\n",
              "    }\n",
              "</style>\n",
              "<table border=\"1\" class=\"dataframe\">\n",
              "  <thead>\n",
              "    <tr style=\"text-align: right;\">\n",
              "      <th></th>\n",
              "      <th>0</th>\n",
              "      <th>1</th>\n",
              "      <th>2</th>\n",
              "    </tr>\n",
              "  </thead>\n",
              "  <tbody>\n",
              "    <tr>\n",
              "      <th>0</th>\n",
              "      <td>0</td>\n",
              "      <td>0</td>\n",
              "      <td>0</td>\n",
              "    </tr>\n",
              "    <tr>\n",
              "      <th>1</th>\n",
              "      <td>0</td>\n",
              "      <td>0</td>\n",
              "      <td>0</td>\n",
              "    </tr>\n",
              "    <tr>\n",
              "      <th>2</th>\n",
              "      <td>0</td>\n",
              "      <td>0</td>\n",
              "      <td>0</td>\n",
              "    </tr>\n",
              "    <tr>\n",
              "      <th>3</th>\n",
              "      <td>0</td>\n",
              "      <td>0</td>\n",
              "      <td>0</td>\n",
              "    </tr>\n",
              "    <tr>\n",
              "      <th>4</th>\n",
              "      <td>0</td>\n",
              "      <td>0</td>\n",
              "      <td>0</td>\n",
              "    </tr>\n",
              "    <tr>\n",
              "      <th>5</th>\n",
              "      <td>0</td>\n",
              "      <td>0</td>\n",
              "      <td>0</td>\n",
              "    </tr>\n",
              "    <tr>\n",
              "      <th>6</th>\n",
              "      <td>0</td>\n",
              "      <td>0</td>\n",
              "      <td>0</td>\n",
              "    </tr>\n",
              "    <tr>\n",
              "      <th>7</th>\n",
              "      <td>0</td>\n",
              "      <td>0</td>\n",
              "      <td>0</td>\n",
              "    </tr>\n",
              "    <tr>\n",
              "      <th>8</th>\n",
              "      <td>0</td>\n",
              "      <td>0</td>\n",
              "      <td>0</td>\n",
              "    </tr>\n",
              "    <tr>\n",
              "      <th>9</th>\n",
              "      <td>0</td>\n",
              "      <td>0</td>\n",
              "      <td>0</td>\n",
              "    </tr>\n",
              "    <tr>\n",
              "      <th>10</th>\n",
              "      <td>0</td>\n",
              "      <td>0</td>\n",
              "      <td>0</td>\n",
              "    </tr>\n",
              "    <tr>\n",
              "      <th>11</th>\n",
              "      <td>0</td>\n",
              "      <td>0</td>\n",
              "      <td>0</td>\n",
              "    </tr>\n",
              "    <tr>\n",
              "      <th>12</th>\n",
              "      <td>0</td>\n",
              "      <td>0</td>\n",
              "      <td>0</td>\n",
              "    </tr>\n",
              "    <tr>\n",
              "      <th>13</th>\n",
              "      <td>0</td>\n",
              "      <td>0</td>\n",
              "      <td>0</td>\n",
              "    </tr>\n",
              "    <tr>\n",
              "      <th>14</th>\n",
              "      <td>0</td>\n",
              "      <td>0</td>\n",
              "      <td>0</td>\n",
              "    </tr>\n",
              "    <tr>\n",
              "      <th>15</th>\n",
              "      <td>0</td>\n",
              "      <td>0</td>\n",
              "      <td>0</td>\n",
              "    </tr>\n",
              "    <tr>\n",
              "      <th>16</th>\n",
              "      <td>0</td>\n",
              "      <td>0</td>\n",
              "      <td>0</td>\n",
              "    </tr>\n",
              "    <tr>\n",
              "      <th>17</th>\n",
              "      <td>0</td>\n",
              "      <td>0</td>\n",
              "      <td>0</td>\n",
              "    </tr>\n",
              "    <tr>\n",
              "      <th>18</th>\n",
              "      <td>0</td>\n",
              "      <td>0</td>\n",
              "      <td>0</td>\n",
              "    </tr>\n",
              "    <tr>\n",
              "      <th>19</th>\n",
              "      <td>0</td>\n",
              "      <td>0</td>\n",
              "      <td>0</td>\n",
              "    </tr>\n",
              "    <tr>\n",
              "      <th>20</th>\n",
              "      <td>0</td>\n",
              "      <td>0</td>\n",
              "      <td>0</td>\n",
              "    </tr>\n",
              "    <tr>\n",
              "      <th>21</th>\n",
              "      <td>0</td>\n",
              "      <td>0</td>\n",
              "      <td>0</td>\n",
              "    </tr>\n",
              "    <tr>\n",
              "      <th>22</th>\n",
              "      <td>0</td>\n",
              "      <td>0</td>\n",
              "      <td>0</td>\n",
              "    </tr>\n",
              "    <tr>\n",
              "      <th>23</th>\n",
              "      <td>0</td>\n",
              "      <td>0</td>\n",
              "      <td>0</td>\n",
              "    </tr>\n",
              "    <tr>\n",
              "      <th>24</th>\n",
              "      <td>0</td>\n",
              "      <td>0</td>\n",
              "      <td>0</td>\n",
              "    </tr>\n",
              "    <tr>\n",
              "      <th>25</th>\n",
              "      <td>0</td>\n",
              "      <td>0</td>\n",
              "      <td>2</td>\n",
              "    </tr>\n",
              "    <tr>\n",
              "      <th>26</th>\n",
              "      <td>0</td>\n",
              "      <td>0</td>\n",
              "      <td>0</td>\n",
              "    </tr>\n",
              "    <tr>\n",
              "      <th>27</th>\n",
              "      <td>0</td>\n",
              "      <td>0</td>\n",
              "      <td>2</td>\n",
              "    </tr>\n",
              "    <tr>\n",
              "      <th>28</th>\n",
              "      <td>0</td>\n",
              "      <td>0</td>\n",
              "      <td>2</td>\n",
              "    </tr>\n",
              "    <tr>\n",
              "      <th>29</th>\n",
              "      <td>0</td>\n",
              "      <td>0</td>\n",
              "      <td>2</td>\n",
              "    </tr>\n",
              "    <tr>\n",
              "      <th>30</th>\n",
              "      <td>0</td>\n",
              "      <td>0</td>\n",
              "      <td>2</td>\n",
              "    </tr>\n",
              "    <tr>\n",
              "      <th>31</th>\n",
              "      <td>0</td>\n",
              "      <td>0</td>\n",
              "      <td>2</td>\n",
              "    </tr>\n",
              "    <tr>\n",
              "      <th>32</th>\n",
              "      <td>0</td>\n",
              "      <td>0</td>\n",
              "      <td>2</td>\n",
              "    </tr>\n",
              "    <tr>\n",
              "      <th>33</th>\n",
              "      <td>0</td>\n",
              "      <td>0</td>\n",
              "      <td>2</td>\n",
              "    </tr>\n",
              "    <tr>\n",
              "      <th>34</th>\n",
              "      <td>0</td>\n",
              "      <td>0</td>\n",
              "      <td>2</td>\n",
              "    </tr>\n",
              "    <tr>\n",
              "      <th>35</th>\n",
              "      <td>0</td>\n",
              "      <td>0</td>\n",
              "      <td>2</td>\n",
              "    </tr>\n",
              "    <tr>\n",
              "      <th>36</th>\n",
              "      <td>0</td>\n",
              "      <td>0</td>\n",
              "      <td>2</td>\n",
              "    </tr>\n",
              "    <tr>\n",
              "      <th>37</th>\n",
              "      <td>2</td>\n",
              "      <td>2</td>\n",
              "      <td>2</td>\n",
              "    </tr>\n",
              "    <tr>\n",
              "      <th>38</th>\n",
              "      <td>2</td>\n",
              "      <td>2</td>\n",
              "      <td>2</td>\n",
              "    </tr>\n",
              "    <tr>\n",
              "      <th>39</th>\n",
              "      <td>2</td>\n",
              "      <td>2</td>\n",
              "      <td>2</td>\n",
              "    </tr>\n",
              "    <tr>\n",
              "      <th>40</th>\n",
              "      <td>2</td>\n",
              "      <td>2</td>\n",
              "      <td>2</td>\n",
              "    </tr>\n",
              "    <tr>\n",
              "      <th>41</th>\n",
              "      <td>2</td>\n",
              "      <td>2</td>\n",
              "      <td>2</td>\n",
              "    </tr>\n",
              "    <tr>\n",
              "      <th>42</th>\n",
              "      <td>2</td>\n",
              "      <td>2</td>\n",
              "      <td>2</td>\n",
              "    </tr>\n",
              "    <tr>\n",
              "      <th>43</th>\n",
              "      <td>2</td>\n",
              "      <td>2</td>\n",
              "      <td>2</td>\n",
              "    </tr>\n",
              "    <tr>\n",
              "      <th>44</th>\n",
              "      <td>2</td>\n",
              "      <td>2</td>\n",
              "      <td>2</td>\n",
              "    </tr>\n",
              "    <tr>\n",
              "      <th>45</th>\n",
              "      <td>2</td>\n",
              "      <td>2</td>\n",
              "      <td>2</td>\n",
              "    </tr>\n",
              "    <tr>\n",
              "      <th>46</th>\n",
              "      <td>2</td>\n",
              "      <td>2</td>\n",
              "      <td>2</td>\n",
              "    </tr>\n",
              "    <tr>\n",
              "      <th>47</th>\n",
              "      <td>2</td>\n",
              "      <td>2</td>\n",
              "      <td>2</td>\n",
              "    </tr>\n",
              "    <tr>\n",
              "      <th>48</th>\n",
              "      <td>2</td>\n",
              "      <td>2</td>\n",
              "      <td>2</td>\n",
              "    </tr>\n",
              "    <tr>\n",
              "      <th>49</th>\n",
              "      <td>2</td>\n",
              "      <td>2</td>\n",
              "      <td>2</td>\n",
              "    </tr>\n",
              "  </tbody>\n",
              "</table>\n",
              "</div>"
            ],
            "text/plain": [
              "    0  1  2\n",
              "0   0  0  0\n",
              "1   0  0  0\n",
              "2   0  0  0\n",
              "3   0  0  0\n",
              "4   0  0  0\n",
              "5   0  0  0\n",
              "6   0  0  0\n",
              "7   0  0  0\n",
              "8   0  0  0\n",
              "9   0  0  0\n",
              "10  0  0  0\n",
              "11  0  0  0\n",
              "12  0  0  0\n",
              "13  0  0  0\n",
              "14  0  0  0\n",
              "15  0  0  0\n",
              "16  0  0  0\n",
              "17  0  0  0\n",
              "18  0  0  0\n",
              "19  0  0  0\n",
              "20  0  0  0\n",
              "21  0  0  0\n",
              "22  0  0  0\n",
              "23  0  0  0\n",
              "24  0  0  0\n",
              "25  0  0  2\n",
              "26  0  0  0\n",
              "27  0  0  2\n",
              "28  0  0  2\n",
              "29  0  0  2\n",
              "30  0  0  2\n",
              "31  0  0  2\n",
              "32  0  0  2\n",
              "33  0  0  2\n",
              "34  0  0  2\n",
              "35  0  0  2\n",
              "36  0  0  2\n",
              "37  2  2  2\n",
              "38  2  2  2\n",
              "39  2  2  2\n",
              "40  2  2  2\n",
              "41  2  2  2\n",
              "42  2  2  2\n",
              "43  2  2  2\n",
              "44  2  2  2\n",
              "45  2  2  2\n",
              "46  2  2  2\n",
              "47  2  2  2\n",
              "48  2  2  2\n",
              "49  2  2  2"
            ]
          },
          "metadata": {
            "tags": []
          },
          "execution_count": 32
        }
      ]
    },
    {
      "cell_type": "code",
      "metadata": {
        "id": "8DbmKLjCQYf6",
        "colab": {
          "base_uri": "https://localhost:8080/",
          "height": 1000
        },
        "outputId": "af32abb0-8424-4207-a570-b1414881bcb9"
      },
      "source": [
        "pd.DataFrame(valid1_lithology).head(50)"
      ],
      "execution_count": null,
      "outputs": [
        {
          "output_type": "execute_result",
          "data": {
            "text/html": [
              "<div>\n",
              "<style scoped>\n",
              "    .dataframe tbody tr th:only-of-type {\n",
              "        vertical-align: middle;\n",
              "    }\n",
              "\n",
              "    .dataframe tbody tr th {\n",
              "        vertical-align: top;\n",
              "    }\n",
              "\n",
              "    .dataframe thead th {\n",
              "        text-align: right;\n",
              "    }\n",
              "</style>\n",
              "<table border=\"1\" class=\"dataframe\">\n",
              "  <thead>\n",
              "    <tr style=\"text-align: right;\">\n",
              "      <th></th>\n",
              "      <th>FORCE_2020_LITHOFACIES_LITHOLOGY</th>\n",
              "    </tr>\n",
              "  </thead>\n",
              "  <tbody>\n",
              "    <tr>\n",
              "      <th>0</th>\n",
              "      <td>1</td>\n",
              "    </tr>\n",
              "    <tr>\n",
              "      <th>1</th>\n",
              "      <td>1</td>\n",
              "    </tr>\n",
              "    <tr>\n",
              "      <th>2</th>\n",
              "      <td>1</td>\n",
              "    </tr>\n",
              "    <tr>\n",
              "      <th>3</th>\n",
              "      <td>1</td>\n",
              "    </tr>\n",
              "    <tr>\n",
              "      <th>4</th>\n",
              "      <td>1</td>\n",
              "    </tr>\n",
              "    <tr>\n",
              "      <th>5</th>\n",
              "      <td>1</td>\n",
              "    </tr>\n",
              "    <tr>\n",
              "      <th>6</th>\n",
              "      <td>1</td>\n",
              "    </tr>\n",
              "    <tr>\n",
              "      <th>7</th>\n",
              "      <td>1</td>\n",
              "    </tr>\n",
              "    <tr>\n",
              "      <th>8</th>\n",
              "      <td>1</td>\n",
              "    </tr>\n",
              "    <tr>\n",
              "      <th>9</th>\n",
              "      <td>1</td>\n",
              "    </tr>\n",
              "    <tr>\n",
              "      <th>10</th>\n",
              "      <td>1</td>\n",
              "    </tr>\n",
              "    <tr>\n",
              "      <th>11</th>\n",
              "      <td>1</td>\n",
              "    </tr>\n",
              "    <tr>\n",
              "      <th>12</th>\n",
              "      <td>1</td>\n",
              "    </tr>\n",
              "    <tr>\n",
              "      <th>13</th>\n",
              "      <td>1</td>\n",
              "    </tr>\n",
              "    <tr>\n",
              "      <th>14</th>\n",
              "      <td>1</td>\n",
              "    </tr>\n",
              "    <tr>\n",
              "      <th>15</th>\n",
              "      <td>1</td>\n",
              "    </tr>\n",
              "    <tr>\n",
              "      <th>16</th>\n",
              "      <td>1</td>\n",
              "    </tr>\n",
              "    <tr>\n",
              "      <th>17</th>\n",
              "      <td>1</td>\n",
              "    </tr>\n",
              "    <tr>\n",
              "      <th>18</th>\n",
              "      <td>1</td>\n",
              "    </tr>\n",
              "    <tr>\n",
              "      <th>19</th>\n",
              "      <td>1</td>\n",
              "    </tr>\n",
              "    <tr>\n",
              "      <th>20</th>\n",
              "      <td>1</td>\n",
              "    </tr>\n",
              "    <tr>\n",
              "      <th>21</th>\n",
              "      <td>1</td>\n",
              "    </tr>\n",
              "    <tr>\n",
              "      <th>22</th>\n",
              "      <td>1</td>\n",
              "    </tr>\n",
              "    <tr>\n",
              "      <th>23</th>\n",
              "      <td>1</td>\n",
              "    </tr>\n",
              "    <tr>\n",
              "      <th>24</th>\n",
              "      <td>1</td>\n",
              "    </tr>\n",
              "    <tr>\n",
              "      <th>25</th>\n",
              "      <td>1</td>\n",
              "    </tr>\n",
              "    <tr>\n",
              "      <th>26</th>\n",
              "      <td>1</td>\n",
              "    </tr>\n",
              "    <tr>\n",
              "      <th>27</th>\n",
              "      <td>1</td>\n",
              "    </tr>\n",
              "    <tr>\n",
              "      <th>28</th>\n",
              "      <td>1</td>\n",
              "    </tr>\n",
              "    <tr>\n",
              "      <th>29</th>\n",
              "      <td>1</td>\n",
              "    </tr>\n",
              "    <tr>\n",
              "      <th>30</th>\n",
              "      <td>1</td>\n",
              "    </tr>\n",
              "    <tr>\n",
              "      <th>31</th>\n",
              "      <td>1</td>\n",
              "    </tr>\n",
              "    <tr>\n",
              "      <th>32</th>\n",
              "      <td>1</td>\n",
              "    </tr>\n",
              "    <tr>\n",
              "      <th>33</th>\n",
              "      <td>1</td>\n",
              "    </tr>\n",
              "    <tr>\n",
              "      <th>34</th>\n",
              "      <td>1</td>\n",
              "    </tr>\n",
              "    <tr>\n",
              "      <th>35</th>\n",
              "      <td>1</td>\n",
              "    </tr>\n",
              "    <tr>\n",
              "      <th>36</th>\n",
              "      <td>1</td>\n",
              "    </tr>\n",
              "    <tr>\n",
              "      <th>37</th>\n",
              "      <td>1</td>\n",
              "    </tr>\n",
              "    <tr>\n",
              "      <th>38</th>\n",
              "      <td>1</td>\n",
              "    </tr>\n",
              "    <tr>\n",
              "      <th>39</th>\n",
              "      <td>1</td>\n",
              "    </tr>\n",
              "    <tr>\n",
              "      <th>40</th>\n",
              "      <td>1</td>\n",
              "    </tr>\n",
              "    <tr>\n",
              "      <th>41</th>\n",
              "      <td>1</td>\n",
              "    </tr>\n",
              "    <tr>\n",
              "      <th>42</th>\n",
              "      <td>1</td>\n",
              "    </tr>\n",
              "    <tr>\n",
              "      <th>43</th>\n",
              "      <td>1</td>\n",
              "    </tr>\n",
              "    <tr>\n",
              "      <th>44</th>\n",
              "      <td>1</td>\n",
              "    </tr>\n",
              "    <tr>\n",
              "      <th>45</th>\n",
              "      <td>1</td>\n",
              "    </tr>\n",
              "    <tr>\n",
              "      <th>46</th>\n",
              "      <td>1</td>\n",
              "    </tr>\n",
              "    <tr>\n",
              "      <th>47</th>\n",
              "      <td>1</td>\n",
              "    </tr>\n",
              "    <tr>\n",
              "      <th>48</th>\n",
              "      <td>1</td>\n",
              "    </tr>\n",
              "    <tr>\n",
              "      <th>49</th>\n",
              "      <td>1</td>\n",
              "    </tr>\n",
              "  </tbody>\n",
              "</table>\n",
              "</div>"
            ],
            "text/plain": [
              "    FORCE_2020_LITHOFACIES_LITHOLOGY\n",
              "0                                  1\n",
              "1                                  1\n",
              "2                                  1\n",
              "3                                  1\n",
              "4                                  1\n",
              "5                                  1\n",
              "6                                  1\n",
              "7                                  1\n",
              "8                                  1\n",
              "9                                  1\n",
              "10                                 1\n",
              "11                                 1\n",
              "12                                 1\n",
              "13                                 1\n",
              "14                                 1\n",
              "15                                 1\n",
              "16                                 1\n",
              "17                                 1\n",
              "18                                 1\n",
              "19                                 1\n",
              "20                                 1\n",
              "21                                 1\n",
              "22                                 1\n",
              "23                                 1\n",
              "24                                 1\n",
              "25                                 1\n",
              "26                                 1\n",
              "27                                 1\n",
              "28                                 1\n",
              "29                                 1\n",
              "30                                 1\n",
              "31                                 1\n",
              "32                                 1\n",
              "33                                 1\n",
              "34                                 1\n",
              "35                                 1\n",
              "36                                 1\n",
              "37                                 1\n",
              "38                                 1\n",
              "39                                 1\n",
              "40                                 1\n",
              "41                                 1\n",
              "42                                 1\n",
              "43                                 1\n",
              "44                                 1\n",
              "45                                 1\n",
              "46                                 1\n",
              "47                                 1\n",
              "48                                 1\n",
              "49                                 1"
            ]
          },
          "metadata": {
            "tags": []
          },
          "execution_count": 34
        }
      ]
    },
    {
      "cell_type": "code",
      "metadata": {
        "id": "PZPDDcIrL9TY",
        "colab": {
          "base_uri": "https://localhost:8080/",
          "height": 506
        },
        "outputId": "032fea5d-b4c4-475b-b583-55997829576e"
      },
      "source": [
        "meta_model = LogisticRegression()\n",
        "#meta_model = RandomForestClassifier(n_estimators=50, random_state=42, class_weight='balanced', verbose=2)\n",
        "meta_model.fit(new_stack, valid_target)\n",
        "#final_val_pred = meta_model.predict(stack_p)\n",
        "final_open_pred = meta_model.predict(new_stack_p)\n",
        "final_open_pred1 = meta_model.predict(new_stack_open)\n",
        "final_open_pred11 = meta_model.predict(new_stack_open1) \n",
        "#print(show_evaluation(final_val_pred, valid2_lithology))"
      ],
      "execution_count": null,
      "outputs": [
        {
          "output_type": "error",
          "ename": "NameError",
          "evalue": "ignored",
          "traceback": [
            "\u001b[0;31m---------------------------------------------------------------------------\u001b[0m",
            "\u001b[0;31mNameError\u001b[0m                                 Traceback (most recent call last)",
            "\u001b[0;32m<ipython-input-43-68d7b63eb0aa>\u001b[0m in \u001b[0;36m<module>\u001b[0;34m()\u001b[0m\n\u001b[1;32m      1\u001b[0m \u001b[0mmeta_model\u001b[0m \u001b[0;34m=\u001b[0m \u001b[0mLogisticRegression\u001b[0m\u001b[0;34m(\u001b[0m\u001b[0;34m)\u001b[0m\u001b[0;34m\u001b[0m\u001b[0;34m\u001b[0m\u001b[0m\n\u001b[1;32m      2\u001b[0m \u001b[0;31m#meta_model = RandomForestClassifier(n_estimators=50, random_state=42, class_weight='balanced', verbose=2)\u001b[0m\u001b[0;34m\u001b[0m\u001b[0;34m\u001b[0m\u001b[0;34m\u001b[0m\u001b[0m\n\u001b[0;32m----> 3\u001b[0;31m \u001b[0mmeta_model\u001b[0m\u001b[0;34m.\u001b[0m\u001b[0mfit\u001b[0m\u001b[0;34m(\u001b[0m\u001b[0mnew_stack\u001b[0m\u001b[0;34m,\u001b[0m \u001b[0mvalid_target\u001b[0m\u001b[0;34m)\u001b[0m\u001b[0;34m\u001b[0m\u001b[0;34m\u001b[0m\u001b[0m\n\u001b[0m\u001b[1;32m      4\u001b[0m \u001b[0;31m#final_val_pred = meta_model.predict(stack_p)\u001b[0m\u001b[0;34m\u001b[0m\u001b[0;34m\u001b[0m\u001b[0;34m\u001b[0m\u001b[0m\n\u001b[1;32m      5\u001b[0m \u001b[0mfinal_open_pred\u001b[0m \u001b[0;34m=\u001b[0m \u001b[0mmeta_model\u001b[0m\u001b[0;34m.\u001b[0m\u001b[0mpredict\u001b[0m\u001b[0;34m(\u001b[0m\u001b[0mnew_stack_p\u001b[0m\u001b[0;34m)\u001b[0m\u001b[0;34m\u001b[0m\u001b[0;34m\u001b[0m\u001b[0m\n",
            "\u001b[0;31mNameError\u001b[0m: name 'new_stack' is not defined"
          ]
        }
      ]
    },
    {
      "cell_type": "code",
      "metadata": {
        "id": "q7fVhPIZbPRf"
      },
      "source": [
        "meta_model = LogisticRegression()\n",
        "meta_model = RandomForestClassifier(n_estimators=100, random_state=790, max_depth=11, class_weight='balanced')\n",
        "meta_model.fit(stack, valid_target)\n",
        "#final_val_pred = meta_model.predict(stack_p)\n",
        "final_open_pred = meta_model.predict(stack_p)\n",
        "final_open_pred1 = meta_model.predict(stack_open)\n",
        "final_open_pred11 = meta_model.predict(stack_open1)"
      ],
      "execution_count": null,
      "outputs": []
    },
    {
      "cell_type": "code",
      "metadata": {
        "id": "7tSQKDp2exEt",
        "colab": {
          "base_uri": "https://localhost:8080/",
          "height": 212
        },
        "outputId": "7d1ee164-cfdd-4408-853e-282805262083"
      },
      "source": [
        "print(show_evaluation(final_open_pred, valid1_lithology))\n",
        "print(show_evaluation(final_open_pred1, valid2_lithology))   #8xgboost stacks\n",
        "print(show_evaluation(final_open_pred11, valid3_lithology))"
      ],
      "execution_count": null,
      "outputs": [
        {
          "output_type": "stream",
          "text": [
            "Default score: -0.6499531026744624\n",
            "Accuracy is: 0.7511110721517544\n",
            "F1 is: 0.7697390902272891\n",
            "None\n",
            "Default score: -0.5866870018695267\n",
            "Accuracy is: 0.7804016749210098\n",
            "F1 is: 0.7941652925846059\n",
            "None\n",
            "Default score: -0.6217999863777451\n",
            "Accuracy is: 0.7641452521576678\n",
            "F1 is: 0.7801979692558833\n",
            "None\n"
          ],
          "name": "stdout"
        }
      ]
    },
    {
      "cell_type": "code",
      "metadata": {
        "id": "hWZJwZ2U8Ctr",
        "colab": {
          "base_uri": "https://localhost:8080/",
          "height": 212
        },
        "outputId": "3412cd4a-dbc0-4907-e9ec-df3912b3c388"
      },
      "source": [
        "print(show_evaluation(final_open_pred, valid1_lithology))\n",
        "print(show_evaluation(final_open_pred1, valid2_lithology))\n",
        "print(show_evaluation(final_open_pred11, valid3_lithology))"
      ],
      "execution_count": null,
      "outputs": [
        {
          "output_type": "stream",
          "text": [
            "Default score: -0.6574665363476188\n",
            "Accuracy is: 0.7486128034081645\n",
            "F1 is: 0.7846873165805079\n",
            "None\n",
            "Default score: -0.5805112772912635\n",
            "Accuracy is: 0.7849497633026119\n",
            "F1 is: 0.8193826604087298\n",
            "None\n",
            "Default score: -0.6232218092300507\n",
            "Accuracy is: 0.7647825790820546\n",
            "F1 is: 0.8002531605668576\n",
            "None\n"
          ],
          "name": "stdout"
        }
      ]
    },
    {
      "cell_type": "code",
      "metadata": {
        "id": "rNDH_0UTAdK9",
        "colab": {
          "base_uri": "https://localhost:8080/",
          "height": 66
        },
        "outputId": "3e1b9fea-d017-457b-cdef-0dae36ea4131"
      },
      "source": [
        "train1.columns"
      ],
      "execution_count": null,
      "outputs": [
        {
          "output_type": "execute_result",
          "data": {
            "text/plain": [
              "Index(['DEPTH_MD', 'X_LOC', 'Y_LOC', 'Z_LOC', 'CALI', 'RMED', 'RDEP', 'RHOB',\n",
              "       'GR', 'NPHI', 'DTC', 'SP', 'GROUP_encoded', 'FORMATION_encoded'],\n",
              "      dtype='object')"
            ]
          },
          "metadata": {
            "tags": []
          },
          "execution_count": 93
        }
      ]
    },
    {
      "cell_type": "code",
      "metadata": {
        "id": "LHCdufCmbPlM",
        "colab": {
          "base_uri": "https://localhost:8080/",
          "height": 196
        },
        "outputId": "ca450ca9-eb7c-42b4-ff87-78600e16882b"
      },
      "source": [
        "make_submission(final_open_pred, 'final_open_pred1')\n",
        " \n",
        "a = pd.read_csv('/content/drive/My Drive/FORCE-Lithology-Prediction/final_open_pred1.csv')\n",
        " \n",
        "a['# lithology'].value_counts()"
      ],
      "execution_count": null,
      "outputs": [
        {
          "output_type": "execute_result",
          "data": {
            "text/plain": [
              "65000    78428\n",
              "30000    14159\n",
              "65030    12105\n",
              "70000     6315\n",
              "99000     1792\n",
              "80000      910\n",
              "90000      214\n",
              "74000      134\n",
              "70032       12\n",
              "86000       10\n",
              "Name: # lithology, dtype: int64"
            ]
          },
          "metadata": {
            "tags": []
          },
          "execution_count": 44
        }
      ]
    },
    {
      "cell_type": "code",
      "metadata": {
        "id": "ROnVqmpd2JzW",
        "colab": {
          "base_uri": "https://localhost:8080/",
          "height": 196
        },
        "outputId": "d578fd91-2161-4b97-a5d1-a25b8c0fdb72"
      },
      "source": [
        "valid1.FORCE_2020_LITHOFACIES_LITHOLOGY.value_counts()"
      ],
      "execution_count": null,
      "outputs": [
        {
          "output_type": "execute_result",
          "data": {
            "text/plain": [
              "65000    71735\n",
              "30000    16635\n",
              "65030    15260\n",
              "70000     5230\n",
              "70032     2041\n",
              "99000     1978\n",
              "80000      886\n",
              "90000      184\n",
              "74000      113\n",
              "86000       17\n",
              "Name: FORCE_2020_LITHOFACIES_LITHOLOGY, dtype: int64"
            ]
          },
          "metadata": {
            "tags": []
          },
          "execution_count": 45
        }
      ]
    },
    {
      "cell_type": "code",
      "metadata": {
        "id": "tGEbQD68IpRc",
        "colab": {
          "base_uri": "https://localhost:8080/",
          "height": 180
        },
        "outputId": "62bf4ec4-4803-4c6c-d1cb-eb0104262663"
      },
      "source": [
        "make_submission(final_open_pred1, 'final_open_pred1')\n",
        " \n",
        "a = pd.read_csv('/content/drive/My Drive/FORCE-Lithology-Prediction/final_open_pred1.csv')\n",
        " \n",
        "a['# lithology'].value_counts()"
      ],
      "execution_count": null,
      "outputs": [
        {
          "output_type": "execute_result",
          "data": {
            "text/plain": [
              "65000    67609\n",
              "30000    10106\n",
              "70000     5157\n",
              "65030     3372\n",
              "80000     2759\n",
              "99000     2036\n",
              "90000      276\n",
              "74000      130\n",
              "70032       22\n",
              "Name: # lithology, dtype: int64"
            ]
          },
          "metadata": {
            "tags": []
          },
          "execution_count": 46
        }
      ]
    },
    {
      "cell_type": "code",
      "metadata": {
        "id": "k_oRnLDH6HtL",
        "colab": {
          "base_uri": "https://localhost:8080/",
          "height": 180
        },
        "outputId": "768d64bd-cfaf-44da-ea51-01b7162e3f8f"
      },
      "source": [
        "valid2.FORCE_2020_LITHOFACIES_LITHOLOGY.value_counts()"
      ],
      "execution_count": null,
      "outputs": [
        {
          "output_type": "execute_result",
          "data": {
            "text/plain": [
              "65000    62703\n",
              "30000    11898\n",
              "65030     7990\n",
              "70000     4217\n",
              "80000     2635\n",
              "99000     1337\n",
              "90000      531\n",
              "70032      112\n",
              "74000       44\n",
              "Name: FORCE_2020_LITHOFACIES_LITHOLOGY, dtype: int64"
            ]
          },
          "metadata": {
            "tags": []
          },
          "execution_count": 47
        }
      ]
    },
    {
      "cell_type": "code",
      "metadata": {
        "id": "jm_8M5dOwF9q"
      },
      "source": [
        "a = pd.read_csv('/content/drive/My Drive/FORCE-Lithology-Prediction/val1')"
      ],
      "execution_count": null,
      "outputs": []
    },
    {
      "cell_type": "code",
      "metadata": {
        "id": "3i2d5iQcyI8B"
      },
      "source": [
        "b = pd.read_csv('/content/drive/My Drive/FORCE-Lithology-Prediction/pres1')\n",
        "c = pd.read_csv('/content/drive/My Drive/FORCE-Lithology-Prediction/open_test2')\n",
        " \n",
        "d = pd.read_csv('/content/drive/My Drive/FORCE-Lithology-Prediction/open_test22')"
      ],
      "execution_count": null,
      "outputs": []
    },
    {
      "cell_type": "code",
      "metadata": {
        "id": "obwC_jzqh3dO",
        "colab": {
          "base_uri": "https://localhost:8080/",
          "height": 1000
        },
        "outputId": "5771c51f-d8b2-4cad-a37c-ea2ac24eca1d"
      },
      "source": [
        "model2 = RandomForestClassifier(n_estimators=100, class_weight='balanced', verbose=2)\n",
        "model2.fit(traindata, lithology)"
      ],
      "execution_count": null,
      "outputs": [
        {
          "output_type": "stream",
          "text": [
            "[Parallel(n_jobs=1)]: Using backend SequentialBackend with 1 concurrent workers.\n"
          ],
          "name": "stderr"
        },
        {
          "output_type": "stream",
          "text": [
            "building tree 1 of 100\n"
          ],
          "name": "stdout"
        },
        {
          "output_type": "stream",
          "text": [
            "[Parallel(n_jobs=1)]: Done   1 out of   1 | elapsed:    4.2s remaining:    0.0s\n"
          ],
          "name": "stderr"
        },
        {
          "output_type": "stream",
          "text": [
            "building tree 2 of 100\n",
            "building tree 3 of 100\n",
            "building tree 4 of 100\n",
            "building tree 5 of 100\n",
            "building tree 6 of 100\n",
            "building tree 7 of 100\n",
            "building tree 8 of 100\n",
            "building tree 9 of 100\n",
            "building tree 10 of 100\n",
            "building tree 11 of 100\n",
            "building tree 12 of 100\n",
            "building tree 13 of 100\n",
            "building tree 14 of 100\n",
            "building tree 15 of 100\n",
            "building tree 16 of 100\n",
            "building tree 17 of 100\n",
            "building tree 18 of 100\n",
            "building tree 19 of 100\n",
            "building tree 20 of 100\n",
            "building tree 21 of 100\n",
            "building tree 22 of 100\n",
            "building tree 23 of 100\n",
            "building tree 24 of 100\n",
            "building tree 25 of 100\n",
            "building tree 26 of 100\n",
            "building tree 27 of 100\n",
            "building tree 28 of 100\n",
            "building tree 29 of 100\n",
            "building tree 30 of 100\n",
            "building tree 31 of 100\n",
            "building tree 32 of 100\n",
            "building tree 33 of 100\n",
            "building tree 34 of 100\n",
            "building tree 35 of 100\n",
            "building tree 36 of 100\n",
            "building tree 37 of 100\n",
            "building tree 38 of 100\n",
            "building tree 39 of 100\n",
            "building tree 40 of 100\n",
            "building tree 41 of 100\n",
            "building tree 42 of 100\n",
            "building tree 43 of 100\n",
            "building tree 44 of 100\n",
            "building tree 45 of 100\n",
            "building tree 46 of 100\n",
            "building tree 47 of 100\n",
            "building tree 48 of 100\n",
            "building tree 49 of 100\n",
            "building tree 50 of 100\n",
            "building tree 51 of 100\n",
            "building tree 52 of 100\n",
            "building tree 53 of 100\n",
            "building tree 54 of 100\n",
            "building tree 55 of 100\n",
            "building tree 56 of 100\n",
            "building tree 57 of 100\n",
            "building tree 58 of 100\n",
            "building tree 59 of 100\n",
            "building tree 60 of 100\n",
            "building tree 61 of 100\n",
            "building tree 62 of 100\n",
            "building tree 63 of 100\n",
            "building tree 64 of 100\n",
            "building tree 65 of 100\n",
            "building tree 66 of 100\n",
            "building tree 67 of 100\n",
            "building tree 68 of 100\n",
            "building tree 69 of 100\n",
            "building tree 70 of 100\n",
            "building tree 71 of 100\n",
            "building tree 72 of 100\n",
            "building tree 73 of 100\n",
            "building tree 74 of 100\n",
            "building tree 75 of 100\n",
            "building tree 76 of 100\n",
            "building tree 77 of 100\n",
            "building tree 78 of 100\n",
            "building tree 79 of 100\n",
            "building tree 80 of 100\n",
            "building tree 81 of 100\n",
            "building tree 82 of 100\n",
            "building tree 83 of 100\n",
            "building tree 84 of 100\n",
            "building tree 85 of 100\n",
            "building tree 86 of 100\n",
            "building tree 87 of 100\n",
            "building tree 88 of 100\n",
            "building tree 89 of 100\n",
            "building tree 90 of 100\n",
            "building tree 91 of 100\n",
            "building tree 92 of 100\n",
            "building tree 93 of 100\n",
            "building tree 94 of 100\n",
            "building tree 95 of 100\n",
            "building tree 96 of 100\n",
            "building tree 97 of 100\n",
            "building tree 98 of 100\n",
            "building tree 99 of 100\n",
            "building tree 100 of 100\n"
          ],
          "name": "stdout"
        },
        {
          "output_type": "stream",
          "text": [
            "[Parallel(n_jobs=1)]: Done 100 out of 100 | elapsed:  7.5min finished\n"
          ],
          "name": "stderr"
        },
        {
          "output_type": "execute_result",
          "data": {
            "text/plain": [
              "RandomForestClassifier(bootstrap=True, ccp_alpha=0.0, class_weight='balanced',\n",
              "                       criterion='gini', max_depth=None, max_features='auto',\n",
              "                       max_leaf_nodes=None, max_samples=None,\n",
              "                       min_impurity_decrease=0.0, min_impurity_split=None,\n",
              "                       min_samples_leaf=1, min_samples_split=2,\n",
              "                       min_weight_fraction_leaf=0.0, n_estimators=100,\n",
              "                       n_jobs=None, oob_score=False, random_state=None,\n",
              "                       verbose=2, warm_start=False)"
            ]
          },
          "metadata": {
            "tags": []
          },
          "execution_count": 49
        }
      ]
    },
    {
      "cell_type": "code",
      "metadata": {
        "id": "p6Xy1tRynJ_Z",
        "colab": {
          "base_uri": "https://localhost:8080/",
          "height": 390
        },
        "outputId": "a2816b46-7f30-4544-d935-bd72ce549dea"
      },
      "source": [
        "pred1 = model2.predict(validation1)\n",
        "pred2 = model2.predict(validation2)\n",
        "pred3 = model2.predict(validation3)\n",
        " \n",
        "print(show_evaluation(pred1, valid1_lithology))\n",
        "print(show_evaluation(pred2, valid2_lithology))\n",
        "print(show_evaluation(pred3, valid3_lithology))"
      ],
      "execution_count": null,
      "outputs": [
        {
          "output_type": "stream",
          "text": [
            "[Parallel(n_jobs=1)]: Using backend SequentialBackend with 1 concurrent workers.\n",
            "[Parallel(n_jobs=1)]: Done   1 out of   1 | elapsed:    0.0s remaining:    0.0s\n",
            "[Parallel(n_jobs=1)]: Done 100 out of 100 | elapsed:    1.6s finished\n",
            "[Parallel(n_jobs=1)]: Using backend SequentialBackend with 1 concurrent workers.\n",
            "[Parallel(n_jobs=1)]: Done   1 out of   1 | elapsed:    0.0s remaining:    0.0s\n",
            "[Parallel(n_jobs=1)]: Done 100 out of 100 | elapsed:    1.5s finished\n",
            "[Parallel(n_jobs=1)]: Using backend SequentialBackend with 1 concurrent workers.\n",
            "[Parallel(n_jobs=1)]: Done   1 out of   1 | elapsed:    0.0s remaining:    0.0s\n",
            "[Parallel(n_jobs=1)]: Done 100 out of 100 | elapsed:    3.1s finished\n"
          ],
          "name": "stderr"
        },
        {
          "output_type": "stream",
          "text": [
            "Default score: -0.713967097926597\n",
            "Accuracy is: 0.743385538482794\n",
            "F1 is: 0.7934494283758913\n",
            "None\n",
            "Default score: -1.030196153425855\n",
            "Accuracy is: 0.6058900666593815\n",
            "F1 is: 0.710618150485223\n",
            "None\n",
            "Default score: -0.8734682977167718\n",
            "Accuracy is: 0.6755565465850104\n",
            "F1 is: 0.7532577600097634\n",
            "None\n"
          ],
          "name": "stdout"
        }
      ]
    },
    {
      "cell_type": "code",
      "metadata": {
        "id": "yKZD6oWBqxqg",
        "colab": {
          "base_uri": "https://localhost:8080/",
          "height": 394
        },
        "outputId": "0425a00d-4706-43f0-b453-ad61b419f9b2"
      },
      "source": [
        " \n",
        "pred1 = model2.predict(validation1)\n",
        "pred2 = model2.predict(validation2)\n",
        "pred3 = model2.predict(validation3)\n",
        " \n",
        "print(show_evaluation(pred1, valid1_lithology))\n",
        "print(show_evaluation(pred2, valid2_lithology))\n",
        "print(show_evaluation(pred3, valid3_lithology))"
      ],
      "execution_count": null,
      "outputs": [
        {
          "output_type": "stream",
          "text": [
            "[Parallel(n_jobs=1)]: Using backend SequentialBackend with 1 concurrent workers.\n",
            "[Parallel(n_jobs=1)]: Done   1 out of   1 | elapsed:    0.0s remaining:    0.0s\n",
            "[Parallel(n_jobs=1)]: Done 100 out of 100 | elapsed:    1.7s finished\n",
            "[Parallel(n_jobs=1)]: Using backend SequentialBackend with 1 concurrent workers.\n",
            "[Parallel(n_jobs=1)]: Done   1 out of   1 | elapsed:    0.0s remaining:    0.0s\n",
            "[Parallel(n_jobs=1)]: Done 100 out of 100 | elapsed:    1.6s finished\n",
            "[Parallel(n_jobs=1)]: Using backend SequentialBackend with 1 concurrent workers.\n",
            "[Parallel(n_jobs=1)]: Done   1 out of   1 | elapsed:    0.0s remaining:    0.0s\n",
            "[Parallel(n_jobs=1)]: Done 100 out of 100 | elapsed:    3.2s finished\n"
          ],
          "name": "stderr"
        },
        {
          "output_type": "stream",
          "text": [
            "Default score: -0.7341595859115178\n",
            "Accuracy is: 0.735036662028402\n",
            "F1 is: 0.7933623733525911\n",
            "None\n",
            "Default score: -1.0171729865588461\n",
            "Accuracy is: 0.6097257130368265\n",
            "F1 is: 0.7131026286038163\n",
            "None\n",
            "Default score: -0.8827311100855109\n",
            "Accuracy is: 0.6716673321544693\n",
            "F1 is: 0.7527038297086946\n",
            "None\n"
          ],
          "name": "stdout"
        }
      ]
    },
    {
      "cell_type": "code",
      "metadata": {
        "id": "ifjJBwhVjv8y",
        "colab": {
          "base_uri": "https://localhost:8080/",
          "height": 111
        },
        "outputId": "93d7c5b7-390b-4959-f9f8-e5fb5399239a"
      },
      "source": [
        "evaluate(model2)"
      ],
      "execution_count": null,
      "outputs": [
        {
          "output_type": "display_data",
          "data": {
            "image/png": "[encoded data removed]",
            "text/plain": [
              "<Figure size 1728x576 with 1 Axes>"
            ]
          },
          "metadata": {
            "tags": [],
            "needs_background": "light"
          }
        }
      ]
    },
    {
      "cell_type": "code",
      "metadata": {
        "id": "8HUJXc4sjTlD",
        "colab": {
          "base_uri": "https://localhost:8080/",
          "height": 357
        },
        "outputId": "b5276ed9-79cf-42f5-c59f-1fff46bdb656"
      },
      "source": [
        " \n",
        "for (i, j) in enumerate(traindata.columns):\n",
        "  print(i,j)"
      ],
      "execution_count": null,
      "outputs": [
        {
          "output_type": "stream",
          "text": [
            "0 DEPTH_MD\n",
            "1 X_LOC\n",
            "2 Y_LOC\n",
            "3 Z_LOC\n",
            "4 GROUP\n",
            "5 CALI\n",
            "6 RSHA\n",
            "7 RMED\n",
            "8 RDEP\n",
            "9 RHOB\n",
            "10 GR\n",
            "11 NPHI\n",
            "12 PEF\n",
            "13 DTC\n",
            "14 SP\n",
            "15 BS\n",
            "16 ROP\n",
            "17 DCAL\n",
            "18 DRHO\n",
            "19 MUDWEIGHT\n"
          ],
          "name": "stdout"
        }
      ]
    },
    {
      "cell_type": "code",
      "metadata": {
        "id": "ECIcSn7cUH2U",
        "colab": {
          "base_uri": "https://localhost:8080/",
          "height": 1000
        },
        "outputId": "93d5c9b7-8494-486b-eb01-930e24ae44fd"
      },
      "source": [
        "func1_= Model(traindata, validation1, validation2, validation3, testdata, lithology, valid1_lithology, valid2_lithology, valid3_lithology)\n",
        "pred1, val1, open_test1, open_test11, model1 = func1_()"
      ],
      "execution_count": null,
      "outputs": [
        {
          "output_type": "stream",
          "text": [
            "/usr/local/lib/python3.6/dist-packages/ipykernel_launcher.py:48: DataConversionWarning: A column-vector y was passed when a 1d array was expected. Please change the shape of y to (n_samples,), for example using ravel().\n",
            "[Parallel(n_jobs=1)]: Using backend SequentialBackend with 1 concurrent workers.\n"
          ],
          "name": "stderr"
        },
        {
          "output_type": "stream",
          "text": [
            "building tree 1 of 100\n"
          ],
          "name": "stdout"
        },
        {
          "output_type": "stream",
          "text": [
            "[Parallel(n_jobs=1)]: Done   1 out of   1 | elapsed:    4.0s remaining:    0.0s\n"
          ],
          "name": "stderr"
        },
        {
          "output_type": "stream",
          "text": [
            "building tree 2 of 100\n",
            "building tree 3 of 100\n",
            "building tree 4 of 100\n",
            "building tree 5 of 100\n",
            "building tree 6 of 100\n",
            "building tree 7 of 100\n",
            "building tree 8 of 100\n",
            "building tree 9 of 100\n",
            "building tree 10 of 100\n",
            "building tree 11 of 100\n",
            "building tree 12 of 100\n",
            "building tree 13 of 100\n",
            "building tree 14 of 100\n",
            "building tree 15 of 100\n",
            "building tree 16 of 100\n",
            "building tree 17 of 100\n",
            "building tree 18 of 100\n",
            "building tree 19 of 100\n",
            "building tree 20 of 100\n",
            "building tree 21 of 100\n",
            "building tree 22 of 100\n",
            "building tree 23 of 100\n",
            "building tree 24 of 100\n",
            "building tree 25 of 100\n",
            "building tree 26 of 100\n",
            "building tree 27 of 100\n",
            "building tree 28 of 100\n",
            "building tree 29 of 100\n",
            "building tree 30 of 100\n",
            "building tree 31 of 100\n",
            "building tree 32 of 100\n",
            "building tree 33 of 100\n",
            "building tree 34 of 100\n",
            "building tree 35 of 100\n",
            "building tree 36 of 100\n",
            "building tree 37 of 100\n",
            "building tree 38 of 100\n",
            "building tree 39 of 100\n",
            "building tree 40 of 100\n",
            "building tree 41 of 100\n",
            "building tree 42 of 100\n",
            "building tree 43 of 100\n",
            "building tree 44 of 100\n",
            "building tree 45 of 100\n",
            "building tree 46 of 100\n",
            "building tree 47 of 100\n",
            "building tree 48 of 100\n",
            "building tree 49 of 100\n",
            "building tree 50 of 100\n",
            "building tree 51 of 100\n",
            "building tree 52 of 100\n",
            "building tree 53 of 100\n",
            "building tree 54 of 100\n",
            "building tree 55 of 100\n",
            "building tree 56 of 100\n",
            "building tree 57 of 100\n",
            "building tree 58 of 100\n",
            "building tree 59 of 100\n",
            "building tree 60 of 100\n",
            "building tree 61 of 100\n",
            "building tree 62 of 100\n",
            "building tree 63 of 100\n",
            "building tree 64 of 100\n",
            "building tree 65 of 100\n",
            "building tree 66 of 100\n",
            "building tree 67 of 100\n",
            "building tree 68 of 100\n",
            "building tree 69 of 100\n",
            "building tree 70 of 100\n",
            "building tree 71 of 100\n",
            "building tree 72 of 100\n",
            "building tree 73 of 100\n",
            "building tree 74 of 100\n",
            "building tree 75 of 100\n",
            "building tree 76 of 100\n",
            "building tree 77 of 100\n",
            "building tree 78 of 100\n",
            "building tree 79 of 100\n",
            "building tree 80 of 100\n",
            "building tree 81 of 100\n",
            "building tree 82 of 100\n",
            "building tree 83 of 100\n",
            "building tree 84 of 100\n",
            "building tree 85 of 100\n",
            "building tree 86 of 100\n",
            "building tree 87 of 100\n",
            "building tree 88 of 100\n",
            "building tree 89 of 100\n",
            "building tree 90 of 100\n",
            "building tree 91 of 100\n",
            "building tree 92 of 100\n",
            "building tree 93 of 100\n",
            "building tree 94 of 100\n",
            "building tree 95 of 100\n",
            "building tree 96 of 100\n",
            "building tree 97 of 100\n",
            "building tree 98 of 100\n",
            "building tree 99 of 100\n",
            "building tree 100 of 100\n"
          ],
          "name": "stdout"
        },
        {
          "output_type": "stream",
          "text": [
            "[Parallel(n_jobs=1)]: Done 100 out of 100 | elapsed:  6.4min finished\n",
            "[Parallel(n_jobs=1)]: Using backend SequentialBackend with 1 concurrent workers.\n",
            "[Parallel(n_jobs=1)]: Done   1 out of   1 | elapsed:    0.0s remaining:    0.0s\n",
            "[Parallel(n_jobs=1)]: Done 100 out of 100 | elapsed:    4.1s finished\n"
          ],
          "name": "stderr"
        },
        {
          "output_type": "stream",
          "text": [
            "Default score: [-0.15519935]\n",
            "Accuracy is: 0.9418055171990549\n",
            "F1 is: 0.9407185656651175\n",
            "None\n",
            "-----------------------FOLD 1---------------------\n"
          ],
          "name": "stdout"
        },
        {
          "output_type": "stream",
          "text": [
            "[Parallel(n_jobs=1)]: Using backend SequentialBackend with 1 concurrent workers.\n",
            "[Parallel(n_jobs=1)]: Done   1 out of   1 | elapsed:    0.0s remaining:    0.0s\n",
            "[Parallel(n_jobs=1)]: Done 100 out of 100 | elapsed:    1.6s finished\n",
            "[Parallel(n_jobs=1)]: Using backend SequentialBackend with 1 concurrent workers.\n",
            "[Parallel(n_jobs=1)]: Done   1 out of   1 | elapsed:    0.0s remaining:    0.0s\n",
            "[Parallel(n_jobs=1)]: Done 100 out of 100 | elapsed:    1.5s finished\n",
            "[Parallel(n_jobs=1)]: Using backend SequentialBackend with 1 concurrent workers.\n",
            "[Parallel(n_jobs=1)]: Done   1 out of   1 | elapsed:    0.0s remaining:    0.0s\n",
            "[Parallel(n_jobs=1)]: Done 100 out of 100 | elapsed:    3.3s finished\n",
            "[Parallel(n_jobs=1)]: Using backend SequentialBackend with 1 concurrent workers.\n",
            "[Parallel(n_jobs=1)]: Done   1 out of   1 | elapsed:    0.0s remaining:    0.0s\n",
            "[Parallel(n_jobs=1)]: Done 100 out of 100 | elapsed:    2.3s finished\n",
            "/usr/local/lib/python3.6/dist-packages/ipykernel_launcher.py:48: DataConversionWarning: A column-vector y was passed when a 1d array was expected. Please change the shape of y to (n_samples,), for example using ravel().\n",
            "[Parallel(n_jobs=1)]: Using backend SequentialBackend with 1 concurrent workers.\n"
          ],
          "name": "stderr"
        },
        {
          "output_type": "stream",
          "text": [
            "building tree 1 of 100\n"
          ],
          "name": "stdout"
        },
        {
          "output_type": "stream",
          "text": [
            "[Parallel(n_jobs=1)]: Done   1 out of   1 | elapsed:    3.7s remaining:    0.0s\n"
          ],
          "name": "stderr"
        },
        {
          "output_type": "stream",
          "text": [
            "building tree 2 of 100\n",
            "building tree 3 of 100\n",
            "building tree 4 of 100\n",
            "building tree 5 of 100\n",
            "building tree 6 of 100\n",
            "building tree 7 of 100\n",
            "building tree 8 of 100\n",
            "building tree 9 of 100\n",
            "building tree 10 of 100\n",
            "building tree 11 of 100\n",
            "building tree 12 of 100\n",
            "building tree 13 of 100\n",
            "building tree 14 of 100\n",
            "building tree 15 of 100\n",
            "building tree 16 of 100\n",
            "building tree 17 of 100\n",
            "building tree 18 of 100\n",
            "building tree 19 of 100\n",
            "building tree 20 of 100\n",
            "building tree 21 of 100\n",
            "building tree 22 of 100\n",
            "building tree 23 of 100\n",
            "building tree 24 of 100\n",
            "building tree 25 of 100\n",
            "building tree 26 of 100\n",
            "building tree 27 of 100\n",
            "building tree 28 of 100\n",
            "building tree 29 of 100\n",
            "building tree 30 of 100\n",
            "building tree 31 of 100\n",
            "building tree 32 of 100\n",
            "building tree 33 of 100\n",
            "building tree 34 of 100\n",
            "building tree 35 of 100\n",
            "building tree 36 of 100\n",
            "building tree 37 of 100\n",
            "building tree 38 of 100\n",
            "building tree 39 of 100\n",
            "building tree 40 of 100\n",
            "building tree 41 of 100\n",
            "building tree 42 of 100\n",
            "building tree 43 of 100\n",
            "building tree 44 of 100\n",
            "building tree 45 of 100\n",
            "building tree 46 of 100\n",
            "building tree 47 of 100\n",
            "building tree 48 of 100\n",
            "building tree 49 of 100\n",
            "building tree 50 of 100\n",
            "building tree 51 of 100\n",
            "building tree 52 of 100\n",
            "building tree 53 of 100\n",
            "building tree 54 of 100\n",
            "building tree 55 of 100\n",
            "building tree 56 of 100\n",
            "building tree 57 of 100\n",
            "building tree 58 of 100\n",
            "building tree 59 of 100\n",
            "building tree 60 of 100\n",
            "building tree 61 of 100\n",
            "building tree 62 of 100\n",
            "building tree 63 of 100\n",
            "building tree 64 of 100\n",
            "building tree 65 of 100\n",
            "building tree 66 of 100\n",
            "building tree 67 of 100\n",
            "building tree 68 of 100\n",
            "building tree 69 of 100\n",
            "building tree 70 of 100\n",
            "building tree 71 of 100\n",
            "building tree 72 of 100\n",
            "building tree 73 of 100\n",
            "building tree 74 of 100\n",
            "building tree 75 of 100\n",
            "building tree 76 of 100\n",
            "building tree 77 of 100\n",
            "building tree 78 of 100\n",
            "building tree 79 of 100\n",
            "building tree 80 of 100\n",
            "building tree 81 of 100\n",
            "building tree 82 of 100\n",
            "building tree 83 of 100\n",
            "building tree 84 of 100\n",
            "building tree 85 of 100\n",
            "building tree 86 of 100\n",
            "building tree 87 of 100\n",
            "building tree 88 of 100\n",
            "building tree 89 of 100\n",
            "building tree 90 of 100\n",
            "building tree 91 of 100\n",
            "building tree 92 of 100\n",
            "building tree 93 of 100\n",
            "building tree 94 of 100\n",
            "building tree 95 of 100\n",
            "building tree 96 of 100\n",
            "building tree 97 of 100\n",
            "building tree 98 of 100\n",
            "building tree 99 of 100\n",
            "building tree 100 of 100\n"
          ],
          "name": "stdout"
        },
        {
          "output_type": "stream",
          "text": [
            "[Parallel(n_jobs=1)]: Done 100 out of 100 | elapsed:  6.4min finished\n",
            "[Parallel(n_jobs=1)]: Using backend SequentialBackend with 1 concurrent workers.\n",
            "[Parallel(n_jobs=1)]: Done   1 out of   1 | elapsed:    0.0s remaining:    0.0s\n",
            "[Parallel(n_jobs=1)]: Done 100 out of 100 | elapsed:    4.1s finished\n"
          ],
          "name": "stderr"
        },
        {
          "output_type": "stream",
          "text": [
            "Default score: [-0.16152817]\n",
            "Accuracy is: 0.9393302443564802\n",
            "F1 is: 0.9379648658035245\n",
            "None\n",
            "-----------------------FOLD 2---------------------\n"
          ],
          "name": "stdout"
        },
        {
          "output_type": "stream",
          "text": [
            "[Parallel(n_jobs=1)]: Using backend SequentialBackend with 1 concurrent workers.\n",
            "[Parallel(n_jobs=1)]: Done   1 out of   1 | elapsed:    0.0s remaining:    0.0s\n",
            "[Parallel(n_jobs=1)]: Done 100 out of 100 | elapsed:    1.7s finished\n",
            "[Parallel(n_jobs=1)]: Using backend SequentialBackend with 1 concurrent workers.\n",
            "[Parallel(n_jobs=1)]: Done   1 out of   1 | elapsed:    0.0s remaining:    0.0s\n",
            "[Parallel(n_jobs=1)]: Done 100 out of 100 | elapsed:    1.5s finished\n",
            "[Parallel(n_jobs=1)]: Using backend SequentialBackend with 1 concurrent workers.\n",
            "[Parallel(n_jobs=1)]: Done   1 out of   1 | elapsed:    0.0s remaining:    0.0s\n",
            "[Parallel(n_jobs=1)]: Done 100 out of 100 | elapsed:    3.1s finished\n",
            "[Parallel(n_jobs=1)]: Using backend SequentialBackend with 1 concurrent workers.\n",
            "[Parallel(n_jobs=1)]: Done   1 out of   1 | elapsed:    0.0s remaining:    0.0s\n",
            "[Parallel(n_jobs=1)]: Done 100 out of 100 | elapsed:    2.3s finished\n",
            "/usr/local/lib/python3.6/dist-packages/ipykernel_launcher.py:48: DataConversionWarning: A column-vector y was passed when a 1d array was expected. Please change the shape of y to (n_samples,), for example using ravel().\n",
            "[Parallel(n_jobs=1)]: Using backend SequentialBackend with 1 concurrent workers.\n"
          ],
          "name": "stderr"
        },
        {
          "output_type": "stream",
          "text": [
            "building tree 1 of 100\n"
          ],
          "name": "stdout"
        },
        {
          "output_type": "stream",
          "text": [
            "[Parallel(n_jobs=1)]: Done   1 out of   1 | elapsed:    4.2s remaining:    0.0s\n"
          ],
          "name": "stderr"
        },
        {
          "output_type": "stream",
          "text": [
            "building tree 2 of 100\n",
            "building tree 3 of 100\n",
            "building tree 4 of 100\n",
            "building tree 5 of 100\n",
            "building tree 6 of 100\n",
            "building tree 7 of 100\n",
            "building tree 8 of 100\n",
            "building tree 9 of 100\n",
            "building tree 10 of 100\n",
            "building tree 11 of 100\n",
            "building tree 12 of 100\n",
            "building tree 13 of 100\n",
            "building tree 14 of 100\n",
            "building tree 15 of 100\n",
            "building tree 16 of 100\n",
            "building tree 17 of 100\n",
            "building tree 18 of 100\n",
            "building tree 19 of 100\n",
            "building tree 20 of 100\n",
            "building tree 21 of 100\n",
            "building tree 22 of 100\n",
            "building tree 23 of 100\n",
            "building tree 24 of 100\n",
            "building tree 25 of 100\n",
            "building tree 26 of 100\n",
            "building tree 27 of 100\n",
            "building tree 28 of 100\n",
            "building tree 29 of 100\n",
            "building tree 30 of 100\n",
            "building tree 31 of 100\n",
            "building tree 32 of 100\n",
            "building tree 33 of 100\n",
            "building tree 34 of 100\n",
            "building tree 35 of 100\n",
            "building tree 36 of 100\n",
            "building tree 37 of 100\n",
            "building tree 38 of 100\n",
            "building tree 39 of 100\n",
            "building tree 40 of 100\n",
            "building tree 41 of 100\n",
            "building tree 42 of 100\n",
            "building tree 43 of 100\n",
            "building tree 44 of 100\n",
            "building tree 45 of 100\n",
            "building tree 46 of 100\n",
            "building tree 47 of 100\n",
            "building tree 48 of 100\n",
            "building tree 49 of 100\n",
            "building tree 50 of 100\n",
            "building tree 51 of 100\n",
            "building tree 52 of 100\n",
            "building tree 53 of 100\n",
            "building tree 54 of 100\n",
            "building tree 55 of 100\n",
            "building tree 56 of 100\n",
            "building tree 57 of 100\n",
            "building tree 58 of 100\n",
            "building tree 59 of 100\n",
            "building tree 60 of 100\n",
            "building tree 61 of 100\n",
            "building tree 62 of 100\n",
            "building tree 63 of 100\n",
            "building tree 64 of 100\n",
            "building tree 65 of 100\n",
            "building tree 66 of 100\n",
            "building tree 67 of 100\n",
            "building tree 68 of 100\n",
            "building tree 69 of 100\n",
            "building tree 70 of 100\n",
            "building tree 71 of 100\n",
            "building tree 72 of 100\n",
            "building tree 73 of 100\n",
            "building tree 74 of 100\n",
            "building tree 75 of 100\n",
            "building tree 76 of 100\n",
            "building tree 77 of 100\n",
            "building tree 78 of 100\n",
            "building tree 79 of 100\n",
            "building tree 80 of 100\n",
            "building tree 81 of 100\n",
            "building tree 82 of 100\n",
            "building tree 83 of 100\n",
            "building tree 84 of 100\n",
            "building tree 85 of 100\n",
            "building tree 86 of 100\n",
            "building tree 87 of 100\n",
            "building tree 88 of 100\n",
            "building tree 89 of 100\n",
            "building tree 90 of 100\n",
            "building tree 91 of 100\n",
            "building tree 92 of 100\n",
            "building tree 93 of 100\n",
            "building tree 94 of 100\n",
            "building tree 95 of 100\n",
            "building tree 96 of 100\n",
            "building tree 97 of 100\n",
            "building tree 98 of 100\n",
            "building tree 99 of 100\n",
            "building tree 100 of 100\n"
          ],
          "name": "stdout"
        },
        {
          "output_type": "stream",
          "text": [
            "[Parallel(n_jobs=1)]: Done 100 out of 100 | elapsed:  6.3min finished\n",
            "[Parallel(n_jobs=1)]: Using backend SequentialBackend with 1 concurrent workers.\n",
            "[Parallel(n_jobs=1)]: Done   1 out of   1 | elapsed:    0.0s remaining:    0.0s\n",
            "[Parallel(n_jobs=1)]: Done 100 out of 100 | elapsed:    4.0s finished\n"
          ],
          "name": "stderr"
        },
        {
          "output_type": "stream",
          "text": [
            "Default score: [-0.15805627]\n",
            "Accuracy is: 0.9409565599844528\n",
            "F1 is: 0.939857272986736\n",
            "None\n",
            "-----------------------FOLD 3---------------------\n"
          ],
          "name": "stdout"
        },
        {
          "output_type": "stream",
          "text": [
            "[Parallel(n_jobs=1)]: Using backend SequentialBackend with 1 concurrent workers.\n",
            "[Parallel(n_jobs=1)]: Done   1 out of   1 | elapsed:    0.0s remaining:    0.0s\n",
            "[Parallel(n_jobs=1)]: Done 100 out of 100 | elapsed:    1.6s finished\n",
            "[Parallel(n_jobs=1)]: Using backend SequentialBackend with 1 concurrent workers.\n",
            "[Parallel(n_jobs=1)]: Done   1 out of   1 | elapsed:    0.0s remaining:    0.0s\n",
            "[Parallel(n_jobs=1)]: Done 100 out of 100 | elapsed:    1.5s finished\n",
            "[Parallel(n_jobs=1)]: Using backend SequentialBackend with 1 concurrent workers.\n",
            "[Parallel(n_jobs=1)]: Done   1 out of   1 | elapsed:    0.0s remaining:    0.0s\n",
            "[Parallel(n_jobs=1)]: Done 100 out of 100 | elapsed:    3.2s finished\n",
            "[Parallel(n_jobs=1)]: Using backend SequentialBackend with 1 concurrent workers.\n",
            "[Parallel(n_jobs=1)]: Done   1 out of   1 | elapsed:    0.0s remaining:    0.0s\n",
            "[Parallel(n_jobs=1)]: Done 100 out of 100 | elapsed:    2.3s finished\n",
            "/usr/local/lib/python3.6/dist-packages/ipykernel_launcher.py:48: DataConversionWarning: A column-vector y was passed when a 1d array was expected. Please change the shape of y to (n_samples,), for example using ravel().\n",
            "[Parallel(n_jobs=1)]: Using backend SequentialBackend with 1 concurrent workers.\n"
          ],
          "name": "stderr"
        },
        {
          "output_type": "stream",
          "text": [
            "building tree 1 of 100\n"
          ],
          "name": "stdout"
        },
        {
          "output_type": "stream",
          "text": [
            "[Parallel(n_jobs=1)]: Done   1 out of   1 | elapsed:    3.3s remaining:    0.0s\n"
          ],
          "name": "stderr"
        },
        {
          "output_type": "stream",
          "text": [
            "building tree 2 of 100\n",
            "building tree 3 of 100\n",
            "building tree 4 of 100\n",
            "building tree 5 of 100\n",
            "building tree 6 of 100\n",
            "building tree 7 of 100\n",
            "building tree 8 of 100\n",
            "building tree 9 of 100\n",
            "building tree 10 of 100\n",
            "building tree 11 of 100\n",
            "building tree 12 of 100\n",
            "building tree 13 of 100\n",
            "building tree 14 of 100\n",
            "building tree 15 of 100\n",
            "building tree 16 of 100\n",
            "building tree 17 of 100\n",
            "building tree 18 of 100\n",
            "building tree 19 of 100\n",
            "building tree 20 of 100\n",
            "building tree 21 of 100\n",
            "building tree 22 of 100\n",
            "building tree 23 of 100\n",
            "building tree 24 of 100\n",
            "building tree 25 of 100\n",
            "building tree 26 of 100\n",
            "building tree 27 of 100\n",
            "building tree 28 of 100\n",
            "building tree 29 of 100\n",
            "building tree 30 of 100\n",
            "building tree 31 of 100\n",
            "building tree 32 of 100\n",
            "building tree 33 of 100\n",
            "building tree 34 of 100\n",
            "building tree 35 of 100\n",
            "building tree 36 of 100\n",
            "building tree 37 of 100\n",
            "building tree 38 of 100\n",
            "building tree 39 of 100\n",
            "building tree 40 of 100\n",
            "building tree 41 of 100\n",
            "building tree 42 of 100\n",
            "building tree 43 of 100\n",
            "building tree 44 of 100\n",
            "building tree 45 of 100\n",
            "building tree 46 of 100\n",
            "building tree 47 of 100\n",
            "building tree 48 of 100\n",
            "building tree 49 of 100\n",
            "building tree 50 of 100\n",
            "building tree 51 of 100\n",
            "building tree 52 of 100\n",
            "building tree 53 of 100\n",
            "building tree 54 of 100\n",
            "building tree 55 of 100\n",
            "building tree 56 of 100\n",
            "building tree 57 of 100\n",
            "building tree 58 of 100\n",
            "building tree 59 of 100\n",
            "building tree 60 of 100\n",
            "building tree 61 of 100\n",
            "building tree 62 of 100\n",
            "building tree 63 of 100\n",
            "building tree 64 of 100\n",
            "building tree 65 of 100\n",
            "building tree 66 of 100\n",
            "building tree 67 of 100\n",
            "building tree 68 of 100\n",
            "building tree 69 of 100\n",
            "building tree 70 of 100\n",
            "building tree 71 of 100\n",
            "building tree 72 of 100\n",
            "building tree 73 of 100\n",
            "building tree 74 of 100\n",
            "building tree 75 of 100\n",
            "building tree 76 of 100\n",
            "building tree 77 of 100\n",
            "building tree 78 of 100\n",
            "building tree 79 of 100\n",
            "building tree 80 of 100\n",
            "building tree 81 of 100\n",
            "building tree 82 of 100\n",
            "building tree 83 of 100\n",
            "building tree 84 of 100\n",
            "building tree 85 of 100\n",
            "building tree 86 of 100\n",
            "building tree 87 of 100\n",
            "building tree 88 of 100\n",
            "building tree 89 of 100\n",
            "building tree 90 of 100\n",
            "building tree 91 of 100\n",
            "building tree 92 of 100\n",
            "building tree 93 of 100\n",
            "building tree 94 of 100\n",
            "building tree 95 of 100\n",
            "building tree 96 of 100\n",
            "building tree 97 of 100\n",
            "building tree 98 of 100\n",
            "building tree 99 of 100\n",
            "building tree 100 of 100\n"
          ],
          "name": "stdout"
        },
        {
          "output_type": "stream",
          "text": [
            "[Parallel(n_jobs=1)]: Done 100 out of 100 | elapsed:  6.4min finished\n",
            "[Parallel(n_jobs=1)]: Using backend SequentialBackend with 1 concurrent workers.\n",
            "[Parallel(n_jobs=1)]: Done   1 out of   1 | elapsed:    0.0s remaining:    0.0s\n",
            "[Parallel(n_jobs=1)]: Done 100 out of 100 | elapsed:    4.1s finished\n"
          ],
          "name": "stderr"
        },
        {
          "output_type": "stream",
          "text": [
            "Default score: [-0.15405249]\n",
            "Accuracy is: 0.9421737396053883\n",
            "F1 is: 0.9410397762567464\n",
            "None\n",
            "-----------------------FOLD 4---------------------\n"
          ],
          "name": "stdout"
        },
        {
          "output_type": "stream",
          "text": [
            "[Parallel(n_jobs=1)]: Using backend SequentialBackend with 1 concurrent workers.\n",
            "[Parallel(n_jobs=1)]: Done   1 out of   1 | elapsed:    0.0s remaining:    0.0s\n",
            "[Parallel(n_jobs=1)]: Done 100 out of 100 | elapsed:    1.7s finished\n",
            "[Parallel(n_jobs=1)]: Using backend SequentialBackend with 1 concurrent workers.\n",
            "[Parallel(n_jobs=1)]: Done   1 out of   1 | elapsed:    0.0s remaining:    0.0s\n",
            "[Parallel(n_jobs=1)]: Done 100 out of 100 | elapsed:    1.6s finished\n",
            "[Parallel(n_jobs=1)]: Using backend SequentialBackend with 1 concurrent workers.\n",
            "[Parallel(n_jobs=1)]: Done   1 out of   1 | elapsed:    0.0s remaining:    0.0s\n",
            "[Parallel(n_jobs=1)]: Done 100 out of 100 | elapsed:    3.3s finished\n",
            "[Parallel(n_jobs=1)]: Using backend SequentialBackend with 1 concurrent workers.\n",
            "[Parallel(n_jobs=1)]: Done   1 out of   1 | elapsed:    0.0s remaining:    0.0s\n",
            "[Parallel(n_jobs=1)]: Done 100 out of 100 | elapsed:    2.4s finished\n",
            "/usr/local/lib/python3.6/dist-packages/ipykernel_launcher.py:48: DataConversionWarning: A column-vector y was passed when a 1d array was expected. Please change the shape of y to (n_samples,), for example using ravel().\n",
            "[Parallel(n_jobs=1)]: Using backend SequentialBackend with 1 concurrent workers.\n"
          ],
          "name": "stderr"
        },
        {
          "output_type": "stream",
          "text": [
            "building tree 1 of 100\n"
          ],
          "name": "stdout"
        },
        {
          "output_type": "stream",
          "text": [
            "[Parallel(n_jobs=1)]: Done   1 out of   1 | elapsed:    3.8s remaining:    0.0s\n"
          ],
          "name": "stderr"
        },
        {
          "output_type": "stream",
          "text": [
            "building tree 2 of 100\n",
            "building tree 3 of 100\n",
            "building tree 4 of 100\n",
            "building tree 5 of 100\n",
            "building tree 6 of 100\n",
            "building tree 7 of 100\n",
            "building tree 8 of 100\n",
            "building tree 9 of 100\n",
            "building tree 10 of 100\n",
            "building tree 11 of 100\n",
            "building tree 12 of 100\n",
            "building tree 13 of 100\n",
            "building tree 14 of 100\n",
            "building tree 15 of 100\n",
            "building tree 16 of 100\n",
            "building tree 17 of 100\n",
            "building tree 18 of 100\n",
            "building tree 19 of 100\n",
            "building tree 20 of 100\n",
            "building tree 21 of 100\n",
            "building tree 22 of 100\n",
            "building tree 23 of 100\n",
            "building tree 24 of 100\n",
            "building tree 25 of 100\n",
            "building tree 26 of 100\n",
            "building tree 27 of 100\n",
            "building tree 28 of 100\n",
            "building tree 29 of 100\n",
            "building tree 30 of 100\n",
            "building tree 31 of 100\n",
            "building tree 32 of 100\n",
            "building tree 33 of 100\n",
            "building tree 34 of 100\n",
            "building tree 35 of 100\n",
            "building tree 36 of 100\n",
            "building tree 37 of 100\n",
            "building tree 38 of 100\n",
            "building tree 39 of 100\n",
            "building tree 40 of 100\n",
            "building tree 41 of 100\n",
            "building tree 42 of 100\n",
            "building tree 43 of 100\n",
            "building tree 44 of 100\n",
            "building tree 45 of 100\n",
            "building tree 46 of 100\n",
            "building tree 47 of 100\n",
            "building tree 48 of 100\n",
            "building tree 49 of 100\n",
            "building tree 50 of 100\n",
            "building tree 51 of 100\n",
            "building tree 52 of 100\n",
            "building tree 53 of 100\n",
            "building tree 54 of 100\n",
            "building tree 55 of 100\n",
            "building tree 56 of 100\n",
            "building tree 57 of 100\n",
            "building tree 58 of 100\n",
            "building tree 59 of 100\n",
            "building tree 60 of 100\n",
            "building tree 61 of 100\n",
            "building tree 62 of 100\n",
            "building tree 63 of 100\n",
            "building tree 64 of 100\n",
            "building tree 65 of 100\n",
            "building tree 66 of 100\n",
            "building tree 67 of 100\n",
            "building tree 68 of 100\n",
            "building tree 69 of 100\n",
            "building tree 70 of 100\n",
            "building tree 71 of 100\n",
            "building tree 72 of 100\n",
            "building tree 73 of 100\n",
            "building tree 74 of 100\n",
            "building tree 75 of 100\n",
            "building tree 76 of 100\n",
            "building tree 77 of 100\n",
            "building tree 78 of 100\n",
            "building tree 79 of 100\n",
            "building tree 80 of 100\n",
            "building tree 81 of 100\n",
            "building tree 82 of 100\n",
            "building tree 83 of 100\n",
            "building tree 84 of 100\n",
            "building tree 85 of 100\n",
            "building tree 86 of 100\n",
            "building tree 87 of 100\n",
            "building tree 88 of 100\n",
            "building tree 89 of 100\n",
            "building tree 90 of 100\n",
            "building tree 91 of 100\n",
            "building tree 92 of 100\n",
            "building tree 93 of 100\n",
            "building tree 94 of 100\n",
            "building tree 95 of 100\n",
            "building tree 96 of 100\n",
            "building tree 97 of 100\n",
            "building tree 98 of 100\n",
            "building tree 99 of 100\n",
            "building tree 100 of 100\n"
          ],
          "name": "stdout"
        },
        {
          "output_type": "stream",
          "text": [
            "[Parallel(n_jobs=1)]: Done 100 out of 100 | elapsed:  6.4min finished\n",
            "[Parallel(n_jobs=1)]: Using backend SequentialBackend with 1 concurrent workers.\n",
            "[Parallel(n_jobs=1)]: Done   1 out of   1 | elapsed:    0.0s remaining:    0.0s\n",
            "[Parallel(n_jobs=1)]: Done 100 out of 100 | elapsed:    4.1s finished\n"
          ],
          "name": "stderr"
        },
        {
          "output_type": "stream",
          "text": [
            "Default score: [-0.16235156]\n",
            "Accuracy is: 0.9393455869567441\n",
            "F1 is: 0.9380697491558598\n",
            "None\n",
            "-----------------------FOLD 5---------------------\n"
          ],
          "name": "stdout"
        },
        {
          "output_type": "stream",
          "text": [
            "[Parallel(n_jobs=1)]: Using backend SequentialBackend with 1 concurrent workers.\n",
            "[Parallel(n_jobs=1)]: Done   1 out of   1 | elapsed:    0.0s remaining:    0.0s\n",
            "[Parallel(n_jobs=1)]: Done 100 out of 100 | elapsed:    1.7s finished\n",
            "[Parallel(n_jobs=1)]: Using backend SequentialBackend with 1 concurrent workers.\n",
            "[Parallel(n_jobs=1)]: Done   1 out of   1 | elapsed:    0.0s remaining:    0.0s\n",
            "[Parallel(n_jobs=1)]: Done 100 out of 100 | elapsed:    1.6s finished\n",
            "[Parallel(n_jobs=1)]: Using backend SequentialBackend with 1 concurrent workers.\n",
            "[Parallel(n_jobs=1)]: Done   1 out of   1 | elapsed:    0.0s remaining:    0.0s\n",
            "[Parallel(n_jobs=1)]: Done 100 out of 100 | elapsed:    3.3s finished\n",
            "[Parallel(n_jobs=1)]: Using backend SequentialBackend with 1 concurrent workers.\n",
            "[Parallel(n_jobs=1)]: Done   1 out of   1 | elapsed:    0.0s remaining:    0.0s\n",
            "[Parallel(n_jobs=1)]: Done 100 out of 100 | elapsed:    2.3s finished\n"
          ],
          "name": "stderr"
        },
        {
          "output_type": "stream",
          "text": [
            "---------------CROSS VALIDATION COMPLETE\n",
            "----------------TEST EVALUATION------------------\n",
            "----------Valid 1-------------\n",
            "Default score: -0.6742198833525772\n",
            "Accuracy is: 0.755869378571217\n",
            "F1 is: 0.7765099091871746\n",
            "None\n",
            "----------Valid 2-------------\n",
            "Default score: -0.9677466943503442\n",
            "Accuracy is: 0.6239973773358103\n",
            "F1 is: 0.7120157473243294\n",
            "None\n",
            "----------Valid 3-------------\n",
            "Default score: -0.8207357356578736\n",
            "Accuracy is: 0.6916734511851733\n",
            "F1 is: 0.7412065809125525\n",
            "None\n"
          ],
          "name": "stdout"
        },
        {
          "output_type": "display_data",
          "data": {
            "image/png": "[encoded data removed]",
            "text/plain": [
              "<Figure size 864x576 with 1 Axes>"
            ]
          },
          "metadata": {
            "tags": [],
            "needs_background": "light"
          }
        }
      ]
    },
    {
      "cell_type": "code",
      "metadata": {
        "id": "tMh-uFjk8DTB",
        "colab": {
          "base_uri": "https://localhost:8080/",
          "height": 833
        },
        "outputId": "4a5d9b8e-654c-41b3-cdbb-c73a6dd83d5d"
      },
      "source": [
        "for i,j in enumerate(testdata.columns):\n",
        "    print(i,j)"
      ],
      "execution_count": null,
      "outputs": [
        {
          "output_type": "stream",
          "text": [
            "0 DEPTH_MD\n",
            "1 X_LOC\n",
            "2 Y_LOC\n",
            "3 Z_LOC\n",
            "4 CALI\n",
            "5 RSHA\n",
            "6 RMED\n",
            "7 RDEP\n",
            "8 RHOB\n",
            "9 GR\n",
            "10 NPHI\n",
            "11 PEF\n",
            "12 DTC\n",
            "13 SP\n",
            "14 BS\n",
            "15 ROP\n",
            "16 DCAL\n",
            "17 DRHO\n",
            "18 MUDWEIGHT\n",
            "19 RMIC\n",
            "20 ROPA\n",
            "21 RXO\n",
            "22 FORMATION_enc\n",
            "23 GROUP_enc\n",
            "24 FORMATION_mean_target\n",
            "25 GROUP_mean_target\n",
            "26 GROUP_BAAT GP.\n",
            "27 GROUP_BOKNFJORD GP.\n",
            "28 GROUP_CROMER KNOLL GP.\n",
            "29 GROUP_DUNLIN GP.\n",
            "30 GROUP_HEGRE GP.\n",
            "31 GROUP_HORDALAND GP.\n",
            "32 GROUP_NORDLAND GP.\n",
            "33 GROUP_ROGALAND GP.\n",
            "34 GROUP_ROTLIEGENDES GP.\n",
            "35 GROUP_SHETLAND GP.\n",
            "36 GROUP_TYNE GP.\n",
            "37 GROUP_VESTLAND GP.\n",
            "38 GROUP_VIKING GP.\n",
            "39 GROUP_ZECHSTEIN GP.\n",
            "40 log_NPHI\n",
            "41 log_RHOB\n",
            "42 log_RSHA\n",
            "43 log_RMED\n",
            "44 log_RDEP\n",
            "45 space\n",
            "46 depth_y\n",
            "47 density\n"
          ],
          "name": "stdout"
        }
      ]
    },
    {
      "cell_type": "code",
      "metadata": {
        "id": "vp5lyzA5jT61",
        "colab": {
          "base_uri": "https://localhost:8080/",
          "height": 230
        },
        "outputId": "047851d7-57f7-4482-be06-77c2610a4d8e"
      },
      "source": [
        "print(show_evaluation(pred1, valid1_lithology))\n",
        "print(show_evaluation(val1, valid2_lithology))\n",
        "print(show_evaluation(open_test1, valid3_lithology))"
      ],
      "execution_count": null,
      "outputs": [
        {
          "output_type": "stream",
          "text": [
            "Default score: -0.7877586819433342\n",
            "Accuracy is: 0.7118058639508147\n",
            "F1 is: 0.736758172169252\n",
            "None\n",
            "Default score: -0.9331261610752923\n",
            "Accuracy is: 0.6366735875860562\n",
            "F1 is: 0.7061456748458531\n",
            "None\n",
            "Default score: -0.8623568120887156\n",
            "Accuracy is: 0.6753698642923445\n",
            "F1 is: 0.7222959513287648\n",
            "None\n"
          ],
          "name": "stdout"
        }
      ]
    },
    {
      "cell_type": "code",
      "metadata": {
        "id": "sVdMpU-L5d2U",
        "colab": {
          "base_uri": "https://localhost:8080/",
          "height": 34
        },
        "outputId": "29787b53-bf38-40cc-e61c-ba35b609b48d"
      },
      "source": [
        "open_test11.shape"
      ],
      "execution_count": null,
      "outputs": [
        {
          "output_type": "execute_result",
          "data": {
            "text/plain": [
              "(136786,)"
            ]
          },
          "metadata": {
            "tags": []
          },
          "execution_count": 17
        }
      ]
    },
    {
      "cell_type": "code",
      "metadata": {
        "id": "WGeySZba1mS3"
      },
      "source": [
        "class Model():\n",
        "    \n",
        "    def __init__(self, train, test, validation1, validation2, validation3, train_label, valid_label):\n",
        "        \n",
        "        \n",
        "        self.train = train\n",
        "        self.test = test\n",
        "        self.validation1 = validation1\n",
        "        self.validation2 = validation2\n",
        "        self.validation3 = validation3\n",
        "        self.train_label = train_label\n",
        "        self.valid_label = valid_label\n",
        "        \n",
        "    def __call__(self, plot = True):\n",
        "        return self.fit(plot)\n",
        "    \n",
        "    def fit(self, plot):\n",
        " \n",
        "      self.x_train, self.x_test, self.y_train, self.y_test = ms.train_test_split(self.train, \n",
        "                                                                                   pd.DataFrame(np.array(self.train_label)), \n",
        "                                                                                   test_size=0.2,\n",
        "                                                                                   random_state=212)\n",
        "      \n",
        "      def show_evaluation(pred, true):\n",
        "        \n",
        "        print(f'Default score: {score(true.values, pred)}')\n",
        "        print(f'Accuracy is: {accuracy_score(true, pred)}')\n",
        "        print(f'F1 is: {f1_score(pred, true.values, average=\"weighted\")}')\n",
        " \n",
        "      split = 5\n",
        "      kf = StratifiedKFold(n_splits=split, shuffle=True)\n",
        "  \n",
        "      pred = np.zeros((len(self.test), 12))\n",
        "      val1 = np.zeros((len(self.validation1), 12))\n",
        "      val2 = np.zeros((len(self.validation2), 12))\n",
        "      val3 = np.zeros((len(self.validation3), 12))\n",
        " \n",
        "      model = RandomForestClassifier(n_estimators=100, max_depth=12, class_weight='balanced', verbose=2)\n",
        "      i = 1\n",
        "      for (train_index, test_index) in kf.split(pd.DataFrame(traindata), pd.DataFrame(lithology)):\n",
        "        X_train,X_test = pd.DataFrame(traindata).iloc[train_index], pd.DataFrame(traindata).iloc[test_index]\n",
        "        Y_train,Y_test = pd.DataFrame(lithology).iloc[train_index],pd.DataFrame(lithology).iloc[test_index]\n",
        "    \n",
        "        \n",
        "        #model.fit(X_train, Y_train)\n",
        "        prediction = model.predict(X_test)\n",
        "        print(show_evaluation(prediction, Y_test))\n",
        " \n",
        "        print(f'-----------------------FOLD {i}---------------------')\n",
        "        i+=1\n",
        " \n",
        "        pred += model.predict_proba(self.test)\n",
        "        val1 += model.predict_proba(self.validation1)\n",
        "        val2 += model.predict_proba(self.validation2)\n",
        "        val3 += model.predict_proba(self.validation3)\n",
        "      \n",
        "      pred = pd.DataFrame(pred/split)\n",
        "      val1 = pd.DataFrame(val1/split)\n",
        "      val2 = pd.DataFrame(val2/split)\n",
        "      val3 = pd.DataFrame(val3/split)\n",
        "    \n",
        "      pred = np.array(pd.DataFrame(pred).idxmax(axis=1))\n",
        "      val1 = np.array(pd.DataFrame(val1).idxmax(axis=1))\n",
        "      val2 = np.array(pd.DataFrame(val2).idxmax(axis=1))\n",
        "      val3 = np.array(pd.DataFrame(val3).idxmax(axis=1))\n",
        " \n",
        "      print('---------------CROSS VALIDATION COMPLETE')\n",
        "      print('----------------TEST EVALUATION------------------')\n",
        "\n",
        "      print(show_evaluation(pred, self.valid_label))\n",
        "                  \n",
        "      if plot: self.plot_feat_imp(model)\n",
        "      return pred, val1, val2, val3, model\n",
        "              \n",
        "              \n",
        "    def plot_feat_imp(self, model):\n",
        "        feat_imp = pd.Series(model.feature_importances_).sort_values(ascending=False)\n",
        "        plt.figure(figsize=(12,8))\n",
        "        feat_imp.plot(kind='bar', title='Feature Importances')\n",
        "        plt.ylabel('Feature Importance Score')"
      ],
      "execution_count": null,
      "outputs": []
    },
    {
      "cell_type": "code",
      "metadata": {
        "id": "5rg_E65hGcmL",
        "colab": {
          "base_uri": "https://localhost:8080/",
          "height": 1000
        },
        "outputId": "3657fa2e-f0f9-4d2f-ba17-60343652968c"
      },
      "source": [
        "func1_= Model(train1, validation, validation1, validation2, validation3, ytrain1, valid_target)\n",
        "pred1, val1, open_test1, open_test11, model1 = func1_()"
      ],
      "execution_count": null,
      "outputs": [
        {
          "output_type": "stream",
          "text": [
            "/usr/local/lib/python3.6/dist-packages/sklearn/preprocessing/_label.py:235: DataConversionWarning: A column-vector y was passed when a 1d array was expected. Please change the shape of y to (n_samples, ), for example using ravel().\n",
            "  y = column_or_1d(y, warn=True)\n",
            "/usr/local/lib/python3.6/dist-packages/sklearn/preprocessing/_label.py:268: DataConversionWarning: A column-vector y was passed when a 1d array was expected. Please change the shape of y to (n_samples, ), for example using ravel().\n",
            "  y = column_or_1d(y, warn=True)\n"
          ],
          "name": "stderr"
        },
        {
          "output_type": "stream",
          "text": [
            "[0]\tvalidation_0-mlogloss:2.15831\n",
            "Will train until validation_0-mlogloss hasn't improved in 100 rounds.\n",
            "[100]\tvalidation_0-mlogloss:0.741207\n",
            "[200]\tvalidation_0-mlogloss:0.380388\n",
            "[300]\tvalidation_0-mlogloss:0.243806\n",
            "[400]\tvalidation_0-mlogloss:0.186369\n",
            "[500]\tvalidation_0-mlogloss:0.16036\n",
            "[600]\tvalidation_0-mlogloss:0.146233\n",
            "[700]\tvalidation_0-mlogloss:0.137334\n",
            "[800]\tvalidation_0-mlogloss:0.130712\n",
            "[900]\tvalidation_0-mlogloss:0.125481\n",
            "[1000]\tvalidation_0-mlogloss:0.121491\n",
            "[1100]\tvalidation_0-mlogloss:0.117777\n",
            "[1200]\tvalidation_0-mlogloss:0.114802\n",
            "[1300]\tvalidation_0-mlogloss:0.1123\n",
            "[1400]\tvalidation_0-mlogloss:0.110036\n",
            "[1500]\tvalidation_0-mlogloss:0.107951\n",
            "[1600]\tvalidation_0-mlogloss:0.106085\n",
            "[1700]\tvalidation_0-mlogloss:0.104421\n",
            "[1800]\tvalidation_0-mlogloss:0.102852\n",
            "[1900]\tvalidation_0-mlogloss:0.101483\n",
            "[2000]\tvalidation_0-mlogloss:0.100277\n",
            "[2100]\tvalidation_0-mlogloss:0.099138\n",
            "[2200]\tvalidation_0-mlogloss:0.098187\n",
            "[2300]\tvalidation_0-mlogloss:0.097297\n",
            "[2400]\tvalidation_0-mlogloss:0.096489\n",
            "[2500]\tvalidation_0-mlogloss:0.095686\n",
            "[2600]\tvalidation_0-mlogloss:0.09505\n",
            "[2700]\tvalidation_0-mlogloss:0.094326\n",
            "[2800]\tvalidation_0-mlogloss:0.093759\n",
            "[2900]\tvalidation_0-mlogloss:0.093258\n",
            "[3000]\tvalidation_0-mlogloss:0.09287\n",
            "[3100]\tvalidation_0-mlogloss:0.092478\n",
            "[3200]\tvalidation_0-mlogloss:0.092052\n",
            "[3300]\tvalidation_0-mlogloss:0.091711\n",
            "[3400]\tvalidation_0-mlogloss:0.091393\n",
            "[3500]\tvalidation_0-mlogloss:0.091137\n",
            "[3600]\tvalidation_0-mlogloss:0.090827\n",
            "[3700]\tvalidation_0-mlogloss:0.090552\n",
            "[3800]\tvalidation_0-mlogloss:0.090335\n",
            "[3900]\tvalidation_0-mlogloss:0.090123\n",
            "[4000]\tvalidation_0-mlogloss:0.089935\n",
            "[4100]\tvalidation_0-mlogloss:0.089775\n",
            "[4200]\tvalidation_0-mlogloss:0.089675\n",
            "[4300]\tvalidation_0-mlogloss:0.089561\n",
            "[4400]\tvalidation_0-mlogloss:0.089473\n",
            "[4500]\tvalidation_0-mlogloss:0.089378\n",
            "[4600]\tvalidation_0-mlogloss:0.089321\n",
            "[4700]\tvalidation_0-mlogloss:0.089322\n",
            "[4800]\tvalidation_0-mlogloss:0.089238\n",
            "[4900]\tvalidation_0-mlogloss:0.089198\n",
            "[5000]\tvalidation_0-mlogloss:0.089132\n",
            "[5100]\tvalidation_0-mlogloss:0.089104\n",
            "[5200]\tvalidation_0-mlogloss:0.089096\n",
            "Stopping. Best iteration:\n",
            "[5194]\tvalidation_0-mlogloss:0.089094\n",
            "\n",
            "----------------TEST EVALUATION------------------\n",
            "Default score: -0.9150889003627506\n",
            "Accuracy is: 0.6673259724097758\n",
            "F1 is: 0.7384520736321792\n",
            "None\n"
          ],
          "name": "stdout"
        },
        {
          "output_type": "display_data",
          "data": {
            "image/png": "[encoded data removed]",
            "text/plain": [
              "<Figure size 864x576 with 1 Axes>"
            ]
          },
          "metadata": {
            "tags": [],
            "needs_background": "light"
          }
        }
      ]
    },
    {
      "cell_type": "code",
      "metadata": {
        "id": "hy8f9jiBGcgW",
        "colab": {
          "base_uri": "https://localhost:8080/",
          "height": 1000
        },
        "outputId": "4855ce5a-4a99-4aec-8cef-2b2e6cbec7b2"
      },
      "source": [
        "func2_= Model(train2, validation, validation1, validation2, validation3, ytrain2, valid_target)\n",
        "pred2, val2, open_test2, open_test22, model2 = func2_()"
      ],
      "execution_count": null,
      "outputs": [
        {
          "output_type": "stream",
          "text": [
            "0:\tlearn: 2.1606742\ttest: 2.1606408\tbest: 2.1606408 (0)\ttotal: 36.5ms\tremaining: 1h 47s\n",
            "100:\tlearn: 0.2800473\ttest: 0.2872061\tbest: 0.2872061 (100)\ttotal: 2.32s\tremaining: 38m 11s\n",
            "200:\tlearn: 0.2022982\ttest: 0.2116065\tbest: 0.2116065 (200)\ttotal: 4.47s\tremaining: 37m 1s\n",
            "300:\tlearn: 0.1750029\ttest: 0.1857612\tbest: 0.1857612 (300)\ttotal: 6.52s\tremaining: 35m 59s\n",
            "400:\tlearn: 0.1589731\ttest: 0.1710691\tbest: 0.1710691 (400)\ttotal: 8.46s\tremaining: 35m 2s\n",
            "500:\tlearn: 0.1475012\ttest: 0.1609604\tbest: 0.1609604 (500)\ttotal: 10.4s\tremaining: 34m 25s\n",
            "600:\tlearn: 0.1384779\ttest: 0.1530879\tbest: 0.1530879 (600)\ttotal: 12.3s\tremaining: 33m 59s\n",
            "700:\tlearn: 0.1315790\ttest: 0.1473234\tbest: 0.1473234 (700)\ttotal: 14.4s\tremaining: 33m 56s\n",
            "800:\tlearn: 0.1257846\ttest: 0.1428314\tbest: 0.1428314 (800)\ttotal: 16.3s\tremaining: 33m 39s\n",
            "900:\tlearn: 0.1205401\ttest: 0.1387226\tbest: 0.1387226 (900)\ttotal: 18.2s\tremaining: 33m 26s\n",
            "1000:\tlearn: 0.1158765\ttest: 0.1352435\tbest: 0.1352435 (1000)\ttotal: 20.3s\tremaining: 33m 27s\n",
            "1100:\tlearn: 0.1118466\ttest: 0.1321931\tbest: 0.1321931 (1100)\ttotal: 22.3s\tremaining: 33m 25s\n",
            "1200:\tlearn: 0.1081854\ttest: 0.1296751\tbest: 0.1296751 (1200)\ttotal: 24.4s\tremaining: 33m 25s\n",
            "1300:\tlearn: 0.1047234\ttest: 0.1270736\tbest: 0.1270736 (1300)\ttotal: 26.4s\tremaining: 33m 23s\n",
            "1400:\tlearn: 0.1015070\ttest: 0.1246873\tbest: 0.1246873 (1400)\ttotal: 28.4s\tremaining: 33m 16s\n",
            "1500:\tlearn: 0.0983807\ttest: 0.1226240\tbest: 0.1226240 (1500)\ttotal: 30.4s\tremaining: 33m 16s\n",
            "1600:\tlearn: 0.0955625\ttest: 0.1206081\tbest: 0.1206081 (1600)\ttotal: 32.5s\tremaining: 33m 14s\n",
            "1700:\tlearn: 0.0930350\ttest: 0.1189067\tbest: 0.1189067 (1700)\ttotal: 34.4s\tremaining: 33m 9s\n",
            "1800:\tlearn: 0.0906539\ttest: 0.1173654\tbest: 0.1173654 (1800)\ttotal: 36.4s\tremaining: 33m 4s\n",
            "1900:\tlearn: 0.0884135\ttest: 0.1158635\tbest: 0.1158635 (1900)\ttotal: 38.4s\tremaining: 33m 1s\n",
            "2000:\tlearn: 0.0863397\ttest: 0.1146947\tbest: 0.1146947 (2000)\ttotal: 40.4s\tremaining: 32m 56s\n",
            "2100:\tlearn: 0.0842446\ttest: 0.1134175\tbest: 0.1134175 (2100)\ttotal: 42.4s\tremaining: 32m 53s\n",
            "2200:\tlearn: 0.0823750\ttest: 0.1122463\tbest: 0.1122463 (2200)\ttotal: 44.4s\tremaining: 32m 52s\n",
            "2300:\tlearn: 0.0804431\ttest: 0.1110408\tbest: 0.1110408 (2300)\ttotal: 46.3s\tremaining: 32m 47s\n",
            "2400:\tlearn: 0.0786593\ttest: 0.1099826\tbest: 0.1099826 (2400)\ttotal: 48.3s\tremaining: 32m 42s\n",
            "2500:\tlearn: 0.0770039\ttest: 0.1090411\tbest: 0.1090411 (2500)\ttotal: 50.3s\tremaining: 32m 39s\n",
            "2600:\tlearn: 0.0753830\ttest: 0.1081768\tbest: 0.1081768 (2600)\ttotal: 52.2s\tremaining: 32m 34s\n",
            "2700:\tlearn: 0.0738935\ttest: 0.1073004\tbest: 0.1073004 (2700)\ttotal: 54.1s\tremaining: 32m 28s\n",
            "2800:\tlearn: 0.0722991\ttest: 0.1064120\tbest: 0.1064120 (2800)\ttotal: 56.1s\tremaining: 32m 27s\n",
            "2900:\tlearn: 0.0708325\ttest: 0.1055506\tbest: 0.1055491 (2899)\ttotal: 58s\tremaining: 32m 22s\n",
            "3000:\tlearn: 0.0694795\ttest: 0.1047948\tbest: 0.1047948 (3000)\ttotal: 1m\tremaining: 32m 20s\n",
            "3100:\tlearn: 0.0681883\ttest: 0.1041346\tbest: 0.1041346 (3100)\ttotal: 1m 2s\tremaining: 32m 18s\n",
            "3200:\tlearn: 0.0667949\ttest: 0.1034047\tbest: 0.1034047 (3200)\ttotal: 1m 4s\tremaining: 32m 16s\n",
            "3300:\tlearn: 0.0655223\ttest: 0.1027202\tbest: 0.1027202 (3300)\ttotal: 1m 6s\tremaining: 32m 14s\n",
            "3400:\tlearn: 0.0642914\ttest: 0.1019483\tbest: 0.1019483 (3400)\ttotal: 1m 8s\tremaining: 32m 11s\n",
            "3500:\tlearn: 0.0631496\ttest: 0.1013441\tbest: 0.1013441 (3500)\ttotal: 1m 10s\tremaining: 32m 9s\n",
            "3600:\tlearn: 0.0619962\ttest: 0.1007520\tbest: 0.1007520 (3600)\ttotal: 1m 12s\tremaining: 32m 8s\n",
            "3700:\tlearn: 0.0610015\ttest: 0.1002699\tbest: 0.1002688 (3699)\ttotal: 1m 14s\tremaining: 32m 5s\n",
            "3800:\tlearn: 0.0598658\ttest: 0.0997697\tbest: 0.0997697 (3800)\ttotal: 1m 15s\tremaining: 32m 2s\n",
            "3900:\tlearn: 0.0588284\ttest: 0.0992101\tbest: 0.0991905 (3898)\ttotal: 1m 17s\tremaining: 31m 59s\n",
            "4000:\tlearn: 0.0578245\ttest: 0.0987457\tbest: 0.0987389 (3995)\ttotal: 1m 19s\tremaining: 31m 56s\n",
            "4100:\tlearn: 0.0569025\ttest: 0.0983387\tbest: 0.0983387 (4100)\ttotal: 1m 21s\tremaining: 31m 53s\n",
            "4200:\tlearn: 0.0560672\ttest: 0.0979069\tbest: 0.0979069 (4200)\ttotal: 1m 23s\tremaining: 31m 49s\n",
            "4300:\tlearn: 0.0551700\ttest: 0.0974768\tbest: 0.0974768 (4300)\ttotal: 1m 25s\tremaining: 31m 45s\n",
            "4400:\tlearn: 0.0542971\ttest: 0.0969810\tbest: 0.0969810 (4400)\ttotal: 1m 27s\tremaining: 31m 41s\n",
            "4500:\tlearn: 0.0534105\ttest: 0.0966399\tbest: 0.0966399 (4500)\ttotal: 1m 29s\tremaining: 31m 37s\n",
            "4600:\tlearn: 0.0525755\ttest: 0.0962423\tbest: 0.0962423 (4600)\ttotal: 1m 31s\tremaining: 31m 34s\n",
            "4700:\tlearn: 0.0518241\ttest: 0.0958776\tbest: 0.0958766 (4698)\ttotal: 1m 33s\tremaining: 31m 32s\n",
            "4800:\tlearn: 0.0510063\ttest: 0.0955652\tbest: 0.0955609 (4799)\ttotal: 1m 35s\tremaining: 31m 28s\n",
            "4900:\tlearn: 0.0502204\ttest: 0.0951917\tbest: 0.0951899 (4899)\ttotal: 1m 37s\tremaining: 31m 26s\n",
            "5000:\tlearn: 0.0495079\ttest: 0.0948816\tbest: 0.0948816 (5000)\ttotal: 1m 39s\tremaining: 31m 22s\n",
            "5100:\tlearn: 0.0487709\ttest: 0.0945385\tbest: 0.0945385 (5100)\ttotal: 1m 41s\tremaining: 31m 20s\n",
            "5200:\tlearn: 0.0480720\ttest: 0.0942614\tbest: 0.0942614 (5200)\ttotal: 1m 42s\tremaining: 31m 17s\n",
            "5300:\tlearn: 0.0473586\ttest: 0.0939241\tbest: 0.0939224 (5299)\ttotal: 1m 44s\tremaining: 31m 13s\n",
            "5400:\tlearn: 0.0466600\ttest: 0.0935900\tbest: 0.0935900 (5400)\ttotal: 1m 46s\tremaining: 31m 10s\n",
            "5500:\tlearn: 0.0459944\ttest: 0.0933376\tbest: 0.0933376 (5500)\ttotal: 1m 48s\tremaining: 31m 7s\n",
            "5600:\tlearn: 0.0453665\ttest: 0.0930840\tbest: 0.0930840 (5600)\ttotal: 1m 50s\tremaining: 31m 5s\n",
            "5700:\tlearn: 0.0447805\ttest: 0.0928056\tbest: 0.0928041 (5699)\ttotal: 1m 52s\tremaining: 31m 3s\n",
            "5800:\tlearn: 0.0441720\ttest: 0.0925018\tbest: 0.0925015 (5799)\ttotal: 1m 54s\tremaining: 31m 2s\n",
            "5900:\tlearn: 0.0435963\ttest: 0.0922697\tbest: 0.0922669 (5893)\ttotal: 1m 56s\tremaining: 31m\n",
            "6000:\tlearn: 0.0430281\ttest: 0.0920423\tbest: 0.0920363 (5998)\ttotal: 1m 58s\tremaining: 30m 58s\n",
            "6100:\tlearn: 0.0424210\ttest: 0.0917452\tbest: 0.0917452 (6100)\ttotal: 2m\tremaining: 30m 56s\n",
            "6200:\tlearn: 0.0418519\ttest: 0.0915425\tbest: 0.0915425 (6200)\ttotal: 2m 2s\tremaining: 30m 53s\n",
            "6300:\tlearn: 0.0413069\ttest: 0.0913221\tbest: 0.0913169 (6299)\ttotal: 2m 4s\tremaining: 30m 50s\n",
            "6400:\tlearn: 0.0407880\ttest: 0.0910755\tbest: 0.0910744 (6392)\ttotal: 2m 6s\tremaining: 30m 47s\n",
            "6500:\tlearn: 0.0402657\ttest: 0.0908465\tbest: 0.0908445 (6499)\ttotal: 2m 8s\tremaining: 30m 45s\n",
            "6600:\tlearn: 0.0397571\ttest: 0.0906738\tbest: 0.0906668 (6597)\ttotal: 2m 10s\tremaining: 30m 43s\n",
            "6700:\tlearn: 0.0392379\ttest: 0.0904013\tbest: 0.0904013 (6700)\ttotal: 2m 12s\tremaining: 30m 40s\n",
            "6800:\tlearn: 0.0387277\ttest: 0.0902022\tbest: 0.0902022 (6800)\ttotal: 2m 14s\tremaining: 30m 38s\n",
            "6900:\tlearn: 0.0382229\ttest: 0.0899521\tbest: 0.0899498 (6899)\ttotal: 2m 16s\tremaining: 30m 36s\n",
            "7000:\tlearn: 0.0377482\ttest: 0.0898005\tbest: 0.0898005 (7000)\ttotal: 2m 18s\tremaining: 30m 34s\n",
            "7100:\tlearn: 0.0373065\ttest: 0.0896178\tbest: 0.0896156 (7097)\ttotal: 2m 19s\tremaining: 30m 31s\n",
            "7200:\tlearn: 0.0368078\ttest: 0.0893794\tbest: 0.0893794 (7200)\ttotal: 2m 21s\tremaining: 30m 29s\n",
            "7300:\tlearn: 0.0363381\ttest: 0.0891984\tbest: 0.0891892 (7297)\ttotal: 2m 23s\tremaining: 30m 26s\n",
            "7400:\tlearn: 0.0358974\ttest: 0.0889933\tbest: 0.0889933 (7400)\ttotal: 2m 25s\tremaining: 30m 24s\n",
            "7500:\tlearn: 0.0354507\ttest: 0.0887703\tbest: 0.0887703 (7500)\ttotal: 2m 27s\tremaining: 30m 22s\n",
            "7600:\tlearn: 0.0350270\ttest: 0.0886472\tbest: 0.0886367 (7584)\ttotal: 2m 29s\tremaining: 30m 20s\n",
            "7700:\tlearn: 0.0346115\ttest: 0.0885272\tbest: 0.0885269 (7696)\ttotal: 2m 31s\tremaining: 30m 18s\n",
            "7800:\tlearn: 0.0341924\ttest: 0.0884160\tbest: 0.0884119 (7786)\ttotal: 2m 33s\tremaining: 30m 16s\n",
            "7900:\tlearn: 0.0337814\ttest: 0.0882171\tbest: 0.0882144 (7899)\ttotal: 2m 35s\tremaining: 30m 14s\n",
            "8000:\tlearn: 0.0333720\ttest: 0.0880807\tbest: 0.0880736 (7994)\ttotal: 2m 37s\tremaining: 30m 11s\n",
            "8100:\tlearn: 0.0329821\ttest: 0.0879593\tbest: 0.0879548 (8098)\ttotal: 2m 39s\tremaining: 30m 8s\n",
            "8200:\tlearn: 0.0325970\ttest: 0.0878688\tbest: 0.0878644 (8174)\ttotal: 2m 41s\tremaining: 30m 6s\n",
            "8300:\tlearn: 0.0322256\ttest: 0.0877815\tbest: 0.0877815 (8300)\ttotal: 2m 43s\tremaining: 30m 4s\n",
            "8400:\tlearn: 0.0318460\ttest: 0.0876376\tbest: 0.0876332 (8396)\ttotal: 2m 45s\tremaining: 30m 2s\n",
            "8500:\tlearn: 0.0314758\ttest: 0.0874899\tbest: 0.0874899 (8500)\ttotal: 2m 47s\tremaining: 30m\n",
            "8600:\tlearn: 0.0311405\ttest: 0.0873733\tbest: 0.0873733 (8600)\ttotal: 2m 49s\tremaining: 29m 58s\n",
            "8700:\tlearn: 0.0308161\ttest: 0.0872438\tbest: 0.0872409 (8689)\ttotal: 2m 51s\tremaining: 29m 55s\n",
            "8800:\tlearn: 0.0304731\ttest: 0.0871261\tbest: 0.0871253 (8796)\ttotal: 2m 53s\tremaining: 29m 53s\n",
            "8900:\tlearn: 0.0301297\ttest: 0.0870141\tbest: 0.0870141 (8900)\ttotal: 2m 54s\tremaining: 29m 50s\n",
            "9000:\tlearn: 0.0297786\ttest: 0.0868921\tbest: 0.0868921 (9000)\ttotal: 2m 56s\tremaining: 29m 48s\n",
            "9100:\tlearn: 0.0294603\ttest: 0.0867809\tbest: 0.0867803 (9095)\ttotal: 2m 58s\tremaining: 29m 46s\n",
            "9200:\tlearn: 0.0291529\ttest: 0.0866664\tbest: 0.0866655 (9198)\ttotal: 3m\tremaining: 29m 44s\n",
            "9300:\tlearn: 0.0288394\ttest: 0.0866100\tbest: 0.0866042 (9275)\ttotal: 3m 2s\tremaining: 29m 42s\n",
            "9400:\tlearn: 0.0285300\ttest: 0.0865068\tbest: 0.0865030 (9398)\ttotal: 3m 4s\tremaining: 29m 40s\n",
            "9500:\tlearn: 0.0282383\ttest: 0.0864068\tbest: 0.0864001 (9497)\ttotal: 3m 6s\tremaining: 29m 38s\n",
            "9600:\tlearn: 0.0279223\ttest: 0.0862693\tbest: 0.0862685 (9599)\ttotal: 3m 8s\tremaining: 29m 36s\n",
            "9700:\tlearn: 0.0276273\ttest: 0.0861658\tbest: 0.0861658 (9700)\ttotal: 3m 10s\tremaining: 29m 34s\n",
            "9800:\tlearn: 0.0273283\ttest: 0.0860540\tbest: 0.0860473 (9791)\ttotal: 3m 12s\tremaining: 29m 32s\n",
            "9900:\tlearn: 0.0270411\ttest: 0.0859703\tbest: 0.0859663 (9898)\ttotal: 3m 14s\tremaining: 29m 29s\n",
            "10000:\tlearn: 0.0267679\ttest: 0.0858849\tbest: 0.0858819 (9995)\ttotal: 3m 16s\tremaining: 29m 26s\n",
            "10100:\tlearn: 0.0264896\ttest: 0.0858083\tbest: 0.0858083 (10100)\ttotal: 3m 18s\tremaining: 29m 24s\n",
            "10200:\tlearn: 0.0262277\ttest: 0.0857791\tbest: 0.0857763 (10174)\ttotal: 3m 20s\tremaining: 29m 23s\n",
            "10300:\tlearn: 0.0259372\ttest: 0.0856434\tbest: 0.0856423 (10299)\ttotal: 3m 22s\tremaining: 29m 20s\n",
            "10400:\tlearn: 0.0256716\ttest: 0.0855822\tbest: 0.0855822 (10400)\ttotal: 3m 24s\tremaining: 29m 18s\n",
            "10500:\tlearn: 0.0254069\ttest: 0.0855009\tbest: 0.0854743 (10477)\ttotal: 3m 26s\tremaining: 29m 16s\n",
            "10600:\tlearn: 0.0251526\ttest: 0.0853668\tbest: 0.0853668 (10600)\ttotal: 3m 28s\tremaining: 29m 14s\n",
            "10700:\tlearn: 0.0249120\ttest: 0.0853141\tbest: 0.0853141 (10700)\ttotal: 3m 29s\tremaining: 29m 12s\n",
            "10800:\tlearn: 0.0246533\ttest: 0.0852295\tbest: 0.0852269 (10795)\ttotal: 3m 31s\tremaining: 29m 9s\n",
            "10900:\tlearn: 0.0244057\ttest: 0.0851414\tbest: 0.0851414 (10900)\ttotal: 3m 33s\tremaining: 29m 7s\n",
            "11000:\tlearn: 0.0241673\ttest: 0.0850810\tbest: 0.0850752 (10987)\ttotal: 3m 35s\tremaining: 29m 5s\n",
            "11100:\tlearn: 0.0239310\ttest: 0.0850376\tbest: 0.0850303 (11090)\ttotal: 3m 37s\tremaining: 29m 2s\n",
            "11200:\tlearn: 0.0236903\ttest: 0.0849258\tbest: 0.0849245 (11199)\ttotal: 3m 39s\tremaining: 29m\n",
            "11300:\tlearn: 0.0234632\ttest: 0.0849098\tbest: 0.0848985 (11237)\ttotal: 3m 41s\tremaining: 28m 57s\n",
            "11400:\tlearn: 0.0232424\ttest: 0.0848576\tbest: 0.0848553 (11391)\ttotal: 3m 43s\tremaining: 28m 55s\n",
            "11500:\tlearn: 0.0230186\ttest: 0.0848356\tbest: 0.0848348 (11424)\ttotal: 3m 45s\tremaining: 28m 53s\n",
            "11600:\tlearn: 0.0227923\ttest: 0.0847629\tbest: 0.0847602 (11597)\ttotal: 3m 47s\tremaining: 28m 50s\n",
            "11700:\tlearn: 0.0225771\ttest: 0.0847286\tbest: 0.0847235 (11692)\ttotal: 3m 49s\tremaining: 28m 48s\n",
            "11800:\tlearn: 0.0223604\ttest: 0.0847080\tbest: 0.0846993 (11781)\ttotal: 3m 50s\tremaining: 28m 46s\n",
            "11900:\tlearn: 0.0221607\ttest: 0.0846909\tbest: 0.0846825 (11880)\ttotal: 3m 52s\tremaining: 28m 43s\n",
            "12000:\tlearn: 0.0219509\ttest: 0.0846477\tbest: 0.0846399 (11995)\ttotal: 3m 54s\tremaining: 28m 41s\n",
            "12100:\tlearn: 0.0217447\ttest: 0.0846179\tbest: 0.0846080 (12072)\ttotal: 3m 56s\tremaining: 28m 39s\n",
            "12200:\tlearn: 0.0215497\ttest: 0.0845668\tbest: 0.0845668 (12200)\ttotal: 3m 58s\tremaining: 28m 36s\n",
            "12300:\tlearn: 0.0213401\ttest: 0.0845097\tbest: 0.0845033 (12263)\ttotal: 4m\tremaining: 28m 34s\n",
            "12400:\tlearn: 0.0211387\ttest: 0.0844972\tbest: 0.0844909 (12358)\ttotal: 4m 2s\tremaining: 28m 32s\n",
            "12500:\tlearn: 0.0209469\ttest: 0.0844607\tbest: 0.0844605 (12499)\ttotal: 4m 4s\tremaining: 28m 30s\n",
            "12600:\tlearn: 0.0207419\ttest: 0.0844170\tbest: 0.0844152 (12597)\ttotal: 4m 6s\tremaining: 28m 27s\n",
            "12700:\tlearn: 0.0205419\ttest: 0.0843441\tbest: 0.0843436 (12692)\ttotal: 4m 8s\tremaining: 28m 25s\n",
            "12800:\tlearn: 0.0203525\ttest: 0.0843009\tbest: 0.0842972 (12799)\ttotal: 4m 10s\tremaining: 28m 23s\n",
            "12900:\tlearn: 0.0201687\ttest: 0.0842778\tbest: 0.0842729 (12824)\ttotal: 4m 11s\tremaining: 28m 20s\n",
            "13000:\tlearn: 0.0199993\ttest: 0.0842410\tbest: 0.0842409 (12995)\ttotal: 4m 13s\tremaining: 28m 18s\n",
            "13100:\tlearn: 0.0198302\ttest: 0.0841942\tbest: 0.0841914 (13098)\ttotal: 4m 15s\tremaining: 28m 16s\n",
            "13200:\tlearn: 0.0196578\ttest: 0.0841615\tbest: 0.0841573 (13194)\ttotal: 4m 17s\tremaining: 28m 13s\n",
            "13300:\tlearn: 0.0195034\ttest: 0.0841368\tbest: 0.0841319 (13294)\ttotal: 4m 19s\tremaining: 28m 11s\n",
            "13400:\tlearn: 0.0193472\ttest: 0.0841337\tbest: 0.0841079 (13355)\ttotal: 4m 21s\tremaining: 28m 8s\n",
            "13500:\tlearn: 0.0191746\ttest: 0.0840814\tbest: 0.0840756 (13495)\ttotal: 4m 23s\tremaining: 28m 6s\n",
            "13600:\tlearn: 0.0190215\ttest: 0.0840549\tbest: 0.0840478 (13538)\ttotal: 4m 25s\tremaining: 28m 4s\n",
            "13700:\tlearn: 0.0188551\ttest: 0.0840060\tbest: 0.0839916 (13684)\ttotal: 4m 27s\tremaining: 28m 2s\n",
            "13800:\tlearn: 0.0187016\ttest: 0.0839656\tbest: 0.0839559 (13762)\ttotal: 4m 29s\tremaining: 28m\n",
            "13900:\tlearn: 0.0185509\ttest: 0.0839268\tbest: 0.0839230 (13891)\ttotal: 4m 31s\tremaining: 27m 58s\n",
            "14000:\tlearn: 0.0183918\ttest: 0.0839182\tbest: 0.0839177 (13964)\ttotal: 4m 32s\tremaining: 27m 56s\n",
            "14100:\tlearn: 0.0182351\ttest: 0.0838763\tbest: 0.0838679 (14077)\ttotal: 4m 34s\tremaining: 27m 54s\n",
            "bestTest = 0.08386790466\n",
            "bestIteration = 14077\n",
            "Shrink model to first 14078 iterations.\n",
            "----------------TEST EVALUATION------------------\n",
            "Default score: [-1.54112552]\n",
            "Accuracy is: 0.5096221569094712\n",
            "F1 is: 0.48118900844043533\n",
            "None\n"
          ],
          "name": "stdout"
        },
        {
          "output_type": "display_data",
          "data": {
            "image/png": "[encoded data removed]",
            "text/plain": [
              "<Figure size 864x576 with 1 Axes>"
            ]
          },
          "metadata": {
            "tags": [],
            "needs_background": "light"
          }
        }
      ]
    },
    {
      "cell_type": "code",
      "metadata": {
        "id": "dYNmrttz9FzQ",
        "colab": {
          "base_uri": "https://localhost:8080/",
          "height": 1000
        },
        "outputId": "8ba328f7-f07a-452a-cf08-8eae9f2d249f"
      },
      "source": [
        "func3_= Model(train3, validation, validation1, validation2, validation3, ytrain3, valid_target)\n",
        "pred3, val3, open_test3, open_test33, model3 = func3_()"
      ],
      "execution_count": null,
      "outputs": [
        {
          "output_type": "stream",
          "text": [
            "0:\tlearn: 2.0952096\ttest: 2.0960908\tbest: 2.0960908 (0)\ttotal: 22.9ms\tremaining: 38m 10s\n",
            "100:\tlearn: 0.3267587\ttest: 0.3309259\tbest: 0.3309259 (100)\ttotal: 2.13s\tremaining: 35m 9s\n",
            "200:\tlearn: 0.2363164\ttest: 0.2432678\tbest: 0.2432678 (200)\ttotal: 4.17s\tremaining: 34m 29s\n",
            "300:\tlearn: 0.2009344\ttest: 0.2093466\tbest: 0.2093466 (300)\ttotal: 6.13s\tremaining: 33m 51s\n",
            "400:\tlearn: 0.1790188\ttest: 0.1891473\tbest: 0.1891473 (400)\ttotal: 8.13s\tremaining: 33m 40s\n",
            "500:\tlearn: 0.1636231\ttest: 0.1752363\tbest: 0.1752363 (500)\ttotal: 10.1s\tremaining: 33m 26s\n",
            "600:\tlearn: 0.1528403\ttest: 0.1659986\tbest: 0.1659986 (600)\ttotal: 12s\tremaining: 33m 10s\n",
            "700:\tlearn: 0.1437725\ttest: 0.1581308\tbest: 0.1581308 (700)\ttotal: 14s\tremaining: 33m 3s\n",
            "800:\tlearn: 0.1358367\ttest: 0.1513981\tbest: 0.1513981 (800)\ttotal: 15.9s\tremaining: 32m 53s\n",
            "900:\tlearn: 0.1292348\ttest: 0.1460363\tbest: 0.1460363 (900)\ttotal: 17.9s\tremaining: 32m 46s\n",
            "1000:\tlearn: 0.1234749\ttest: 0.1413260\tbest: 0.1413260 (1000)\ttotal: 19.9s\tremaining: 32m 45s\n",
            "1100:\tlearn: 0.1180016\ttest: 0.1370505\tbest: 0.1370505 (1100)\ttotal: 21.9s\tremaining: 32m 42s\n",
            "1200:\tlearn: 0.1136640\ttest: 0.1338610\tbest: 0.1338610 (1200)\ttotal: 23.8s\tremaining: 32m 38s\n",
            "1300:\tlearn: 0.1094349\ttest: 0.1304483\tbest: 0.1304483 (1300)\ttotal: 25.8s\tremaining: 32m 35s\n",
            "1400:\tlearn: 0.1056728\ttest: 0.1275359\tbest: 0.1275359 (1400)\ttotal: 27.7s\tremaining: 32m 31s\n",
            "1500:\tlearn: 0.1022617\ttest: 0.1249462\tbest: 0.1249462 (1500)\ttotal: 29.6s\tremaining: 32m 25s\n",
            "1600:\tlearn: 0.0990770\ttest: 0.1226428\tbest: 0.1226428 (1600)\ttotal: 31.5s\tremaining: 32m 18s\n",
            "1700:\tlearn: 0.0959811\ttest: 0.1203142\tbest: 0.1203142 (1700)\ttotal: 33.5s\tremaining: 32m 14s\n",
            "1800:\tlearn: 0.0931242\ttest: 0.1183204\tbest: 0.1183204 (1800)\ttotal: 35.4s\tremaining: 32m 11s\n",
            "1900:\tlearn: 0.0905709\ttest: 0.1165617\tbest: 0.1165617 (1900)\ttotal: 37.3s\tremaining: 32m 6s\n",
            "2000:\tlearn: 0.0881559\ttest: 0.1148487\tbest: 0.1148487 (2000)\ttotal: 39.2s\tremaining: 32m 2s\n",
            "2100:\tlearn: 0.0859036\ttest: 0.1132319\tbest: 0.1132319 (2100)\ttotal: 41.1s\tremaining: 31m 57s\n",
            "2200:\tlearn: 0.0837919\ttest: 0.1117040\tbest: 0.1117040 (2200)\ttotal: 43.1s\tremaining: 31m 53s\n",
            "2300:\tlearn: 0.0817628\ttest: 0.1102527\tbest: 0.1102527 (2300)\ttotal: 45s\tremaining: 31m 49s\n",
            "2400:\tlearn: 0.0797096\ttest: 0.1089452\tbest: 0.1089452 (2400)\ttotal: 46.9s\tremaining: 31m 46s\n",
            "2500:\tlearn: 0.0777868\ttest: 0.1077690\tbest: 0.1077690 (2500)\ttotal: 48.9s\tremaining: 31m 46s\n",
            "2600:\tlearn: 0.0762054\ttest: 0.1067868\tbest: 0.1067868 (2600)\ttotal: 50.9s\tremaining: 31m 44s\n",
            "2700:\tlearn: 0.0745081\ttest: 0.1057341\tbest: 0.1057341 (2700)\ttotal: 52.8s\tremaining: 31m 43s\n",
            "2800:\tlearn: 0.0728661\ttest: 0.1046444\tbest: 0.1046412 (2799)\ttotal: 54.8s\tremaining: 31m 42s\n",
            "2900:\tlearn: 0.0713396\ttest: 0.1036134\tbest: 0.1036134 (2900)\ttotal: 56.8s\tremaining: 31m 41s\n",
            "3000:\tlearn: 0.0697996\ttest: 0.1027192\tbest: 0.1027192 (3000)\ttotal: 58.7s\tremaining: 31m 38s\n",
            "3100:\tlearn: 0.0683677\ttest: 0.1018362\tbest: 0.1018362 (3100)\ttotal: 1m\tremaining: 31m 35s\n",
            "3200:\tlearn: 0.0670243\ttest: 0.1010708\tbest: 0.1010708 (3200)\ttotal: 1m 2s\tremaining: 31m 30s\n",
            "3300:\tlearn: 0.0658165\ttest: 0.1003358\tbest: 0.1003358 (3300)\ttotal: 1m 4s\tremaining: 31m 26s\n",
            "3400:\tlearn: 0.0644652\ttest: 0.0995103\tbest: 0.0995103 (3400)\ttotal: 1m 6s\tremaining: 31m 24s\n",
            "3500:\tlearn: 0.0632001\ttest: 0.0987845\tbest: 0.0987845 (3500)\ttotal: 1m 8s\tremaining: 31m 24s\n",
            "3600:\tlearn: 0.0619868\ttest: 0.0980914\tbest: 0.0980914 (3600)\ttotal: 1m 10s\tremaining: 31m 23s\n",
            "3700:\tlearn: 0.0608193\ttest: 0.0974392\tbest: 0.0974392 (3700)\ttotal: 1m 12s\tremaining: 31m 23s\n",
            "3800:\tlearn: 0.0597308\ttest: 0.0968452\tbest: 0.0968452 (3800)\ttotal: 1m 14s\tremaining: 31m 22s\n",
            "3900:\tlearn: 0.0586714\ttest: 0.0962598\tbest: 0.0962574 (3899)\ttotal: 1m 16s\tremaining: 31m 21s\n",
            "4000:\tlearn: 0.0576435\ttest: 0.0957015\tbest: 0.0957002 (3999)\ttotal: 1m 18s\tremaining: 31m 20s\n",
            "4100:\tlearn: 0.0565897\ttest: 0.0951311\tbest: 0.0951311 (4100)\ttotal: 1m 20s\tremaining: 31m 19s\n",
            "4200:\tlearn: 0.0555745\ttest: 0.0945097\tbest: 0.0945097 (4200)\ttotal: 1m 22s\tremaining: 31m 18s\n",
            "4300:\tlearn: 0.0545851\ttest: 0.0939372\tbest: 0.0939372 (4300)\ttotal: 1m 24s\tremaining: 31m 15s\n",
            "4400:\tlearn: 0.0536383\ttest: 0.0933870\tbest: 0.0933870 (4400)\ttotal: 1m 26s\tremaining: 31m 12s\n",
            "4500:\tlearn: 0.0526680\ttest: 0.0928574\tbest: 0.0928574 (4500)\ttotal: 1m 28s\tremaining: 31m 10s\n",
            "4600:\tlearn: 0.0518175\ttest: 0.0924296\tbest: 0.0924234 (4597)\ttotal: 1m 30s\tremaining: 31m 8s\n",
            "4700:\tlearn: 0.0509360\ttest: 0.0919523\tbest: 0.0919523 (4700)\ttotal: 1m 32s\tremaining: 31m 7s\n",
            "4800:\tlearn: 0.0501389\ttest: 0.0914976\tbest: 0.0914976 (4800)\ttotal: 1m 34s\tremaining: 31m 5s\n",
            "4900:\tlearn: 0.0493017\ttest: 0.0910203\tbest: 0.0910203 (4900)\ttotal: 1m 36s\tremaining: 31m 4s\n",
            "5000:\tlearn: 0.0484579\ttest: 0.0905650\tbest: 0.0905650 (5000)\ttotal: 1m 38s\tremaining: 31m 2s\n",
            "5100:\tlearn: 0.0477450\ttest: 0.0901773\tbest: 0.0901773 (5100)\ttotal: 1m 39s\tremaining: 30m 59s\n",
            "5200:\tlearn: 0.0469336\ttest: 0.0897377\tbest: 0.0897377 (5200)\ttotal: 1m 41s\tremaining: 30m 57s\n",
            "5300:\tlearn: 0.0462852\ttest: 0.0894892\tbest: 0.0894889 (5299)\ttotal: 1m 43s\tremaining: 30m 53s\n",
            "5400:\tlearn: 0.0456044\ttest: 0.0891194\tbest: 0.0891194 (5400)\ttotal: 1m 45s\tremaining: 30m 51s\n",
            "5500:\tlearn: 0.0449001\ttest: 0.0888144\tbest: 0.0888144 (5500)\ttotal: 1m 47s\tremaining: 30m 49s\n",
            "5600:\tlearn: 0.0442624\ttest: 0.0884580\tbest: 0.0884580 (5600)\ttotal: 1m 49s\tremaining: 30m 46s\n",
            "5700:\tlearn: 0.0435414\ttest: 0.0880560\tbest: 0.0880560 (5700)\ttotal: 1m 51s\tremaining: 30m 44s\n",
            "5800:\tlearn: 0.0428644\ttest: 0.0876673\tbest: 0.0876673 (5800)\ttotal: 1m 53s\tremaining: 30m 41s\n",
            "5900:\tlearn: 0.0422086\ttest: 0.0872604\tbest: 0.0872595 (5899)\ttotal: 1m 55s\tremaining: 30m 40s\n",
            "6000:\tlearn: 0.0415728\ttest: 0.0869267\tbest: 0.0869249 (5999)\ttotal: 1m 57s\tremaining: 30m 38s\n",
            "6100:\tlearn: 0.0409672\ttest: 0.0865135\tbest: 0.0865135 (6100)\ttotal: 1m 59s\tremaining: 30m 36s\n",
            "6200:\tlearn: 0.0403835\ttest: 0.0862449\tbest: 0.0862428 (6197)\ttotal: 2m 1s\tremaining: 30m 35s\n",
            "6300:\tlearn: 0.0398572\ttest: 0.0860539\tbest: 0.0860526 (6299)\ttotal: 2m 3s\tremaining: 30m 31s\n",
            "6400:\tlearn: 0.0393008\ttest: 0.0858182\tbest: 0.0858182 (6400)\ttotal: 2m 5s\tremaining: 30m 29s\n",
            "6500:\tlearn: 0.0387727\ttest: 0.0855490\tbest: 0.0855490 (6500)\ttotal: 2m 6s\tremaining: 30m 26s\n",
            "6600:\tlearn: 0.0382331\ttest: 0.0852657\tbest: 0.0852657 (6600)\ttotal: 2m 8s\tremaining: 30m 23s\n",
            "6700:\tlearn: 0.0377064\ttest: 0.0849920\tbest: 0.0849920 (6700)\ttotal: 2m 10s\tremaining: 30m 21s\n",
            "6800:\tlearn: 0.0371577\ttest: 0.0847408\tbest: 0.0847382 (6799)\ttotal: 2m 12s\tremaining: 30m 19s\n",
            "6900:\tlearn: 0.0366477\ttest: 0.0844286\tbest: 0.0844271 (6897)\ttotal: 2m 14s\tremaining: 30m 17s\n",
            "7000:\tlearn: 0.0361991\ttest: 0.0842608\tbest: 0.0842608 (7000)\ttotal: 2m 16s\tremaining: 30m 16s\n",
            "7100:\tlearn: 0.0356848\ttest: 0.0839796\tbest: 0.0839796 (7100)\ttotal: 2m 18s\tremaining: 30m 14s\n",
            "7200:\tlearn: 0.0351864\ttest: 0.0837683\tbest: 0.0837683 (7200)\ttotal: 2m 20s\tremaining: 30m 13s\n",
            "7300:\tlearn: 0.0347096\ttest: 0.0835453\tbest: 0.0835453 (7300)\ttotal: 2m 22s\tremaining: 30m 10s\n",
            "7400:\tlearn: 0.0342461\ttest: 0.0833532\tbest: 0.0833532 (7400)\ttotal: 2m 24s\tremaining: 30m 8s\n",
            "7500:\tlearn: 0.0337855\ttest: 0.0831389\tbest: 0.0831389 (7500)\ttotal: 2m 26s\tremaining: 30m 6s\n",
            "7600:\tlearn: 0.0333536\ttest: 0.0828808\tbest: 0.0828762 (7593)\ttotal: 2m 28s\tremaining: 30m 4s\n",
            "7700:\tlearn: 0.0329257\ttest: 0.0826620\tbest: 0.0826620 (7700)\ttotal: 2m 30s\tremaining: 30m 1s\n",
            "7800:\tlearn: 0.0324773\ttest: 0.0824551\tbest: 0.0824516 (7794)\ttotal: 2m 32s\tremaining: 29m 59s\n",
            "7900:\tlearn: 0.0320582\ttest: 0.0823350\tbest: 0.0823252 (7896)\ttotal: 2m 34s\tremaining: 29m 56s\n",
            "8000:\tlearn: 0.0316432\ttest: 0.0821581\tbest: 0.0821581 (8000)\ttotal: 2m 36s\tremaining: 29m 54s\n",
            "8100:\tlearn: 0.0312516\ttest: 0.0820010\tbest: 0.0820010 (8100)\ttotal: 2m 37s\tremaining: 29m 52s\n",
            "8200:\tlearn: 0.0308356\ttest: 0.0818256\tbest: 0.0818219 (8199)\ttotal: 2m 39s\tremaining: 29m 50s\n",
            "8300:\tlearn: 0.0304386\ttest: 0.0816186\tbest: 0.0816186 (8300)\ttotal: 2m 41s\tremaining: 29m 48s\n",
            "8400:\tlearn: 0.0300350\ttest: 0.0814454\tbest: 0.0814444 (8399)\ttotal: 2m 43s\tremaining: 29m 45s\n",
            "8500:\tlearn: 0.0296704\ttest: 0.0812443\tbest: 0.0812443 (8500)\ttotal: 2m 45s\tremaining: 29m 43s\n",
            "8600:\tlearn: 0.0292870\ttest: 0.0810771\tbest: 0.0810771 (8600)\ttotal: 2m 47s\tremaining: 29m 42s\n",
            "8700:\tlearn: 0.0289391\ttest: 0.0809380\tbest: 0.0809344 (8699)\ttotal: 2m 49s\tremaining: 29m 40s\n",
            "8800:\tlearn: 0.0286097\ttest: 0.0808081\tbest: 0.0808064 (8799)\ttotal: 2m 51s\tremaining: 29m 37s\n",
            "8900:\tlearn: 0.0282918\ttest: 0.0807240\tbest: 0.0807240 (8900)\ttotal: 2m 53s\tremaining: 29m 36s\n",
            "9000:\tlearn: 0.0279715\ttest: 0.0805686\tbest: 0.0805686 (9000)\ttotal: 2m 55s\tremaining: 29m 34s\n",
            "9100:\tlearn: 0.0276611\ttest: 0.0804713\tbest: 0.0804713 (9100)\ttotal: 2m 57s\tremaining: 29m 31s\n",
            "9200:\tlearn: 0.0273227\ttest: 0.0803260\tbest: 0.0803241 (9195)\ttotal: 2m 59s\tremaining: 29m 29s\n",
            "9300:\tlearn: 0.0270286\ttest: 0.0801713\tbest: 0.0801713 (9300)\ttotal: 3m 1s\tremaining: 29m 27s\n",
            "9400:\tlearn: 0.0267129\ttest: 0.0800215\tbest: 0.0800152 (9392)\ttotal: 3m 3s\tremaining: 29m 24s\n",
            "9500:\tlearn: 0.0264165\ttest: 0.0799143\tbest: 0.0799143 (9500)\ttotal: 3m 5s\tremaining: 29m 22s\n",
            "9600:\tlearn: 0.0261281\ttest: 0.0797549\tbest: 0.0797549 (9600)\ttotal: 3m 7s\tremaining: 29m 20s\n",
            "9700:\tlearn: 0.0258269\ttest: 0.0796315\tbest: 0.0796315 (9700)\ttotal: 3m 8s\tremaining: 29m 18s\n",
            "9800:\tlearn: 0.0255370\ttest: 0.0795338\tbest: 0.0795338 (9800)\ttotal: 3m 10s\tremaining: 29m 16s\n",
            "9900:\tlearn: 0.0252404\ttest: 0.0793918\tbest: 0.0793918 (9900)\ttotal: 3m 12s\tremaining: 29m 15s\n",
            "10000:\tlearn: 0.0249840\ttest: 0.0793173\tbest: 0.0793083 (9990)\ttotal: 3m 14s\tremaining: 29m 13s\n",
            "10100:\tlearn: 0.0246914\ttest: 0.0792063\tbest: 0.0792042 (10099)\ttotal: 3m 16s\tremaining: 29m 11s\n",
            "10200:\tlearn: 0.0244071\ttest: 0.0791090\tbest: 0.0791053 (10197)\ttotal: 3m 18s\tremaining: 29m 9s\n",
            "10300:\tlearn: 0.0241447\ttest: 0.0789916\tbest: 0.0789916 (10300)\ttotal: 3m 20s\tremaining: 29m 7s\n",
            "10400:\tlearn: 0.0238694\ttest: 0.0788669\tbest: 0.0788617 (10394)\ttotal: 3m 22s\tremaining: 29m 5s\n",
            "10500:\tlearn: 0.0236152\ttest: 0.0787446\tbest: 0.0787446 (10500)\ttotal: 3m 24s\tremaining: 29m 3s\n",
            "10600:\tlearn: 0.0233489\ttest: 0.0786090\tbest: 0.0786090 (10600)\ttotal: 3m 26s\tremaining: 29m\n",
            "10700:\tlearn: 0.0231048\ttest: 0.0785206\tbest: 0.0785201 (10698)\ttotal: 3m 28s\tremaining: 28m 58s\n",
            "10800:\tlearn: 0.0228497\ttest: 0.0784788\tbest: 0.0784698 (10795)\ttotal: 3m 30s\tremaining: 28m 55s\n",
            "10900:\tlearn: 0.0226228\ttest: 0.0783697\tbest: 0.0783694 (10899)\ttotal: 3m 32s\tremaining: 28m 52s\n",
            "11000:\tlearn: 0.0223772\ttest: 0.0782963\tbest: 0.0782963 (11000)\ttotal: 3m 33s\tremaining: 28m 50s\n",
            "11100:\tlearn: 0.0221389\ttest: 0.0782039\tbest: 0.0782039 (11100)\ttotal: 3m 35s\tremaining: 28m 48s\n",
            "11200:\tlearn: 0.0218926\ttest: 0.0780995\tbest: 0.0780995 (11200)\ttotal: 3m 37s\tremaining: 28m 45s\n",
            "11300:\tlearn: 0.0216618\ttest: 0.0779912\tbest: 0.0779890 (11288)\ttotal: 3m 39s\tremaining: 28m 42s\n",
            "11400:\tlearn: 0.0214365\ttest: 0.0779152\tbest: 0.0779152 (11400)\ttotal: 3m 41s\tremaining: 28m 40s\n",
            "11500:\tlearn: 0.0211863\ttest: 0.0778330\tbest: 0.0778330 (11500)\ttotal: 3m 43s\tremaining: 28m 38s\n",
            "11600:\tlearn: 0.0209607\ttest: 0.0777721\tbest: 0.0777691 (11598)\ttotal: 3m 45s\tremaining: 28m 36s\n",
            "11700:\tlearn: 0.0207436\ttest: 0.0776744\tbest: 0.0776744 (11700)\ttotal: 3m 47s\tremaining: 28m 34s\n",
            "11800:\tlearn: 0.0205322\ttest: 0.0776227\tbest: 0.0776227 (11800)\ttotal: 3m 49s\tremaining: 28m 32s\n",
            "11900:\tlearn: 0.0203116\ttest: 0.0775297\tbest: 0.0775235 (11898)\ttotal: 3m 51s\tremaining: 28m 30s\n",
            "12000:\tlearn: 0.0201257\ttest: 0.0774825\tbest: 0.0774815 (11997)\ttotal: 3m 52s\tremaining: 28m 28s\n",
            "12100:\tlearn: 0.0199114\ttest: 0.0773869\tbest: 0.0773869 (12100)\ttotal: 3m 54s\tremaining: 28m 26s\n",
            "12200:\tlearn: 0.0197304\ttest: 0.0773301\tbest: 0.0773274 (12198)\ttotal: 3m 56s\tremaining: 28m 24s\n",
            "12300:\tlearn: 0.0195414\ttest: 0.0772727\tbest: 0.0772665 (12285)\ttotal: 3m 58s\tremaining: 28m 22s\n",
            "12400:\tlearn: 0.0193453\ttest: 0.0771831\tbest: 0.0771831 (12400)\ttotal: 4m\tremaining: 28m 20s\n",
            "12500:\tlearn: 0.0191688\ttest: 0.0771283\tbest: 0.0771261 (12499)\ttotal: 4m 2s\tremaining: 28m 18s\n",
            "12600:\tlearn: 0.0189726\ttest: 0.0770791\tbest: 0.0770707 (12589)\ttotal: 4m 4s\tremaining: 28m 15s\n",
            "12700:\tlearn: 0.0188019\ttest: 0.0770118\tbest: 0.0770108 (12698)\ttotal: 4m 6s\tremaining: 28m 13s\n",
            "12800:\tlearn: 0.0186295\ttest: 0.0769500\tbest: 0.0769500 (12800)\ttotal: 4m 8s\tremaining: 28m 10s\n",
            "12900:\tlearn: 0.0184373\ttest: 0.0768759\tbest: 0.0768708 (12897)\ttotal: 4m 10s\tremaining: 28m 8s\n",
            "13000:\tlearn: 0.0182640\ttest: 0.0768110\tbest: 0.0768110 (13000)\ttotal: 4m 12s\tremaining: 28m 6s\n",
            "13100:\tlearn: 0.0180900\ttest: 0.0767635\tbest: 0.0767629 (13098)\ttotal: 4m 13s\tremaining: 28m 4s\n",
            "13200:\tlearn: 0.0179239\ttest: 0.0767558\tbest: 0.0767476 (13165)\ttotal: 4m 15s\tremaining: 28m 2s\n",
            "13300:\tlearn: 0.0177611\ttest: 0.0767227\tbest: 0.0767177 (13281)\ttotal: 4m 17s\tremaining: 28m\n",
            "13400:\tlearn: 0.0175966\ttest: 0.0766594\tbest: 0.0766569 (13398)\ttotal: 4m 19s\tremaining: 27m 58s\n",
            "13500:\tlearn: 0.0174313\ttest: 0.0766235\tbest: 0.0766112 (13481)\ttotal: 4m 21s\tremaining: 27m 56s\n",
            "13600:\tlearn: 0.0172641\ttest: 0.0765992\tbest: 0.0765894 (13592)\ttotal: 4m 23s\tremaining: 27m 54s\n",
            "13700:\tlearn: 0.0171028\ttest: 0.0765443\tbest: 0.0765431 (13698)\ttotal: 4m 25s\tremaining: 27m 52s\n",
            "13800:\tlearn: 0.0169343\ttest: 0.0765180\tbest: 0.0765158 (13799)\ttotal: 4m 27s\tremaining: 27m 50s\n",
            "13900:\tlearn: 0.0167820\ttest: 0.0764913\tbest: 0.0764913 (13900)\ttotal: 4m 29s\tremaining: 27m 48s\n",
            "14000:\tlearn: 0.0166291\ttest: 0.0764550\tbest: 0.0764514 (13996)\ttotal: 4m 31s\tremaining: 27m 47s\n",
            "14100:\tlearn: 0.0164801\ttest: 0.0764286\tbest: 0.0764201 (14085)\ttotal: 4m 33s\tremaining: 27m 45s\n",
            "14200:\tlearn: 0.0163290\ttest: 0.0763618\tbest: 0.0763609 (14192)\ttotal: 4m 35s\tremaining: 27m 43s\n",
            "14300:\tlearn: 0.0161854\ttest: 0.0763229\tbest: 0.0763027 (14261)\ttotal: 4m 37s\tremaining: 27m 41s\n",
            "bestTest = 0.07630274455\n",
            "bestIteration = 14261\n",
            "Shrink model to first 14262 iterations.\n",
            "----------------TEST EVALUATION------------------\n",
            "Default score: [-1.41215711]\n",
            "Accuracy is: 0.45491037148833635\n",
            "F1 is: 0.4117748463768524\n",
            "None\n"
          ],
          "name": "stdout"
        },
        {
          "output_type": "display_data",
          "data": {
            "image/png": "[encoded data removed]",
            "text/plain": [
              "<Figure size 864x576 with 1 Axes>"
            ]
          },
          "metadata": {
            "tags": [],
            "needs_background": "light"
          }
        }
      ]
    },
    {
      "cell_type": "code",
      "metadata": {
        "id": "50lFKA1AIBYA",
        "colab": {
          "base_uri": "https://localhost:8080/",
          "height": 1000
        },
        "outputId": "6d8b532b-599c-410e-933a-0abe5b05565e"
      },
      "source": [
        "func4_= Model(train4, validation, validation1, validation2, validation3, ytrain4, valid_target)\n",
        "pred4, val4, open_test4, open_test44, model4 = func4_()"
      ],
      "execution_count": null,
      "outputs": [
        {
          "output_type": "stream",
          "text": [
            "0:\tlearn: 2.1041992\ttest: 2.1040355\tbest: 2.1040355 (0)\ttotal: 23.9ms\tremaining: 39m 53s\n",
            "100:\tlearn: 0.3696358\ttest: 0.3770401\tbest: 0.3770401 (100)\ttotal: 2.14s\tremaining: 35m 17s\n",
            "200:\tlearn: 0.2710593\ttest: 0.2831270\tbest: 0.2831270 (200)\ttotal: 4.16s\tremaining: 34m 25s\n",
            "300:\tlearn: 0.2324168\ttest: 0.2478209\tbest: 0.2478209 (300)\ttotal: 6.17s\tremaining: 34m 5s\n",
            "400:\tlearn: 0.2081000\ttest: 0.2262867\tbest: 0.2262867 (400)\ttotal: 8.14s\tremaining: 33m 41s\n",
            "500:\tlearn: 0.1909132\ttest: 0.2111223\tbest: 0.2111223 (500)\ttotal: 10.2s\tremaining: 33m 38s\n",
            "600:\tlearn: 0.1784483\ttest: 0.2001177\tbest: 0.2001177 (600)\ttotal: 12.2s\tremaining: 33m 34s\n",
            "700:\tlearn: 0.1680604\ttest: 0.1912843\tbest: 0.1912843 (700)\ttotal: 14.2s\tremaining: 33m 32s\n",
            "800:\tlearn: 0.1591595\ttest: 0.1835813\tbest: 0.1835813 (800)\ttotal: 16.2s\tremaining: 33m 27s\n",
            "900:\tlearn: 0.1515100\ttest: 0.1770861\tbest: 0.1770861 (900)\ttotal: 18.2s\tremaining: 33m 20s\n",
            "1000:\tlearn: 0.1445060\ttest: 0.1712729\tbest: 0.1712729 (1000)\ttotal: 20.2s\tremaining: 33m 21s\n",
            "1100:\tlearn: 0.1388248\ttest: 0.1667586\tbest: 0.1667586 (1100)\ttotal: 22.2s\tremaining: 33m 11s\n",
            "1200:\tlearn: 0.1337449\ttest: 0.1629181\tbest: 0.1629181 (1200)\ttotal: 24.2s\tremaining: 33m 7s\n",
            "1300:\tlearn: 0.1287374\ttest: 0.1589314\tbest: 0.1589314 (1300)\ttotal: 26.1s\tremaining: 33m 1s\n",
            "1400:\tlearn: 0.1242790\ttest: 0.1554707\tbest: 0.1554707 (1400)\ttotal: 28.1s\tremaining: 32m 55s\n",
            "1500:\tlearn: 0.1203394\ttest: 0.1523272\tbest: 0.1523272 (1500)\ttotal: 30s\tremaining: 32m 50s\n",
            "1600:\tlearn: 0.1167253\ttest: 0.1495727\tbest: 0.1495727 (1600)\ttotal: 32s\tremaining: 32m 47s\n",
            "1700:\tlearn: 0.1132303\ttest: 0.1469240\tbest: 0.1469240 (1700)\ttotal: 33.9s\tremaining: 32m 41s\n",
            "1800:\tlearn: 0.1100772\ttest: 0.1446466\tbest: 0.1446466 (1800)\ttotal: 35.9s\tremaining: 32m 37s\n",
            "1900:\tlearn: 0.1070100\ttest: 0.1425647\tbest: 0.1425647 (1900)\ttotal: 37.9s\tremaining: 32m 34s\n",
            "2000:\tlearn: 0.1042777\ttest: 0.1407090\tbest: 0.1407090 (2000)\ttotal: 39.9s\tremaining: 32m 32s\n",
            "2100:\tlearn: 0.1016263\ttest: 0.1388225\tbest: 0.1388225 (2100)\ttotal: 41.9s\tremaining: 32m 33s\n",
            "2200:\tlearn: 0.0991543\ttest: 0.1371411\tbest: 0.1371411 (2200)\ttotal: 43.9s\tremaining: 32m 29s\n",
            "2300:\tlearn: 0.0967120\ttest: 0.1356034\tbest: 0.1356034 (2300)\ttotal: 45.8s\tremaining: 32m 26s\n",
            "2400:\tlearn: 0.0944990\ttest: 0.1341972\tbest: 0.1341972 (2400)\ttotal: 47.8s\tremaining: 32m 21s\n",
            "2500:\tlearn: 0.0923084\ttest: 0.1327903\tbest: 0.1327903 (2500)\ttotal: 49.7s\tremaining: 32m 18s\n",
            "2600:\tlearn: 0.0902890\ttest: 0.1314919\tbest: 0.1314919 (2600)\ttotal: 51.6s\tremaining: 32m 13s\n",
            "2700:\tlearn: 0.0882026\ttest: 0.1300711\tbest: 0.1300711 (2700)\ttotal: 53.6s\tremaining: 32m 11s\n",
            "2800:\tlearn: 0.0862724\ttest: 0.1288286\tbest: 0.1288286 (2800)\ttotal: 55.6s\tremaining: 32m 10s\n",
            "2900:\tlearn: 0.0845344\ttest: 0.1277088\tbest: 0.1277088 (2900)\ttotal: 57.6s\tremaining: 32m 9s\n",
            "3000:\tlearn: 0.0827613\ttest: 0.1266794\tbest: 0.1266794 (3000)\ttotal: 59.6s\tremaining: 32m 6s\n",
            "3100:\tlearn: 0.0810941\ttest: 0.1257382\tbest: 0.1257382 (3100)\ttotal: 1m 1s\tremaining: 32m 5s\n",
            "3200:\tlearn: 0.0794108\ttest: 0.1247557\tbest: 0.1247557 (3200)\ttotal: 1m 3s\tremaining: 32m 4s\n",
            "3300:\tlearn: 0.0778970\ttest: 0.1238244\tbest: 0.1238244 (3300)\ttotal: 1m 5s\tremaining: 32m 3s\n",
            "3400:\tlearn: 0.0763642\ttest: 0.1228286\tbest: 0.1228286 (3400)\ttotal: 1m 7s\tremaining: 32m 2s\n",
            "3500:\tlearn: 0.0749583\ttest: 0.1220419\tbest: 0.1220419 (3500)\ttotal: 1m 9s\tremaining: 32m\n",
            "3600:\tlearn: 0.0735368\ttest: 0.1211677\tbest: 0.1211677 (3600)\ttotal: 1m 11s\tremaining: 31m 58s\n",
            "3700:\tlearn: 0.0722080\ttest: 0.1204097\tbest: 0.1204097 (3700)\ttotal: 1m 13s\tremaining: 31m 54s\n",
            "3800:\tlearn: 0.0708712\ttest: 0.1195851\tbest: 0.1195851 (3800)\ttotal: 1m 15s\tremaining: 31m 50s\n",
            "3900:\tlearn: 0.0695913\ttest: 0.1187705\tbest: 0.1187705 (3900)\ttotal: 1m 17s\tremaining: 31m 47s\n",
            "4000:\tlearn: 0.0683823\ttest: 0.1180755\tbest: 0.1180755 (4000)\ttotal: 1m 19s\tremaining: 31m 46s\n",
            "4100:\tlearn: 0.0672531\ttest: 0.1173652\tbest: 0.1173652 (4100)\ttotal: 1m 21s\tremaining: 31m 43s\n",
            "4200:\tlearn: 0.0662082\ttest: 0.1169019\tbest: 0.1168989 (4199)\ttotal: 1m 23s\tremaining: 31m 41s\n",
            "4300:\tlearn: 0.0651434\ttest: 0.1163128\tbest: 0.1163128 (4300)\ttotal: 1m 25s\tremaining: 31m 40s\n",
            "4400:\tlearn: 0.0640309\ttest: 0.1157346\tbest: 0.1157346 (4400)\ttotal: 1m 27s\tremaining: 31m 38s\n",
            "4500:\tlearn: 0.0629367\ttest: 0.1151710\tbest: 0.1151710 (4500)\ttotal: 1m 29s\tremaining: 31m 37s\n",
            "4600:\tlearn: 0.0619313\ttest: 0.1146565\tbest: 0.1146552 (4599)\ttotal: 1m 31s\tremaining: 31m 36s\n",
            "4700:\tlearn: 0.0609867\ttest: 0.1140981\tbest: 0.1140981 (4700)\ttotal: 1m 33s\tremaining: 31m 34s\n",
            "4800:\tlearn: 0.0599555\ttest: 0.1135470\tbest: 0.1135470 (4800)\ttotal: 1m 35s\tremaining: 31m 31s\n",
            "4900:\tlearn: 0.0590665\ttest: 0.1131562\tbest: 0.1131562 (4900)\ttotal: 1m 37s\tremaining: 31m 29s\n",
            "5000:\tlearn: 0.0582015\ttest: 0.1127150\tbest: 0.1127150 (5000)\ttotal: 1m 39s\tremaining: 31m 27s\n",
            "5100:\tlearn: 0.0572806\ttest: 0.1122461\tbest: 0.1122461 (5100)\ttotal: 1m 41s\tremaining: 31m 25s\n",
            "5200:\tlearn: 0.0563394\ttest: 0.1117644\tbest: 0.1117644 (5200)\ttotal: 1m 43s\tremaining: 31m 22s\n",
            "5300:\tlearn: 0.0555410\ttest: 0.1113620\tbest: 0.1113620 (5300)\ttotal: 1m 45s\tremaining: 31m 19s\n",
            "5400:\tlearn: 0.0546994\ttest: 0.1108474\tbest: 0.1108474 (5400)\ttotal: 1m 47s\tremaining: 31m 16s\n",
            "5500:\tlearn: 0.0538755\ttest: 0.1104993\tbest: 0.1104993 (5500)\ttotal: 1m 49s\tremaining: 31m 12s\n",
            "5600:\tlearn: 0.0530769\ttest: 0.1100835\tbest: 0.1100835 (5600)\ttotal: 1m 50s\tremaining: 31m 9s\n",
            "5700:\tlearn: 0.0523018\ttest: 0.1097709\tbest: 0.1097709 (5700)\ttotal: 1m 53s\tremaining: 31m 9s\n",
            "5800:\tlearn: 0.0515413\ttest: 0.1093946\tbest: 0.1093946 (5800)\ttotal: 1m 54s\tremaining: 31m 7s\n",
            "5900:\tlearn: 0.0508394\ttest: 0.1089871\tbest: 0.1089871 (5900)\ttotal: 1m 56s\tremaining: 31m 5s\n",
            "6000:\tlearn: 0.0501351\ttest: 0.1086920\tbest: 0.1086920 (6000)\ttotal: 1m 58s\tremaining: 31m 3s\n",
            "6100:\tlearn: 0.0494406\ttest: 0.1083636\tbest: 0.1083636 (6100)\ttotal: 2m\tremaining: 31m 1s\n",
            "6200:\tlearn: 0.0487433\ttest: 0.1080346\tbest: 0.1080346 (6200)\ttotal: 2m 2s\tremaining: 30m 59s\n",
            "6300:\tlearn: 0.0480270\ttest: 0.1076862\tbest: 0.1076862 (6300)\ttotal: 2m 4s\tremaining: 30m 57s\n",
            "6400:\tlearn: 0.0473548\ttest: 0.1073958\tbest: 0.1073958 (6400)\ttotal: 2m 6s\tremaining: 30m 54s\n",
            "6500:\tlearn: 0.0467237\ttest: 0.1071533\tbest: 0.1071533 (6500)\ttotal: 2m 8s\tremaining: 30m 52s\n",
            "6600:\tlearn: 0.0461411\ttest: 0.1068661\tbest: 0.1068661 (6600)\ttotal: 2m 10s\tremaining: 30m 50s\n",
            "6700:\tlearn: 0.0455764\ttest: 0.1066569\tbest: 0.1066511 (6699)\ttotal: 2m 12s\tremaining: 30m 48s\n",
            "6800:\tlearn: 0.0449731\ttest: 0.1064047\tbest: 0.1064028 (6799)\ttotal: 2m 14s\tremaining: 30m 47s\n",
            "6900:\tlearn: 0.0443943\ttest: 0.1061110\tbest: 0.1061110 (6900)\ttotal: 2m 16s\tremaining: 30m 45s\n",
            "7000:\tlearn: 0.0438085\ttest: 0.1058280\tbest: 0.1058247 (6994)\ttotal: 2m 18s\tremaining: 30m 42s\n",
            "7100:\tlearn: 0.0432490\ttest: 0.1055359\tbest: 0.1055325 (7099)\ttotal: 2m 20s\tremaining: 30m 41s\n",
            "7200:\tlearn: 0.0426908\ttest: 0.1053507\tbest: 0.1053507 (7200)\ttotal: 2m 22s\tremaining: 30m 39s\n",
            "7300:\tlearn: 0.0421563\ttest: 0.1050571\tbest: 0.1050535 (7297)\ttotal: 2m 24s\tremaining: 30m 36s\n",
            "7400:\tlearn: 0.0415750\ttest: 0.1047475\tbest: 0.1047475 (7400)\ttotal: 2m 26s\tremaining: 30m 34s\n",
            "7500:\tlearn: 0.0410267\ttest: 0.1045323\tbest: 0.1045323 (7500)\ttotal: 2m 28s\tremaining: 30m 31s\n",
            "7600:\tlearn: 0.0404929\ttest: 0.1042121\tbest: 0.1042034 (7597)\ttotal: 2m 30s\tremaining: 30m 30s\n",
            "7700:\tlearn: 0.0399903\ttest: 0.1039684\tbest: 0.1039684 (7700)\ttotal: 2m 32s\tremaining: 30m 28s\n",
            "7800:\tlearn: 0.0395039\ttest: 0.1038340\tbest: 0.1038283 (7798)\ttotal: 2m 34s\tremaining: 30m 26s\n",
            "7900:\tlearn: 0.0390343\ttest: 0.1036693\tbest: 0.1036534 (7893)\ttotal: 2m 36s\tremaining: 30m 24s\n",
            "8000:\tlearn: 0.0385665\ttest: 0.1034075\tbest: 0.1034040 (7997)\ttotal: 2m 38s\tremaining: 30m 22s\n",
            "8100:\tlearn: 0.0381070\ttest: 0.1031661\tbest: 0.1031638 (8096)\ttotal: 2m 40s\tremaining: 30m 20s\n",
            "8200:\tlearn: 0.0376125\ttest: 0.1029293\tbest: 0.1029293 (8200)\ttotal: 2m 42s\tremaining: 30m 17s\n",
            "8300:\tlearn: 0.0371345\ttest: 0.1027236\tbest: 0.1027212 (8298)\ttotal: 2m 44s\tremaining: 30m 15s\n",
            "8400:\tlearn: 0.0366770\ttest: 0.1025403\tbest: 0.1025398 (8399)\ttotal: 2m 46s\tremaining: 30m 13s\n",
            "8500:\tlearn: 0.0362558\ttest: 0.1024246\tbest: 0.1024232 (8499)\ttotal: 2m 48s\tremaining: 30m 11s\n",
            "8600:\tlearn: 0.0358080\ttest: 0.1022485\tbest: 0.1022485 (8600)\ttotal: 2m 50s\tremaining: 30m 9s\n",
            "8700:\tlearn: 0.0354108\ttest: 0.1021385\tbest: 0.1021264 (8692)\ttotal: 2m 52s\tremaining: 30m 8s\n",
            "8800:\tlearn: 0.0350251\ttest: 0.1019692\tbest: 0.1019593 (8788)\ttotal: 2m 54s\tremaining: 30m 6s\n",
            "8900:\tlearn: 0.0346359\ttest: 0.1018914\tbest: 0.1018914 (8900)\ttotal: 2m 56s\tremaining: 30m 4s\n",
            "9000:\tlearn: 0.0342137\ttest: 0.1016908\tbest: 0.1016908 (9000)\ttotal: 2m 58s\tremaining: 30m 1s\n",
            "9100:\tlearn: 0.0338460\ttest: 0.1015422\tbest: 0.1015422 (9100)\ttotal: 3m\tremaining: 29m 59s\n",
            "9200:\tlearn: 0.0334428\ttest: 0.1014841\tbest: 0.1014839 (9197)\ttotal: 3m 2s\tremaining: 29m 57s\n",
            "9300:\tlearn: 0.0330788\ttest: 0.1012633\tbest: 0.1012606 (9298)\ttotal: 3m 4s\tremaining: 29m 55s\n",
            "9400:\tlearn: 0.0327228\ttest: 0.1011255\tbest: 0.1011255 (9400)\ttotal: 3m 6s\tremaining: 29m 53s\n",
            "9500:\tlearn: 0.0323674\ttest: 0.1010245\tbest: 0.1010171 (9497)\ttotal: 3m 8s\tremaining: 29m 52s\n",
            "9600:\tlearn: 0.0320001\ttest: 0.1008499\tbest: 0.1008499 (9600)\ttotal: 3m 10s\tremaining: 29m 50s\n",
            "9700:\tlearn: 0.0316448\ttest: 0.1007333\tbest: 0.1007275 (9691)\ttotal: 3m 12s\tremaining: 29m 48s\n",
            "9800:\tlearn: 0.0312960\ttest: 0.1005727\tbest: 0.1005727 (9800)\ttotal: 3m 14s\tremaining: 29m 46s\n",
            "9900:\tlearn: 0.0309830\ttest: 0.1004535\tbest: 0.1004519 (9899)\ttotal: 3m 16s\tremaining: 29m 43s\n",
            "10000:\tlearn: 0.0306568\ttest: 0.1003592\tbest: 0.1003561 (9998)\ttotal: 3m 17s\tremaining: 29m 41s\n",
            "10100:\tlearn: 0.0303330\ttest: 0.1002931\tbest: 0.1002910 (10098)\ttotal: 3m 19s\tremaining: 29m 39s\n",
            "10200:\tlearn: 0.0300015\ttest: 0.1001565\tbest: 0.1001534 (10196)\ttotal: 3m 21s\tremaining: 29m 37s\n",
            "10300:\tlearn: 0.0296590\ttest: 0.1000561\tbest: 0.1000473 (10273)\ttotal: 3m 23s\tremaining: 29m 35s\n",
            "10400:\tlearn: 0.0293330\ttest: 0.0999103\tbest: 0.0999079 (10399)\ttotal: 3m 25s\tremaining: 29m 32s\n",
            "10500:\tlearn: 0.0290338\ttest: 0.0998094\tbest: 0.0998071 (10499)\ttotal: 3m 27s\tremaining: 29m 30s\n",
            "10600:\tlearn: 0.0287395\ttest: 0.0997039\tbest: 0.0997039 (10600)\ttotal: 3m 29s\tremaining: 29m 28s\n",
            "10700:\tlearn: 0.0284415\ttest: 0.0995620\tbest: 0.0995620 (10700)\ttotal: 3m 31s\tremaining: 29m 26s\n",
            "10800:\tlearn: 0.0281352\ttest: 0.0994745\tbest: 0.0994745 (10800)\ttotal: 3m 33s\tremaining: 29m 24s\n",
            "10900:\tlearn: 0.0278611\ttest: 0.0993633\tbest: 0.0993607 (10888)\ttotal: 3m 35s\tremaining: 29m 22s\n",
            "11000:\tlearn: 0.0275764\ttest: 0.0992633\tbest: 0.0992615 (10965)\ttotal: 3m 37s\tremaining: 29m 21s\n",
            "11100:\tlearn: 0.0273053\ttest: 0.0991399\tbest: 0.0991399 (11100)\ttotal: 3m 39s\tremaining: 29m 19s\n",
            "11200:\tlearn: 0.0270193\ttest: 0.0990966\tbest: 0.0990726 (11155)\ttotal: 3m 41s\tremaining: 29m 17s\n",
            "11300:\tlearn: 0.0267443\ttest: 0.0989292\tbest: 0.0989292 (11300)\ttotal: 3m 43s\tremaining: 29m 15s\n",
            "11400:\tlearn: 0.0264775\ttest: 0.0988426\tbest: 0.0988330 (11375)\ttotal: 3m 45s\tremaining: 29m 13s\n",
            "11500:\tlearn: 0.0262130\ttest: 0.0987203\tbest: 0.0987177 (11499)\ttotal: 3m 47s\tremaining: 29m 12s\n",
            "11600:\tlearn: 0.0259735\ttest: 0.0986288\tbest: 0.0986288 (11600)\ttotal: 3m 49s\tremaining: 29m 10s\n",
            "11700:\tlearn: 0.0257033\ttest: 0.0985334\tbest: 0.0985331 (11697)\ttotal: 3m 51s\tremaining: 29m 8s\n",
            "11800:\tlearn: 0.0254483\ttest: 0.0984607\tbest: 0.0984607 (11800)\ttotal: 3m 53s\tremaining: 29m 5s\n",
            "11900:\tlearn: 0.0251975\ttest: 0.0984493\tbest: 0.0984489 (11899)\ttotal: 3m 55s\tremaining: 29m 3s\n",
            "12000:\tlearn: 0.0249397\ttest: 0.0984001\tbest: 0.0983869 (11970)\ttotal: 3m 57s\tremaining: 29m 2s\n",
            "12100:\tlearn: 0.0247131\ttest: 0.0983591\tbest: 0.0983561 (12098)\ttotal: 3m 59s\tremaining: 29m\n",
            "12200:\tlearn: 0.0244762\ttest: 0.0982718\tbest: 0.0982718 (12200)\ttotal: 4m 1s\tremaining: 28m 58s\n",
            "12300:\tlearn: 0.0242409\ttest: 0.0982044\tbest: 0.0981918 (12286)\ttotal: 4m 3s\tremaining: 28m 56s\n",
            "12400:\tlearn: 0.0240195\ttest: 0.0981361\tbest: 0.0981361 (12400)\ttotal: 4m 5s\tremaining: 28m 54s\n",
            "12500:\tlearn: 0.0237893\ttest: 0.0980562\tbest: 0.0980524 (12498)\ttotal: 4m 7s\tremaining: 28m 52s\n",
            "12600:\tlearn: 0.0235716\ttest: 0.0980019\tbest: 0.0979937 (12586)\ttotal: 4m 9s\tremaining: 28m 51s\n",
            "12700:\tlearn: 0.0233571\ttest: 0.0979178\tbest: 0.0979118 (12696)\ttotal: 4m 11s\tremaining: 28m 49s\n",
            "12800:\tlearn: 0.0231349\ttest: 0.0978251\tbest: 0.0978201 (12795)\ttotal: 4m 13s\tremaining: 28m 47s\n",
            "12900:\tlearn: 0.0229106\ttest: 0.0977322\tbest: 0.0977322 (12900)\ttotal: 4m 15s\tremaining: 28m 45s\n",
            "13000:\tlearn: 0.0227101\ttest: 0.0976808\tbest: 0.0976779 (12966)\ttotal: 4m 17s\tremaining: 28m 42s\n",
            "13100:\tlearn: 0.0225096\ttest: 0.0976297\tbest: 0.0976294 (13097)\ttotal: 4m 19s\tremaining: 28m 40s\n",
            "13200:\tlearn: 0.0223092\ttest: 0.0976030\tbest: 0.0975952 (13182)\ttotal: 4m 21s\tremaining: 28m 38s\n",
            "13300:\tlearn: 0.0220955\ttest: 0.0975413\tbest: 0.0975396 (13295)\ttotal: 4m 23s\tremaining: 28m 36s\n",
            "13400:\tlearn: 0.0218982\ttest: 0.0974516\tbest: 0.0974508 (13399)\ttotal: 4m 25s\tremaining: 28m 34s\n",
            "13500:\tlearn: 0.0217140\ttest: 0.0973939\tbest: 0.0973909 (13498)\ttotal: 4m 27s\tremaining: 28m 32s\n",
            "13600:\tlearn: 0.0215213\ttest: 0.0973676\tbest: 0.0973640 (13598)\ttotal: 4m 29s\tremaining: 28m 30s\n",
            "13700:\tlearn: 0.0213387\ttest: 0.0973486\tbest: 0.0973319 (13654)\ttotal: 4m 31s\tremaining: 28m 27s\n",
            "13800:\tlearn: 0.0211629\ttest: 0.0973297\tbest: 0.0973268 (13795)\ttotal: 4m 33s\tremaining: 28m 25s\n",
            "13900:\tlearn: 0.0209812\ttest: 0.0972665\tbest: 0.0972656 (13899)\ttotal: 4m 34s\tremaining: 28m 23s\n",
            "14000:\tlearn: 0.0207962\ttest: 0.0972769\tbest: 0.0972639 (13967)\ttotal: 4m 36s\tremaining: 28m 20s\n",
            "14100:\tlearn: 0.0206153\ttest: 0.0972026\tbest: 0.0972021 (14098)\ttotal: 4m 38s\tremaining: 28m 18s\n",
            "14200:\tlearn: 0.0204544\ttest: 0.0971487\tbest: 0.0971487 (14200)\ttotal: 4m 40s\tremaining: 28m 16s\n",
            "14300:\tlearn: 0.0202788\ttest: 0.0970695\tbest: 0.0970685 (14298)\ttotal: 4m 42s\tremaining: 28m 14s\n",
            "14400:\tlearn: 0.0201143\ttest: 0.0970511\tbest: 0.0970321 (14384)\ttotal: 4m 44s\tremaining: 28m 12s\n",
            "14500:\tlearn: 0.0199458\ttest: 0.0969897\tbest: 0.0969897 (14500)\ttotal: 4m 46s\tremaining: 28m 9s\n",
            "14600:\tlearn: 0.0197741\ttest: 0.0969512\tbest: 0.0969493 (14599)\ttotal: 4m 48s\tremaining: 28m 8s\n",
            "14700:\tlearn: 0.0196061\ttest: 0.0969102\tbest: 0.0969102 (14700)\ttotal: 4m 50s\tremaining: 28m 6s\n",
            "14800:\tlearn: 0.0194384\ttest: 0.0969036\tbest: 0.0968994 (14790)\ttotal: 4m 52s\tremaining: 28m 4s\n",
            "14900:\tlearn: 0.0192814\ttest: 0.0968911\tbest: 0.0968831 (14815)\ttotal: 4m 54s\tremaining: 28m 2s\n",
            "bestTest = 0.09688305664\n",
            "bestIteration = 14815\n",
            "Shrink model to first 14816 iterations.\n",
            "----------------TEST EVALUATION------------------\n",
            "Default score: [-0.93390791]\n",
            "Accuracy is: 0.650909524187783\n",
            "F1 is: 0.6925544625517812\n",
            "None\n"
          ],
          "name": "stdout"
        },
        {
          "output_type": "display_data",
          "data": {
            "image/png": "[encoded data removed]",
            "text/plain": [
              "<Figure size 864x576 with 1 Axes>"
            ]
          },
          "metadata": {
            "tags": [],
            "needs_background": "light"
          }
        }
      ]
    },
    {
      "cell_type": "code",
      "metadata": {
        "id": "3luPhIa1LfFX",
        "colab": {
          "base_uri": "https://localhost:8080/",
          "height": 1000
        },
        "outputId": "fcd44f71-cd00-4a51-e309-eb6a73a08661"
      },
      "source": [
        " func5_= Model(train5, validation, validation1, validation2, validation3, ytrain5, valid_target)\n",
        "pred5, val5, open_test5, open_test55, model5 = func5_()"
      ],
      "execution_count": null,
      "outputs": [
        {
          "output_type": "stream",
          "text": [
            "0:\tlearn: 1.9313633\ttest: 1.9318364\tbest: 1.9318364 (0)\ttotal: 21.7ms\tremaining: 36m 13s\n",
            "100:\tlearn: 0.3769389\ttest: 0.3792699\tbest: 0.3792699 (100)\ttotal: 2.07s\tremaining: 34m 5s\n",
            "200:\tlearn: 0.2801623\ttest: 0.2840321\tbest: 0.2840321 (200)\ttotal: 4.04s\tremaining: 33m 24s\n",
            "300:\tlearn: 0.2361140\ttest: 0.2418621\tbest: 0.2418621 (300)\ttotal: 6.03s\tremaining: 33m 17s\n",
            "400:\tlearn: 0.2106832\ttest: 0.2188442\tbest: 0.2188442 (400)\ttotal: 7.95s\tremaining: 32m 53s\n",
            "500:\tlearn: 0.1929747\ttest: 0.2031638\tbest: 0.2031638 (500)\ttotal: 9.9s\tremaining: 32m 46s\n",
            "600:\tlearn: 0.1803478\ttest: 0.1917841\tbest: 0.1917841 (600)\ttotal: 11.9s\tremaining: 32m 43s\n",
            "700:\tlearn: 0.1701843\ttest: 0.1831122\tbest: 0.1831122 (700)\ttotal: 13.8s\tremaining: 32m 36s\n",
            "800:\tlearn: 0.1613948\ttest: 0.1760495\tbest: 0.1760495 (800)\ttotal: 15.8s\tremaining: 32m 34s\n",
            "900:\tlearn: 0.1542737\ttest: 0.1702916\tbest: 0.1702916 (900)\ttotal: 17.8s\tremaining: 32m 33s\n",
            "1000:\tlearn: 0.1481595\ttest: 0.1654668\tbest: 0.1654668 (1000)\ttotal: 19.7s\tremaining: 32m 29s\n",
            "1100:\tlearn: 0.1423480\ttest: 0.1610317\tbest: 0.1610317 (1100)\ttotal: 21.7s\tremaining: 32m 28s\n",
            "1200:\tlearn: 0.1372809\ttest: 0.1570762\tbest: 0.1570762 (1200)\ttotal: 23.6s\tremaining: 32m 24s\n",
            "1300:\tlearn: 0.1329435\ttest: 0.1541015\tbest: 0.1541015 (1300)\ttotal: 25.5s\tremaining: 32m 15s\n",
            "1400:\tlearn: 0.1288704\ttest: 0.1511776\tbest: 0.1511776 (1400)\ttotal: 27.4s\tremaining: 32m 11s\n",
            "1500:\tlearn: 0.1248216\ttest: 0.1483091\tbest: 0.1483091 (1500)\ttotal: 29.4s\tremaining: 32m 10s\n",
            "1600:\tlearn: 0.1212004\ttest: 0.1457694\tbest: 0.1457694 (1600)\ttotal: 31.4s\tremaining: 32m 6s\n",
            "1700:\tlearn: 0.1179950\ttest: 0.1435975\tbest: 0.1435975 (1700)\ttotal: 33.3s\tremaining: 32m 1s\n",
            "1800:\tlearn: 0.1150962\ttest: 0.1416440\tbest: 0.1416440 (1800)\ttotal: 35.2s\tremaining: 31m 59s\n",
            "1900:\tlearn: 0.1121612\ttest: 0.1396473\tbest: 0.1396473 (1900)\ttotal: 37.1s\tremaining: 31m 56s\n",
            "2000:\tlearn: 0.1095149\ttest: 0.1380002\tbest: 0.1380002 (2000)\ttotal: 39.1s\tremaining: 31m 53s\n",
            "2100:\tlearn: 0.1065867\ttest: 0.1361411\tbest: 0.1361411 (2100)\ttotal: 41s\tremaining: 31m 49s\n",
            "2200:\tlearn: 0.1040282\ttest: 0.1345310\tbest: 0.1345310 (2200)\ttotal: 42.9s\tremaining: 31m 44s\n",
            "2300:\tlearn: 0.1015889\ttest: 0.1330059\tbest: 0.1330059 (2300)\ttotal: 44.8s\tremaining: 31m 41s\n",
            "2400:\tlearn: 0.0992390\ttest: 0.1315669\tbest: 0.1315669 (2400)\ttotal: 46.8s\tremaining: 31m 40s\n",
            "2500:\tlearn: 0.0970635\ttest: 0.1301152\tbest: 0.1301152 (2500)\ttotal: 48.7s\tremaining: 31m 39s\n",
            "2600:\tlearn: 0.0949800\ttest: 0.1287108\tbest: 0.1287108 (2600)\ttotal: 50.7s\tremaining: 31m 39s\n",
            "2700:\tlearn: 0.0930595\ttest: 0.1275531\tbest: 0.1275531 (2700)\ttotal: 52.6s\tremaining: 31m 36s\n",
            "2800:\tlearn: 0.0911018\ttest: 0.1264349\tbest: 0.1264349 (2800)\ttotal: 54.5s\tremaining: 31m 31s\n",
            "2900:\tlearn: 0.0891770\ttest: 0.1251674\tbest: 0.1251674 (2900)\ttotal: 56.4s\tremaining: 31m 27s\n",
            "3000:\tlearn: 0.0873278\ttest: 0.1241110\tbest: 0.1241110 (3000)\ttotal: 58.3s\tremaining: 31m 23s\n",
            "3100:\tlearn: 0.0856400\ttest: 0.1231215\tbest: 0.1231215 (3100)\ttotal: 1m\tremaining: 31m 20s\n",
            "3200:\tlearn: 0.0838931\ttest: 0.1220777\tbest: 0.1220777 (3200)\ttotal: 1m 2s\tremaining: 31m 17s\n",
            "3300:\tlearn: 0.0822493\ttest: 0.1211465\tbest: 0.1211465 (3300)\ttotal: 1m 4s\tremaining: 31m 16s\n",
            "3400:\tlearn: 0.0806486\ttest: 0.1202050\tbest: 0.1202050 (3400)\ttotal: 1m 5s\tremaining: 31m 13s\n",
            "3500:\tlearn: 0.0790435\ttest: 0.1193005\tbest: 0.1192995 (3499)\ttotal: 1m 7s\tremaining: 31m 9s\n",
            "3600:\tlearn: 0.0775426\ttest: 0.1183995\tbest: 0.1183995 (3600)\ttotal: 1m 9s\tremaining: 31m 5s\n",
            "3700:\tlearn: 0.0762084\ttest: 0.1175649\tbest: 0.1175649 (3700)\ttotal: 1m 11s\tremaining: 31m 2s\n",
            "3800:\tlearn: 0.0748291\ttest: 0.1168292\tbest: 0.1168292 (3800)\ttotal: 1m 13s\tremaining: 31m 1s\n",
            "3900:\tlearn: 0.0734803\ttest: 0.1161095\tbest: 0.1161095 (3900)\ttotal: 1m 15s\tremaining: 31m\n",
            "4000:\tlearn: 0.0722347\ttest: 0.1154421\tbest: 0.1154421 (4000)\ttotal: 1m 17s\tremaining: 30m 59s\n",
            "4100:\tlearn: 0.0710627\ttest: 0.1148469\tbest: 0.1148469 (4100)\ttotal: 1m 19s\tremaining: 30m 58s\n",
            "4200:\tlearn: 0.0698692\ttest: 0.1140950\tbest: 0.1140950 (4200)\ttotal: 1m 21s\tremaining: 30m 57s\n",
            "4300:\tlearn: 0.0687158\ttest: 0.1135423\tbest: 0.1135423 (4300)\ttotal: 1m 23s\tremaining: 30m 54s\n",
            "4400:\tlearn: 0.0675220\ttest: 0.1128906\tbest: 0.1128906 (4400)\ttotal: 1m 25s\tremaining: 30m 53s\n",
            "4500:\tlearn: 0.0664167\ttest: 0.1123616\tbest: 0.1123616 (4500)\ttotal: 1m 27s\tremaining: 30m 51s\n",
            "4600:\tlearn: 0.0653041\ttest: 0.1118324\tbest: 0.1118240 (4599)\ttotal: 1m 29s\tremaining: 30m 49s\n",
            "4700:\tlearn: 0.0642982\ttest: 0.1112726\tbest: 0.1112726 (4700)\ttotal: 1m 31s\tremaining: 30m 47s\n",
            "4800:\tlearn: 0.0632209\ttest: 0.1107644\tbest: 0.1107644 (4800)\ttotal: 1m 33s\tremaining: 30m 45s\n",
            "4900:\tlearn: 0.0621846\ttest: 0.1101293\tbest: 0.1101293 (4900)\ttotal: 1m 35s\tremaining: 30m 43s\n",
            "5000:\tlearn: 0.0612808\ttest: 0.1095959\tbest: 0.1095959 (5000)\ttotal: 1m 36s\tremaining: 30m 41s\n",
            "5100:\tlearn: 0.0604522\ttest: 0.1092195\tbest: 0.1092195 (5100)\ttotal: 1m 38s\tremaining: 30m 39s\n",
            "5200:\tlearn: 0.0595262\ttest: 0.1087108\tbest: 0.1087108 (5200)\ttotal: 1m 40s\tremaining: 30m 37s\n",
            "5300:\tlearn: 0.0585859\ttest: 0.1082526\tbest: 0.1082526 (5300)\ttotal: 1m 42s\tremaining: 30m 35s\n",
            "5400:\tlearn: 0.0577019\ttest: 0.1077711\tbest: 0.1077711 (5400)\ttotal: 1m 44s\tremaining: 30m 33s\n",
            "5500:\tlearn: 0.0568661\ttest: 0.1072937\tbest: 0.1072933 (5499)\ttotal: 1m 46s\tremaining: 30m 31s\n",
            "5600:\tlearn: 0.0559799\ttest: 0.1068763\tbest: 0.1068763 (5600)\ttotal: 1m 48s\tremaining: 30m 30s\n",
            "5700:\tlearn: 0.0552437\ttest: 0.1064411\tbest: 0.1064411 (5700)\ttotal: 1m 50s\tremaining: 30m 28s\n",
            "5800:\tlearn: 0.0544746\ttest: 0.1060760\tbest: 0.1060760 (5800)\ttotal: 1m 52s\tremaining: 30m 25s\n",
            "5900:\tlearn: 0.0537755\ttest: 0.1057197\tbest: 0.1057169 (5895)\ttotal: 1m 54s\tremaining: 30m 23s\n",
            "6000:\tlearn: 0.0530584\ttest: 0.1053633\tbest: 0.1053633 (6000)\ttotal: 1m 56s\tremaining: 30m 21s\n",
            "6100:\tlearn: 0.0522731\ttest: 0.1049951\tbest: 0.1049942 (6099)\ttotal: 1m 58s\tremaining: 30m 20s\n",
            "6200:\tlearn: 0.0515738\ttest: 0.1046774\tbest: 0.1046774 (6200)\ttotal: 2m\tremaining: 30m 18s\n",
            "6300:\tlearn: 0.0508327\ttest: 0.1043640\tbest: 0.1043640 (6300)\ttotal: 2m 2s\tremaining: 30m 15s\n",
            "6400:\tlearn: 0.0501710\ttest: 0.1040202\tbest: 0.1040202 (6400)\ttotal: 2m 4s\tremaining: 30m 13s\n",
            "6500:\tlearn: 0.0494777\ttest: 0.1036572\tbest: 0.1036572 (6500)\ttotal: 2m 5s\tremaining: 30m 11s\n",
            "6600:\tlearn: 0.0488585\ttest: 0.1034232\tbest: 0.1034218 (6599)\ttotal: 2m 7s\tremaining: 30m 8s\n",
            "6700:\tlearn: 0.0481732\ttest: 0.1031006\tbest: 0.1031006 (6700)\ttotal: 2m 9s\tremaining: 30m 7s\n",
            "6800:\tlearn: 0.0475172\ttest: 0.1027835\tbest: 0.1027835 (6800)\ttotal: 2m 11s\tremaining: 30m 5s\n",
            "6900:\tlearn: 0.0468697\ttest: 0.1024639\tbest: 0.1024639 (6900)\ttotal: 2m 13s\tremaining: 30m 2s\n",
            "7000:\tlearn: 0.0462560\ttest: 0.1021533\tbest: 0.1021533 (7000)\ttotal: 2m 15s\tremaining: 29m 59s\n",
            "7100:\tlearn: 0.0456633\ttest: 0.1018770\tbest: 0.1018728 (7099)\ttotal: 2m 17s\tremaining: 29m 57s\n",
            "7200:\tlearn: 0.0450813\ttest: 0.1016238\tbest: 0.1016238 (7200)\ttotal: 2m 19s\tremaining: 29m 55s\n",
            "7300:\tlearn: 0.0444619\ttest: 0.1013288\tbest: 0.1013288 (7300)\ttotal: 2m 21s\tremaining: 29m 53s\n",
            "7400:\tlearn: 0.0438916\ttest: 0.1010550\tbest: 0.1010533 (7399)\ttotal: 2m 23s\tremaining: 29m 51s\n",
            "7500:\tlearn: 0.0433061\ttest: 0.1007181\tbest: 0.1007181 (7500)\ttotal: 2m 25s\tremaining: 29m 48s\n",
            "7600:\tlearn: 0.0427800\ttest: 0.1004896\tbest: 0.1004896 (7600)\ttotal: 2m 26s\tremaining: 29m 46s\n",
            "7700:\tlearn: 0.0422326\ttest: 0.1003088\tbest: 0.1003075 (7699)\ttotal: 2m 28s\tremaining: 29m 44s\n",
            "7800:\tlearn: 0.0417376\ttest: 0.1000788\tbest: 0.1000788 (7800)\ttotal: 2m 30s\tremaining: 29m 42s\n",
            "7900:\tlearn: 0.0412227\ttest: 0.0998611\tbest: 0.0998611 (7900)\ttotal: 2m 32s\tremaining: 29m 40s\n",
            "8000:\tlearn: 0.0407090\ttest: 0.0996153\tbest: 0.0996153 (8000)\ttotal: 2m 34s\tremaining: 29m 39s\n",
            "8100:\tlearn: 0.0402342\ttest: 0.0994254\tbest: 0.0994184 (8097)\ttotal: 2m 36s\tremaining: 29m 37s\n",
            "8200:\tlearn: 0.0397203\ttest: 0.0992160\tbest: 0.0992160 (8200)\ttotal: 2m 38s\tremaining: 29m 36s\n",
            "8300:\tlearn: 0.0392306\ttest: 0.0989766\tbest: 0.0989766 (8300)\ttotal: 2m 40s\tremaining: 29m 34s\n",
            "8400:\tlearn: 0.0387869\ttest: 0.0988223\tbest: 0.0988215 (8396)\ttotal: 2m 42s\tremaining: 29m 32s\n",
            "8500:\tlearn: 0.0383223\ttest: 0.0986390\tbest: 0.0986386 (8499)\ttotal: 2m 44s\tremaining: 29m 30s\n",
            "8600:\tlearn: 0.0378869\ttest: 0.0984044\tbest: 0.0984044 (8600)\ttotal: 2m 46s\tremaining: 29m 28s\n",
            "8700:\tlearn: 0.0374397\ttest: 0.0981852\tbest: 0.0981852 (8700)\ttotal: 2m 48s\tremaining: 29m 26s\n",
            "8800:\tlearn: 0.0370146\ttest: 0.0980531\tbest: 0.0980484 (8794)\ttotal: 2m 50s\tremaining: 29m 24s\n",
            "8900:\tlearn: 0.0365645\ttest: 0.0978410\tbest: 0.0978386 (8899)\ttotal: 2m 52s\tremaining: 29m 22s\n",
            "9000:\tlearn: 0.0361758\ttest: 0.0976317\tbest: 0.0976289 (8999)\ttotal: 2m 54s\tremaining: 29m 20s\n",
            "9100:\tlearn: 0.0357282\ttest: 0.0974549\tbest: 0.0974504 (9099)\ttotal: 2m 56s\tremaining: 29m 18s\n",
            "9200:\tlearn: 0.0353202\ttest: 0.0972903\tbest: 0.0972903 (9200)\ttotal: 2m 58s\tremaining: 29m 16s\n",
            "9300:\tlearn: 0.0349074\ttest: 0.0971142\tbest: 0.0971131 (9299)\ttotal: 2m 59s\tremaining: 29m 14s\n",
            "9400:\tlearn: 0.0344988\ttest: 0.0969215\tbest: 0.0969199 (9396)\ttotal: 3m 1s\tremaining: 29m 12s\n",
            "9500:\tlearn: 0.0341016\ttest: 0.0967485\tbest: 0.0967441 (9498)\ttotal: 3m 3s\tremaining: 29m 10s\n",
            "9600:\tlearn: 0.0337069\ttest: 0.0966407\tbest: 0.0966407 (9600)\ttotal: 3m 5s\tremaining: 29m 8s\n",
            "9700:\tlearn: 0.0333507\ttest: 0.0965055\tbest: 0.0965021 (9694)\ttotal: 3m 7s\tremaining: 29m 6s\n",
            "9800:\tlearn: 0.0329782\ttest: 0.0964150\tbest: 0.0964150 (9800)\ttotal: 3m 9s\tremaining: 29m 4s\n",
            "9900:\tlearn: 0.0325940\ttest: 0.0962802\tbest: 0.0962721 (9886)\ttotal: 3m 11s\tremaining: 29m 2s\n",
            "10000:\tlearn: 0.0322465\ttest: 0.0962021\tbest: 0.0961940 (9997)\ttotal: 3m 13s\tremaining: 29m\n",
            "10100:\tlearn: 0.0318850\ttest: 0.0960977\tbest: 0.0960926 (10097)\ttotal: 3m 15s\tremaining: 28m 58s\n",
            "10200:\tlearn: 0.0315312\ttest: 0.0959612\tbest: 0.0959612 (10200)\ttotal: 3m 17s\tremaining: 28m 57s\n",
            "10300:\tlearn: 0.0311876\ttest: 0.0957916\tbest: 0.0957892 (10299)\ttotal: 3m 19s\tremaining: 28m 55s\n",
            "10400:\tlearn: 0.0308921\ttest: 0.0956975\tbest: 0.0956975 (10400)\ttotal: 3m 21s\tremaining: 28m 54s\n",
            "10500:\tlearn: 0.0305617\ttest: 0.0955979\tbest: 0.0955979 (10500)\ttotal: 3m 23s\tremaining: 28m 52s\n",
            "10600:\tlearn: 0.0302388\ttest: 0.0954463\tbest: 0.0954364 (10581)\ttotal: 3m 25s\tremaining: 28m 50s\n",
            "10700:\tlearn: 0.0299103\ttest: 0.0953516\tbest: 0.0953495 (10698)\ttotal: 3m 27s\tremaining: 28m 48s\n",
            "10800:\tlearn: 0.0295843\ttest: 0.0952932\tbest: 0.0952886 (10798)\ttotal: 3m 29s\tremaining: 28m 46s\n",
            "10900:\tlearn: 0.0292834\ttest: 0.0952422\tbest: 0.0952399 (10892)\ttotal: 3m 31s\tremaining: 28m 44s\n",
            "11000:\tlearn: 0.0289723\ttest: 0.0951497\tbest: 0.0951418 (10985)\ttotal: 3m 32s\tremaining: 28m 42s\n",
            "11100:\tlearn: 0.0286753\ttest: 0.0950175\tbest: 0.0950144 (11095)\ttotal: 3m 34s\tremaining: 28m 40s\n",
            "11200:\tlearn: 0.0283779\ttest: 0.0948520\tbest: 0.0948520 (11200)\ttotal: 3m 36s\tremaining: 28m 39s\n",
            "11300:\tlearn: 0.0280961\ttest: 0.0947444\tbest: 0.0947444 (11300)\ttotal: 3m 38s\tremaining: 28m 37s\n",
            "11400:\tlearn: 0.0278092\ttest: 0.0946345\tbest: 0.0946345 (11400)\ttotal: 3m 40s\tremaining: 28m 35s\n",
            "11500:\tlearn: 0.0275213\ttest: 0.0945487\tbest: 0.0945457 (11498)\ttotal: 3m 42s\tremaining: 28m 33s\n",
            "11600:\tlearn: 0.0272598\ttest: 0.0944187\tbest: 0.0944187 (11600)\ttotal: 3m 44s\tremaining: 28m 31s\n",
            "11700:\tlearn: 0.0269854\ttest: 0.0943072\tbest: 0.0943072 (11700)\ttotal: 3m 46s\tremaining: 28m 30s\n",
            "11800:\tlearn: 0.0267099\ttest: 0.0941910\tbest: 0.0941886 (11792)\ttotal: 3m 48s\tremaining: 28m 28s\n",
            "11900:\tlearn: 0.0264535\ttest: 0.0940858\tbest: 0.0940845 (11897)\ttotal: 3m 50s\tremaining: 28m 26s\n",
            "12000:\tlearn: 0.0261994\ttest: 0.0940035\tbest: 0.0940035 (12000)\ttotal: 3m 52s\tremaining: 28m 24s\n",
            "12100:\tlearn: 0.0259464\ttest: 0.0939012\tbest: 0.0938997 (12099)\ttotal: 3m 54s\tremaining: 28m 22s\n",
            "12200:\tlearn: 0.0256937\ttest: 0.0938125\tbest: 0.0938069 (12193)\ttotal: 3m 56s\tremaining: 28m 19s\n",
            "12300:\tlearn: 0.0254482\ttest: 0.0937510\tbest: 0.0937425 (12284)\ttotal: 3m 58s\tremaining: 28m 17s\n",
            "12400:\tlearn: 0.0252075\ttest: 0.0936978\tbest: 0.0936899 (12393)\ttotal: 3m 59s\tremaining: 28m 14s\n",
            "12500:\tlearn: 0.0249738\ttest: 0.0936869\tbest: 0.0936612 (12454)\ttotal: 4m 1s\tremaining: 28m 12s\n",
            "12600:\tlearn: 0.0247431\ttest: 0.0936118\tbest: 0.0936111 (12599)\ttotal: 4m 3s\tremaining: 28m 10s\n",
            "12700:\tlearn: 0.0245211\ttest: 0.0935264\tbest: 0.0935257 (12697)\ttotal: 4m 5s\tremaining: 28m 8s\n",
            "12800:\tlearn: 0.0242947\ttest: 0.0934743\tbest: 0.0934669 (12789)\ttotal: 4m 7s\tremaining: 28m 6s\n",
            "12900:\tlearn: 0.0240751\ttest: 0.0934356\tbest: 0.0934335 (12894)\ttotal: 4m 9s\tremaining: 28m 4s\n",
            "13000:\tlearn: 0.0238474\ttest: 0.0933533\tbest: 0.0933493 (12990)\ttotal: 4m 11s\tremaining: 28m 2s\n",
            "13100:\tlearn: 0.0236143\ttest: 0.0932688\tbest: 0.0932639 (13094)\ttotal: 4m 13s\tremaining: 28m 1s\n",
            "13200:\tlearn: 0.0234052\ttest: 0.0932242\tbest: 0.0932242 (13200)\ttotal: 4m 15s\tremaining: 27m 59s\n",
            "13300:\tlearn: 0.0231829\ttest: 0.0931933\tbest: 0.0931858 (13291)\ttotal: 4m 17s\tremaining: 27m 57s\n",
            "13400:\tlearn: 0.0229580\ttest: 0.0931332\tbest: 0.0931332 (13400)\ttotal: 4m 19s\tremaining: 27m 54s\n",
            "13500:\tlearn: 0.0227525\ttest: 0.0930525\tbest: 0.0930525 (13500)\ttotal: 4m 21s\tremaining: 27m 52s\n",
            "13600:\tlearn: 0.0225540\ttest: 0.0930482\tbest: 0.0930338 (13553)\ttotal: 4m 22s\tremaining: 27m 50s\n",
            "13700:\tlearn: 0.0223405\ttest: 0.0929664\tbest: 0.0929591 (13695)\ttotal: 4m 24s\tremaining: 27m 48s\n",
            "13800:\tlearn: 0.0221530\ttest: 0.0929221\tbest: 0.0929174 (13788)\ttotal: 4m 26s\tremaining: 27m 46s\n",
            "13900:\tlearn: 0.0219522\ttest: 0.0928808\tbest: 0.0928785 (13897)\ttotal: 4m 28s\tremaining: 27m 44s\n",
            "14000:\tlearn: 0.0217577\ttest: 0.0928636\tbest: 0.0928552 (13996)\ttotal: 4m 30s\tremaining: 27m 42s\n",
            "14100:\tlearn: 0.0215806\ttest: 0.0928158\tbest: 0.0928133 (14095)\ttotal: 4m 32s\tremaining: 27m 40s\n",
            "14200:\tlearn: 0.0213832\ttest: 0.0927420\tbest: 0.0927420 (14200)\ttotal: 4m 34s\tremaining: 27m 37s\n",
            "14300:\tlearn: 0.0211833\ttest: 0.0926859\tbest: 0.0926793 (14287)\ttotal: 4m 36s\tremaining: 27m 35s\n",
            "14400:\tlearn: 0.0210088\ttest: 0.0926562\tbest: 0.0926513 (14397)\ttotal: 4m 38s\tremaining: 27m 33s\n",
            "14500:\tlearn: 0.0208315\ttest: 0.0925977\tbest: 0.0925977 (14500)\ttotal: 4m 40s\tremaining: 27m 32s\n",
            "14600:\tlearn: 0.0206464\ttest: 0.0925490\tbest: 0.0925439 (14583)\ttotal: 4m 42s\tremaining: 27m 30s\n",
            "14700:\tlearn: 0.0204747\ttest: 0.0925028\tbest: 0.0925028 (14700)\ttotal: 4m 44s\tremaining: 27m 28s\n",
            "14800:\tlearn: 0.0203032\ttest: 0.0924956\tbest: 0.0924872 (14759)\ttotal: 4m 46s\tremaining: 27m 26s\n",
            "14900:\tlearn: 0.0201311\ttest: 0.0924547\tbest: 0.0924547 (14900)\ttotal: 4m 47s\tremaining: 27m 24s\n",
            "15000:\tlearn: 0.0199533\ttest: 0.0924517\tbest: 0.0924385 (14935)\ttotal: 4m 49s\tremaining: 27m 22s\n",
            "15100:\tlearn: 0.0197870\ttest: 0.0924125\tbest: 0.0923951 (15066)\ttotal: 4m 51s\tremaining: 27m 20s\n",
            "15200:\tlearn: 0.0196116\ttest: 0.0923450\tbest: 0.0923450 (15200)\ttotal: 4m 53s\tremaining: 27m 18s\n",
            "15300:\tlearn: 0.0194545\ttest: 0.0922990\tbest: 0.0922985 (15294)\ttotal: 4m 55s\tremaining: 27m 16s\n",
            "15400:\tlearn: 0.0192913\ttest: 0.0922863\tbest: 0.0922849 (15398)\ttotal: 4m 57s\tremaining: 27m 14s\n",
            "15500:\tlearn: 0.0191281\ttest: 0.0922500\tbest: 0.0922493 (15499)\ttotal: 4m 59s\tremaining: 27m 12s\n",
            "15600:\tlearn: 0.0189713\ttest: 0.0921818\tbest: 0.0921818 (15600)\ttotal: 5m 1s\tremaining: 27m 10s\n",
            "15700:\tlearn: 0.0188214\ttest: 0.0921274\tbest: 0.0921253 (15698)\ttotal: 5m 3s\tremaining: 27m 9s\n",
            "15800:\tlearn: 0.0186732\ttest: 0.0920973\tbest: 0.0920925 (15790)\ttotal: 5m 5s\tremaining: 27m 7s\n",
            "15900:\tlearn: 0.0185141\ttest: 0.0920365\tbest: 0.0920362 (15896)\ttotal: 5m 7s\tremaining: 27m 5s\n",
            "16000:\tlearn: 0.0183610\ttest: 0.0919740\tbest: 0.0919740 (16000)\ttotal: 5m 9s\tremaining: 27m 3s\n",
            "16100:\tlearn: 0.0182159\ttest: 0.0919374\tbest: 0.0919343 (16096)\ttotal: 5m 11s\tremaining: 27m\n",
            "16200:\tlearn: 0.0180683\ttest: 0.0919269\tbest: 0.0919202 (16136)\ttotal: 5m 13s\tremaining: 26m 59s\n",
            "16300:\tlearn: 0.0179378\ttest: 0.0919186\tbest: 0.0919062 (16228)\ttotal: 5m 14s\tremaining: 26m 57s\n",
            "bestTest = 0.09190620931\n",
            "bestIteration = 16228\n",
            "Shrink model to first 16229 iterations.\n",
            "----------------TEST EVALUATION------------------\n",
            "Default score: [-0.8254349]\n",
            "Accuracy is: 0.6923742950194615\n",
            "F1 is: 0.7678097844530648\n",
            "None\n"
          ],
          "name": "stdout"
        },
        {
          "output_type": "display_data",
          "data": {
            "image/png": "[encoded data removed]",
            "text/plain": [
              "<Figure size 864x576 with 1 Axes>"
            ]
          },
          "metadata": {
            "tags": [],
            "needs_background": "light"
          }
        }
      ]
    },
    {
      "cell_type": "code",
      "metadata": {
        "id": "RzZrKhjWLx-4",
        "colab": {
          "base_uri": "https://localhost:8080/",
          "height": 1000
        },
        "outputId": "8651bbae-d118-44e4-8e8c-1c30d92bb683"
      },
      "source": [
        " func6_= Model(train6, validation, validation1, validation2, validation3, ytrain6, valid_target)\n",
        "pred6, val6, open_test6, open_test66, model6 = func6_()"
      ],
      "execution_count": null,
      "outputs": [
        {
          "output_type": "stream",
          "text": [
            "0:\tlearn: 1.9194134\ttest: 1.9199097\tbest: 1.9199097 (0)\ttotal: 22ms\tremaining: 36m 35s\n",
            "100:\tlearn: 0.3098347\ttest: 0.3196831\tbest: 0.3196831 (100)\ttotal: 2.09s\tremaining: 34m 24s\n",
            "200:\tlearn: 0.2229231\ttest: 0.2341179\tbest: 0.2341179 (200)\ttotal: 4.01s\tremaining: 33m 9s\n",
            "300:\tlearn: 0.1882298\ttest: 0.2007916\tbest: 0.2007916 (300)\ttotal: 5.96s\tremaining: 32m 53s\n",
            "400:\tlearn: 0.1680123\ttest: 0.1814164\tbest: 0.1814164 (400)\ttotal: 7.87s\tremaining: 32m 34s\n",
            "500:\tlearn: 0.1534558\ttest: 0.1678570\tbest: 0.1678570 (500)\ttotal: 9.81s\tremaining: 32m 27s\n",
            "600:\tlearn: 0.1420224\ttest: 0.1574291\tbest: 0.1574291 (600)\ttotal: 11.7s\tremaining: 32m 16s\n",
            "700:\tlearn: 0.1330940\ttest: 0.1495883\tbest: 0.1495883 (700)\ttotal: 13.6s\tremaining: 32m 6s\n",
            "800:\tlearn: 0.1258967\ttest: 0.1433445\tbest: 0.1433445 (800)\ttotal: 15.5s\tremaining: 31m 57s\n",
            "900:\tlearn: 0.1197593\ttest: 0.1383862\tbest: 0.1383862 (900)\ttotal: 17.3s\tremaining: 31m 47s\n",
            "1000:\tlearn: 0.1142624\ttest: 0.1337568\tbest: 0.1337568 (1000)\ttotal: 19.2s\tremaining: 31m 39s\n",
            "1100:\tlearn: 0.1095480\ttest: 0.1298611\tbest: 0.1298611 (1100)\ttotal: 21.2s\tremaining: 31m 40s\n",
            "1200:\tlearn: 0.1051758\ttest: 0.1264424\tbest: 0.1264424 (1200)\ttotal: 23.1s\tremaining: 31m 37s\n",
            "1300:\tlearn: 0.1014393\ttest: 0.1235093\tbest: 0.1235093 (1300)\ttotal: 24.9s\tremaining: 31m 31s\n",
            "1400:\tlearn: 0.0978839\ttest: 0.1208264\tbest: 0.1208264 (1400)\ttotal: 26.9s\tremaining: 31m 31s\n",
            "1500:\tlearn: 0.0945918\ttest: 0.1184375\tbest: 0.1184375 (1500)\ttotal: 28.8s\tremaining: 31m 33s\n",
            "1600:\tlearn: 0.0916308\ttest: 0.1162774\tbest: 0.1162774 (1600)\ttotal: 30.8s\tremaining: 31m 32s\n",
            "1700:\tlearn: 0.0888534\ttest: 0.1141875\tbest: 0.1141875 (1700)\ttotal: 32.6s\tremaining: 31m 25s\n",
            "1800:\tlearn: 0.0861546\ttest: 0.1122576\tbest: 0.1122576 (1800)\ttotal: 34.6s\tremaining: 31m 24s\n",
            "1900:\tlearn: 0.0838088\ttest: 0.1106029\tbest: 0.1106029 (1900)\ttotal: 36.4s\tremaining: 31m 20s\n",
            "2000:\tlearn: 0.0815163\ttest: 0.1089892\tbest: 0.1089892 (2000)\ttotal: 38.3s\tremaining: 31m 17s\n",
            "2100:\tlearn: 0.0793416\ttest: 0.1074908\tbest: 0.1074908 (2100)\ttotal: 40.2s\tremaining: 31m 15s\n",
            "2200:\tlearn: 0.0772576\ttest: 0.1059985\tbest: 0.1059985 (2200)\ttotal: 42.1s\tremaining: 31m 11s\n",
            "2300:\tlearn: 0.0752729\ttest: 0.1046975\tbest: 0.1046975 (2300)\ttotal: 44s\tremaining: 31m 9s\n",
            "2400:\tlearn: 0.0734256\ttest: 0.1034891\tbest: 0.1034891 (2400)\ttotal: 45.9s\tremaining: 31m 7s\n",
            "2500:\tlearn: 0.0715981\ttest: 0.1022713\tbest: 0.1022713 (2500)\ttotal: 47.9s\tremaining: 31m 7s\n",
            "2600:\tlearn: 0.0698318\ttest: 0.1010468\tbest: 0.1010468 (2600)\ttotal: 49.8s\tremaining: 31m 5s\n",
            "2700:\tlearn: 0.0681490\ttest: 0.0999699\tbest: 0.0999699 (2700)\ttotal: 51.7s\tremaining: 31m 3s\n",
            "2800:\tlearn: 0.0666171\ttest: 0.0989728\tbest: 0.0989728 (2800)\ttotal: 53.6s\tremaining: 31m 1s\n",
            "2900:\tlearn: 0.0650526\ttest: 0.0980309\tbest: 0.0980309 (2900)\ttotal: 55.6s\tremaining: 31m\n",
            "3000:\tlearn: 0.0635791\ttest: 0.0970207\tbest: 0.0970207 (3000)\ttotal: 57.5s\tremaining: 30m 57s\n",
            "3100:\tlearn: 0.0622229\ttest: 0.0961661\tbest: 0.0961661 (3100)\ttotal: 59.4s\tremaining: 30m 56s\n",
            "3200:\tlearn: 0.0609091\ttest: 0.0953452\tbest: 0.0953425 (3199)\ttotal: 1m 1s\tremaining: 30m 56s\n",
            "3300:\tlearn: 0.0595843\ttest: 0.0945227\tbest: 0.0945227 (3300)\ttotal: 1m 3s\tremaining: 30m 54s\n",
            "3400:\tlearn: 0.0582707\ttest: 0.0936967\tbest: 0.0936967 (3400)\ttotal: 1m 5s\tremaining: 30m 53s\n",
            "3500:\tlearn: 0.0570472\ttest: 0.0930370\tbest: 0.0930370 (3500)\ttotal: 1m 7s\tremaining: 30m 53s\n",
            "3600:\tlearn: 0.0559250\ttest: 0.0923959\tbest: 0.0923959 (3600)\ttotal: 1m 9s\tremaining: 30m 49s\n",
            "3700:\tlearn: 0.0548310\ttest: 0.0917310\tbest: 0.0917310 (3700)\ttotal: 1m 10s\tremaining: 30m 46s\n",
            "3800:\tlearn: 0.0537390\ttest: 0.0911129\tbest: 0.0911126 (3797)\ttotal: 1m 12s\tremaining: 30m 44s\n",
            "3900:\tlearn: 0.0526567\ttest: 0.0905262\tbest: 0.0905262 (3900)\ttotal: 1m 14s\tremaining: 30m 42s\n",
            "4000:\tlearn: 0.0516982\ttest: 0.0900163\tbest: 0.0900163 (4000)\ttotal: 1m 16s\tremaining: 30m 42s\n",
            "4100:\tlearn: 0.0507104\ttest: 0.0894481\tbest: 0.0894481 (4100)\ttotal: 1m 18s\tremaining: 30m 39s\n",
            "4200:\tlearn: 0.0497758\ttest: 0.0889836\tbest: 0.0889836 (4200)\ttotal: 1m 20s\tremaining: 30m 37s\n",
            "4300:\tlearn: 0.0488791\ttest: 0.0884104\tbest: 0.0884104 (4300)\ttotal: 1m 22s\tremaining: 30m 36s\n",
            "4400:\tlearn: 0.0480334\ttest: 0.0879581\tbest: 0.0879581 (4400)\ttotal: 1m 24s\tremaining: 30m 34s\n",
            "4500:\tlearn: 0.0472227\ttest: 0.0875183\tbest: 0.0875183 (4500)\ttotal: 1m 26s\tremaining: 30m 31s\n",
            "4600:\tlearn: 0.0463709\ttest: 0.0869800\tbest: 0.0869800 (4600)\ttotal: 1m 28s\tremaining: 30m 31s\n",
            "4700:\tlearn: 0.0455419\ttest: 0.0864445\tbest: 0.0864445 (4700)\ttotal: 1m 30s\tremaining: 30m 28s\n",
            "4800:\tlearn: 0.0448374\ttest: 0.0860878\tbest: 0.0860878 (4800)\ttotal: 1m 32s\tremaining: 30m 26s\n",
            "4900:\tlearn: 0.0440381\ttest: 0.0856606\tbest: 0.0856606 (4900)\ttotal: 1m 34s\tremaining: 30m 24s\n",
            "5000:\tlearn: 0.0432442\ttest: 0.0852524\tbest: 0.0852522 (4996)\ttotal: 1m 35s\tremaining: 30m 23s\n",
            "5100:\tlearn: 0.0425619\ttest: 0.0848469\tbest: 0.0848469 (5100)\ttotal: 1m 37s\tremaining: 30m 21s\n",
            "5200:\tlearn: 0.0418319\ttest: 0.0844263\tbest: 0.0844263 (5200)\ttotal: 1m 39s\tremaining: 30m 20s\n",
            "5300:\tlearn: 0.0411518\ttest: 0.0840507\tbest: 0.0840507 (5300)\ttotal: 1m 41s\tremaining: 30m 18s\n",
            "5400:\tlearn: 0.0404541\ttest: 0.0836886\tbest: 0.0836886 (5400)\ttotal: 1m 43s\tremaining: 30m 16s\n",
            "5500:\tlearn: 0.0398220\ttest: 0.0833696\tbest: 0.0833696 (5500)\ttotal: 1m 45s\tremaining: 30m 15s\n",
            "5600:\tlearn: 0.0391931\ttest: 0.0829717\tbest: 0.0829717 (5600)\ttotal: 1m 47s\tremaining: 30m 13s\n",
            "5700:\tlearn: 0.0386067\ttest: 0.0826276\tbest: 0.0826247 (5699)\ttotal: 1m 49s\tremaining: 30m 11s\n",
            "5800:\tlearn: 0.0379896\ttest: 0.0822885\tbest: 0.0822885 (5800)\ttotal: 1m 51s\tremaining: 30m 10s\n",
            "5900:\tlearn: 0.0373505\ttest: 0.0819361\tbest: 0.0819344 (5899)\ttotal: 1m 53s\tremaining: 30m 9s\n",
            "6000:\tlearn: 0.0368061\ttest: 0.0816719\tbest: 0.0816719 (6000)\ttotal: 1m 55s\tremaining: 30m 7s\n",
            "6100:\tlearn: 0.0362548\ttest: 0.0814451\tbest: 0.0814449 (6099)\ttotal: 1m 57s\tremaining: 30m 5s\n",
            "6200:\tlearn: 0.0357102\ttest: 0.0811800\tbest: 0.0811800 (6200)\ttotal: 1m 59s\tremaining: 30m 4s\n",
            "6300:\tlearn: 0.0351867\ttest: 0.0808969\tbest: 0.0808969 (6300)\ttotal: 2m 1s\tremaining: 30m 2s\n",
            "6400:\tlearn: 0.0346541\ttest: 0.0805942\tbest: 0.0805942 (6400)\ttotal: 2m 3s\tremaining: 30m 1s\n",
            "6500:\tlearn: 0.0341388\ttest: 0.0803616\tbest: 0.0803616 (6500)\ttotal: 2m 5s\tremaining: 29m 59s\n",
            "6600:\tlearn: 0.0336183\ttest: 0.0801415\tbest: 0.0801415 (6600)\ttotal: 2m 7s\tremaining: 29m 57s\n",
            "6700:\tlearn: 0.0331171\ttest: 0.0798348\tbest: 0.0798348 (6700)\ttotal: 2m 9s\tremaining: 29m 56s\n",
            "6800:\tlearn: 0.0326654\ttest: 0.0796056\tbest: 0.0796032 (6799)\ttotal: 2m 10s\tremaining: 29m 54s\n",
            "6900:\tlearn: 0.0322159\ttest: 0.0793789\tbest: 0.0793789 (6900)\ttotal: 2m 12s\tremaining: 29m 53s\n",
            "7000:\tlearn: 0.0317517\ttest: 0.0791840\tbest: 0.0791840 (7000)\ttotal: 2m 14s\tremaining: 29m 51s\n",
            "7100:\tlearn: 0.0313057\ttest: 0.0789277\tbest: 0.0789277 (7100)\ttotal: 2m 16s\tremaining: 29m 48s\n",
            "7200:\tlearn: 0.0308736\ttest: 0.0786927\tbest: 0.0786927 (7200)\ttotal: 2m 18s\tremaining: 29m 46s\n",
            "7300:\tlearn: 0.0304227\ttest: 0.0784617\tbest: 0.0784565 (7297)\ttotal: 2m 20s\tremaining: 29m 44s\n",
            "7400:\tlearn: 0.0299923\ttest: 0.0782612\tbest: 0.0782612 (7400)\ttotal: 2m 22s\tremaining: 29m 42s\n",
            "7500:\tlearn: 0.0296144\ttest: 0.0781036\tbest: 0.0781024 (7497)\ttotal: 2m 24s\tremaining: 29m 40s\n",
            "7600:\tlearn: 0.0292071\ttest: 0.0778511\tbest: 0.0778511 (7600)\ttotal: 2m 26s\tremaining: 29m 38s\n",
            "7700:\tlearn: 0.0288251\ttest: 0.0776782\tbest: 0.0776782 (7700)\ttotal: 2m 28s\tremaining: 29m 36s\n",
            "7800:\tlearn: 0.0284534\ttest: 0.0774891\tbest: 0.0774891 (7800)\ttotal: 2m 30s\tremaining: 29m 34s\n",
            "7900:\tlearn: 0.0280735\ttest: 0.0773835\tbest: 0.0773835 (7900)\ttotal: 2m 32s\tremaining: 29m 32s\n",
            "8000:\tlearn: 0.0277006\ttest: 0.0772082\tbest: 0.0772052 (7999)\ttotal: 2m 34s\tremaining: 29m 31s\n",
            "8100:\tlearn: 0.0273286\ttest: 0.0770577\tbest: 0.0770550 (8097)\ttotal: 2m 36s\tremaining: 29m 29s\n",
            "8200:\tlearn: 0.0269789\ttest: 0.0768766\tbest: 0.0768765 (8198)\ttotal: 2m 37s\tremaining: 29m 28s\n",
            "8300:\tlearn: 0.0266383\ttest: 0.0767029\tbest: 0.0767029 (8300)\ttotal: 2m 39s\tremaining: 29m 26s\n",
            "8400:\tlearn: 0.0262902\ttest: 0.0765849\tbest: 0.0765806 (8398)\ttotal: 2m 41s\tremaining: 29m 25s\n",
            "8500:\tlearn: 0.0259511\ttest: 0.0764101\tbest: 0.0764084 (8495)\ttotal: 2m 43s\tremaining: 29m 23s\n",
            "8600:\tlearn: 0.0256135\ttest: 0.0762140\tbest: 0.0762088 (8598)\ttotal: 2m 45s\tremaining: 29m 21s\n",
            "8700:\tlearn: 0.0252918\ttest: 0.0760947\tbest: 0.0760942 (8699)\ttotal: 2m 47s\tremaining: 29m 19s\n",
            "8800:\tlearn: 0.0249889\ttest: 0.0759660\tbest: 0.0759660 (8800)\ttotal: 2m 49s\tremaining: 29m 17s\n",
            "8900:\tlearn: 0.0246678\ttest: 0.0757978\tbest: 0.0757978 (8900)\ttotal: 2m 51s\tremaining: 29m 15s\n",
            "9000:\tlearn: 0.0243696\ttest: 0.0757126\tbest: 0.0757126 (9000)\ttotal: 2m 53s\tremaining: 29m 12s\n",
            "9100:\tlearn: 0.0240659\ttest: 0.0755572\tbest: 0.0755572 (9100)\ttotal: 2m 55s\tremaining: 29m 10s\n",
            "9200:\tlearn: 0.0237784\ttest: 0.0754129\tbest: 0.0754129 (9200)\ttotal: 2m 57s\tremaining: 29m 8s\n",
            "9300:\tlearn: 0.0234971\ttest: 0.0753348\tbest: 0.0753319 (9299)\ttotal: 2m 59s\tremaining: 29m 5s\n",
            "9400:\tlearn: 0.0232291\ttest: 0.0752275\tbest: 0.0752257 (9399)\ttotal: 3m\tremaining: 29m 3s\n",
            "9500:\tlearn: 0.0229517\ttest: 0.0751143\tbest: 0.0751143 (9500)\ttotal: 3m 2s\tremaining: 29m 1s\n",
            "9600:\tlearn: 0.0226763\ttest: 0.0749841\tbest: 0.0749841 (9600)\ttotal: 3m 4s\tremaining: 29m\n",
            "9700:\tlearn: 0.0224006\ttest: 0.0748838\tbest: 0.0748831 (9698)\ttotal: 3m 6s\tremaining: 28m 58s\n",
            "9800:\tlearn: 0.0221398\ttest: 0.0748009\tbest: 0.0748009 (9800)\ttotal: 3m 8s\tremaining: 28m 56s\n",
            "9900:\tlearn: 0.0218875\ttest: 0.0746968\tbest: 0.0746958 (9899)\ttotal: 3m 10s\tremaining: 28m 54s\n",
            "10000:\tlearn: 0.0216359\ttest: 0.0746164\tbest: 0.0746082 (9994)\ttotal: 3m 12s\tremaining: 28m 52s\n",
            "10100:\tlearn: 0.0213690\ttest: 0.0745179\tbest: 0.0745179 (10100)\ttotal: 3m 14s\tremaining: 28m 50s\n",
            "10200:\tlearn: 0.0211247\ttest: 0.0744398\tbest: 0.0744395 (10187)\ttotal: 3m 16s\tremaining: 28m 49s\n",
            "10300:\tlearn: 0.0208818\ttest: 0.0743669\tbest: 0.0743571 (10291)\ttotal: 3m 18s\tremaining: 28m 47s\n",
            "10400:\tlearn: 0.0206545\ttest: 0.0742962\tbest: 0.0742863 (10381)\ttotal: 3m 20s\tremaining: 28m 45s\n",
            "10500:\tlearn: 0.0204313\ttest: 0.0742260\tbest: 0.0742235 (10494)\ttotal: 3m 22s\tremaining: 28m 43s\n",
            "10600:\tlearn: 0.0202095\ttest: 0.0741767\tbest: 0.0741712 (10569)\ttotal: 3m 24s\tremaining: 28m 42s\n",
            "10700:\tlearn: 0.0199792\ttest: 0.0740893\tbest: 0.0740851 (10698)\ttotal: 3m 26s\tremaining: 28m 40s\n",
            "10800:\tlearn: 0.0197685\ttest: 0.0740046\tbest: 0.0740046 (10800)\ttotal: 3m 28s\tremaining: 28m 38s\n",
            "10900:\tlearn: 0.0195370\ttest: 0.0738808\tbest: 0.0738808 (10900)\ttotal: 3m 30s\tremaining: 28m 37s\n",
            "11000:\tlearn: 0.0193339\ttest: 0.0738221\tbest: 0.0738212 (10999)\ttotal: 3m 32s\tremaining: 28m 35s\n",
            "11100:\tlearn: 0.0191283\ttest: 0.0737556\tbest: 0.0737556 (11100)\ttotal: 3m 33s\tremaining: 28m 33s\n",
            "11200:\tlearn: 0.0189287\ttest: 0.0736348\tbest: 0.0736334 (11199)\ttotal: 3m 35s\tremaining: 28m 30s\n",
            "11300:\tlearn: 0.0187284\ttest: 0.0735607\tbest: 0.0735579 (11299)\ttotal: 3m 37s\tremaining: 28m 28s\n",
            "11400:\tlearn: 0.0185248\ttest: 0.0734939\tbest: 0.0734905 (11391)\ttotal: 3m 39s\tremaining: 28m 27s\n",
            "11500:\tlearn: 0.0183291\ttest: 0.0734038\tbest: 0.0734038 (11500)\ttotal: 3m 41s\tremaining: 28m 25s\n",
            "11600:\tlearn: 0.0181352\ttest: 0.0733424\tbest: 0.0733403 (11599)\ttotal: 3m 43s\tremaining: 28m 22s\n",
            "11700:\tlearn: 0.0179578\ttest: 0.0732650\tbest: 0.0732650 (11700)\ttotal: 3m 45s\tremaining: 28m 20s\n",
            "11800:\tlearn: 0.0177742\ttest: 0.0732248\tbest: 0.0732228 (11795)\ttotal: 3m 47s\tremaining: 28m 18s\n",
            "11900:\tlearn: 0.0175925\ttest: 0.0731788\tbest: 0.0731773 (11898)\ttotal: 3m 49s\tremaining: 28m 16s\n",
            "12000:\tlearn: 0.0174096\ttest: 0.0731285\tbest: 0.0731185 (11990)\ttotal: 3m 51s\tremaining: 28m 14s\n",
            "12100:\tlearn: 0.0172399\ttest: 0.0730930\tbest: 0.0730930 (12100)\ttotal: 3m 53s\tremaining: 28m 13s\n",
            "12200:\tlearn: 0.0170689\ttest: 0.0730280\tbest: 0.0730261 (12196)\ttotal: 3m 55s\tremaining: 28m 11s\n",
            "12300:\tlearn: 0.0169028\ttest: 0.0729435\tbest: 0.0729435 (12300)\ttotal: 3m 56s\tremaining: 28m 9s\n",
            "12400:\tlearn: 0.0167410\ttest: 0.0729235\tbest: 0.0729187 (12351)\ttotal: 3m 58s\tremaining: 28m 7s\n",
            "12500:\tlearn: 0.0165809\ttest: 0.0728745\tbest: 0.0728745 (12500)\ttotal: 4m\tremaining: 28m 5s\n",
            "12600:\tlearn: 0.0164161\ttest: 0.0728192\tbest: 0.0728192 (12600)\ttotal: 4m 2s\tremaining: 28m 3s\n",
            "12700:\tlearn: 0.0162472\ttest: 0.0727627\tbest: 0.0727596 (12697)\ttotal: 4m 4s\tremaining: 28m 2s\n",
            "12800:\tlearn: 0.0160919\ttest: 0.0726989\tbest: 0.0726937 (12798)\ttotal: 4m 6s\tremaining: 28m\n",
            "12900:\tlearn: 0.0159441\ttest: 0.0726812\tbest: 0.0726783 (12881)\ttotal: 4m 8s\tremaining: 27m 58s\n",
            "13000:\tlearn: 0.0157894\ttest: 0.0726457\tbest: 0.0726401 (12987)\ttotal: 4m 10s\tremaining: 27m 56s\n",
            "13100:\tlearn: 0.0156455\ttest: 0.0726204\tbest: 0.0726170 (13094)\ttotal: 4m 12s\tremaining: 27m 54s\n",
            "13200:\tlearn: 0.0155112\ttest: 0.0725799\tbest: 0.0725799 (13200)\ttotal: 4m 14s\tremaining: 27m 52s\n",
            "13300:\tlearn: 0.0153623\ttest: 0.0725382\tbest: 0.0725350 (13294)\ttotal: 4m 16s\tremaining: 27m 49s\n",
            "13400:\tlearn: 0.0152219\ttest: 0.0725257\tbest: 0.0725120 (13357)\ttotal: 4m 18s\tremaining: 27m 48s\n",
            "13500:\tlearn: 0.0150794\ttest: 0.0724717\tbest: 0.0724717 (13500)\ttotal: 4m 20s\tremaining: 27m 46s\n",
            "13600:\tlearn: 0.0149395\ttest: 0.0724267\tbest: 0.0724267 (13600)\ttotal: 4m 22s\tremaining: 27m 44s\n",
            "13700:\tlearn: 0.0147982\ttest: 0.0723712\tbest: 0.0723684 (13692)\ttotal: 4m 23s\tremaining: 27m 42s\n",
            "13800:\tlearn: 0.0146640\ttest: 0.0723414\tbest: 0.0723260 (13790)\ttotal: 4m 25s\tremaining: 27m 40s\n",
            "13900:\tlearn: 0.0145314\ttest: 0.0723248\tbest: 0.0723100 (13830)\ttotal: 4m 27s\tremaining: 27m 38s\n",
            "14000:\tlearn: 0.0143940\ttest: 0.0722576\tbest: 0.0722576 (14000)\ttotal: 4m 29s\tremaining: 27m 36s\n",
            "14100:\tlearn: 0.0142706\ttest: 0.0722136\tbest: 0.0722136 (14100)\ttotal: 4m 31s\tremaining: 27m 34s\n",
            "14200:\tlearn: 0.0141490\ttest: 0.0721910\tbest: 0.0721900 (14198)\ttotal: 4m 33s\tremaining: 27m 33s\n",
            "14300:\tlearn: 0.0140209\ttest: 0.0721425\tbest: 0.0721411 (14296)\ttotal: 4m 35s\tremaining: 27m 31s\n",
            "14400:\tlearn: 0.0138981\ttest: 0.0721223\tbest: 0.0721217 (14398)\ttotal: 4m 37s\tremaining: 27m 29s\n",
            "14500:\tlearn: 0.0137749\ttest: 0.0721139\tbest: 0.0721106 (14426)\ttotal: 4m 39s\tremaining: 27m 27s\n",
            "14600:\tlearn: 0.0136505\ttest: 0.0720885\tbest: 0.0720821 (14592)\ttotal: 4m 41s\tremaining: 27m 25s\n",
            "14700:\tlearn: 0.0135380\ttest: 0.0720455\tbest: 0.0720444 (14698)\ttotal: 4m 43s\tremaining: 27m 23s\n",
            "14800:\tlearn: 0.0134122\ttest: 0.0720030\tbest: 0.0720030 (14800)\ttotal: 4m 45s\tremaining: 27m 21s\n",
            "14900:\tlearn: 0.0132862\ttest: 0.0719663\tbest: 0.0719650 (14897)\ttotal: 4m 47s\tremaining: 27m 19s\n",
            "15000:\tlearn: 0.0131714\ttest: 0.0719434\tbest: 0.0719434 (15000)\ttotal: 4m 49s\tremaining: 27m 17s\n",
            "15100:\tlearn: 0.0130530\ttest: 0.0719016\tbest: 0.0719016 (15100)\ttotal: 4m 51s\tremaining: 27m 16s\n",
            "15200:\tlearn: 0.0129471\ttest: 0.0718836\tbest: 0.0718835 (15131)\ttotal: 4m 52s\tremaining: 27m 14s\n",
            "15300:\tlearn: 0.0128420\ttest: 0.0718431\tbest: 0.0718395 (15293)\ttotal: 4m 54s\tremaining: 27m 11s\n",
            "15400:\tlearn: 0.0127267\ttest: 0.0718382\tbest: 0.0718250 (15331)\ttotal: 4m 56s\tremaining: 27m 9s\n",
            "bestTest = 0.0718249766\n",
            "bestIteration = 15331\n",
            "Shrink model to first 15332 iterations.\n",
            "----------------TEST EVALUATION------------------\n",
            "Default score: [-0.9167696]\n",
            "Accuracy is: 0.6600630179786586\n",
            "F1 is: 0.6775134870463616\n",
            "None\n"
          ],
          "name": "stdout"
        },
        {
          "output_type": "display_data",
          "data": {
            "image/png": "[encoded data removed]",
            "text/plain": [
              "<Figure size 864x576 with 1 Axes>"
            ]
          },
          "metadata": {
            "tags": [],
            "needs_background": "light"
          }
        }
      ]
    },
    {
      "cell_type": "code",
      "metadata": {
        "id": "5uoSjX3zMEKn",
        "colab": {
          "base_uri": "https://localhost:8080/",
          "height": 1000
        },
        "outputId": "e2d99244-d8e5-428d-83a3-a3ce984cdc2f"
      },
      "source": [
        " func7_= Model(train7, validation, validation1, validation2, validation3, ytrain7, valid_target)\n",
        "pred7, val7, open_test7, open_test77, model7 = func7_()"
      ],
      "execution_count": null,
      "outputs": [
        {
          "output_type": "stream",
          "text": [
            "0:\tlearn: 1.9280841\ttest: 1.9271608\tbest: 1.9271608 (0)\ttotal: 23ms\tremaining: 38m 20s\n",
            "100:\tlearn: 0.3337661\ttest: 0.3377233\tbest: 0.3377233 (100)\ttotal: 2.09s\tremaining: 34m 27s\n",
            "200:\tlearn: 0.2395361\ttest: 0.2464549\tbest: 0.2464549 (200)\ttotal: 4s\tremaining: 33m 5s\n",
            "300:\tlearn: 0.2033488\ttest: 0.2121251\tbest: 0.2121251 (300)\ttotal: 5.84s\tremaining: 32m 15s\n",
            "400:\tlearn: 0.1799871\ttest: 0.1906426\tbest: 0.1906426 (400)\ttotal: 7.82s\tremaining: 32m 21s\n",
            "500:\tlearn: 0.1645111\ttest: 0.1768533\tbest: 0.1768533 (500)\ttotal: 9.75s\tremaining: 32m 16s\n",
            "600:\tlearn: 0.1523595\ttest: 0.1663815\tbest: 0.1663815 (600)\ttotal: 11.6s\tremaining: 32m 4s\n",
            "700:\tlearn: 0.1421085\ttest: 0.1575296\tbest: 0.1575296 (700)\ttotal: 13.6s\tremaining: 32m 4s\n",
            "800:\tlearn: 0.1342186\ttest: 0.1507626\tbest: 0.1507626 (800)\ttotal: 15.4s\tremaining: 31m 52s\n",
            "900:\tlearn: 0.1272780\ttest: 0.1449353\tbest: 0.1449353 (900)\ttotal: 17.4s\tremaining: 31m 50s\n",
            "1000:\tlearn: 0.1214205\ttest: 0.1402397\tbest: 0.1402397 (1000)\ttotal: 19.3s\tremaining: 31m 48s\n",
            "1100:\tlearn: 0.1159631\ttest: 0.1357840\tbest: 0.1357840 (1100)\ttotal: 21.2s\tremaining: 31m 47s\n",
            "1200:\tlearn: 0.1114362\ttest: 0.1324208\tbest: 0.1324208 (1200)\ttotal: 23.2s\tremaining: 31m 47s\n",
            "1300:\tlearn: 0.1068451\ttest: 0.1288539\tbest: 0.1288539 (1300)\ttotal: 25.1s\tremaining: 31m 45s\n",
            "1400:\tlearn: 0.1028176\ttest: 0.1258393\tbest: 0.1258393 (1400)\ttotal: 27.1s\tremaining: 31m 44s\n",
            "1500:\tlearn: 0.0991880\ttest: 0.1231639\tbest: 0.1231639 (1500)\ttotal: 29s\tremaining: 31m 45s\n",
            "1600:\tlearn: 0.0957578\ttest: 0.1205756\tbest: 0.1205756 (1600)\ttotal: 31s\tremaining: 31m 44s\n",
            "1700:\tlearn: 0.0926445\ttest: 0.1183107\tbest: 0.1183107 (1700)\ttotal: 32.9s\tremaining: 31m 42s\n",
            "1800:\tlearn: 0.0898633\ttest: 0.1164307\tbest: 0.1164307 (1800)\ttotal: 34.9s\tremaining: 31m 40s\n",
            "1900:\tlearn: 0.0871879\ttest: 0.1146177\tbest: 0.1146177 (1900)\ttotal: 36.8s\tremaining: 31m 37s\n",
            "2000:\tlearn: 0.0845955\ttest: 0.1127384\tbest: 0.1127384 (2000)\ttotal: 38.6s\tremaining: 31m 32s\n",
            "2100:\tlearn: 0.0822912\ttest: 0.1111612\tbest: 0.1111612 (2100)\ttotal: 40.7s\tremaining: 31m 34s\n",
            "2200:\tlearn: 0.0801041\ttest: 0.1096297\tbest: 0.1096297 (2200)\ttotal: 42.6s\tremaining: 31m 31s\n",
            "2300:\tlearn: 0.0779308\ttest: 0.1082200\tbest: 0.1082200 (2300)\ttotal: 44.5s\tremaining: 31m 27s\n",
            "2400:\tlearn: 0.0760311\ttest: 0.1069446\tbest: 0.1069446 (2400)\ttotal: 46.4s\tremaining: 31m 26s\n",
            "2500:\tlearn: 0.0741585\ttest: 0.1057228\tbest: 0.1057228 (2500)\ttotal: 48.3s\tremaining: 31m 23s\n",
            "2600:\tlearn: 0.0724420\ttest: 0.1045173\tbest: 0.1045173 (2600)\ttotal: 50.3s\tremaining: 31m 21s\n",
            "2700:\tlearn: 0.0708349\ttest: 0.1034567\tbest: 0.1034567 (2700)\ttotal: 52.2s\tremaining: 31m 20s\n",
            "2800:\tlearn: 0.0692238\ttest: 0.1024670\tbest: 0.1024670 (2800)\ttotal: 54.1s\tremaining: 31m 16s\n",
            "2900:\tlearn: 0.0676401\ttest: 0.1014101\tbest: 0.1014101 (2900)\ttotal: 56s\tremaining: 31m 13s\n",
            "3000:\tlearn: 0.0661718\ttest: 0.1005083\tbest: 0.1005083 (3000)\ttotal: 57.9s\tremaining: 31m 12s\n",
            "3100:\tlearn: 0.0647391\ttest: 0.0995304\tbest: 0.0995304 (3100)\ttotal: 59.9s\tremaining: 31m 10s\n",
            "3200:\tlearn: 0.0633591\ttest: 0.0987326\tbest: 0.0987326 (3200)\ttotal: 1m 1s\tremaining: 31m 9s\n",
            "3300:\tlearn: 0.0620133\ttest: 0.0978283\tbest: 0.0978283 (3300)\ttotal: 1m 3s\tremaining: 31m 6s\n",
            "3400:\tlearn: 0.0606719\ttest: 0.0969942\tbest: 0.0969942 (3400)\ttotal: 1m 5s\tremaining: 31m 4s\n",
            "3500:\tlearn: 0.0594371\ttest: 0.0962314\tbest: 0.0962314 (3500)\ttotal: 1m 7s\tremaining: 31m 2s\n",
            "3600:\tlearn: 0.0583325\ttest: 0.0955797\tbest: 0.0955790 (3599)\ttotal: 1m 9s\tremaining: 30m 59s\n",
            "3700:\tlearn: 0.0573032\ttest: 0.0950514\tbest: 0.0950514 (3700)\ttotal: 1m 11s\tremaining: 30m 55s\n",
            "3800:\tlearn: 0.0562018\ttest: 0.0944467\tbest: 0.0944467 (3800)\ttotal: 1m 13s\tremaining: 30m 55s\n",
            "3900:\tlearn: 0.0551741\ttest: 0.0938869\tbest: 0.0938869 (3900)\ttotal: 1m 15s\tremaining: 30m 53s\n",
            "4000:\tlearn: 0.0541599\ttest: 0.0933416\tbest: 0.0933400 (3999)\ttotal: 1m 17s\tremaining: 30m 51s\n",
            "4100:\tlearn: 0.0531656\ttest: 0.0928188\tbest: 0.0928188 (4100)\ttotal: 1m 19s\tremaining: 30m 49s\n",
            "4200:\tlearn: 0.0522665\ttest: 0.0922895\tbest: 0.0922895 (4200)\ttotal: 1m 21s\tremaining: 30m 47s\n",
            "4300:\tlearn: 0.0514174\ttest: 0.0918072\tbest: 0.0918065 (4299)\ttotal: 1m 22s\tremaining: 30m 46s\n",
            "4400:\tlearn: 0.0504734\ttest: 0.0912654\tbest: 0.0912654 (4400)\ttotal: 1m 24s\tremaining: 30m 44s\n",
            "4500:\tlearn: 0.0496070\ttest: 0.0907971\tbest: 0.0907971 (4500)\ttotal: 1m 26s\tremaining: 30m 43s\n",
            "4600:\tlearn: 0.0488230\ttest: 0.0904166\tbest: 0.0904166 (4600)\ttotal: 1m 28s\tremaining: 30m 40s\n",
            "4700:\tlearn: 0.0480182\ttest: 0.0899662\tbest: 0.0899662 (4700)\ttotal: 1m 30s\tremaining: 30m 37s\n",
            "4800:\tlearn: 0.0472695\ttest: 0.0895620\tbest: 0.0895620 (4800)\ttotal: 1m 32s\tremaining: 30m 35s\n",
            "4900:\tlearn: 0.0465602\ttest: 0.0891296\tbest: 0.0891296 (4900)\ttotal: 1m 34s\tremaining: 30m 34s\n",
            "5000:\tlearn: 0.0458673\ttest: 0.0888391\tbest: 0.0888391 (5000)\ttotal: 1m 36s\tremaining: 30m 32s\n",
            "5100:\tlearn: 0.0451164\ttest: 0.0884321\tbest: 0.0884288 (5098)\ttotal: 1m 38s\tremaining: 30m 30s\n",
            "5200:\tlearn: 0.0444619\ttest: 0.0880713\tbest: 0.0880713 (5200)\ttotal: 1m 40s\tremaining: 30m 28s\n",
            "5300:\tlearn: 0.0437938\ttest: 0.0877534\tbest: 0.0877523 (5299)\ttotal: 1m 42s\tremaining: 30m 27s\n",
            "5400:\tlearn: 0.0431253\ttest: 0.0874138\tbest: 0.0874138 (5400)\ttotal: 1m 44s\tremaining: 30m 25s\n",
            "5500:\tlearn: 0.0424823\ttest: 0.0871068\tbest: 0.0871068 (5500)\ttotal: 1m 46s\tremaining: 30m 24s\n",
            "5600:\tlearn: 0.0419062\ttest: 0.0867943\tbest: 0.0867943 (5600)\ttotal: 1m 48s\tremaining: 30m 22s\n",
            "5700:\tlearn: 0.0413304\ttest: 0.0865472\tbest: 0.0865472 (5700)\ttotal: 1m 50s\tremaining: 30m 20s\n",
            "5800:\tlearn: 0.0407556\ttest: 0.0862767\tbest: 0.0862767 (5800)\ttotal: 1m 52s\tremaining: 30m 18s\n",
            "5900:\tlearn: 0.0401771\ttest: 0.0859749\tbest: 0.0859730 (5899)\ttotal: 1m 53s\tremaining: 30m 17s\n",
            "6000:\tlearn: 0.0396790\ttest: 0.0857493\tbest: 0.0857493 (6000)\ttotal: 1m 55s\tremaining: 30m 14s\n",
            "6100:\tlearn: 0.0391290\ttest: 0.0855244\tbest: 0.0855222 (6099)\ttotal: 1m 57s\tremaining: 30m 12s\n",
            "6200:\tlearn: 0.0386012\ttest: 0.0852603\tbest: 0.0852603 (6200)\ttotal: 1m 59s\tremaining: 30m 11s\n",
            "6300:\tlearn: 0.0380841\ttest: 0.0850270\tbest: 0.0850267 (6299)\ttotal: 2m 1s\tremaining: 30m 9s\n",
            "6400:\tlearn: 0.0375677\ttest: 0.0847643\tbest: 0.0847643 (6400)\ttotal: 2m 3s\tremaining: 30m 5s\n",
            "6500:\tlearn: 0.0370689\ttest: 0.0845788\tbest: 0.0845739 (6498)\ttotal: 2m 5s\tremaining: 30m 2s\n",
            "6600:\tlearn: 0.0365788\ttest: 0.0843578\tbest: 0.0843578 (6600)\ttotal: 2m 7s\tremaining: 29m 59s\n",
            "6700:\tlearn: 0.0361120\ttest: 0.0841271\tbest: 0.0841271 (6700)\ttotal: 2m 9s\tremaining: 29m 57s\n",
            "6800:\tlearn: 0.0356209\ttest: 0.0839065\tbest: 0.0839054 (6799)\ttotal: 2m 10s\tremaining: 29m 54s\n",
            "6900:\tlearn: 0.0351835\ttest: 0.0836725\tbest: 0.0836725 (6900)\ttotal: 2m 12s\tremaining: 29m 51s\n",
            "7000:\tlearn: 0.0347188\ttest: 0.0833751\tbest: 0.0833751 (7000)\ttotal: 2m 14s\tremaining: 29m 49s\n",
            "7100:\tlearn: 0.0342902\ttest: 0.0832288\tbest: 0.0832265 (7095)\ttotal: 2m 16s\tremaining: 29m 46s\n",
            "7200:\tlearn: 0.0338736\ttest: 0.0830101\tbest: 0.0830092 (7196)\ttotal: 2m 18s\tremaining: 29m 44s\n",
            "7300:\tlearn: 0.0334303\ttest: 0.0828452\tbest: 0.0828452 (7300)\ttotal: 2m 20s\tremaining: 29m 42s\n",
            "7400:\tlearn: 0.0329955\ttest: 0.0826569\tbest: 0.0826569 (7400)\ttotal: 2m 22s\tremaining: 29m 40s\n",
            "7500:\tlearn: 0.0325978\ttest: 0.0825103\tbest: 0.0825091 (7495)\ttotal: 2m 24s\tremaining: 29m 37s\n",
            "7600:\tlearn: 0.0322232\ttest: 0.0824181\tbest: 0.0824181 (7600)\ttotal: 2m 26s\tremaining: 29m 35s\n",
            "7700:\tlearn: 0.0318500\ttest: 0.0823144\tbest: 0.0823039 (7692)\ttotal: 2m 27s\tremaining: 29m 33s\n",
            "7800:\tlearn: 0.0314826\ttest: 0.0821629\tbest: 0.0821576 (7799)\ttotal: 2m 29s\tremaining: 29m 31s\n",
            "7900:\tlearn: 0.0311055\ttest: 0.0820281\tbest: 0.0820246 (7899)\ttotal: 2m 31s\tremaining: 29m 30s\n",
            "8000:\tlearn: 0.0307550\ttest: 0.0818752\tbest: 0.0818752 (8000)\ttotal: 2m 33s\tremaining: 29m 27s\n",
            "8100:\tlearn: 0.0304176\ttest: 0.0817714\tbest: 0.0817647 (8094)\ttotal: 2m 35s\tremaining: 29m 25s\n",
            "8200:\tlearn: 0.0300978\ttest: 0.0816358\tbest: 0.0816352 (8199)\ttotal: 2m 37s\tremaining: 29m 23s\n",
            "8300:\tlearn: 0.0297593\ttest: 0.0815060\tbest: 0.0815060 (8300)\ttotal: 2m 39s\tremaining: 29m 21s\n",
            "8400:\tlearn: 0.0294131\ttest: 0.0813746\tbest: 0.0813746 (8400)\ttotal: 2m 41s\tremaining: 29m 19s\n",
            "8500:\tlearn: 0.0290945\ttest: 0.0812559\tbest: 0.0812559 (8500)\ttotal: 2m 43s\tremaining: 29m 17s\n",
            "8600:\tlearn: 0.0287996\ttest: 0.0811546\tbest: 0.0811546 (8600)\ttotal: 2m 45s\tremaining: 29m 15s\n",
            "8700:\tlearn: 0.0284925\ttest: 0.0809789\tbest: 0.0809789 (8700)\ttotal: 2m 47s\tremaining: 29m 13s\n",
            "8800:\tlearn: 0.0281426\ttest: 0.0808667\tbest: 0.0808585 (8790)\ttotal: 2m 49s\tremaining: 29m 11s\n",
            "8900:\tlearn: 0.0278384\ttest: 0.0807387\tbest: 0.0807375 (8899)\ttotal: 2m 50s\tremaining: 29m 9s\n",
            "9000:\tlearn: 0.0275362\ttest: 0.0806050\tbest: 0.0806050 (9000)\ttotal: 2m 52s\tremaining: 29m 7s\n",
            "9100:\tlearn: 0.0272199\ttest: 0.0804898\tbest: 0.0804867 (9098)\ttotal: 2m 54s\tremaining: 29m 4s\n",
            "9200:\tlearn: 0.0269428\ttest: 0.0804376\tbest: 0.0804337 (9193)\ttotal: 2m 56s\tremaining: 29m 2s\n",
            "9300:\tlearn: 0.0266640\ttest: 0.0803501\tbest: 0.0803417 (9288)\ttotal: 2m 58s\tremaining: 28m 59s\n",
            "9400:\tlearn: 0.0263873\ttest: 0.0802928\tbest: 0.0802928 (9400)\ttotal: 3m\tremaining: 28m 57s\n",
            "9500:\tlearn: 0.0261552\ttest: 0.0802363\tbest: 0.0802342 (9489)\ttotal: 3m 2s\tremaining: 28m 55s\n",
            "9600:\tlearn: 0.0258983\ttest: 0.0801296\tbest: 0.0801285 (9597)\ttotal: 3m 4s\tremaining: 28m 53s\n",
            "9700:\tlearn: 0.0256567\ttest: 0.0800839\tbest: 0.0800815 (9697)\ttotal: 3m 5s\tremaining: 28m 51s\n",
            "9800:\tlearn: 0.0254039\ttest: 0.0800158\tbest: 0.0800158 (9800)\ttotal: 3m 7s\tremaining: 28m 48s\n",
            "9900:\tlearn: 0.0251631\ttest: 0.0799269\tbest: 0.0799244 (9899)\ttotal: 3m 9s\tremaining: 28m 46s\n",
            "10000:\tlearn: 0.0248933\ttest: 0.0797870\tbest: 0.0797870 (10000)\ttotal: 3m 11s\tremaining: 28m 43s\n",
            "10100:\tlearn: 0.0246626\ttest: 0.0797220\tbest: 0.0797219 (10091)\ttotal: 3m 13s\tremaining: 28m 40s\n",
            "10200:\tlearn: 0.0244130\ttest: 0.0796531\tbest: 0.0796397 (10180)\ttotal: 3m 15s\tremaining: 28m 38s\n",
            "10300:\tlearn: 0.0241949\ttest: 0.0795892\tbest: 0.0795861 (10283)\ttotal: 3m 17s\tremaining: 28m 36s\n",
            "10400:\tlearn: 0.0239697\ttest: 0.0795358\tbest: 0.0795335 (10393)\ttotal: 3m 19s\tremaining: 28m 34s\n",
            "10500:\tlearn: 0.0237415\ttest: 0.0794759\tbest: 0.0794741 (10499)\ttotal: 3m 20s\tremaining: 28m 31s\n",
            "10600:\tlearn: 0.0235200\ttest: 0.0794323\tbest: 0.0794323 (10600)\ttotal: 3m 22s\tremaining: 28m 29s\n",
            "10700:\tlearn: 0.0232947\ttest: 0.0794199\tbest: 0.0794131 (10680)\ttotal: 3m 24s\tremaining: 28m 27s\n",
            "10800:\tlearn: 0.0230826\ttest: 0.0793579\tbest: 0.0793579 (10800)\ttotal: 3m 26s\tremaining: 28m 25s\n",
            "10900:\tlearn: 0.0228709\ttest: 0.0792807\tbest: 0.0792807 (10900)\ttotal: 3m 28s\tremaining: 28m 22s\n",
            "11000:\tlearn: 0.0226443\ttest: 0.0792099\tbest: 0.0792084 (10999)\ttotal: 3m 30s\tremaining: 28m 20s\n",
            "11100:\tlearn: 0.0224454\ttest: 0.0791717\tbest: 0.0791677 (11095)\ttotal: 3m 31s\tremaining: 28m 17s\n",
            "11200:\tlearn: 0.0222497\ttest: 0.0791024\tbest: 0.0791024 (11200)\ttotal: 3m 33s\tremaining: 28m 14s\n",
            "11300:\tlearn: 0.0220659\ttest: 0.0790316\tbest: 0.0790270 (11293)\ttotal: 3m 35s\tremaining: 28m 12s\n",
            "11400:\tlearn: 0.0218620\ttest: 0.0789924\tbest: 0.0789895 (11396)\ttotal: 3m 37s\tremaining: 28m 9s\n",
            "11500:\tlearn: 0.0216388\ttest: 0.0789453\tbest: 0.0789361 (11494)\ttotal: 3m 39s\tremaining: 28m 7s\n",
            "11600:\tlearn: 0.0214514\ttest: 0.0788753\tbest: 0.0788749 (11594)\ttotal: 3m 41s\tremaining: 28m 4s\n",
            "11700:\tlearn: 0.0212690\ttest: 0.0788210\tbest: 0.0788203 (11699)\ttotal: 3m 42s\tremaining: 28m 2s\n",
            "11800:\tlearn: 0.0210832\ttest: 0.0787677\tbest: 0.0787677 (11800)\ttotal: 3m 44s\tremaining: 27m 59s\n",
            "11900:\tlearn: 0.0208961\ttest: 0.0787435\tbest: 0.0787435 (11900)\ttotal: 3m 46s\tremaining: 27m 57s\n",
            "12000:\tlearn: 0.0207165\ttest: 0.0787006\tbest: 0.0787006 (12000)\ttotal: 3m 48s\tremaining: 27m 55s\n",
            "12100:\tlearn: 0.0205451\ttest: 0.0786914\tbest: 0.0786865 (12079)\ttotal: 3m 50s\tremaining: 27m 53s\n",
            "12200:\tlearn: 0.0203786\ttest: 0.0786592\tbest: 0.0786545 (12197)\ttotal: 3m 52s\tremaining: 27m 52s\n",
            "12300:\tlearn: 0.0202215\ttest: 0.0786358\tbest: 0.0786336 (12295)\ttotal: 3m 54s\tremaining: 27m 50s\n",
            "12400:\tlearn: 0.0200560\ttest: 0.0785985\tbest: 0.0785884 (12381)\ttotal: 3m 56s\tremaining: 27m 48s\n",
            "12500:\tlearn: 0.0199016\ttest: 0.0785859\tbest: 0.0785858 (12491)\ttotal: 3m 58s\tremaining: 27m 46s\n",
            "12600:\tlearn: 0.0197306\ttest: 0.0786007\tbest: 0.0785627 (12555)\ttotal: 3m 59s\tremaining: 27m 44s\n",
            "bestTest = 0.0785627238\n",
            "bestIteration = 12555\n",
            "Shrink model to first 12556 iterations.\n",
            "----------------TEST EVALUATION------------------\n",
            "Default score: [-0.99028649]\n",
            "Accuracy is: 0.6354330500172108\n",
            "F1 is: 0.6642286933168777\n",
            "None\n"
          ],
          "name": "stdout"
        },
        {
          "output_type": "display_data",
          "data": {
            "image/png": "[encoded data removed]",
            "text/plain": [
              "<Figure size 864x576 with 1 Axes>"
            ]
          },
          "metadata": {
            "tags": [],
            "needs_background": "light"
          }
        }
      ]
    },
    {
      "cell_type": "code",
      "metadata": {
        "id": "4M4bgyK-MxQa",
        "colab": {
          "base_uri": "https://localhost:8080/",
          "height": 1000
        },
        "outputId": "8e79c1e1-0bd0-4236-c185-7f4477e37957"
      },
      "source": [
        " func8_= Model(train8, validation, validation1, validation2, validation3, ytrain8, valid_target)\n",
        "pred8, val8, open_test8, open_test88, model8 = func8_()"
      ],
      "execution_count": null,
      "outputs": [
        {
          "output_type": "stream",
          "text": [
            "0:\tlearn: 1.9275482\ttest: 1.9269572\tbest: 1.9269572 (0)\ttotal: 21.3ms\tremaining: 35m 27s\n",
            "100:\tlearn: 0.3861259\ttest: 0.3933957\tbest: 0.3933957 (100)\ttotal: 1.99s\tremaining: 32m 49s\n",
            "200:\tlearn: 0.2948859\ttest: 0.3076861\tbest: 0.3076861 (200)\ttotal: 3.83s\tremaining: 31m 39s\n",
            "300:\tlearn: 0.2581253\ttest: 0.2740162\tbest: 0.2740162 (300)\ttotal: 5.69s\tremaining: 31m 24s\n",
            "400:\tlearn: 0.2359545\ttest: 0.2541672\tbest: 0.2541672 (400)\ttotal: 7.53s\tremaining: 31m 10s\n",
            "500:\tlearn: 0.2196904\ttest: 0.2401568\tbest: 0.2401568 (500)\ttotal: 9.44s\tremaining: 31m 14s\n",
            "600:\tlearn: 0.2068412\ttest: 0.2295719\tbest: 0.2295719 (600)\ttotal: 11.3s\tremaining: 31m 14s\n",
            "700:\tlearn: 0.1968803\ttest: 0.2215413\tbest: 0.2215413 (700)\ttotal: 13.2s\tremaining: 31m 14s\n",
            "800:\tlearn: 0.1885379\ttest: 0.2152397\tbest: 0.2152397 (800)\ttotal: 15.1s\tremaining: 31m 9s\n",
            "900:\tlearn: 0.1811973\ttest: 0.2096961\tbest: 0.2096961 (900)\ttotal: 17s\tremaining: 31m 10s\n",
            "1000:\tlearn: 0.1749639\ttest: 0.2054506\tbest: 0.2054506 (1000)\ttotal: 18.9s\tremaining: 31m 8s\n",
            "1100:\tlearn: 0.1694903\ttest: 0.2015327\tbest: 0.2015327 (1100)\ttotal: 20.7s\tremaining: 31m\n",
            "1200:\tlearn: 0.1642619\ttest: 0.1979433\tbest: 0.1979433 (1200)\ttotal: 22.6s\tremaining: 30m 57s\n",
            "1300:\tlearn: 0.1595662\ttest: 0.1947567\tbest: 0.1947567 (1300)\ttotal: 24.4s\tremaining: 30m 51s\n",
            "1400:\tlearn: 0.1552556\ttest: 0.1919689\tbest: 0.1919689 (1400)\ttotal: 26.3s\tremaining: 30m 51s\n",
            "1500:\tlearn: 0.1514963\ttest: 0.1895677\tbest: 0.1895677 (1500)\ttotal: 28.2s\tremaining: 30m 49s\n",
            "1600:\tlearn: 0.1480051\ttest: 0.1873746\tbest: 0.1873746 (1600)\ttotal: 30.1s\tremaining: 30m 48s\n",
            "1700:\tlearn: 0.1446227\ttest: 0.1852868\tbest: 0.1852868 (1700)\ttotal: 31.9s\tremaining: 30m 46s\n",
            "1800:\tlearn: 0.1411685\ttest: 0.1831130\tbest: 0.1831130 (1800)\ttotal: 33.9s\tremaining: 30m 45s\n",
            "1900:\tlearn: 0.1380200\ttest: 0.1811901\tbest: 0.1811901 (1900)\ttotal: 35.8s\tremaining: 30m 45s\n",
            "2000:\tlearn: 0.1353940\ttest: 0.1796313\tbest: 0.1796313 (2000)\ttotal: 37.6s\tremaining: 30m 42s\n",
            "2100:\tlearn: 0.1325435\ttest: 0.1780477\tbest: 0.1780477 (2100)\ttotal: 39.5s\tremaining: 30m 41s\n",
            "2200:\tlearn: 0.1301172\ttest: 0.1767567\tbest: 0.1767567 (2200)\ttotal: 41.3s\tremaining: 30m 36s\n",
            "2300:\tlearn: 0.1274549\ttest: 0.1752499\tbest: 0.1752499 (2300)\ttotal: 43.2s\tremaining: 30m 32s\n",
            "2400:\tlearn: 0.1251334\ttest: 0.1738407\tbest: 0.1738407 (2400)\ttotal: 45s\tremaining: 30m 28s\n",
            "2500:\tlearn: 0.1228385\ttest: 0.1726467\tbest: 0.1726467 (2500)\ttotal: 46.8s\tremaining: 30m 24s\n",
            "2600:\tlearn: 0.1206203\ttest: 0.1714985\tbest: 0.1714985 (2600)\ttotal: 48.7s\tremaining: 30m 22s\n",
            "2700:\tlearn: 0.1185369\ttest: 0.1703907\tbest: 0.1703810 (2699)\ttotal: 50.5s\tremaining: 30m 18s\n",
            "2800:\tlearn: 0.1164571\ttest: 0.1691900\tbest: 0.1691900 (2800)\ttotal: 52.3s\tremaining: 30m 14s\n",
            "2900:\tlearn: 0.1145740\ttest: 0.1682042\tbest: 0.1682042 (2900)\ttotal: 54.2s\tremaining: 30m 13s\n",
            "3000:\tlearn: 0.1127767\ttest: 0.1672359\tbest: 0.1672359 (3000)\ttotal: 56.1s\tremaining: 30m 12s\n",
            "3100:\tlearn: 0.1109973\ttest: 0.1663807\tbest: 0.1663807 (3100)\ttotal: 58s\tremaining: 30m 11s\n",
            "3200:\tlearn: 0.1092171\ttest: 0.1654827\tbest: 0.1654827 (3200)\ttotal: 59.9s\tremaining: 30m 10s\n",
            "3300:\tlearn: 0.1074313\ttest: 0.1644823\tbest: 0.1644823 (3300)\ttotal: 1m 1s\tremaining: 30m 10s\n",
            "3400:\tlearn: 0.1057399\ttest: 0.1635582\tbest: 0.1635582 (3400)\ttotal: 1m 3s\tremaining: 30m 8s\n",
            "3500:\tlearn: 0.1040633\ttest: 0.1627267\tbest: 0.1627267 (3500)\ttotal: 1m 5s\tremaining: 30m 5s\n",
            "3600:\tlearn: 0.1024526\ttest: 0.1620177\tbest: 0.1620177 (3600)\ttotal: 1m 7s\tremaining: 30m 3s\n",
            "3700:\tlearn: 0.1010100\ttest: 0.1613440\tbest: 0.1613440 (3700)\ttotal: 1m 9s\tremaining: 30m\n",
            "3800:\tlearn: 0.0994760\ttest: 0.1606383\tbest: 0.1606341 (3799)\ttotal: 1m 10s\tremaining: 29m 56s\n",
            "3900:\tlearn: 0.0980595\ttest: 0.1599232\tbest: 0.1599232 (3900)\ttotal: 1m 12s\tremaining: 29m 53s\n",
            "4000:\tlearn: 0.0966348\ttest: 0.1592170\tbest: 0.1592170 (4000)\ttotal: 1m 14s\tremaining: 29m 51s\n",
            "4100:\tlearn: 0.0952931\ttest: 0.1586883\tbest: 0.1586874 (4098)\ttotal: 1m 16s\tremaining: 29m 48s\n",
            "4200:\tlearn: 0.0940291\ttest: 0.1581336\tbest: 0.1581336 (4200)\ttotal: 1m 18s\tremaining: 29m 46s\n",
            "4300:\tlearn: 0.0928099\ttest: 0.1575932\tbest: 0.1575932 (4300)\ttotal: 1m 20s\tremaining: 29m 45s\n",
            "4400:\tlearn: 0.0914870\ttest: 0.1569565\tbest: 0.1569565 (4400)\ttotal: 1m 22s\tremaining: 29m 42s\n",
            "4500:\tlearn: 0.0902010\ttest: 0.1563462\tbest: 0.1563462 (4500)\ttotal: 1m 23s\tremaining: 29m 41s\n",
            "4600:\tlearn: 0.0889900\ttest: 0.1557803\tbest: 0.1557803 (4600)\ttotal: 1m 25s\tremaining: 29m 39s\n",
            "4700:\tlearn: 0.0877947\ttest: 0.1551803\tbest: 0.1551803 (4700)\ttotal: 1m 27s\tremaining: 29m 38s\n",
            "4800:\tlearn: 0.0866220\ttest: 0.1547237\tbest: 0.1547213 (4799)\ttotal: 1m 29s\tremaining: 29m 36s\n",
            "4900:\tlearn: 0.0854772\ttest: 0.1543325\tbest: 0.1543325 (4900)\ttotal: 1m 31s\tremaining: 29m 34s\n",
            "5000:\tlearn: 0.0844529\ttest: 0.1538847\tbest: 0.1538832 (4999)\ttotal: 1m 33s\tremaining: 29m 31s\n",
            "5100:\tlearn: 0.0833387\ttest: 0.1532413\tbest: 0.1532412 (5099)\ttotal: 1m 35s\tremaining: 29m 28s\n",
            "5200:\tlearn: 0.0824076\ttest: 0.1529637\tbest: 0.1529637 (5200)\ttotal: 1m 36s\tremaining: 29m 25s\n",
            "5300:\tlearn: 0.0814609\ttest: 0.1525690\tbest: 0.1525690 (5300)\ttotal: 1m 38s\tremaining: 29m 24s\n",
            "5400:\tlearn: 0.0804480\ttest: 0.1521537\tbest: 0.1521537 (5400)\ttotal: 1m 40s\tremaining: 29m 22s\n",
            "5500:\tlearn: 0.0795864\ttest: 0.1518438\tbest: 0.1518438 (5500)\ttotal: 1m 42s\tremaining: 29m 21s\n",
            "5600:\tlearn: 0.0785694\ttest: 0.1513404\tbest: 0.1513404 (5600)\ttotal: 1m 44s\tremaining: 29m 19s\n",
            "5700:\tlearn: 0.0776373\ttest: 0.1509147\tbest: 0.1509133 (5699)\ttotal: 1m 46s\tremaining: 29m 18s\n",
            "5800:\tlearn: 0.0767168\ttest: 0.1505333\tbest: 0.1505254 (5792)\ttotal: 1m 48s\tremaining: 29m 16s\n",
            "5900:\tlearn: 0.0758555\ttest: 0.1502538\tbest: 0.1502538 (5900)\ttotal: 1m 50s\tremaining: 29m 14s\n",
            "6000:\tlearn: 0.0749781\ttest: 0.1498667\tbest: 0.1498667 (6000)\ttotal: 1m 51s\tremaining: 29m 12s\n",
            "6100:\tlearn: 0.0741615\ttest: 0.1496309\tbest: 0.1496297 (6094)\ttotal: 1m 53s\tremaining: 29m 9s\n",
            "6200:\tlearn: 0.0732710\ttest: 0.1492500\tbest: 0.1492500 (6200)\ttotal: 1m 55s\tremaining: 29m 7s\n",
            "6300:\tlearn: 0.0724224\ttest: 0.1488503\tbest: 0.1488503 (6300)\ttotal: 1m 57s\tremaining: 29m 5s\n",
            "6400:\tlearn: 0.0716877\ttest: 0.1486774\tbest: 0.1486690 (6397)\ttotal: 1m 59s\tremaining: 29m 3s\n",
            "6500:\tlearn: 0.0709707\ttest: 0.1483627\tbest: 0.1483580 (6497)\ttotal: 2m 1s\tremaining: 29m 1s\n",
            "6600:\tlearn: 0.0702395\ttest: 0.1480829\tbest: 0.1480797 (6598)\ttotal: 2m 2s\tremaining: 28m 59s\n",
            "6700:\tlearn: 0.0695077\ttest: 0.1477745\tbest: 0.1477745 (6700)\ttotal: 2m 4s\tremaining: 28m 58s\n",
            "6800:\tlearn: 0.0688065\ttest: 0.1475187\tbest: 0.1475187 (6799)\ttotal: 2m 6s\tremaining: 28m 54s\n",
            "6900:\tlearn: 0.0680117\ttest: 0.1472208\tbest: 0.1472208 (6900)\ttotal: 2m 8s\tremaining: 28m 52s\n",
            "7000:\tlearn: 0.0673100\ttest: 0.1469118\tbest: 0.1469118 (7000)\ttotal: 2m 10s\tremaining: 28m 50s\n",
            "7100:\tlearn: 0.0666212\ttest: 0.1466863\tbest: 0.1466863 (7100)\ttotal: 2m 12s\tremaining: 28m 49s\n",
            "7200:\tlearn: 0.0658685\ttest: 0.1464460\tbest: 0.1464460 (7200)\ttotal: 2m 14s\tremaining: 28m 48s\n",
            "7300:\tlearn: 0.0652063\ttest: 0.1461653\tbest: 0.1461653 (7300)\ttotal: 2m 15s\tremaining: 28m 46s\n",
            "7400:\tlearn: 0.0645357\ttest: 0.1458641\tbest: 0.1458641 (7400)\ttotal: 2m 17s\tremaining: 28m 43s\n",
            "7500:\tlearn: 0.0638566\ttest: 0.1455558\tbest: 0.1455558 (7500)\ttotal: 2m 19s\tremaining: 28m 42s\n",
            "7600:\tlearn: 0.0632115\ttest: 0.1452676\tbest: 0.1452676 (7600)\ttotal: 2m 21s\tremaining: 28m 41s\n",
            "7700:\tlearn: 0.0625656\ttest: 0.1450256\tbest: 0.1450256 (7700)\ttotal: 2m 23s\tremaining: 28m 39s\n",
            "7800:\tlearn: 0.0619207\ttest: 0.1447666\tbest: 0.1447652 (7798)\ttotal: 2m 25s\tremaining: 28m 38s\n",
            "7900:\tlearn: 0.0613257\ttest: 0.1445641\tbest: 0.1445637 (7899)\ttotal: 2m 27s\tremaining: 28m 37s\n",
            "8000:\tlearn: 0.0607363\ttest: 0.1444083\tbest: 0.1444028 (7999)\ttotal: 2m 29s\tremaining: 28m 35s\n",
            "8100:\tlearn: 0.0601707\ttest: 0.1442653\tbest: 0.1442653 (8100)\ttotal: 2m 31s\tremaining: 28m 33s\n",
            "8200:\tlearn: 0.0596518\ttest: 0.1440788\tbest: 0.1440788 (8200)\ttotal: 2m 32s\tremaining: 28m 31s\n",
            "8300:\tlearn: 0.0590818\ttest: 0.1438580\tbest: 0.1438580 (8300)\ttotal: 2m 34s\tremaining: 28m 30s\n",
            "8400:\tlearn: 0.0584962\ttest: 0.1435919\tbest: 0.1435919 (8400)\ttotal: 2m 36s\tremaining: 28m 28s\n",
            "8500:\tlearn: 0.0579360\ttest: 0.1434096\tbest: 0.1434096 (8500)\ttotal: 2m 38s\tremaining: 28m 26s\n",
            "8600:\tlearn: 0.0573758\ttest: 0.1432337\tbest: 0.1432337 (8600)\ttotal: 2m 40s\tremaining: 28m 24s\n",
            "8700:\tlearn: 0.0568747\ttest: 0.1431313\tbest: 0.1431308 (8697)\ttotal: 2m 42s\tremaining: 28m 22s\n",
            "8800:\tlearn: 0.0563006\ttest: 0.1429879\tbest: 0.1429831 (8798)\ttotal: 2m 44s\tremaining: 28m 20s\n",
            "8900:\tlearn: 0.0557903\ttest: 0.1428487\tbest: 0.1428359 (8896)\ttotal: 2m 45s\tremaining: 28m 18s\n",
            "9000:\tlearn: 0.0553304\ttest: 0.1427203\tbest: 0.1427203 (9000)\ttotal: 2m 47s\tremaining: 28m 16s\n",
            "9100:\tlearn: 0.0548809\ttest: 0.1426049\tbest: 0.1426049 (9100)\ttotal: 2m 49s\tremaining: 28m 13s\n",
            "9200:\tlearn: 0.0543709\ttest: 0.1424184\tbest: 0.1424062 (9190)\ttotal: 2m 51s\tremaining: 28m 11s\n",
            "9300:\tlearn: 0.0538852\ttest: 0.1422820\tbest: 0.1422820 (9300)\ttotal: 2m 53s\tremaining: 28m 9s\n",
            "9400:\tlearn: 0.0534122\ttest: 0.1420496\tbest: 0.1420496 (9400)\ttotal: 2m 55s\tremaining: 28m 7s\n",
            "9500:\tlearn: 0.0529093\ttest: 0.1418598\tbest: 0.1418598 (9500)\ttotal: 2m 56s\tremaining: 28m 5s\n",
            "9600:\tlearn: 0.0524352\ttest: 0.1416885\tbest: 0.1416861 (9598)\ttotal: 2m 58s\tremaining: 28m 3s\n",
            "9700:\tlearn: 0.0519114\ttest: 0.1414801\tbest: 0.1414801 (9700)\ttotal: 3m\tremaining: 28m 1s\n",
            "9800:\tlearn: 0.0514797\ttest: 0.1414100\tbest: 0.1414100 (9800)\ttotal: 3m 2s\tremaining: 28m\n",
            "9900:\tlearn: 0.0510611\ttest: 0.1413248\tbest: 0.1413248 (9900)\ttotal: 3m 4s\tremaining: 27m 58s\n",
            "10000:\tlearn: 0.0505976\ttest: 0.1412437\tbest: 0.1412437 (10000)\ttotal: 3m 6s\tremaining: 27m 57s\n",
            "10100:\tlearn: 0.0501706\ttest: 0.1411202\tbest: 0.1411187 (10098)\ttotal: 3m 8s\tremaining: 27m 55s\n",
            "10200:\tlearn: 0.0497775\ttest: 0.1410639\tbest: 0.1410516 (10180)\ttotal: 3m 10s\tremaining: 27m 54s\n",
            "10300:\tlearn: 0.0493633\ttest: 0.1409245\tbest: 0.1409239 (10285)\ttotal: 3m 11s\tremaining: 27m 51s\n",
            "10400:\tlearn: 0.0489657\ttest: 0.1407962\tbest: 0.1407962 (10400)\ttotal: 3m 13s\tremaining: 27m 49s\n",
            "10500:\tlearn: 0.0485604\ttest: 0.1407497\tbest: 0.1407485 (10498)\ttotal: 3m 15s\tremaining: 27m 46s\n",
            "10600:\tlearn: 0.0481318\ttest: 0.1405934\tbest: 0.1405934 (10600)\ttotal: 3m 17s\tremaining: 27m 45s\n",
            "10700:\tlearn: 0.0477711\ttest: 0.1405171\tbest: 0.1405023 (10692)\ttotal: 3m 19s\tremaining: 27m 43s\n",
            "10800:\tlearn: 0.0473821\ttest: 0.1404424\tbest: 0.1404420 (10799)\ttotal: 3m 21s\tremaining: 27m 42s\n",
            "10900:\tlearn: 0.0470003\ttest: 0.1403536\tbest: 0.1403536 (10900)\ttotal: 3m 23s\tremaining: 27m 40s\n",
            "11000:\tlearn: 0.0466285\ttest: 0.1402780\tbest: 0.1402780 (11000)\ttotal: 3m 24s\tremaining: 27m 38s\n",
            "11100:\tlearn: 0.0462468\ttest: 0.1401191\tbest: 0.1401191 (11100)\ttotal: 3m 26s\tremaining: 27m 36s\n",
            "11200:\tlearn: 0.0458758\ttest: 0.1400182\tbest: 0.1399983 (11181)\ttotal: 3m 28s\tremaining: 27m 34s\n",
            "11300:\tlearn: 0.0455150\ttest: 0.1399307\tbest: 0.1399281 (11299)\ttotal: 3m 30s\tremaining: 27m 32s\n",
            "11400:\tlearn: 0.0451564\ttest: 0.1398220\tbest: 0.1398129 (11392)\ttotal: 3m 32s\tremaining: 27m 30s\n",
            "11500:\tlearn: 0.0448145\ttest: 0.1397743\tbest: 0.1397727 (11498)\ttotal: 3m 34s\tremaining: 27m 28s\n",
            "11600:\tlearn: 0.0444650\ttest: 0.1397127\tbest: 0.1397020 (11590)\ttotal: 3m 36s\tremaining: 27m 27s\n",
            "11700:\tlearn: 0.0441370\ttest: 0.1397085\tbest: 0.1396892 (11676)\ttotal: 3m 37s\tremaining: 27m 25s\n",
            "11800:\tlearn: 0.0437954\ttest: 0.1396526\tbest: 0.1396526 (11800)\ttotal: 3m 39s\tremaining: 27m 23s\n",
            "11900:\tlearn: 0.0434646\ttest: 0.1395920\tbest: 0.1395895 (11896)\ttotal: 3m 41s\tremaining: 27m 21s\n",
            "12000:\tlearn: 0.0431405\ttest: 0.1395431\tbest: 0.1395344 (11992)\ttotal: 3m 43s\tremaining: 27m 19s\n",
            "12100:\tlearn: 0.0428186\ttest: 0.1394374\tbest: 0.1394374 (12100)\ttotal: 3m 45s\tremaining: 27m 17s\n",
            "12200:\tlearn: 0.0425177\ttest: 0.1394432\tbest: 0.1394123 (12158)\ttotal: 3m 47s\tremaining: 27m 15s\n",
            "12300:\tlearn: 0.0421998\ttest: 0.1393671\tbest: 0.1393661 (12284)\ttotal: 3m 49s\tremaining: 27m 13s\n",
            "12400:\tlearn: 0.0418880\ttest: 0.1393198\tbest: 0.1393127 (12397)\ttotal: 3m 51s\tremaining: 27m 12s\n",
            "12500:\tlearn: 0.0416094\ttest: 0.1392284\tbest: 0.1392257 (12497)\ttotal: 3m 52s\tremaining: 27m 9s\n",
            "12600:\tlearn: 0.0413140\ttest: 0.1391672\tbest: 0.1391630 (12573)\ttotal: 3m 54s\tremaining: 27m 7s\n",
            "12700:\tlearn: 0.0410338\ttest: 0.1391095\tbest: 0.1391079 (12698)\ttotal: 3m 56s\tremaining: 27m 6s\n",
            "12800:\tlearn: 0.0407636\ttest: 0.1390189\tbest: 0.1390189 (12800)\ttotal: 3m 58s\tremaining: 27m 4s\n",
            "12900:\tlearn: 0.0405081\ttest: 0.1389614\tbest: 0.1389569 (12892)\ttotal: 4m\tremaining: 27m 2s\n",
            "13000:\tlearn: 0.0402535\ttest: 0.1389327\tbest: 0.1389326 (12991)\ttotal: 4m 2s\tremaining: 26m 59s\n",
            "13100:\tlearn: 0.0399728\ttest: 0.1388779\tbest: 0.1388300 (13073)\ttotal: 4m 3s\tremaining: 26m 58s\n",
            "13200:\tlearn: 0.0396929\ttest: 0.1388084\tbest: 0.1387991 (13198)\ttotal: 4m 5s\tremaining: 26m 56s\n",
            "13300:\tlearn: 0.0394246\ttest: 0.1387479\tbest: 0.1387454 (13295)\ttotal: 4m 7s\tremaining: 26m 54s\n",
            "13400:\tlearn: 0.0391859\ttest: 0.1387323\tbest: 0.1387322 (13399)\ttotal: 4m 9s\tremaining: 26m 52s\n",
            "13500:\tlearn: 0.0389029\ttest: 0.1387051\tbest: 0.1386909 (13460)\ttotal: 4m 11s\tremaining: 26m 50s\n",
            "bestTest = 0.1386908976\n",
            "bestIteration = 13460\n",
            "Shrink model to first 13461 iterations.\n",
            "----------------TEST EVALUATION------------------\n",
            "Default score: [-1.17461408]\n",
            "Accuracy is: 0.5973733682844812\n",
            "F1 is: 0.595239705559555\n",
            "None\n"
          ],
          "name": "stdout"
        },
        {
          "output_type": "display_data",
          "data": {
            "image/png": "[encoded data removed]",
            "text/plain": [
              "<Figure size 864x576 with 1 Axes>"
            ]
          },
          "metadata": {
            "tags": [],
            "needs_background": "light"
          }
        }
      ]
    },
    {
      "cell_type": "code",
      "metadata": {
        "id": "b1DisBYrNIpn",
        "colab": {
          "base_uri": "https://localhost:8080/",
          "height": 1000
        },
        "outputId": "5293527e-0b42-4891-fd1c-c606e190ce74"
      },
      "source": [
        " func9_= Model(train9, validation, validation1, validation2, validation3, ytrain9, valid_target)\n",
        "pred9, val9, open_test9, open_test99, model = func9_()"
      ],
      "execution_count": null,
      "outputs": [
        {
          "output_type": "stream",
          "text": [
            "0:\tlearn: 1.9282114\ttest: 1.9277495\tbest: 1.9277495 (0)\ttotal: 21.9ms\tremaining: 36m 31s\n",
            "100:\tlearn: 0.3685634\ttest: 0.3735366\tbest: 0.3735366 (100)\ttotal: 2.03s\tremaining: 33m 25s\n",
            "200:\tlearn: 0.2796261\ttest: 0.2874189\tbest: 0.2874189 (200)\ttotal: 3.94s\tremaining: 32m 37s\n",
            "300:\tlearn: 0.2453294\ttest: 0.2558422\tbest: 0.2558422 (300)\ttotal: 5.85s\tremaining: 32m 16s\n",
            "400:\tlearn: 0.2241662\ttest: 0.2373415\tbest: 0.2373415 (400)\ttotal: 7.79s\tremaining: 32m 13s\n",
            "500:\tlearn: 0.2087560\ttest: 0.2243363\tbest: 0.2243363 (500)\ttotal: 9.65s\tremaining: 31m 57s\n",
            "600:\tlearn: 0.1970257\ttest: 0.2146476\tbest: 0.2146476 (600)\ttotal: 11.5s\tremaining: 31m 49s\n",
            "700:\tlearn: 0.1873548\ttest: 0.2071115\tbest: 0.2071115 (700)\ttotal: 13.4s\tremaining: 31m 41s\n",
            "800:\tlearn: 0.1796599\ttest: 0.2012661\tbest: 0.2012661 (800)\ttotal: 15.3s\tremaining: 31m 36s\n",
            "900:\tlearn: 0.1728183\ttest: 0.1963169\tbest: 0.1963169 (900)\ttotal: 17.2s\tremaining: 31m 36s\n",
            "1000:\tlearn: 0.1663434\ttest: 0.1915431\tbest: 0.1915431 (1000)\ttotal: 19.1s\tremaining: 31m 33s\n",
            "1100:\tlearn: 0.1609309\ttest: 0.1877012\tbest: 0.1877012 (1100)\ttotal: 21s\tremaining: 31m 26s\n",
            "1200:\tlearn: 0.1558721\ttest: 0.1840453\tbest: 0.1840453 (1200)\ttotal: 22.8s\tremaining: 31m 17s\n",
            "1300:\tlearn: 0.1511450\ttest: 0.1807399\tbest: 0.1807399 (1300)\ttotal: 24.6s\tremaining: 31m 7s\n",
            "1400:\tlearn: 0.1467411\ttest: 0.1776770\tbest: 0.1776770 (1400)\ttotal: 26.4s\tremaining: 31m 1s\n",
            "1500:\tlearn: 0.1428443\ttest: 0.1750553\tbest: 0.1750553 (1500)\ttotal: 28.3s\tremaining: 31m\n",
            "1600:\tlearn: 0.1390399\ttest: 0.1726835\tbest: 0.1726835 (1600)\ttotal: 30.2s\tremaining: 30m 57s\n",
            "1700:\tlearn: 0.1357941\ttest: 0.1705492\tbest: 0.1705492 (1700)\ttotal: 32s\tremaining: 30m 51s\n",
            "1800:\tlearn: 0.1325030\ttest: 0.1683811\tbest: 0.1683811 (1800)\ttotal: 33.9s\tremaining: 30m 47s\n",
            "1900:\tlearn: 0.1296071\ttest: 0.1665740\tbest: 0.1665740 (1900)\ttotal: 35.7s\tremaining: 30m 41s\n",
            "2000:\tlearn: 0.1265469\ttest: 0.1645978\tbest: 0.1645978 (2000)\ttotal: 37.5s\tremaining: 30m 38s\n",
            "2100:\tlearn: 0.1237146\ttest: 0.1629299\tbest: 0.1629299 (2100)\ttotal: 39.5s\tremaining: 30m 40s\n",
            "2200:\tlearn: 0.1211805\ttest: 0.1613927\tbest: 0.1613927 (2200)\ttotal: 41.3s\tremaining: 30m 37s\n",
            "2300:\tlearn: 0.1186060\ttest: 0.1597955\tbest: 0.1597955 (2300)\ttotal: 43.3s\tremaining: 30m 37s\n",
            "2400:\tlearn: 0.1162770\ttest: 0.1583830\tbest: 0.1583830 (2400)\ttotal: 45.2s\tremaining: 30m 39s\n",
            "2500:\tlearn: 0.1139386\ttest: 0.1568456\tbest: 0.1568456 (2500)\ttotal: 47.2s\tremaining: 30m 38s\n",
            "2600:\tlearn: 0.1118553\ttest: 0.1556261\tbest: 0.1556261 (2600)\ttotal: 49s\tremaining: 30m 36s\n",
            "2700:\tlearn: 0.1098087\ttest: 0.1544164\tbest: 0.1544164 (2700)\ttotal: 50.9s\tremaining: 30m 34s\n",
            "2800:\tlearn: 0.1077796\ttest: 0.1531389\tbest: 0.1531389 (2800)\ttotal: 52.8s\tremaining: 30m 31s\n",
            "2900:\tlearn: 0.1059069\ttest: 0.1520164\tbest: 0.1520164 (2900)\ttotal: 54.6s\tremaining: 30m 28s\n",
            "3000:\tlearn: 0.1039424\ttest: 0.1508819\tbest: 0.1508819 (3000)\ttotal: 56.5s\tremaining: 30m 27s\n",
            "3100:\tlearn: 0.1021228\ttest: 0.1498475\tbest: 0.1498475 (3100)\ttotal: 58.5s\tremaining: 30m 26s\n",
            "3200:\tlearn: 0.1003724\ttest: 0.1489193\tbest: 0.1489193 (3200)\ttotal: 1m\tremaining: 30m 25s\n",
            "3300:\tlearn: 0.0987312\ttest: 0.1480229\tbest: 0.1480229 (3300)\ttotal: 1m 2s\tremaining: 30m 24s\n",
            "3400:\tlearn: 0.0971059\ttest: 0.1471673\tbest: 0.1471673 (3400)\ttotal: 1m 4s\tremaining: 30m 21s\n",
            "3500:\tlearn: 0.0954310\ttest: 0.1462767\tbest: 0.1462767 (3500)\ttotal: 1m 6s\tremaining: 30m 19s\n",
            "3600:\tlearn: 0.0940233\ttest: 0.1455809\tbest: 0.1455795 (3599)\ttotal: 1m 7s\tremaining: 30m 18s\n",
            "3700:\tlearn: 0.0925993\ttest: 0.1448828\tbest: 0.1448828 (3700)\ttotal: 1m 9s\tremaining: 30m 17s\n",
            "3800:\tlearn: 0.0911887\ttest: 0.1441373\tbest: 0.1441373 (3800)\ttotal: 1m 11s\tremaining: 30m 14s\n",
            "3900:\tlearn: 0.0897623\ttest: 0.1433987\tbest: 0.1433987 (3900)\ttotal: 1m 13s\tremaining: 30m 12s\n",
            "4000:\tlearn: 0.0884743\ttest: 0.1427396\tbest: 0.1427396 (4000)\ttotal: 1m 15s\tremaining: 30m 9s\n",
            "4100:\tlearn: 0.0871918\ttest: 0.1420982\tbest: 0.1420982 (4100)\ttotal: 1m 17s\tremaining: 30m 6s\n",
            "4200:\tlearn: 0.0859225\ttest: 0.1415263\tbest: 0.1415263 (4200)\ttotal: 1m 19s\tremaining: 30m 2s\n",
            "4300:\tlearn: 0.0846780\ttest: 0.1408601\tbest: 0.1408601 (4300)\ttotal: 1m 20s\tremaining: 29m 59s\n",
            "4400:\tlearn: 0.0834866\ttest: 0.1402842\tbest: 0.1402842 (4400)\ttotal: 1m 22s\tremaining: 29m 56s\n",
            "4500:\tlearn: 0.0823429\ttest: 0.1396402\tbest: 0.1396402 (4500)\ttotal: 1m 24s\tremaining: 29m 54s\n",
            "4600:\tlearn: 0.0811412\ttest: 0.1389759\tbest: 0.1389759 (4600)\ttotal: 1m 26s\tremaining: 29m 51s\n",
            "4700:\tlearn: 0.0800534\ttest: 0.1384615\tbest: 0.1384615 (4700)\ttotal: 1m 28s\tremaining: 29m 49s\n",
            "4800:\tlearn: 0.0789691\ttest: 0.1378820\tbest: 0.1378820 (4800)\ttotal: 1m 30s\tremaining: 29m 47s\n",
            "4900:\tlearn: 0.0779731\ttest: 0.1374374\tbest: 0.1374374 (4900)\ttotal: 1m 32s\tremaining: 29m 46s\n",
            "5000:\tlearn: 0.0769237\ttest: 0.1369808\tbest: 0.1369808 (5000)\ttotal: 1m 33s\tremaining: 29m 44s\n",
            "5100:\tlearn: 0.0759323\ttest: 0.1364631\tbest: 0.1364609 (5099)\ttotal: 1m 35s\tremaining: 29m 42s\n",
            "5200:\tlearn: 0.0749186\ttest: 0.1359114\tbest: 0.1359114 (5200)\ttotal: 1m 37s\tremaining: 29m 41s\n",
            "5300:\tlearn: 0.0739011\ttest: 0.1354014\tbest: 0.1354014 (5300)\ttotal: 1m 39s\tremaining: 29m 38s\n",
            "5400:\tlearn: 0.0729374\ttest: 0.1349767\tbest: 0.1349767 (5400)\ttotal: 1m 41s\tremaining: 29m 37s\n",
            "5500:\tlearn: 0.0720318\ttest: 0.1345124\tbest: 0.1345124 (5500)\ttotal: 1m 43s\tremaining: 29m 36s\n",
            "5600:\tlearn: 0.0711326\ttest: 0.1340065\tbest: 0.1340065 (5600)\ttotal: 1m 45s\tremaining: 29m 34s\n",
            "5700:\tlearn: 0.0703342\ttest: 0.1336453\tbest: 0.1336453 (5700)\ttotal: 1m 47s\tremaining: 29m 31s\n",
            "5800:\tlearn: 0.0695125\ttest: 0.1333251\tbest: 0.1333251 (5800)\ttotal: 1m 48s\tremaining: 29m 29s\n",
            "5900:\tlearn: 0.0686355\ttest: 0.1329251\tbest: 0.1329190 (5898)\ttotal: 1m 50s\tremaining: 29m 26s\n",
            "6000:\tlearn: 0.0677718\ttest: 0.1324759\tbest: 0.1324759 (6000)\ttotal: 1m 52s\tremaining: 29m 24s\n",
            "6100:\tlearn: 0.0669894\ttest: 0.1321313\tbest: 0.1321269 (6099)\ttotal: 1m 54s\tremaining: 29m 23s\n",
            "6200:\tlearn: 0.0662128\ttest: 0.1317203\tbest: 0.1317203 (6200)\ttotal: 1m 56s\tremaining: 29m 21s\n",
            "6300:\tlearn: 0.0654569\ttest: 0.1313897\tbest: 0.1313897 (6300)\ttotal: 1m 58s\tremaining: 29m 19s\n",
            "6400:\tlearn: 0.0647165\ttest: 0.1310292\tbest: 0.1310292 (6400)\ttotal: 2m\tremaining: 29m 18s\n",
            "6500:\tlearn: 0.0639971\ttest: 0.1306531\tbest: 0.1306527 (6499)\ttotal: 2m 2s\tremaining: 29m 15s\n",
            "6600:\tlearn: 0.0633338\ttest: 0.1303537\tbest: 0.1303537 (6600)\ttotal: 2m 3s\tremaining: 29m 12s\n",
            "6700:\tlearn: 0.0626378\ttest: 0.1300617\tbest: 0.1300602 (6691)\ttotal: 2m 5s\tremaining: 29m 10s\n",
            "6800:\tlearn: 0.0618596\ttest: 0.1297351\tbest: 0.1297349 (6796)\ttotal: 2m 7s\tremaining: 29m 8s\n",
            "6900:\tlearn: 0.0611350\ttest: 0.1294013\tbest: 0.1293946 (6897)\ttotal: 2m 9s\tremaining: 29m 7s\n",
            "7000:\tlearn: 0.0604970\ttest: 0.1291013\tbest: 0.1291013 (7000)\ttotal: 2m 11s\tremaining: 29m 5s\n",
            "7100:\tlearn: 0.0598762\ttest: 0.1288424\tbest: 0.1288424 (7096)\ttotal: 2m 13s\tremaining: 29m 4s\n",
            "7200:\tlearn: 0.0591934\ttest: 0.1285720\tbest: 0.1285720 (7200)\ttotal: 2m 15s\tremaining: 29m 2s\n",
            "7300:\tlearn: 0.0585400\ttest: 0.1283168\tbest: 0.1283168 (7300)\ttotal: 2m 17s\tremaining: 29m\n",
            "7400:\tlearn: 0.0579094\ttest: 0.1280186\tbest: 0.1280127 (7397)\ttotal: 2m 18s\tremaining: 28m 58s\n",
            "7500:\tlearn: 0.0572827\ttest: 0.1277475\tbest: 0.1277475 (7500)\ttotal: 2m 20s\tremaining: 28m 57s\n",
            "7600:\tlearn: 0.0566861\ttest: 0.1275769\tbest: 0.1275720 (7598)\ttotal: 2m 22s\tremaining: 28m 55s\n",
            "7700:\tlearn: 0.0560839\ttest: 0.1273963\tbest: 0.1273943 (7698)\ttotal: 2m 24s\tremaining: 28m 54s\n",
            "7800:\tlearn: 0.0555128\ttest: 0.1271228\tbest: 0.1271221 (7799)\ttotal: 2m 26s\tremaining: 28m 51s\n",
            "7900:\tlearn: 0.0548854\ttest: 0.1268990\tbest: 0.1268990 (7900)\ttotal: 2m 28s\tremaining: 28m 49s\n",
            "8000:\tlearn: 0.0543192\ttest: 0.1266593\tbest: 0.1266588 (7996)\ttotal: 2m 30s\tremaining: 28m 47s\n",
            "8100:\tlearn: 0.0537606\ttest: 0.1264440\tbest: 0.1264432 (8099)\ttotal: 2m 32s\tremaining: 28m 45s\n",
            "8200:\tlearn: 0.0532120\ttest: 0.1262234\tbest: 0.1262215 (8197)\ttotal: 2m 33s\tremaining: 28m 42s\n",
            "8300:\tlearn: 0.0526787\ttest: 0.1260394\tbest: 0.1260394 (8300)\ttotal: 2m 35s\tremaining: 28m 40s\n",
            "8400:\tlearn: 0.0522024\ttest: 0.1258575\tbest: 0.1258575 (8400)\ttotal: 2m 37s\tremaining: 28m 38s\n",
            "8500:\tlearn: 0.0516542\ttest: 0.1255732\tbest: 0.1255691 (8498)\ttotal: 2m 39s\tremaining: 28m 37s\n",
            "8600:\tlearn: 0.0511419\ttest: 0.1253423\tbest: 0.1253390 (8598)\ttotal: 2m 41s\tremaining: 28m 34s\n",
            "8700:\tlearn: 0.0506431\ttest: 0.1251265\tbest: 0.1251265 (8700)\ttotal: 2m 43s\tremaining: 28m 32s\n",
            "8800:\tlearn: 0.0501145\ttest: 0.1249414\tbest: 0.1249411 (8794)\ttotal: 2m 45s\tremaining: 28m 31s\n",
            "8900:\tlearn: 0.0496164\ttest: 0.1247655\tbest: 0.1247655 (8900)\ttotal: 2m 47s\tremaining: 28m 29s\n",
            "9000:\tlearn: 0.0491529\ttest: 0.1245425\tbest: 0.1245425 (9000)\ttotal: 2m 48s\tremaining: 28m 27s\n",
            "9100:\tlearn: 0.0486808\ttest: 0.1243334\tbest: 0.1243329 (9099)\ttotal: 2m 50s\tremaining: 28m 25s\n",
            "9200:\tlearn: 0.0482312\ttest: 0.1242018\tbest: 0.1242010 (9199)\ttotal: 2m 52s\tremaining: 28m 24s\n",
            "9300:\tlearn: 0.0477862\ttest: 0.1241033\tbest: 0.1240997 (9295)\ttotal: 2m 54s\tremaining: 28m 22s\n",
            "9400:\tlearn: 0.0473620\ttest: 0.1239960\tbest: 0.1239955 (9399)\ttotal: 2m 56s\tremaining: 28m 19s\n",
            "9500:\tlearn: 0.0469412\ttest: 0.1238757\tbest: 0.1238757 (9500)\ttotal: 2m 58s\tremaining: 28m 17s\n",
            "9600:\tlearn: 0.0464876\ttest: 0.1237314\tbest: 0.1237307 (9587)\ttotal: 3m\tremaining: 28m 15s\n",
            "9700:\tlearn: 0.0460439\ttest: 0.1235726\tbest: 0.1235681 (9697)\ttotal: 3m 1s\tremaining: 28m 13s\n",
            "9800:\tlearn: 0.0456211\ttest: 0.1234330\tbest: 0.1234315 (9799)\ttotal: 3m 3s\tremaining: 28m 10s\n",
            "9900:\tlearn: 0.0451963\ttest: 0.1233205\tbest: 0.1233190 (9898)\ttotal: 3m 5s\tremaining: 28m 8s\n",
            "10000:\tlearn: 0.0448202\ttest: 0.1231459\tbest: 0.1231459 (10000)\ttotal: 3m 7s\tremaining: 28m 6s\n",
            "10100:\tlearn: 0.0443981\ttest: 0.1230173\tbest: 0.1230171 (10099)\ttotal: 3m 9s\tremaining: 28m 4s\n",
            "10200:\tlearn: 0.0439951\ttest: 0.1228923\tbest: 0.1228874 (10198)\ttotal: 3m 11s\tremaining: 28m 3s\n",
            "10300:\tlearn: 0.0435796\ttest: 0.1227770\tbest: 0.1227770 (10300)\ttotal: 3m 13s\tremaining: 28m 1s\n",
            "10400:\tlearn: 0.0432120\ttest: 0.1227274\tbest: 0.1227274 (10400)\ttotal: 3m 15s\tremaining: 27m 59s\n",
            "10500:\tlearn: 0.0428393\ttest: 0.1225892\tbest: 0.1225854 (10499)\ttotal: 3m 16s\tremaining: 27m 58s\n",
            "10600:\tlearn: 0.0425220\ttest: 0.1224811\tbest: 0.1224811 (10600)\ttotal: 3m 18s\tremaining: 27m 56s\n",
            "10700:\tlearn: 0.0421746\ttest: 0.1223846\tbest: 0.1223846 (10700)\ttotal: 3m 20s\tremaining: 27m 54s\n",
            "10800:\tlearn: 0.0417848\ttest: 0.1222760\tbest: 0.1222678 (10781)\ttotal: 3m 22s\tremaining: 27m 52s\n",
            "10900:\tlearn: 0.0414534\ttest: 0.1222120\tbest: 0.1222038 (10882)\ttotal: 3m 24s\tremaining: 27m 50s\n",
            "11000:\tlearn: 0.0411336\ttest: 0.1220691\tbest: 0.1220691 (11000)\ttotal: 3m 26s\tremaining: 27m 49s\n",
            "11100:\tlearn: 0.0407945\ttest: 0.1219658\tbest: 0.1219658 (11100)\ttotal: 3m 28s\tremaining: 27m 47s\n",
            "11200:\tlearn: 0.0404546\ttest: 0.1218685\tbest: 0.1218683 (11199)\ttotal: 3m 30s\tremaining: 27m 45s\n",
            "11300:\tlearn: 0.0401361\ttest: 0.1218237\tbest: 0.1218237 (11300)\ttotal: 3m 31s\tremaining: 27m 43s\n",
            "11400:\tlearn: 0.0397811\ttest: 0.1217204\tbest: 0.1217160 (11397)\ttotal: 3m 33s\tremaining: 27m 42s\n",
            "11500:\tlearn: 0.0394446\ttest: 0.1216591\tbest: 0.1216562 (11491)\ttotal: 3m 35s\tremaining: 27m 40s\n",
            "11600:\tlearn: 0.0391010\ttest: 0.1215469\tbest: 0.1215469 (11600)\ttotal: 3m 37s\tremaining: 27m 39s\n",
            "11700:\tlearn: 0.0387768\ttest: 0.1214983\tbest: 0.1214846 (11675)\ttotal: 3m 39s\tremaining: 27m 37s\n",
            "11800:\tlearn: 0.0384586\ttest: 0.1214586\tbest: 0.1214513 (11793)\ttotal: 3m 41s\tremaining: 27m 36s\n",
            "11900:\tlearn: 0.0381285\ttest: 0.1214188\tbest: 0.1214033 (11877)\ttotal: 3m 43s\tremaining: 27m 34s\n",
            "12000:\tlearn: 0.0378283\ttest: 0.1213142\tbest: 0.1213142 (12000)\ttotal: 3m 45s\tremaining: 27m 31s\n",
            "12100:\tlearn: 0.0375074\ttest: 0.1212431\tbest: 0.1212379 (12097)\ttotal: 3m 47s\tremaining: 27m 29s\n",
            "12200:\tlearn: 0.0372124\ttest: 0.1211897\tbest: 0.1211896 (12199)\ttotal: 3m 48s\tremaining: 27m 27s\n",
            "12300:\tlearn: 0.0369208\ttest: 0.1210963\tbest: 0.1210963 (12300)\ttotal: 3m 50s\tremaining: 27m 26s\n",
            "12400:\tlearn: 0.0366091\ttest: 0.1210171\tbest: 0.1210066 (12389)\ttotal: 3m 52s\tremaining: 27m 24s\n",
            "12500:\tlearn: 0.0363351\ttest: 0.1209896\tbest: 0.1209846 (12458)\ttotal: 3m 54s\tremaining: 27m 22s\n",
            "12600:\tlearn: 0.0360459\ttest: 0.1209166\tbest: 0.1209113 (12594)\ttotal: 3m 56s\tremaining: 27m 20s\n",
            "12700:\tlearn: 0.0357525\ttest: 0.1208455\tbest: 0.1208393 (12695)\ttotal: 3m 58s\tremaining: 27m 18s\n",
            "12800:\tlearn: 0.0354814\ttest: 0.1207887\tbest: 0.1207831 (12796)\ttotal: 4m\tremaining: 27m 16s\n",
            "12900:\tlearn: 0.0352080\ttest: 0.1207735\tbest: 0.1207671 (12896)\ttotal: 4m 2s\tremaining: 27m 14s\n",
            "13000:\tlearn: 0.0349278\ttest: 0.1207200\tbest: 0.1207192 (12999)\ttotal: 4m 3s\tremaining: 27m 12s\n",
            "13100:\tlearn: 0.0346623\ttest: 0.1206598\tbest: 0.1206584 (13092)\ttotal: 4m 5s\tremaining: 27m 10s\n",
            "13200:\tlearn: 0.0343857\ttest: 0.1206207\tbest: 0.1206012 (13180)\ttotal: 4m 7s\tremaining: 27m 8s\n",
            "13300:\tlearn: 0.0341113\ttest: 0.1205722\tbest: 0.1205633 (13293)\ttotal: 4m 9s\tremaining: 27m 6s\n",
            "13400:\tlearn: 0.0338604\ttest: 0.1205678\tbest: 0.1205386 (13372)\ttotal: 4m 11s\tremaining: 27m 5s\n",
            "bestTest = 0.1205386149\n",
            "bestIteration = 13372\n",
            "Shrink model to first 13373 iterations.\n",
            "----------------TEST EVALUATION------------------\n",
            "Default score: [-0.99685241]\n",
            "Accuracy is: 0.6498556941245002\n",
            "F1 is: 0.6956165277051973\n",
            "None\n"
          ],
          "name": "stdout"
        },
        {
          "output_type": "display_data",
          "data": {
            "image/png": "[encoded data removed]",
            "text/plain": [
              "<Figure size 864x576 with 1 Axes>"
            ]
          },
          "metadata": {
            "tags": [],
            "needs_background": "light"
          }
        }
      ]
    },
    {
      "cell_type": "code",
      "metadata": {
        "id": "MEbFBAGLNg-M",
        "colab": {
          "base_uri": "https://localhost:8080/",
          "height": 1000
        },
        "outputId": "f89ad1a1-26c7-44ff-d1f8-31b8b616fadf"
      },
      "source": [
        " func10_= Model(train10, validation, validation1, validation2, validation3, ytrain10, valid_target)\n",
        "pred10, val10, open_test10, open_test110, model10, = func10_()"
      ],
      "execution_count": null,
      "outputs": [
        {
          "output_type": "stream",
          "text": [
            "0:\tlearn: 1.9384189\ttest: 1.9386618\tbest: 1.9386618 (0)\ttotal: 37.2ms\tremaining: 1h 2m 2s\n",
            "100:\tlearn: 0.4087644\ttest: 0.4168641\tbest: 0.4168641 (100)\ttotal: 1.99s\tremaining: 32m 47s\n",
            "200:\tlearn: 0.3267008\ttest: 0.3362855\tbest: 0.3362855 (200)\ttotal: 3.8s\tremaining: 31m 28s\n",
            "300:\tlearn: 0.2943757\ttest: 0.3050664\tbest: 0.3050664 (300)\ttotal: 5.62s\tremaining: 31m 2s\n",
            "400:\tlearn: 0.2717307\ttest: 0.2839017\tbest: 0.2839017 (400)\ttotal: 7.43s\tremaining: 30m 46s\n",
            "500:\tlearn: 0.2560694\ttest: 0.2695488\tbest: 0.2695488 (500)\ttotal: 9.2s\tremaining: 30m 26s\n",
            "600:\tlearn: 0.2443694\ttest: 0.2593747\tbest: 0.2593747 (600)\ttotal: 11.1s\tremaining: 30m 31s\n",
            "700:\tlearn: 0.2343642\ttest: 0.2509350\tbest: 0.2509350 (700)\ttotal: 13s\tremaining: 30m 36s\n",
            "800:\tlearn: 0.2263293\ttest: 0.2441973\tbest: 0.2441973 (800)\ttotal: 14.9s\tremaining: 30m 41s\n",
            "900:\tlearn: 0.2189594\ttest: 0.2379959\tbest: 0.2379959 (900)\ttotal: 16.8s\tremaining: 30m 43s\n",
            "1000:\tlearn: 0.2124375\ttest: 0.2326755\tbest: 0.2326755 (1000)\ttotal: 18.7s\tremaining: 30m 45s\n",
            "1100:\tlearn: 0.2064953\ttest: 0.2280579\tbest: 0.2280579 (1100)\ttotal: 20.5s\tremaining: 30m 38s\n",
            "1200:\tlearn: 0.2009806\ttest: 0.2238583\tbest: 0.2238583 (1200)\ttotal: 22.3s\tremaining: 30m 33s\n",
            "1300:\tlearn: 0.1959226\ttest: 0.2198547\tbest: 0.2198547 (1300)\ttotal: 24.2s\tremaining: 30m 34s\n",
            "1400:\tlearn: 0.1915385\ttest: 0.2167413\tbest: 0.2167413 (1400)\ttotal: 26.1s\tremaining: 30m 36s\n",
            "1500:\tlearn: 0.1873785\ttest: 0.2136354\tbest: 0.2136354 (1500)\ttotal: 28s\tremaining: 30m 37s\n",
            "1600:\tlearn: 0.1834321\ttest: 0.2108210\tbest: 0.2108210 (1600)\ttotal: 29.9s\tremaining: 30m 37s\n",
            "1700:\tlearn: 0.1795682\ttest: 0.2081460\tbest: 0.2081460 (1700)\ttotal: 31.8s\tremaining: 30m 36s\n",
            "1800:\tlearn: 0.1761069\ttest: 0.2057379\tbest: 0.2057379 (1800)\ttotal: 33.7s\tremaining: 30m 35s\n",
            "1900:\tlearn: 0.1728385\ttest: 0.2036298\tbest: 0.2036298 (1900)\ttotal: 35.5s\tremaining: 30m 31s\n",
            "2000:\tlearn: 0.1698129\ttest: 0.2014371\tbest: 0.2014371 (2000)\ttotal: 37.4s\tremaining: 30m 30s\n",
            "2100:\tlearn: 0.1667519\ttest: 0.1995587\tbest: 0.1995587 (2100)\ttotal: 39.2s\tremaining: 30m 28s\n",
            "2200:\tlearn: 0.1639358\ttest: 0.1976860\tbest: 0.1976860 (2200)\ttotal: 41.2s\tremaining: 30m 28s\n",
            "2300:\tlearn: 0.1612996\ttest: 0.1959426\tbest: 0.1959426 (2300)\ttotal: 43s\tremaining: 30m 26s\n",
            "2400:\tlearn: 0.1588810\ttest: 0.1944733\tbest: 0.1944733 (2400)\ttotal: 44.9s\tremaining: 30m 24s\n",
            "2500:\tlearn: 0.1564926\ttest: 0.1928944\tbest: 0.1928944 (2500)\ttotal: 46.8s\tremaining: 30m 23s\n",
            "2600:\tlearn: 0.1541118\ttest: 0.1915172\tbest: 0.1915172 (2600)\ttotal: 48.7s\tremaining: 30m 23s\n",
            "2700:\tlearn: 0.1519061\ttest: 0.1901944\tbest: 0.1901944 (2700)\ttotal: 50.6s\tremaining: 30m 23s\n",
            "2800:\tlearn: 0.1497129\ttest: 0.1888790\tbest: 0.1888790 (2800)\ttotal: 52.6s\tremaining: 30m 25s\n",
            "2900:\tlearn: 0.1474693\ttest: 0.1875043\tbest: 0.1875043 (2900)\ttotal: 54.5s\tremaining: 30m 24s\n",
            "3000:\tlearn: 0.1455017\ttest: 0.1862763\tbest: 0.1862763 (3000)\ttotal: 56.4s\tremaining: 30m 22s\n",
            "3100:\tlearn: 0.1435141\ttest: 0.1851297\tbest: 0.1851297 (3100)\ttotal: 58.3s\tremaining: 30m 20s\n",
            "3200:\tlearn: 0.1416646\ttest: 0.1841078\tbest: 0.1841078 (3200)\ttotal: 1m\tremaining: 30m 18s\n",
            "3300:\tlearn: 0.1397905\ttest: 0.1831017\tbest: 0.1831017 (3300)\ttotal: 1m 2s\tremaining: 30m 18s\n",
            "3400:\tlearn: 0.1379619\ttest: 0.1820926\tbest: 0.1820926 (3400)\ttotal: 1m 3s\tremaining: 30m 17s\n",
            "3500:\tlearn: 0.1361638\ttest: 0.1811358\tbest: 0.1811358 (3500)\ttotal: 1m 5s\tremaining: 30m 15s\n",
            "3600:\tlearn: 0.1343909\ttest: 0.1802612\tbest: 0.1802612 (3600)\ttotal: 1m 7s\tremaining: 30m 12s\n",
            "3700:\tlearn: 0.1327459\ttest: 0.1794625\tbest: 0.1794625 (3700)\ttotal: 1m 9s\tremaining: 30m 11s\n",
            "3800:\tlearn: 0.1311219\ttest: 0.1786130\tbest: 0.1786130 (3800)\ttotal: 1m 11s\tremaining: 30m 10s\n",
            "3900:\tlearn: 0.1295682\ttest: 0.1779024\tbest: 0.1779024 (3900)\ttotal: 1m 13s\tremaining: 30m 8s\n",
            "4000:\tlearn: 0.1281418\ttest: 0.1770438\tbest: 0.1770438 (4000)\ttotal: 1m 15s\tremaining: 30m 6s\n",
            "4100:\tlearn: 0.1265319\ttest: 0.1761897\tbest: 0.1761897 (4100)\ttotal: 1m 17s\tremaining: 30m 5s\n",
            "4200:\tlearn: 0.1251702\ttest: 0.1755031\tbest: 0.1755031 (4200)\ttotal: 1m 19s\tremaining: 30m 3s\n",
            "4300:\tlearn: 0.1236855\ttest: 0.1747216\tbest: 0.1747216 (4300)\ttotal: 1m 21s\tremaining: 30m 3s\n",
            "4400:\tlearn: 0.1222506\ttest: 0.1739180\tbest: 0.1739180 (4400)\ttotal: 1m 22s\tremaining: 30m\n",
            "4500:\tlearn: 0.1209397\ttest: 0.1732425\tbest: 0.1732425 (4500)\ttotal: 1m 24s\tremaining: 29m 58s\n",
            "4600:\tlearn: 0.1196139\ttest: 0.1724908\tbest: 0.1724908 (4600)\ttotal: 1m 26s\tremaining: 29m 57s\n",
            "4700:\tlearn: 0.1182998\ttest: 0.1718863\tbest: 0.1718863 (4700)\ttotal: 1m 28s\tremaining: 29m 54s\n",
            "4800:\tlearn: 0.1169876\ttest: 0.1712564\tbest: 0.1712564 (4800)\ttotal: 1m 30s\tremaining: 29m 54s\n",
            "4900:\tlearn: 0.1156962\ttest: 0.1706217\tbest: 0.1706217 (4900)\ttotal: 1m 32s\tremaining: 29m 52s\n",
            "5000:\tlearn: 0.1144543\ttest: 0.1699986\tbest: 0.1699986 (5000)\ttotal: 1m 34s\tremaining: 29m 50s\n",
            "5100:\tlearn: 0.1132848\ttest: 0.1694616\tbest: 0.1694616 (5100)\ttotal: 1m 36s\tremaining: 29m 48s\n",
            "5200:\tlearn: 0.1120891\ttest: 0.1688881\tbest: 0.1688881 (5200)\ttotal: 1m 38s\tremaining: 29m 46s\n",
            "5300:\tlearn: 0.1109377\ttest: 0.1683907\tbest: 0.1683879 (5299)\ttotal: 1m 39s\tremaining: 29m 44s\n",
            "5400:\tlearn: 0.1098418\ttest: 0.1678623\tbest: 0.1678623 (5400)\ttotal: 1m 41s\tremaining: 29m 42s\n",
            "5500:\tlearn: 0.1087351\ttest: 0.1672900\tbest: 0.1672885 (5497)\ttotal: 1m 43s\tremaining: 29m 39s\n",
            "5600:\tlearn: 0.1076253\ttest: 0.1667640\tbest: 0.1667604 (5599)\ttotal: 1m 45s\tremaining: 29m 37s\n",
            "5700:\tlearn: 0.1065356\ttest: 0.1663373\tbest: 0.1663365 (5699)\ttotal: 1m 47s\tremaining: 29m 36s\n",
            "5800:\tlearn: 0.1054428\ttest: 0.1659303\tbest: 0.1659303 (5800)\ttotal: 1m 49s\tremaining: 29m 34s\n",
            "5900:\tlearn: 0.1044165\ttest: 0.1654869\tbest: 0.1654818 (5898)\ttotal: 1m 51s\tremaining: 29m 32s\n",
            "6000:\tlearn: 0.1034322\ttest: 0.1650754\tbest: 0.1650754 (6000)\ttotal: 1m 53s\tremaining: 29m 32s\n",
            "6100:\tlearn: 0.1024668\ttest: 0.1646054\tbest: 0.1646054 (6100)\ttotal: 1m 54s\tremaining: 29m 29s\n",
            "6200:\tlearn: 0.1014989\ttest: 0.1642084\tbest: 0.1642056 (6198)\ttotal: 1m 56s\tremaining: 29m 27s\n",
            "6300:\tlearn: 0.1005301\ttest: 0.1638269\tbest: 0.1638269 (6300)\ttotal: 1m 58s\tremaining: 29m 26s\n",
            "6400:\tlearn: 0.0996017\ttest: 0.1634644\tbest: 0.1634635 (6399)\ttotal: 2m\tremaining: 29m 25s\n",
            "6500:\tlearn: 0.0986987\ttest: 0.1630363\tbest: 0.1630363 (6500)\ttotal: 2m 2s\tremaining: 29m 23s\n",
            "6600:\tlearn: 0.0978062\ttest: 0.1626242\tbest: 0.1626242 (6600)\ttotal: 2m 4s\tremaining: 29m 22s\n",
            "6700:\tlearn: 0.0969676\ttest: 0.1622740\tbest: 0.1622740 (6700)\ttotal: 2m 6s\tremaining: 29m 19s\n",
            "6800:\tlearn: 0.0961042\ttest: 0.1619154\tbest: 0.1619110 (6798)\ttotal: 2m 8s\tremaining: 29m 17s\n",
            "6900:\tlearn: 0.0952719\ttest: 0.1614979\tbest: 0.1614979 (6900)\ttotal: 2m 10s\tremaining: 29m 15s\n",
            "7000:\tlearn: 0.0944376\ttest: 0.1611906\tbest: 0.1611906 (7000)\ttotal: 2m 12s\tremaining: 29m 13s\n",
            "7100:\tlearn: 0.0936645\ttest: 0.1609025\tbest: 0.1609025 (7100)\ttotal: 2m 13s\tremaining: 29m 12s\n",
            "7200:\tlearn: 0.0928525\ttest: 0.1605105\tbest: 0.1605105 (7200)\ttotal: 2m 15s\tremaining: 29m 11s\n",
            "7300:\tlearn: 0.0920277\ttest: 0.1601469\tbest: 0.1601469 (7300)\ttotal: 2m 17s\tremaining: 29m 9s\n",
            "7400:\tlearn: 0.0912057\ttest: 0.1598399\tbest: 0.1598399 (7400)\ttotal: 2m 19s\tremaining: 29m 8s\n",
            "7500:\tlearn: 0.0904402\ttest: 0.1595366\tbest: 0.1595366 (7500)\ttotal: 2m 21s\tremaining: 29m 7s\n",
            "7600:\tlearn: 0.0897303\ttest: 0.1592734\tbest: 0.1592734 (7600)\ttotal: 2m 23s\tremaining: 29m 5s\n",
            "7700:\tlearn: 0.0889944\ttest: 0.1589874\tbest: 0.1589874 (7700)\ttotal: 2m 25s\tremaining: 29m 3s\n",
            "7800:\tlearn: 0.0882568\ttest: 0.1587478\tbest: 0.1587478 (7800)\ttotal: 2m 27s\tremaining: 29m\n",
            "7900:\tlearn: 0.0875514\ttest: 0.1584746\tbest: 0.1584746 (7900)\ttotal: 2m 29s\tremaining: 28m 58s\n",
            "8000:\tlearn: 0.0867993\ttest: 0.1580914\tbest: 0.1580914 (8000)\ttotal: 2m 30s\tremaining: 28m 56s\n",
            "8100:\tlearn: 0.0860120\ttest: 0.1578372\tbest: 0.1578309 (8098)\ttotal: 2m 32s\tremaining: 28m 54s\n",
            "8200:\tlearn: 0.0853066\ttest: 0.1576110\tbest: 0.1576096 (8198)\ttotal: 2m 34s\tremaining: 28m 52s\n",
            "8300:\tlearn: 0.0846066\ttest: 0.1573629\tbest: 0.1573629 (8300)\ttotal: 2m 36s\tremaining: 28m 50s\n",
            "8400:\tlearn: 0.0839418\ttest: 0.1570808\tbest: 0.1570808 (8400)\ttotal: 2m 38s\tremaining: 28m 48s\n",
            "8500:\tlearn: 0.0832214\ttest: 0.1568403\tbest: 0.1568403 (8500)\ttotal: 2m 40s\tremaining: 28m 47s\n",
            "8600:\tlearn: 0.0825387\ttest: 0.1565893\tbest: 0.1565869 (8591)\ttotal: 2m 42s\tremaining: 28m 45s\n",
            "8700:\tlearn: 0.0818516\ttest: 0.1563528\tbest: 0.1563484 (8697)\ttotal: 2m 44s\tremaining: 28m 42s\n",
            "8800:\tlearn: 0.0812012\ttest: 0.1562127\tbest: 0.1562093 (8799)\ttotal: 2m 46s\tremaining: 28m 40s\n",
            "8900:\tlearn: 0.0805194\ttest: 0.1559323\tbest: 0.1559323 (8900)\ttotal: 2m 47s\tremaining: 28m 38s\n",
            "9000:\tlearn: 0.0798375\ttest: 0.1557096\tbest: 0.1557096 (9000)\ttotal: 2m 49s\tremaining: 28m 36s\n",
            "9100:\tlearn: 0.0792297\ttest: 0.1555029\tbest: 0.1554992 (9096)\ttotal: 2m 51s\tremaining: 28m 35s\n",
            "9200:\tlearn: 0.0786145\ttest: 0.1552655\tbest: 0.1552561 (9193)\ttotal: 2m 53s\tremaining: 28m 33s\n",
            "9300:\tlearn: 0.0780320\ttest: 0.1550285\tbest: 0.1550265 (9299)\ttotal: 2m 55s\tremaining: 28m 31s\n",
            "9400:\tlearn: 0.0774388\ttest: 0.1548608\tbest: 0.1548608 (9400)\ttotal: 2m 57s\tremaining: 28m 30s\n",
            "9500:\tlearn: 0.0768753\ttest: 0.1547040\tbest: 0.1547040 (9500)\ttotal: 2m 59s\tremaining: 28m 28s\n",
            "9600:\tlearn: 0.0762884\ttest: 0.1545069\tbest: 0.1545069 (9600)\ttotal: 3m 1s\tremaining: 28m 26s\n",
            "9700:\tlearn: 0.0757184\ttest: 0.1543211\tbest: 0.1543211 (9700)\ttotal: 3m 3s\tremaining: 28m 24s\n",
            "9800:\tlearn: 0.0751783\ttest: 0.1541146\tbest: 0.1541133 (9799)\ttotal: 3m 4s\tremaining: 28m 22s\n",
            "9900:\tlearn: 0.0746203\ttest: 0.1539094\tbest: 0.1539081 (9896)\ttotal: 3m 6s\tremaining: 28m 20s\n",
            "10000:\tlearn: 0.0740691\ttest: 0.1537317\tbest: 0.1537310 (9994)\ttotal: 3m 8s\tremaining: 28m 17s\n",
            "10100:\tlearn: 0.0734876\ttest: 0.1535788\tbest: 0.1535754 (10099)\ttotal: 3m 10s\tremaining: 28m 15s\n",
            "10200:\tlearn: 0.0729132\ttest: 0.1534903\tbest: 0.1534903 (10200)\ttotal: 3m 12s\tremaining: 28m 13s\n",
            "10300:\tlearn: 0.0723866\ttest: 0.1533042\tbest: 0.1533042 (10300)\ttotal: 3m 14s\tremaining: 28m 12s\n",
            "10400:\tlearn: 0.0718370\ttest: 0.1530881\tbest: 0.1530839 (10398)\ttotal: 3m 16s\tremaining: 28m 10s\n",
            "10500:\tlearn: 0.0713729\ttest: 0.1529365\tbest: 0.1529288 (10492)\ttotal: 3m 18s\tremaining: 28m 8s\n",
            "10600:\tlearn: 0.0708637\ttest: 0.1528219\tbest: 0.1528163 (10598)\ttotal: 3m 20s\tremaining: 28m 6s\n",
            "10700:\tlearn: 0.0703318\ttest: 0.1526633\tbest: 0.1526450 (10690)\ttotal: 3m 21s\tremaining: 28m 5s\n",
            "10800:\tlearn: 0.0698634\ttest: 0.1525283\tbest: 0.1525217 (10799)\ttotal: 3m 23s\tremaining: 28m 2s\n",
            "10900:\tlearn: 0.0693795\ttest: 0.1523813\tbest: 0.1523743 (10898)\ttotal: 3m 25s\tremaining: 28m\n",
            "11000:\tlearn: 0.0688729\ttest: 0.1522434\tbest: 0.1522433 (10999)\ttotal: 3m 27s\tremaining: 27m 58s\n",
            "11100:\tlearn: 0.0683674\ttest: 0.1521347\tbest: 0.1521347 (11100)\ttotal: 3m 29s\tremaining: 27m 56s\n",
            "11200:\tlearn: 0.0678874\ttest: 0.1519788\tbest: 0.1519763 (11197)\ttotal: 3m 31s\tremaining: 27m 55s\n",
            "11300:\tlearn: 0.0674116\ttest: 0.1518929\tbest: 0.1518929 (11300)\ttotal: 3m 33s\tremaining: 27m 53s\n",
            "11400:\tlearn: 0.0669604\ttest: 0.1517473\tbest: 0.1517473 (11400)\ttotal: 3m 35s\tremaining: 27m 51s\n",
            "11500:\tlearn: 0.0665024\ttest: 0.1516371\tbest: 0.1516349 (11490)\ttotal: 3m 36s\tremaining: 27m 49s\n",
            "11600:\tlearn: 0.0660386\ttest: 0.1514727\tbest: 0.1514727 (11600)\ttotal: 3m 38s\tremaining: 27m 47s\n",
            "11700:\tlearn: 0.0655835\ttest: 0.1513349\tbest: 0.1513349 (11700)\ttotal: 3m 40s\tremaining: 27m 45s\n",
            "11800:\tlearn: 0.0651123\ttest: 0.1511875\tbest: 0.1511846 (11795)\ttotal: 3m 42s\tremaining: 27m 43s\n",
            "11900:\tlearn: 0.0646789\ttest: 0.1510450\tbest: 0.1510374 (11889)\ttotal: 3m 44s\tremaining: 27m 41s\n",
            "12000:\tlearn: 0.0642531\ttest: 0.1508744\tbest: 0.1508708 (11995)\ttotal: 3m 46s\tremaining: 27m 40s\n",
            "12100:\tlearn: 0.0638457\ttest: 0.1507926\tbest: 0.1507900 (12098)\ttotal: 3m 48s\tremaining: 27m 38s\n",
            "12200:\tlearn: 0.0634606\ttest: 0.1507133\tbest: 0.1507133 (12200)\ttotal: 3m 50s\tremaining: 27m 36s\n",
            "12300:\tlearn: 0.0630242\ttest: 0.1505911\tbest: 0.1505911 (12300)\ttotal: 3m 52s\tremaining: 27m 35s\n",
            "12400:\tlearn: 0.0626240\ttest: 0.1505001\tbest: 0.1505001 (12400)\ttotal: 3m 54s\tremaining: 27m 34s\n",
            "12500:\tlearn: 0.0622181\ttest: 0.1503966\tbest: 0.1503950 (12498)\ttotal: 3m 56s\tremaining: 27m 32s\n",
            "12600:\tlearn: 0.0618112\ttest: 0.1503150\tbest: 0.1503033 (12586)\ttotal: 3m 57s\tremaining: 27m 30s\n",
            "12700:\tlearn: 0.0614183\ttest: 0.1502004\tbest: 0.1502004 (12700)\ttotal: 3m 59s\tremaining: 27m 28s\n",
            "12800:\tlearn: 0.0610233\ttest: 0.1501162\tbest: 0.1501133 (12796)\ttotal: 4m 1s\tremaining: 27m 26s\n",
            "12900:\tlearn: 0.0606602\ttest: 0.1500422\tbest: 0.1500422 (12900)\ttotal: 4m 3s\tremaining: 27m 25s\n",
            "13000:\tlearn: 0.0602865\ttest: 0.1499888\tbest: 0.1499888 (13000)\ttotal: 4m 5s\tremaining: 27m 23s\n",
            "13100:\tlearn: 0.0598822\ttest: 0.1498621\tbest: 0.1498621 (13100)\ttotal: 4m 7s\tremaining: 27m 21s\n",
            "13200:\tlearn: 0.0594713\ttest: 0.1497765\tbest: 0.1497730 (13186)\ttotal: 4m 9s\tremaining: 27m 19s\n",
            "13300:\tlearn: 0.0590957\ttest: 0.1497164\tbest: 0.1497145 (13285)\ttotal: 4m 11s\tremaining: 27m 18s\n",
            "13400:\tlearn: 0.0587171\ttest: 0.1496288\tbest: 0.1496256 (13396)\ttotal: 4m 13s\tremaining: 27m 16s\n",
            "13500:\tlearn: 0.0583458\ttest: 0.1495959\tbest: 0.1495858 (13480)\ttotal: 4m 15s\tremaining: 27m 14s\n",
            "13600:\tlearn: 0.0579805\ttest: 0.1495011\tbest: 0.1494977 (13597)\ttotal: 4m 17s\tremaining: 27m 13s\n",
            "13700:\tlearn: 0.0575911\ttest: 0.1493902\tbest: 0.1493887 (13696)\ttotal: 4m 19s\tremaining: 27m 11s\n",
            "13800:\tlearn: 0.0572057\ttest: 0.1493282\tbest: 0.1493282 (13800)\ttotal: 4m 20s\tremaining: 27m 9s\n",
            "13900:\tlearn: 0.0568320\ttest: 0.1492010\tbest: 0.1491978 (13874)\ttotal: 4m 22s\tremaining: 27m 8s\n",
            "14000:\tlearn: 0.0564802\ttest: 0.1491181\tbest: 0.1491026 (13976)\ttotal: 4m 24s\tremaining: 27m 6s\n",
            "14100:\tlearn: 0.0561484\ttest: 0.1490584\tbest: 0.1490517 (14099)\ttotal: 4m 26s\tremaining: 27m 5s\n",
            "14200:\tlearn: 0.0558178\ttest: 0.1490280\tbest: 0.1490139 (14146)\ttotal: 4m 28s\tremaining: 27m 3s\n",
            "14300:\tlearn: 0.0554615\ttest: 0.1489052\tbest: 0.1489052 (14300)\ttotal: 4m 30s\tremaining: 27m 1s\n",
            "14400:\tlearn: 0.0550983\ttest: 0.1488255\tbest: 0.1488255 (14400)\ttotal: 4m 32s\tremaining: 26m 59s\n",
            "14500:\tlearn: 0.0547558\ttest: 0.1488148\tbest: 0.1488015 (14493)\ttotal: 4m 34s\tremaining: 26m 57s\n",
            "14600:\tlearn: 0.0544292\ttest: 0.1487341\tbest: 0.1487340 (14595)\ttotal: 4m 36s\tremaining: 26m 55s\n",
            "14700:\tlearn: 0.0540957\ttest: 0.1486545\tbest: 0.1486545 (14700)\ttotal: 4m 38s\tremaining: 26m 53s\n",
            "14800:\tlearn: 0.0537387\ttest: 0.1485558\tbest: 0.1485428 (14791)\ttotal: 4m 40s\tremaining: 26m 52s\n",
            "14900:\tlearn: 0.0533932\ttest: 0.1485031\tbest: 0.1485031 (14900)\ttotal: 4m 41s\tremaining: 26m 50s\n",
            "15000:\tlearn: 0.0530781\ttest: 0.1484525\tbest: 0.1484525 (15000)\ttotal: 4m 43s\tremaining: 26m 48s\n",
            "15100:\tlearn: 0.0527360\ttest: 0.1483905\tbest: 0.1483891 (15095)\ttotal: 4m 45s\tremaining: 26m 46s\n",
            "15200:\tlearn: 0.0524228\ttest: 0.1483370\tbest: 0.1483370 (15200)\ttotal: 4m 47s\tremaining: 26m 44s\n",
            "15300:\tlearn: 0.0521142\ttest: 0.1482969\tbest: 0.1482924 (15293)\ttotal: 4m 49s\tremaining: 26m 42s\n",
            "15400:\tlearn: 0.0518087\ttest: 0.1482169\tbest: 0.1482165 (15397)\ttotal: 4m 51s\tremaining: 26m 41s\n",
            "15500:\tlearn: 0.0515207\ttest: 0.1481452\tbest: 0.1481452 (15500)\ttotal: 4m 53s\tremaining: 26m 39s\n",
            "15600:\tlearn: 0.0512237\ttest: 0.1481148\tbest: 0.1481037 (15590)\ttotal: 4m 55s\tremaining: 26m 37s\n",
            "15700:\tlearn: 0.0509399\ttest: 0.1480523\tbest: 0.1480523 (15700)\ttotal: 4m 57s\tremaining: 26m 35s\n",
            "15800:\tlearn: 0.0506723\ttest: 0.1479882\tbest: 0.1479882 (15800)\ttotal: 4m 58s\tremaining: 26m 32s\n",
            "15900:\tlearn: 0.0503949\ttest: 0.1479687\tbest: 0.1479572 (15840)\ttotal: 5m\tremaining: 26m 31s\n",
            "16000:\tlearn: 0.0501038\ttest: 0.1479041\tbest: 0.1479023 (15998)\ttotal: 5m 2s\tremaining: 26m 29s\n",
            "16100:\tlearn: 0.0498300\ttest: 0.1478575\tbest: 0.1478554 (16092)\ttotal: 5m 4s\tremaining: 26m 27s\n",
            "16200:\tlearn: 0.0495578\ttest: 0.1478381\tbest: 0.1478369 (16182)\ttotal: 5m 6s\tremaining: 26m 26s\n",
            "16300:\tlearn: 0.0492817\ttest: 0.1478045\tbest: 0.1477955 (16281)\ttotal: 5m 8s\tremaining: 26m 24s\n",
            "16400:\tlearn: 0.0490069\ttest: 0.1477887\tbest: 0.1477766 (16356)\ttotal: 5m 10s\tremaining: 26m 22s\n",
            "16500:\tlearn: 0.0487469\ttest: 0.1477881\tbest: 0.1477683 (16460)\ttotal: 5m 12s\tremaining: 26m 21s\n",
            "16600:\tlearn: 0.0484834\ttest: 0.1477317\tbest: 0.1477291 (16598)\ttotal: 5m 14s\tremaining: 26m 19s\n",
            "16700:\tlearn: 0.0482166\ttest: 0.1477321\tbest: 0.1477059 (16638)\ttotal: 5m 16s\tremaining: 26m 17s\n",
            "16800:\tlearn: 0.0479475\ttest: 0.1476701\tbest: 0.1476517 (16765)\ttotal: 5m 18s\tremaining: 26m 15s\n",
            "16900:\tlearn: 0.0476746\ttest: 0.1476577\tbest: 0.1476500 (16860)\ttotal: 5m 20s\tremaining: 26m 13s\n",
            "17000:\tlearn: 0.0473995\ttest: 0.1476119\tbest: 0.1476110 (16998)\ttotal: 5m 21s\tremaining: 26m 11s\n",
            "17100:\tlearn: 0.0471398\ttest: 0.1475747\tbest: 0.1475747 (17100)\ttotal: 5m 23s\tremaining: 26m 10s\n",
            "17200:\tlearn: 0.0468801\ttest: 0.1475508\tbest: 0.1475508 (17200)\ttotal: 5m 25s\tremaining: 26m 8s\n",
            "17300:\tlearn: 0.0466195\ttest: 0.1475206\tbest: 0.1475157 (17266)\ttotal: 5m 27s\tremaining: 26m 6s\n",
            "17400:\tlearn: 0.0463708\ttest: 0.1474813\tbest: 0.1474684 (17384)\ttotal: 5m 29s\tremaining: 26m 5s\n",
            "17500:\tlearn: 0.0461039\ttest: 0.1474667\tbest: 0.1474478 (17489)\ttotal: 5m 31s\tremaining: 26m 3s\n",
            "17600:\tlearn: 0.0458411\ttest: 0.1474151\tbest: 0.1474067 (17597)\ttotal: 5m 33s\tremaining: 26m 1s\n",
            "bestTest = 0.1474067485\n",
            "bestIteration = 17597\n",
            "Shrink model to first 17598 iterations.\n",
            "----------------TEST EVALUATION------------------\n",
            "Default score: [-0.99644763]\n",
            "Accuracy is: 0.6437021738554823\n",
            "F1 is: 0.6731471752958993\n",
            "None\n"
          ],
          "name": "stdout"
        },
        {
          "output_type": "display_data",
          "data": {
            "image/png": "[encoded data removed]",
            "text/plain": [
              "<Figure size 864x576 with 1 Axes>"
            ]
          },
          "metadata": {
            "tags": [],
            "needs_background": "light"
          }
        }
      ]
    },
    {
      "cell_type": "code",
      "metadata": {
        "id": "vq2uXCQMmduL",
        "colab": {
          "base_uri": "https://localhost:8080/",
          "height": 54
        },
        "outputId": "2347a89c-67fb-41b6-96de-345c920cffdb"
      },
      "source": [
        "open_test11.shape, open_test22.shape, open_test33.shape, open_test44.shape"
      ],
      "execution_count": null,
      "outputs": [
        {
          "output_type": "execute_result",
          "data": {
            "text/plain": [
              "((192841,), (192841, 1), (488835,), (488835,))"
            ]
          },
          "metadata": {
            "tags": []
          },
          "execution_count": 30
        }
      ]
    },
    {
      "cell_type": "code",
      "metadata": {
        "id": "8FnukC9fIhoN"
      },
      "source": [
        "stack = np.column_stack((pred1, pred2, pred3))\n",
        "stack_p = np.column_stack((val1, val2, val3))\n",
        "stack_open = np.column_stack((open_test1, open_test2, open_test3))\n",
        "stack_open1 = np.column_stack((open_test11, open_test22, open_test33))"
      ],
      "execution_count": null,
      "outputs": []
    },
    {
      "cell_type": "code",
      "metadata": {
        "id": "YGslnFpKxGHn",
        "colab": {
          "base_uri": "https://localhost:8080/",
          "height": 1000
        },
        "outputId": "d88c16c5-4a9b-4d8c-f83c-0a2b67e24e31"
      },
      "source": [
        "pd.DataFrame(stack_p).sample(50)"
      ],
      "execution_count": null,
      "outputs": [
        {
          "output_type": "execute_result",
          "data": {
            "text/html": [
              "<div>\n",
              "<style scoped>\n",
              "    .dataframe tbody tr th:only-of-type {\n",
              "        vertical-align: middle;\n",
              "    }\n",
              "\n",
              "    .dataframe tbody tr th {\n",
              "        vertical-align: top;\n",
              "    }\n",
              "\n",
              "    .dataframe thead th {\n",
              "        text-align: right;\n",
              "    }\n",
              "</style>\n",
              "<table border=\"1\" class=\"dataframe\">\n",
              "  <thead>\n",
              "    <tr style=\"text-align: right;\">\n",
              "      <th></th>\n",
              "      <th>0</th>\n",
              "      <th>1</th>\n",
              "      <th>2</th>\n",
              "      <th>3</th>\n",
              "    </tr>\n",
              "  </thead>\n",
              "  <tbody>\n",
              "    <tr>\n",
              "      <th>20127</th>\n",
              "      <td>3</td>\n",
              "      <td>3</td>\n",
              "      <td>3</td>\n",
              "      <td>2</td>\n",
              "    </tr>\n",
              "    <tr>\n",
              "      <th>78516</th>\n",
              "      <td>2</td>\n",
              "      <td>2</td>\n",
              "      <td>2</td>\n",
              "      <td>2</td>\n",
              "    </tr>\n",
              "    <tr>\n",
              "      <th>2578</th>\n",
              "      <td>0</td>\n",
              "      <td>0</td>\n",
              "      <td>0</td>\n",
              "      <td>0</td>\n",
              "    </tr>\n",
              "    <tr>\n",
              "      <th>93769</th>\n",
              "      <td>2</td>\n",
              "      <td>2</td>\n",
              "      <td>2</td>\n",
              "      <td>2</td>\n",
              "    </tr>\n",
              "    <tr>\n",
              "      <th>63994</th>\n",
              "      <td>5</td>\n",
              "      <td>5</td>\n",
              "      <td>5</td>\n",
              "      <td>5</td>\n",
              "    </tr>\n",
              "    <tr>\n",
              "      <th>65896</th>\n",
              "      <td>5</td>\n",
              "      <td>5</td>\n",
              "      <td>5</td>\n",
              "      <td>5</td>\n",
              "    </tr>\n",
              "    <tr>\n",
              "      <th>29502</th>\n",
              "      <td>2</td>\n",
              "      <td>2</td>\n",
              "      <td>2</td>\n",
              "      <td>2</td>\n",
              "    </tr>\n",
              "    <tr>\n",
              "      <th>34655</th>\n",
              "      <td>2</td>\n",
              "      <td>2</td>\n",
              "      <td>2</td>\n",
              "      <td>2</td>\n",
              "    </tr>\n",
              "    <tr>\n",
              "      <th>47083</th>\n",
              "      <td>2</td>\n",
              "      <td>2</td>\n",
              "      <td>2</td>\n",
              "      <td>2</td>\n",
              "    </tr>\n",
              "    <tr>\n",
              "      <th>79945</th>\n",
              "      <td>2</td>\n",
              "      <td>2</td>\n",
              "      <td>2</td>\n",
              "      <td>2</td>\n",
              "    </tr>\n",
              "    <tr>\n",
              "      <th>83627</th>\n",
              "      <td>2</td>\n",
              "      <td>2</td>\n",
              "      <td>2</td>\n",
              "      <td>2</td>\n",
              "    </tr>\n",
              "    <tr>\n",
              "      <th>60967</th>\n",
              "      <td>3</td>\n",
              "      <td>3</td>\n",
              "      <td>3</td>\n",
              "      <td>2</td>\n",
              "    </tr>\n",
              "    <tr>\n",
              "      <th>70604</th>\n",
              "      <td>2</td>\n",
              "      <td>2</td>\n",
              "      <td>2</td>\n",
              "      <td>2</td>\n",
              "    </tr>\n",
              "    <tr>\n",
              "      <th>43066</th>\n",
              "      <td>2</td>\n",
              "      <td>2</td>\n",
              "      <td>2</td>\n",
              "      <td>2</td>\n",
              "    </tr>\n",
              "    <tr>\n",
              "      <th>1882</th>\n",
              "      <td>0</td>\n",
              "      <td>0</td>\n",
              "      <td>0</td>\n",
              "      <td>0</td>\n",
              "    </tr>\n",
              "    <tr>\n",
              "      <th>90588</th>\n",
              "      <td>2</td>\n",
              "      <td>2</td>\n",
              "      <td>2</td>\n",
              "      <td>2</td>\n",
              "    </tr>\n",
              "    <tr>\n",
              "      <th>3409</th>\n",
              "      <td>0</td>\n",
              "      <td>0</td>\n",
              "      <td>0</td>\n",
              "      <td>0</td>\n",
              "    </tr>\n",
              "    <tr>\n",
              "      <th>68192</th>\n",
              "      <td>3</td>\n",
              "      <td>3</td>\n",
              "      <td>3</td>\n",
              "      <td>5</td>\n",
              "    </tr>\n",
              "    <tr>\n",
              "      <th>57448</th>\n",
              "      <td>2</td>\n",
              "      <td>2</td>\n",
              "      <td>2</td>\n",
              "      <td>2</td>\n",
              "    </tr>\n",
              "    <tr>\n",
              "      <th>93938</th>\n",
              "      <td>2</td>\n",
              "      <td>2</td>\n",
              "      <td>2</td>\n",
              "      <td>2</td>\n",
              "    </tr>\n",
              "    <tr>\n",
              "      <th>76507</th>\n",
              "      <td>0</td>\n",
              "      <td>0</td>\n",
              "      <td>0</td>\n",
              "      <td>2</td>\n",
              "    </tr>\n",
              "    <tr>\n",
              "      <th>85150</th>\n",
              "      <td>2</td>\n",
              "      <td>2</td>\n",
              "      <td>2</td>\n",
              "      <td>2</td>\n",
              "    </tr>\n",
              "    <tr>\n",
              "      <th>19881</th>\n",
              "      <td>2</td>\n",
              "      <td>2</td>\n",
              "      <td>2</td>\n",
              "      <td>2</td>\n",
              "    </tr>\n",
              "    <tr>\n",
              "      <th>64198</th>\n",
              "      <td>3</td>\n",
              "      <td>5</td>\n",
              "      <td>3</td>\n",
              "      <td>2</td>\n",
              "    </tr>\n",
              "    <tr>\n",
              "      <th>94578</th>\n",
              "      <td>2</td>\n",
              "      <td>2</td>\n",
              "      <td>2</td>\n",
              "      <td>2</td>\n",
              "    </tr>\n",
              "    <tr>\n",
              "      <th>40189</th>\n",
              "      <td>2</td>\n",
              "      <td>5</td>\n",
              "      <td>5</td>\n",
              "      <td>2</td>\n",
              "    </tr>\n",
              "    <tr>\n",
              "      <th>46727</th>\n",
              "      <td>2</td>\n",
              "      <td>2</td>\n",
              "      <td>2</td>\n",
              "      <td>2</td>\n",
              "    </tr>\n",
              "    <tr>\n",
              "      <th>97092</th>\n",
              "      <td>5</td>\n",
              "      <td>5</td>\n",
              "      <td>5</td>\n",
              "      <td>2</td>\n",
              "    </tr>\n",
              "    <tr>\n",
              "      <th>47252</th>\n",
              "      <td>0</td>\n",
              "      <td>0</td>\n",
              "      <td>0</td>\n",
              "      <td>0</td>\n",
              "    </tr>\n",
              "    <tr>\n",
              "      <th>68676</th>\n",
              "      <td>2</td>\n",
              "      <td>2</td>\n",
              "      <td>2</td>\n",
              "      <td>2</td>\n",
              "    </tr>\n",
              "    <tr>\n",
              "      <th>13664</th>\n",
              "      <td>0</td>\n",
              "      <td>0</td>\n",
              "      <td>0</td>\n",
              "      <td>0</td>\n",
              "    </tr>\n",
              "    <tr>\n",
              "      <th>48856</th>\n",
              "      <td>2</td>\n",
              "      <td>2</td>\n",
              "      <td>2</td>\n",
              "      <td>2</td>\n",
              "    </tr>\n",
              "    <tr>\n",
              "      <th>10201</th>\n",
              "      <td>2</td>\n",
              "      <td>2</td>\n",
              "      <td>2</td>\n",
              "      <td>2</td>\n",
              "    </tr>\n",
              "    <tr>\n",
              "      <th>33191</th>\n",
              "      <td>0</td>\n",
              "      <td>0</td>\n",
              "      <td>5</td>\n",
              "      <td>0</td>\n",
              "    </tr>\n",
              "    <tr>\n",
              "      <th>26087</th>\n",
              "      <td>0</td>\n",
              "      <td>0</td>\n",
              "      <td>0</td>\n",
              "      <td>0</td>\n",
              "    </tr>\n",
              "    <tr>\n",
              "      <th>28245</th>\n",
              "      <td>2</td>\n",
              "      <td>2</td>\n",
              "      <td>2</td>\n",
              "      <td>2</td>\n",
              "    </tr>\n",
              "    <tr>\n",
              "      <th>51355</th>\n",
              "      <td>2</td>\n",
              "      <td>0</td>\n",
              "      <td>0</td>\n",
              "      <td>2</td>\n",
              "    </tr>\n",
              "    <tr>\n",
              "      <th>71027</th>\n",
              "      <td>0</td>\n",
              "      <td>0</td>\n",
              "      <td>0</td>\n",
              "      <td>0</td>\n",
              "    </tr>\n",
              "    <tr>\n",
              "      <th>40558</th>\n",
              "      <td>2</td>\n",
              "      <td>5</td>\n",
              "      <td>5</td>\n",
              "      <td>2</td>\n",
              "    </tr>\n",
              "    <tr>\n",
              "      <th>26696</th>\n",
              "      <td>0</td>\n",
              "      <td>0</td>\n",
              "      <td>0</td>\n",
              "      <td>2</td>\n",
              "    </tr>\n",
              "    <tr>\n",
              "      <th>12762</th>\n",
              "      <td>0</td>\n",
              "      <td>0</td>\n",
              "      <td>0</td>\n",
              "      <td>2</td>\n",
              "    </tr>\n",
              "    <tr>\n",
              "      <th>76467</th>\n",
              "      <td>0</td>\n",
              "      <td>0</td>\n",
              "      <td>0</td>\n",
              "      <td>2</td>\n",
              "    </tr>\n",
              "    <tr>\n",
              "      <th>60799</th>\n",
              "      <td>3</td>\n",
              "      <td>5</td>\n",
              "      <td>5</td>\n",
              "      <td>5</td>\n",
              "    </tr>\n",
              "    <tr>\n",
              "      <th>82226</th>\n",
              "      <td>9</td>\n",
              "      <td>9</td>\n",
              "      <td>9</td>\n",
              "      <td>9</td>\n",
              "    </tr>\n",
              "    <tr>\n",
              "      <th>59578</th>\n",
              "      <td>3</td>\n",
              "      <td>3</td>\n",
              "      <td>3</td>\n",
              "      <td>2</td>\n",
              "    </tr>\n",
              "    <tr>\n",
              "      <th>96448</th>\n",
              "      <td>2</td>\n",
              "      <td>2</td>\n",
              "      <td>2</td>\n",
              "      <td>2</td>\n",
              "    </tr>\n",
              "    <tr>\n",
              "      <th>71748</th>\n",
              "      <td>0</td>\n",
              "      <td>0</td>\n",
              "      <td>0</td>\n",
              "      <td>0</td>\n",
              "    </tr>\n",
              "    <tr>\n",
              "      <th>9956</th>\n",
              "      <td>2</td>\n",
              "      <td>2</td>\n",
              "      <td>2</td>\n",
              "      <td>2</td>\n",
              "    </tr>\n",
              "    <tr>\n",
              "      <th>69888</th>\n",
              "      <td>0</td>\n",
              "      <td>0</td>\n",
              "      <td>0</td>\n",
              "      <td>2</td>\n",
              "    </tr>\n",
              "    <tr>\n",
              "      <th>70031</th>\n",
              "      <td>2</td>\n",
              "      <td>2</td>\n",
              "      <td>2</td>\n",
              "      <td>2</td>\n",
              "    </tr>\n",
              "  </tbody>\n",
              "</table>\n",
              "</div>"
            ],
            "text/plain": [
              "       0  1  2  3\n",
              "20127  3  3  3  2\n",
              "78516  2  2  2  2\n",
              "2578   0  0  0  0\n",
              "93769  2  2  2  2\n",
              "63994  5  5  5  5\n",
              "65896  5  5  5  5\n",
              "29502  2  2  2  2\n",
              "34655  2  2  2  2\n",
              "47083  2  2  2  2\n",
              "79945  2  2  2  2\n",
              "83627  2  2  2  2\n",
              "60967  3  3  3  2\n",
              "70604  2  2  2  2\n",
              "43066  2  2  2  2\n",
              "1882   0  0  0  0\n",
              "90588  2  2  2  2\n",
              "3409   0  0  0  0\n",
              "68192  3  3  3  5\n",
              "57448  2  2  2  2\n",
              "93938  2  2  2  2\n",
              "76507  0  0  0  2\n",
              "85150  2  2  2  2\n",
              "19881  2  2  2  2\n",
              "64198  3  5  3  2\n",
              "94578  2  2  2  2\n",
              "40189  2  5  5  2\n",
              "46727  2  2  2  2\n",
              "97092  5  5  5  2\n",
              "47252  0  0  0  0\n",
              "68676  2  2  2  2\n",
              "13664  0  0  0  0\n",
              "48856  2  2  2  2\n",
              "10201  2  2  2  2\n",
              "33191  0  0  5  0\n",
              "26087  0  0  0  0\n",
              "28245  2  2  2  2\n",
              "51355  2  0  0  2\n",
              "71027  0  0  0  0\n",
              "40558  2  5  5  2\n",
              "26696  0  0  0  2\n",
              "12762  0  0  0  2\n",
              "76467  0  0  0  2\n",
              "60799  3  5  5  5\n",
              "82226  9  9  9  9\n",
              "59578  3  3  3  2\n",
              "96448  2  2  2  2\n",
              "71748  0  0  0  0\n",
              "9956   2  2  2  2\n",
              "69888  0  0  0  2\n",
              "70031  2  2  2  2"
            ]
          },
          "metadata": {
            "tags": []
          },
          "execution_count": 40
        }
      ]
    },
    {
      "cell_type": "code",
      "metadata": {
        "id": "0IkVvm2uyOJ7",
        "colab": {
          "base_uri": "https://localhost:8080/",
          "height": 1000
        },
        "outputId": "63df2be6-8b39-4b85-9fc9-670084b833cb"
      },
      "source": [
        "pd.DataFrame(valid1_lithology).tail(50)"
      ],
      "execution_count": null,
      "outputs": [
        {
          "output_type": "execute_result",
          "data": {
            "text/html": [
              "<div>\n",
              "<style scoped>\n",
              "    .dataframe tbody tr th:only-of-type {\n",
              "        vertical-align: middle;\n",
              "    }\n",
              "\n",
              "    .dataframe tbody tr th {\n",
              "        vertical-align: top;\n",
              "    }\n",
              "\n",
              "    .dataframe thead th {\n",
              "        text-align: right;\n",
              "    }\n",
              "</style>\n",
              "<table border=\"1\" class=\"dataframe\">\n",
              "  <thead>\n",
              "    <tr style=\"text-align: right;\">\n",
              "      <th></th>\n",
              "      <th>FORCE_2020_LITHOFACIES_LITHOLOGY</th>\n",
              "    </tr>\n",
              "  </thead>\n",
              "  <tbody>\n",
              "    <tr>\n",
              "      <th>101281</th>\n",
              "      <td>2</td>\n",
              "    </tr>\n",
              "    <tr>\n",
              "      <th>101282</th>\n",
              "      <td>2</td>\n",
              "    </tr>\n",
              "    <tr>\n",
              "      <th>101283</th>\n",
              "      <td>1</td>\n",
              "    </tr>\n",
              "    <tr>\n",
              "      <th>101284</th>\n",
              "      <td>1</td>\n",
              "    </tr>\n",
              "    <tr>\n",
              "      <th>101285</th>\n",
              "      <td>1</td>\n",
              "    </tr>\n",
              "    <tr>\n",
              "      <th>101286</th>\n",
              "      <td>1</td>\n",
              "    </tr>\n",
              "    <tr>\n",
              "      <th>101287</th>\n",
              "      <td>1</td>\n",
              "    </tr>\n",
              "    <tr>\n",
              "      <th>101288</th>\n",
              "      <td>1</td>\n",
              "    </tr>\n",
              "    <tr>\n",
              "      <th>101289</th>\n",
              "      <td>1</td>\n",
              "    </tr>\n",
              "    <tr>\n",
              "      <th>101290</th>\n",
              "      <td>1</td>\n",
              "    </tr>\n",
              "    <tr>\n",
              "      <th>101291</th>\n",
              "      <td>1</td>\n",
              "    </tr>\n",
              "    <tr>\n",
              "      <th>101292</th>\n",
              "      <td>1</td>\n",
              "    </tr>\n",
              "    <tr>\n",
              "      <th>101293</th>\n",
              "      <td>1</td>\n",
              "    </tr>\n",
              "    <tr>\n",
              "      <th>101294</th>\n",
              "      <td>1</td>\n",
              "    </tr>\n",
              "    <tr>\n",
              "      <th>101295</th>\n",
              "      <td>1</td>\n",
              "    </tr>\n",
              "    <tr>\n",
              "      <th>101296</th>\n",
              "      <td>1</td>\n",
              "    </tr>\n",
              "    <tr>\n",
              "      <th>101297</th>\n",
              "      <td>1</td>\n",
              "    </tr>\n",
              "    <tr>\n",
              "      <th>101298</th>\n",
              "      <td>1</td>\n",
              "    </tr>\n",
              "    <tr>\n",
              "      <th>101299</th>\n",
              "      <td>1</td>\n",
              "    </tr>\n",
              "    <tr>\n",
              "      <th>101300</th>\n",
              "      <td>1</td>\n",
              "    </tr>\n",
              "    <tr>\n",
              "      <th>101301</th>\n",
              "      <td>1</td>\n",
              "    </tr>\n",
              "    <tr>\n",
              "      <th>101302</th>\n",
              "      <td>1</td>\n",
              "    </tr>\n",
              "    <tr>\n",
              "      <th>101303</th>\n",
              "      <td>1</td>\n",
              "    </tr>\n",
              "    <tr>\n",
              "      <th>101304</th>\n",
              "      <td>1</td>\n",
              "    </tr>\n",
              "    <tr>\n",
              "      <th>101305</th>\n",
              "      <td>0</td>\n",
              "    </tr>\n",
              "    <tr>\n",
              "      <th>101306</th>\n",
              "      <td>0</td>\n",
              "    </tr>\n",
              "    <tr>\n",
              "      <th>101307</th>\n",
              "      <td>0</td>\n",
              "    </tr>\n",
              "    <tr>\n",
              "      <th>101308</th>\n",
              "      <td>0</td>\n",
              "    </tr>\n",
              "    <tr>\n",
              "      <th>101309</th>\n",
              "      <td>0</td>\n",
              "    </tr>\n",
              "    <tr>\n",
              "      <th>101310</th>\n",
              "      <td>0</td>\n",
              "    </tr>\n",
              "    <tr>\n",
              "      <th>101311</th>\n",
              "      <td>0</td>\n",
              "    </tr>\n",
              "    <tr>\n",
              "      <th>101312</th>\n",
              "      <td>0</td>\n",
              "    </tr>\n",
              "    <tr>\n",
              "      <th>101313</th>\n",
              "      <td>0</td>\n",
              "    </tr>\n",
              "    <tr>\n",
              "      <th>101314</th>\n",
              "      <td>0</td>\n",
              "    </tr>\n",
              "    <tr>\n",
              "      <th>101315</th>\n",
              "      <td>0</td>\n",
              "    </tr>\n",
              "    <tr>\n",
              "      <th>101316</th>\n",
              "      <td>0</td>\n",
              "    </tr>\n",
              "    <tr>\n",
              "      <th>101317</th>\n",
              "      <td>0</td>\n",
              "    </tr>\n",
              "    <tr>\n",
              "      <th>101318</th>\n",
              "      <td>0</td>\n",
              "    </tr>\n",
              "    <tr>\n",
              "      <th>101319</th>\n",
              "      <td>0</td>\n",
              "    </tr>\n",
              "    <tr>\n",
              "      <th>101320</th>\n",
              "      <td>0</td>\n",
              "    </tr>\n",
              "    <tr>\n",
              "      <th>101321</th>\n",
              "      <td>0</td>\n",
              "    </tr>\n",
              "    <tr>\n",
              "      <th>101322</th>\n",
              "      <td>0</td>\n",
              "    </tr>\n",
              "    <tr>\n",
              "      <th>101323</th>\n",
              "      <td>0</td>\n",
              "    </tr>\n",
              "    <tr>\n",
              "      <th>101324</th>\n",
              "      <td>0</td>\n",
              "    </tr>\n",
              "    <tr>\n",
              "      <th>101325</th>\n",
              "      <td>0</td>\n",
              "    </tr>\n",
              "    <tr>\n",
              "      <th>101326</th>\n",
              "      <td>0</td>\n",
              "    </tr>\n",
              "    <tr>\n",
              "      <th>101327</th>\n",
              "      <td>0</td>\n",
              "    </tr>\n",
              "    <tr>\n",
              "      <th>101328</th>\n",
              "      <td>0</td>\n",
              "    </tr>\n",
              "    <tr>\n",
              "      <th>101329</th>\n",
              "      <td>0</td>\n",
              "    </tr>\n",
              "    <tr>\n",
              "      <th>101330</th>\n",
              "      <td>0</td>\n",
              "    </tr>\n",
              "  </tbody>\n",
              "</table>\n",
              "</div>"
            ],
            "text/plain": [
              "        FORCE_2020_LITHOFACIES_LITHOLOGY\n",
              "101281                                 2\n",
              "101282                                 2\n",
              "101283                                 1\n",
              "101284                                 1\n",
              "101285                                 1\n",
              "101286                                 1\n",
              "101287                                 1\n",
              "101288                                 1\n",
              "101289                                 1\n",
              "101290                                 1\n",
              "101291                                 1\n",
              "101292                                 1\n",
              "101293                                 1\n",
              "101294                                 1\n",
              "101295                                 1\n",
              "101296                                 1\n",
              "101297                                 1\n",
              "101298                                 1\n",
              "101299                                 1\n",
              "101300                                 1\n",
              "101301                                 1\n",
              "101302                                 1\n",
              "101303                                 1\n",
              "101304                                 1\n",
              "101305                                 0\n",
              "101306                                 0\n",
              "101307                                 0\n",
              "101308                                 0\n",
              "101309                                 0\n",
              "101310                                 0\n",
              "101311                                 0\n",
              "101312                                 0\n",
              "101313                                 0\n",
              "101314                                 0\n",
              "101315                                 0\n",
              "101316                                 0\n",
              "101317                                 0\n",
              "101318                                 0\n",
              "101319                                 0\n",
              "101320                                 0\n",
              "101321                                 0\n",
              "101322                                 0\n",
              "101323                                 0\n",
              "101324                                 0\n",
              "101325                                 0\n",
              "101326                                 0\n",
              "101327                                 0\n",
              "101328                                 0\n",
              "101329                                 0\n",
              "101330                                 0"
            ]
          },
          "metadata": {
            "tags": []
          },
          "execution_count": 41
        }
      ]
    },
    {
      "cell_type": "code",
      "metadata": {
        "id": "ovPnvV42h3Jm",
        "colab": {
          "base_uri": "https://localhost:8080/",
          "height": 34
        },
        "outputId": "1bf610f8-a4a7-44fa-f1d3-599fba984dc6"
      },
      "source": [
        "valid1_lithology.shape, stack_p.shape"
      ],
      "execution_count": null,
      "outputs": [
        {
          "output_type": "execute_result",
          "data": {
            "text/plain": [
              "((101331,), (101331, 4))"
            ]
          },
          "metadata": {
            "tags": []
          },
          "execution_count": 44
        }
      ]
    },
    {
      "cell_type": "code",
      "metadata": {
        "id": "VVnKpqImBeY5",
        "colab": {
          "base_uri": "https://localhost:8080/",
          "height": 241
        },
        "outputId": "562dccfe-3c72-40fa-8d82-ecdc41a1c1ad"
      },
      "source": [
        "print(show_evaluation(final_open_pred, valid1_lithology))\n",
        "print(show_evaluation(final_open_pred1, valid2_lithology))\n",
        "print(show_evaluation(final_open_pred11, valid3_lithology))"
      ],
      "execution_count": null,
      "outputs": [
        {
          "output_type": "stream",
          "text": [
            "Default score: -0.8023174053349913\n",
            "Accuracy is: 0.7090525110775577\n",
            "F1 is: 0.7288841749224375\n",
            "None\n",
            "Default score: -0.9325469894000655\n",
            "Accuracy is: 0.6447929188066878\n",
            "F1 is: 0.7116844636292764\n",
            "None\n",
            "Default score: -0.8641160334161304\n",
            "Accuracy is: 0.6785590201253883\n",
            "F1 is: 0.7224786773621489\n",
            "None\n"
          ],
          "name": "stdout"
        }
      ]
    },
    {
      "cell_type": "code",
      "metadata": {
        "id": "0jNG4d2AFoUG",
        "colab": {
          "base_uri": "https://localhost:8080/",
          "height": 241
        },
        "outputId": "d191e0dc-2659-450d-e234-24900358cc8d"
      },
      "source": [
        "print(show_evaluation(final_open_pred, valid1_lithology))\n",
        "print(show_evaluation(final_open_pred1, valid2_lithology))\n",
        "print(show_evaluation(final_open_pred11, valid3_lithology))"
      ],
      "execution_count": null,
      "outputs": [
        {
          "output_type": "stream",
          "text": [
            "Default score: -0.7447659156625317\n",
            "Accuracy is: 0.731799745388874\n",
            "F1 is: 0.7519948248511821\n",
            "None\n",
            "Default score: -0.9816263249918041\n",
            "Accuracy is: 0.6241612938476669\n",
            "F1 is: 0.7062864359599761\n",
            "None\n",
            "Default score: -0.8571647108239431\n",
            "Accuracy is: 0.6807214233487692\n",
            "F1 is: 0.7289072440608168\n",
            "None\n"
          ],
          "name": "stdout"
        }
      ]
    },
    {
      "cell_type": "code",
      "metadata": {
        "id": "DS1BnaAkKBuZ",
        "colab": {
          "base_uri": "https://localhost:8080/",
          "height": 230
        },
        "outputId": "79e129c9-7c7c-40cf-b88b-69c1c4bd2404"
      },
      "source": [
        "print(show_evaluation(final_open_pred, valid1_lithology))\n",
        "print(show_evaluation(final_open_pred1, valid2_lithology))\n",
        "print(show_evaluation(final_open_pred11, valid3_lithology))"
      ],
      "execution_count": null,
      "outputs": [
        {
          "output_type": "stream",
          "text": [
            "Default score: -0.6792565947242206\n",
            "Accuracy is: 0.7508561052392654\n",
            "F1 is: 0.7796947808940052\n",
            "None\n",
            "Default score: -0.898985083597421\n",
            "Accuracy is: 0.639176046333734\n",
            "F1 is: 0.7126820862055382\n",
            "None\n",
            "Default score: -0.7933200149345834\n",
            "Accuracy is: 0.6951685585534196\n",
            "F1 is: 0.7464016101794597\n",
            "None\n"
          ],
          "name": "stdout"
        }
      ]
    },
    {
      "cell_type": "code",
      "metadata": {
        "id": "SqP8jEXDJcKn",
        "colab": {
          "base_uri": "https://localhost:8080/",
          "height": 241
        },
        "outputId": "ee7ad8c3-68e0-4bec-c50d-640aa627abf1"
      },
      "source": [
        "print(show_evaluation(final_open_pred, valid1_lithology))\n",
        "print(show_evaluation(final_open_pred1, valid2_lithology))\n",
        "print(show_evaluation(final_open_pred11, valid3_lithology))"
      ],
      "execution_count": null,
      "outputs": [
        {
          "output_type": "stream",
          "text": [
            "Default score: -0.6880705312293375\n",
            "Accuracy is: 0.7508857111841392\n",
            "F1 is: 0.7995730900402213\n",
            "None\n",
            "Default score: -0.9892675663861873\n",
            "Accuracy is: 0.6199759589115944\n",
            "F1 is: 0.7213657928431049\n",
            "None\n",
            "Default score: -0.8456461540854902\n",
            "Accuracy is: 0.684600266540829\n",
            "F1 is: 0.7595524241559909\n",
            "None\n"
          ],
          "name": "stdout"
        }
      ]
    },
    {
      "cell_type": "code",
      "metadata": {
        "id": "qEAzq0PuuuDy",
        "colab": {
          "base_uri": "https://localhost:8080/",
          "height": 680
        },
        "outputId": "833f0422-ea9e-4302-afd2-8a46d75b6576"
      },
      "source": [
        "for i,j in enumerate(testdata.columns):\n",
        "    print(i,j)"
      ],
      "execution_count": null,
      "outputs": [
        {
          "output_type": "stream",
          "text": [
            "0 DEPTH_MD\n",
            "1 X_LOC\n",
            "2 Y_LOC\n",
            "3 Z_LOC\n",
            "4 CALI\n",
            "5 RSHA\n",
            "6 RMED\n",
            "7 RDEP\n",
            "8 RHOB\n",
            "9 GR\n",
            "10 NPHI\n",
            "11 PEF\n",
            "12 DTC\n",
            "13 SP\n",
            "14 BS\n",
            "15 ROP\n",
            "16 DCAL\n",
            "17 DRHO\n",
            "18 MUDWEIGHT\n",
            "19 ROPA\n",
            "20 RXO\n",
            "21 FORMATION_enc\n",
            "22 GROUP_enc\n",
            "23 FORMATION_mean_target\n",
            "24 GROUP_mean_target\n",
            "25 GROUP_BAAT GP.\n",
            "26 GROUP_BOKNFJORD GP.\n",
            "27 GROUP_CROMER KNOLL GP.\n",
            "28 GROUP_DUNLIN GP.\n",
            "29 GROUP_HEGRE GP.\n",
            "30 GROUP_HORDALAND GP.\n",
            "31 GROUP_NORDLAND GP.\n",
            "32 GROUP_ROGALAND GP.\n",
            "33 GROUP_ROTLIEGENDES GP.\n",
            "34 GROUP_SHETLAND GP.\n",
            "35 GROUP_TYNE GP.\n",
            "36 GROUP_VESTLAND GP.\n",
            "37 GROUP_VIKING GP.\n",
            "38 GROUP_ZECHSTEIN GP.\n"
          ],
          "name": "stdout"
        }
      ]
    },
    {
      "cell_type": "code",
      "metadata": {
        "id": "JTxiu7NuwVl_",
        "colab": {
          "base_uri": "https://localhost:8080/",
          "height": 34
        },
        "outputId": "07b60945-785c-4583-9563-c1b4cfc80e58"
      },
      "source": [
        "train1, sample1, ytrain1, ysample1 = ms.train_test_split(traindata, lithology, random_state=405, test_size=0.875, stratify=lithology)\n",
        "print(train1.shape, ytrain1.shape, sample1.shape)"
      ],
      "execution_count": null,
      "outputs": [
        {
          "output_type": "stream",
          "text": [
            "(122208, 39) (122208,) (855462, 39)\n"
          ],
          "name": "stdout"
        }
      ]
    },
    {
      "cell_type": "code",
      "metadata": {
        "id": "2hFygx20w9mE",
        "colab": {
          "base_uri": "https://localhost:8080/",
          "height": 34
        },
        "outputId": "c860639d-8429-4ca7-9935-f0842bee1e5c"
      },
      "source": [
        "train2, sample2, ytrain2, ysample2 = ms.train_test_split(sample1, ysample1, random_state=405, test_size=0.857142857, stratify=ysample1)\n",
        "print(train2.shape, ytrain2.shape, sample2.shape)"
      ],
      "execution_count": null,
      "outputs": [
        {
          "output_type": "stream",
          "text": [
            "(122208, 39) (122208,) (733254, 39)\n"
          ],
          "name": "stdout"
        }
      ]
    },
    {
      "cell_type": "code",
      "metadata": {
        "id": "YhwUekDaxjR6",
        "colab": {
          "base_uri": "https://localhost:8080/",
          "height": 34
        },
        "outputId": "624db5a8-a87d-4d36-f4d3-6c418bd24d7e"
      },
      "source": [
        "train3, sample3, ytrain3, ysample3 = ms.train_test_split(sample2, ysample2, random_state=405, test_size=0.833333333, stratify=ysample2)\n",
        "print(train3.shape, ytrain3.shape, sample3.shape)"
      ],
      "execution_count": null,
      "outputs": [
        {
          "output_type": "stream",
          "text": [
            "(122209, 39) (122209,) (611045, 39)\n"
          ],
          "name": "stdout"
        }
      ]
    },
    {
      "cell_type": "code",
      "metadata": {
        "id": "QBGzeONAx4m-",
        "colab": {
          "base_uri": "https://localhost:8080/",
          "height": 34
        },
        "outputId": "5d89c9aa-2685-47d8-829f-f5f18eed06a7"
      },
      "source": [
        "train4, sample4, ytrain4, ysample4 = ms.train_test_split(sample3, ysample3, random_state=405, test_size=0.8, stratify=ysample3)\n",
        "print(train4.shape, ytrain4.shape, sample4.shape)"
      ],
      "execution_count": null,
      "outputs": [
        {
          "output_type": "stream",
          "text": [
            "(122209, 39) (122209,) (488836, 39)\n"
          ],
          "name": "stdout"
        }
      ]
    },
    {
      "cell_type": "code",
      "metadata": {
        "id": "rp4LSCWXyH3z",
        "colab": {
          "base_uri": "https://localhost:8080/",
          "height": 34
        },
        "outputId": "451fc02a-0eb8-43cc-f543-c73becc9906f"
      },
      "source": [
        "train5, sample5, ytrain5, ysample5 = ms.train_test_split(sample4, ysample4, random_state=405, test_size=0.75, stratify=ysample4)\n",
        "print(train5.shape, ytrain5.shape, sample5.shape)"
      ],
      "execution_count": null,
      "outputs": [
        {
          "output_type": "stream",
          "text": [
            "(122209, 39) (122209,) (366627, 39)\n"
          ],
          "name": "stdout"
        }
      ]
    },
    {
      "cell_type": "code",
      "metadata": {
        "id": "igmo8fviyV-0",
        "colab": {
          "base_uri": "https://localhost:8080/",
          "height": 34
        },
        "outputId": "bffe50c7-c376-4b6a-9d4e-639d73a8bcd2"
      },
      "source": [
        "train6, sample6, ytrain6, ysample6 = ms.train_test_split(sample5, ysample5, random_state=405, test_size=0.666666667, stratify=ysample5)\n",
        "print(train6.shape, ytrain6.shape, sample6.shape)"
      ],
      "execution_count": null,
      "outputs": [
        {
          "output_type": "stream",
          "text": [
            "(122208, 39) (122208,) (244419, 39)\n"
          ],
          "name": "stdout"
        }
      ]
    },
    {
      "cell_type": "code",
      "metadata": {
        "id": "Fy3LnEggyWKz",
        "colab": {
          "base_uri": "https://localhost:8080/",
          "height": 34
        },
        "outputId": "0f556e55-ce1a-4737-e528-725b7ee7c27c"
      },
      "source": [
        "train7, train8, ytrain7, ytrain8 = ms.train_test_split(sample6, ysample6, random_state=405, test_size=0.5, stratify=ysample6)\n",
        "print(train7.shape, train8.shape, ytrain7.shape, ytrain8.shape)"
      ],
      "execution_count": null,
      "outputs": [
        {
          "output_type": "stream",
          "text": [
            "(122209, 39) (122210, 39) (122209,) (122210,)\n"
          ],
          "name": "stdout"
        }
      ]
    },
    {
      "cell_type": "code",
      "metadata": {
        "id": "aW7Y1hGz_w2W"
      },
      "source": [
        "class Model2():\n",
        "    \n",
        "    def __init__(self, train, test, validation, train_label, test_label):\n",
        "        \n",
        "        \n",
        "        self.train = train\n",
        "        self.test = test\n",
        "        self.validation = validation\n",
        "        self.train_label = train_label\n",
        "        self.test_label = test_label\n",
        "        \n",
        "    def __call__(self, plot = True):\n",
        "        return self.fit(plot)\n",
        "    \n",
        "    def fit(self, plot):\n",
        "\n",
        "      self.x_train, self.x_test, self.y_train, self.y_test = ms.train_test_split(self.train, \n",
        "                                                                                   pd.DataFrame(np.array(self.train_label)), \n",
        "                                                                                   test_size=0.2,\n",
        "                                                                                   random_state=485)\n",
        "      \n",
        "      def show_evaluation(pred, true):\n",
        "        \n",
        "        print(f'Default score: {score(true.values, pred)}')\n",
        "        print(f'Accuracy is: {accuracy_score(true, pred)}')\n",
        "        print(f'F1 is: {f1_score(pred, true.values, average=\"weighted\")}')\n",
        "\n",
        "\n",
        "      model = CatBoostClassifier(n_estimators=100000, random_state=2020, learning_rate=0.033,\n",
        "                                  use_best_model=True,\n",
        "                                  eval_metric='MultiClass', task_type='GPU', verbose=50, reg_lambda=80)\n",
        "      \n",
        "      model.fit(self.x_train, self.y_train, early_stopping_rounds=100, eval_set=[(self.x_test, self.y_test)], verbose=50)\n",
        "\n",
        "      pred = model.predict(self.test)\n",
        "      val = model.predict(self.validation)\n",
        "        \n",
        " \n",
        "      print('----------------TEST EVALUATION------------------')\n",
        "      print(show_evaluation(pred, self.test_label))\n",
        "                  \n",
        "      if plot: self.plot_feat_imp(model)\n",
        "      return pred, val, model\n",
        "              \n",
        "              \n",
        "    def plot_feat_imp(self, model):\n",
        "        feat_imp = pd.Series(model.feature_importances_).sort_values(ascending=False)\n",
        "        plt.figure(figsize=(12,8))\n",
        "        feat_imp.plot(kind='bar', title='Feature Importances')\n",
        "        plt.ylabel('Feature Importance Score')"
      ],
      "execution_count": null,
      "outputs": []
    },
    {
      "cell_type": "code",
      "metadata": {
        "id": "EjDlb9AOAPWx"
      },
      "source": [
        ""
      ],
      "execution_count": null,
      "outputs": []
    },
    {
      "cell_type": "code",
      "metadata": {
        "id": "exV-w_CzAP9k"
      },
      "source": [
        ""
      ],
      "execution_count": null,
      "outputs": []
    },
    {
      "cell_type": "code",
      "metadata": {
        "id": "so81IQ5Y5uv_"
      },
      "source": [
        "class Model():\n",
        "    \n",
        "    def __init__(self, train, test, validation, train_label, test_label):\n",
        "        \n",
        "        \n",
        "        self.train = train\n",
        "        self.test = test\n",
        "        self.validation = validation\n",
        "        self.train_label = train_label\n",
        "        self.test_label = test_label\n",
        "        \n",
        "    def __call__(self, plot = True):\n",
        "        return self.fit(plot)\n",
        "    \n",
        "    def fit(self, plot):\n",
        "\n",
        "      self.x_train, self.x_test, self.y_train, self.y_test = ms.train_test_split(self.train, \n",
        "                                                                                   pd.DataFrame(np.array(self.train_label)), \n",
        "                                                                                   test_size=0.2,\n",
        "                                                                                   random_state=42)\n",
        "      \n",
        "      def show_evaluation(pred, true):\n",
        "        \n",
        "        print(f'Default score: {score(true.values, pred)}')\n",
        "        print(f'Accuracy is: {accuracy_score(true, pred)}')\n",
        "        print(f'F1 is: {f1_score(pred, true.values, average=\"weighted\")}')\n",
        "\n",
        "\n",
        "      model = XGBClassifier(n_estimators=100000, max_depth=6, \n",
        "                                 objective='multi:softprob', learning_rate=0.01, \n",
        "                            subsample=0.9, tree_method='gpu_hist',\n",
        "                                 eval_metric='mlogloss')\n",
        "      \n",
        "      model.fit(self.x_train, self.y_train, early_stopping_rounds=100, eval_set=[(self.x_test, self.y_test)], verbose=300)\n",
        "\n",
        "      pred = model.predict(self.test)\n",
        "      val = model.predict(self.validation)\n",
        "        \n",
        " \n",
        "      print('----------------TEST EVALUATION------------------')\n",
        "      print(show_evaluation(pred, self.test_label))\n",
        "                  \n",
        "      if plot: self.plot_feat_imp(model)\n",
        "      return pred, val, model\n",
        "              \n",
        "              \n",
        "    def plot_feat_imp(self, model):\n",
        "        feat_imp = pd.Series(model.feature_importances_).sort_values(ascending=False)\n",
        "        plt.figure(figsize=(12,8))\n",
        "        feat_imp.plot(kind='bar', title='Feature Importances')\n",
        "        plt.ylabel('Feature Importance Score')"
      ],
      "execution_count": null,
      "outputs": []
    },
    {
      "cell_type": "code",
      "metadata": {
        "id": "Udunfbhj6hTY"
      },
      "source": [
        ""
      ],
      "execution_count": null,
      "outputs": []
    },
    {
      "cell_type": "code",
      "metadata": {
        "id": "WPdHdC4v_R2Q"
      },
      "source": [
        ""
      ],
      "execution_count": null,
      "outputs": []
    },
    {
      "cell_type": "code",
      "metadata": {
        "id": "gpCkFNIC-59P"
      },
      "source": [
        ""
      ],
      "execution_count": null,
      "outputs": []
    },
    {
      "cell_type": "code",
      "metadata": {
        "id": "NSMyWR8RyWR5"
      },
      "source": [
        "class Model():\n",
        "    \n",
        "    def __init__(self, train, test, validation, train_label, test_label):\n",
        "        \n",
        "        \n",
        "        self.train = train\n",
        "        self.test = test\n",
        "        self.validation = validation\n",
        "        self.train_label = train_label\n",
        "        self.test_label = test_label\n",
        "        \n",
        "    def __call__(self, plot = True):\n",
        "        return self.fit(plot)\n",
        "    \n",
        "    def fit(self, plot):\n",
        "      \n",
        "      def show_evaluation(pred, true):\n",
        "        \n",
        "        print(f'Default score: {score(true.values, pred)}')\n",
        "        print(f'Accuracy is: {accuracy_score(true, pred)}')\n",
        "        print(f'F1 is: {f1_score(pred, true.values, average=\"weighted\")}')\n",
        "\n",
        "\n",
        "      model = RandomForestClassifier(n_estimators=100, class_weight='balanced', verbose=2)\n",
        "      model.fit(self.train, self.train_label)\n",
        "\n",
        "      pred = model.predict(self.test)\n",
        "      val = model.predict(self.validation)\n",
        "        \n",
        " \n",
        "      print('----------------TEST EVALUATION------------------')\n",
        "      print(show_evaluation(pred, self.test_label))\n",
        "                  \n",
        "      if plot: self.plot_feat_imp(model)\n",
        "      return pred, val, model\n",
        "              \n",
        "              \n",
        "    def plot_feat_imp(self, model):\n",
        "        feat_imp = pd.Series(model.feature_importances_).sort_values(ascending=False)\n",
        "        plt.figure(figsize=(12,8))\n",
        "        feat_imp.plot(kind='bar', title='Feature Importances')\n",
        "        plt.ylabel('Feature Importance Score')"
      ],
      "execution_count": null,
      "outputs": []
    },
    {
      "cell_type": "code",
      "metadata": {
        "id": "PAXzPq0Hz-Zy",
        "colab": {
          "base_uri": "https://localhost:8080/",
          "height": 461
        },
        "outputId": "d6070b0a-c661-43ef-9684-c1c73ccf8674"
      },
      "source": [
        "func1_= Model(train1, validation1, validation2, ytrain1, valid1_lithology)\n",
        "pred1, val1, model1 = func1_()"
      ],
      "execution_count": null,
      "outputs": [
        {
          "output_type": "stream",
          "text": [
            "/usr/local/lib/python3.6/dist-packages/sklearn/preprocessing/_label.py:235: DataConversionWarning: A column-vector y was passed when a 1d array was expected. Please change the shape of y to (n_samples, ), for example using ravel().\n",
            "  y = column_or_1d(y, warn=True)\n",
            "/usr/local/lib/python3.6/dist-packages/sklearn/preprocessing/_label.py:268: DataConversionWarning: A column-vector y was passed when a 1d array was expected. Please change the shape of y to (n_samples, ), for example using ravel().\n",
            "  y = column_or_1d(y, warn=True)\n"
          ],
          "name": "stderr"
        },
        {
          "output_type": "stream",
          "text": [
            "[0]\tvalidation_0-mlogloss:2.44432\n",
            "Will train until validation_0-mlogloss hasn't improved in 100 rounds.\n"
          ],
          "name": "stdout"
        },
        {
          "output_type": "error",
          "ename": "KeyboardInterrupt",
          "evalue": "ignored",
          "traceback": [
            "\u001b[0;31m---------------------------------------------------------------------------\u001b[0m",
            "\u001b[0;31mKeyboardInterrupt\u001b[0m                         Traceback (most recent call last)",
            "\u001b[0;32m<ipython-input-21-a889615c011d>\u001b[0m in \u001b[0;36m<module>\u001b[0;34m()\u001b[0m\n\u001b[1;32m      1\u001b[0m \u001b[0mfunc1_\u001b[0m\u001b[0;34m=\u001b[0m \u001b[0mModel\u001b[0m\u001b[0;34m(\u001b[0m\u001b[0mtrain1\u001b[0m\u001b[0;34m,\u001b[0m \u001b[0mvalidation1\u001b[0m\u001b[0;34m,\u001b[0m \u001b[0mvalidation2\u001b[0m\u001b[0;34m,\u001b[0m \u001b[0mytrain1\u001b[0m\u001b[0;34m,\u001b[0m \u001b[0mvalid1_lithology\u001b[0m\u001b[0;34m)\u001b[0m\u001b[0;34m\u001b[0m\u001b[0;34m\u001b[0m\u001b[0m\n\u001b[0;32m----> 2\u001b[0;31m \u001b[0mpred1\u001b[0m\u001b[0;34m,\u001b[0m \u001b[0mval1\u001b[0m\u001b[0;34m,\u001b[0m \u001b[0mmodel1\u001b[0m \u001b[0;34m=\u001b[0m \u001b[0mfunc1_\u001b[0m\u001b[0;34m(\u001b[0m\u001b[0;34m)\u001b[0m\u001b[0;34m\u001b[0m\u001b[0;34m\u001b[0m\u001b[0m\n\u001b[0m",
            "\u001b[0;32m<ipython-input-20-641d8a69d673>\u001b[0m in \u001b[0;36m__call__\u001b[0;34m(self, plot)\u001b[0m\n\u001b[1;32m     11\u001b[0m \u001b[0;34m\u001b[0m\u001b[0m\n\u001b[1;32m     12\u001b[0m     \u001b[0;32mdef\u001b[0m \u001b[0m__call__\u001b[0m\u001b[0;34m(\u001b[0m\u001b[0mself\u001b[0m\u001b[0;34m,\u001b[0m \u001b[0mplot\u001b[0m \u001b[0;34m=\u001b[0m \u001b[0;32mTrue\u001b[0m\u001b[0;34m)\u001b[0m\u001b[0;34m:\u001b[0m\u001b[0;34m\u001b[0m\u001b[0;34m\u001b[0m\u001b[0m\n\u001b[0;32m---> 13\u001b[0;31m         \u001b[0;32mreturn\u001b[0m \u001b[0mself\u001b[0m\u001b[0;34m.\u001b[0m\u001b[0mfit\u001b[0m\u001b[0;34m(\u001b[0m\u001b[0mplot\u001b[0m\u001b[0;34m)\u001b[0m\u001b[0;34m\u001b[0m\u001b[0;34m\u001b[0m\u001b[0m\n\u001b[0m\u001b[1;32m     14\u001b[0m \u001b[0;34m\u001b[0m\u001b[0m\n\u001b[1;32m     15\u001b[0m     \u001b[0;32mdef\u001b[0m \u001b[0mfit\u001b[0m\u001b[0;34m(\u001b[0m\u001b[0mself\u001b[0m\u001b[0;34m,\u001b[0m \u001b[0mplot\u001b[0m\u001b[0;34m)\u001b[0m\u001b[0;34m:\u001b[0m\u001b[0;34m\u001b[0m\u001b[0;34m\u001b[0m\u001b[0m\n",
            "\u001b[0;32m<ipython-input-20-641d8a69d673>\u001b[0m in \u001b[0;36mfit\u001b[0;34m(self, plot)\u001b[0m\n\u001b[1;32m     32\u001b[0m                                  eval_metric='mlogloss')\n\u001b[1;32m     33\u001b[0m \u001b[0;34m\u001b[0m\u001b[0m\n\u001b[0;32m---> 34\u001b[0;31m       \u001b[0mmodel\u001b[0m\u001b[0;34m.\u001b[0m\u001b[0mfit\u001b[0m\u001b[0;34m(\u001b[0m\u001b[0mself\u001b[0m\u001b[0;34m.\u001b[0m\u001b[0mx_train\u001b[0m\u001b[0;34m,\u001b[0m \u001b[0mself\u001b[0m\u001b[0;34m.\u001b[0m\u001b[0my_train\u001b[0m\u001b[0;34m,\u001b[0m \u001b[0mearly_stopping_rounds\u001b[0m\u001b[0;34m=\u001b[0m\u001b[0;36m100\u001b[0m\u001b[0;34m,\u001b[0m \u001b[0meval_set\u001b[0m\u001b[0;34m=\u001b[0m\u001b[0;34m[\u001b[0m\u001b[0;34m(\u001b[0m\u001b[0mself\u001b[0m\u001b[0;34m.\u001b[0m\u001b[0mx_test\u001b[0m\u001b[0;34m,\u001b[0m \u001b[0mself\u001b[0m\u001b[0;34m.\u001b[0m\u001b[0my_test\u001b[0m\u001b[0;34m)\u001b[0m\u001b[0;34m]\u001b[0m\u001b[0;34m,\u001b[0m \u001b[0mverbose\u001b[0m\u001b[0;34m=\u001b[0m\u001b[0;36m300\u001b[0m\u001b[0;34m)\u001b[0m\u001b[0;34m\u001b[0m\u001b[0;34m\u001b[0m\u001b[0m\n\u001b[0m\u001b[1;32m     35\u001b[0m \u001b[0;34m\u001b[0m\u001b[0m\n\u001b[1;32m     36\u001b[0m       \u001b[0mpred\u001b[0m \u001b[0;34m=\u001b[0m \u001b[0mmodel\u001b[0m\u001b[0;34m.\u001b[0m\u001b[0mpredict\u001b[0m\u001b[0;34m(\u001b[0m\u001b[0mself\u001b[0m\u001b[0;34m.\u001b[0m\u001b[0mtest\u001b[0m\u001b[0;34m)\u001b[0m\u001b[0;34m\u001b[0m\u001b[0;34m\u001b[0m\u001b[0m\n",
            "\u001b[0;32m/usr/local/lib/python3.6/dist-packages/xgboost/sklearn.py\u001b[0m in \u001b[0;36mfit\u001b[0;34m(self, X, y, sample_weight, eval_set, eval_metric, early_stopping_rounds, verbose, xgb_model, sample_weight_eval_set, callbacks)\u001b[0m\n\u001b[1;32m    730\u001b[0m                               \u001b[0mevals_result\u001b[0m\u001b[0;34m=\u001b[0m\u001b[0mevals_result\u001b[0m\u001b[0;34m,\u001b[0m \u001b[0mobj\u001b[0m\u001b[0;34m=\u001b[0m\u001b[0mobj\u001b[0m\u001b[0;34m,\u001b[0m \u001b[0mfeval\u001b[0m\u001b[0;34m=\u001b[0m\u001b[0mfeval\u001b[0m\u001b[0;34m,\u001b[0m\u001b[0;34m\u001b[0m\u001b[0;34m\u001b[0m\u001b[0m\n\u001b[1;32m    731\u001b[0m                               \u001b[0mverbose_eval\u001b[0m\u001b[0;34m=\u001b[0m\u001b[0mverbose\u001b[0m\u001b[0;34m,\u001b[0m \u001b[0mxgb_model\u001b[0m\u001b[0;34m=\u001b[0m\u001b[0mxgb_model\u001b[0m\u001b[0;34m,\u001b[0m\u001b[0;34m\u001b[0m\u001b[0;34m\u001b[0m\u001b[0m\n\u001b[0;32m--> 732\u001b[0;31m                               callbacks=callbacks)\n\u001b[0m\u001b[1;32m    733\u001b[0m \u001b[0;34m\u001b[0m\u001b[0m\n\u001b[1;32m    734\u001b[0m         \u001b[0mself\u001b[0m\u001b[0;34m.\u001b[0m\u001b[0mobjective\u001b[0m \u001b[0;34m=\u001b[0m \u001b[0mxgb_options\u001b[0m\u001b[0;34m[\u001b[0m\u001b[0;34m\"objective\"\u001b[0m\u001b[0;34m]\u001b[0m\u001b[0;34m\u001b[0m\u001b[0;34m\u001b[0m\u001b[0m\n",
            "\u001b[0;32m/usr/local/lib/python3.6/dist-packages/xgboost/training.py\u001b[0m in \u001b[0;36mtrain\u001b[0;34m(params, dtrain, num_boost_round, evals, obj, feval, maximize, early_stopping_rounds, evals_result, verbose_eval, xgb_model, callbacks, learning_rates)\u001b[0m\n\u001b[1;32m    214\u001b[0m                            \u001b[0mevals\u001b[0m\u001b[0;34m=\u001b[0m\u001b[0mevals\u001b[0m\u001b[0;34m,\u001b[0m\u001b[0;34m\u001b[0m\u001b[0;34m\u001b[0m\u001b[0m\n\u001b[1;32m    215\u001b[0m                            \u001b[0mobj\u001b[0m\u001b[0;34m=\u001b[0m\u001b[0mobj\u001b[0m\u001b[0;34m,\u001b[0m \u001b[0mfeval\u001b[0m\u001b[0;34m=\u001b[0m\u001b[0mfeval\u001b[0m\u001b[0;34m,\u001b[0m\u001b[0;34m\u001b[0m\u001b[0;34m\u001b[0m\u001b[0m\n\u001b[0;32m--> 216\u001b[0;31m                            xgb_model=xgb_model, callbacks=callbacks)\n\u001b[0m\u001b[1;32m    217\u001b[0m \u001b[0;34m\u001b[0m\u001b[0m\n\u001b[1;32m    218\u001b[0m \u001b[0;34m\u001b[0m\u001b[0m\n",
            "\u001b[0;32m/usr/local/lib/python3.6/dist-packages/xgboost/training.py\u001b[0m in \u001b[0;36m_train_internal\u001b[0;34m(params, dtrain, num_boost_round, evals, obj, feval, xgb_model, callbacks)\u001b[0m\n\u001b[1;32m     72\u001b[0m         \u001b[0;31m# Skip the first update if it is a recovery step.\u001b[0m\u001b[0;34m\u001b[0m\u001b[0;34m\u001b[0m\u001b[0;34m\u001b[0m\u001b[0m\n\u001b[1;32m     73\u001b[0m         \u001b[0;32mif\u001b[0m \u001b[0mversion\u001b[0m \u001b[0;34m%\u001b[0m \u001b[0;36m2\u001b[0m \u001b[0;34m==\u001b[0m \u001b[0;36m0\u001b[0m\u001b[0;34m:\u001b[0m\u001b[0;34m\u001b[0m\u001b[0;34m\u001b[0m\u001b[0m\n\u001b[0;32m---> 74\u001b[0;31m             \u001b[0mbst\u001b[0m\u001b[0;34m.\u001b[0m\u001b[0mupdate\u001b[0m\u001b[0;34m(\u001b[0m\u001b[0mdtrain\u001b[0m\u001b[0;34m,\u001b[0m \u001b[0mi\u001b[0m\u001b[0;34m,\u001b[0m \u001b[0mobj\u001b[0m\u001b[0;34m)\u001b[0m\u001b[0;34m\u001b[0m\u001b[0;34m\u001b[0m\u001b[0m\n\u001b[0m\u001b[1;32m     75\u001b[0m             \u001b[0mbst\u001b[0m\u001b[0;34m.\u001b[0m\u001b[0msave_rabit_checkpoint\u001b[0m\u001b[0;34m(\u001b[0m\u001b[0;34m)\u001b[0m\u001b[0;34m\u001b[0m\u001b[0;34m\u001b[0m\u001b[0m\n\u001b[1;32m     76\u001b[0m             \u001b[0mversion\u001b[0m \u001b[0;34m+=\u001b[0m \u001b[0;36m1\u001b[0m\u001b[0;34m\u001b[0m\u001b[0;34m\u001b[0m\u001b[0m\n",
            "\u001b[0;32m/usr/local/lib/python3.6/dist-packages/xgboost/core.py\u001b[0m in \u001b[0;36mupdate\u001b[0;34m(self, dtrain, iteration, fobj)\u001b[0m\n\u001b[1;32m   1107\u001b[0m         \u001b[0;32mif\u001b[0m \u001b[0mfobj\u001b[0m \u001b[0;32mis\u001b[0m \u001b[0;32mNone\u001b[0m\u001b[0;34m:\u001b[0m\u001b[0;34m\u001b[0m\u001b[0;34m\u001b[0m\u001b[0m\n\u001b[1;32m   1108\u001b[0m             _check_call(_LIB.XGBoosterUpdateOneIter(self.handle, ctypes.c_int(iteration),\n\u001b[0;32m-> 1109\u001b[0;31m                                                     dtrain.handle))\n\u001b[0m\u001b[1;32m   1110\u001b[0m         \u001b[0;32melse\u001b[0m\u001b[0;34m:\u001b[0m\u001b[0;34m\u001b[0m\u001b[0;34m\u001b[0m\u001b[0m\n\u001b[1;32m   1111\u001b[0m             \u001b[0mpred\u001b[0m \u001b[0;34m=\u001b[0m \u001b[0mself\u001b[0m\u001b[0;34m.\u001b[0m\u001b[0mpredict\u001b[0m\u001b[0;34m(\u001b[0m\u001b[0mdtrain\u001b[0m\u001b[0;34m)\u001b[0m\u001b[0;34m\u001b[0m\u001b[0;34m\u001b[0m\u001b[0m\n",
            "\u001b[0;31mKeyboardInterrupt\u001b[0m: "
          ]
        }
      ]
    },
    {
      "cell_type": "code",
      "metadata": {
        "id": "T7u3R8OF0JER",
        "colab": {
          "base_uri": "https://localhost:8080/",
          "height": 1000
        },
        "outputId": "3e37f572-aa2b-4b3a-ec74-720ec91ea3a4"
      },
      "source": [
        "func2_= Model(train2, validation1, validation2, ytrain2, valid1_lithology)\n",
        "pred2, val2, model2 = func2_()"
      ],
      "execution_count": null,
      "outputs": [
        {
          "output_type": "stream",
          "text": [
            "[Parallel(n_jobs=1)]: Using backend SequentialBackend with 1 concurrent workers.\n"
          ],
          "name": "stderr"
        },
        {
          "output_type": "stream",
          "text": [
            "building tree 1 of 100\n"
          ],
          "name": "stdout"
        },
        {
          "output_type": "stream",
          "text": [
            "[Parallel(n_jobs=1)]: Done   1 out of   1 | elapsed:    0.5s remaining:    0.0s\n"
          ],
          "name": "stderr"
        },
        {
          "output_type": "stream",
          "text": [
            "building tree 2 of 100\n",
            "building tree 3 of 100\n",
            "building tree 4 of 100\n",
            "building tree 5 of 100\n",
            "building tree 6 of 100\n",
            "building tree 7 of 100\n",
            "building tree 8 of 100\n",
            "building tree 9 of 100\n",
            "building tree 10 of 100\n",
            "building tree 11 of 100\n",
            "building tree 12 of 100\n",
            "building tree 13 of 100\n",
            "building tree 14 of 100\n",
            "building tree 15 of 100\n",
            "building tree 16 of 100\n",
            "building tree 17 of 100\n",
            "building tree 18 of 100\n",
            "building tree 19 of 100\n",
            "building tree 20 of 100\n",
            "building tree 21 of 100\n",
            "building tree 22 of 100\n",
            "building tree 23 of 100\n",
            "building tree 24 of 100\n",
            "building tree 25 of 100\n",
            "building tree 26 of 100\n",
            "building tree 27 of 100\n",
            "building tree 28 of 100\n",
            "building tree 29 of 100\n",
            "building tree 30 of 100\n",
            "building tree 31 of 100\n",
            "building tree 32 of 100\n",
            "building tree 33 of 100\n",
            "building tree 34 of 100\n",
            "building tree 35 of 100\n",
            "building tree 36 of 100\n",
            "building tree 37 of 100\n",
            "building tree 38 of 100\n",
            "building tree 39 of 100\n",
            "building tree 40 of 100\n",
            "building tree 41 of 100\n",
            "building tree 42 of 100\n",
            "building tree 43 of 100\n",
            "building tree 44 of 100\n",
            "building tree 45 of 100\n",
            "building tree 46 of 100\n",
            "building tree 47 of 100\n",
            "building tree 48 of 100\n",
            "building tree 49 of 100\n",
            "building tree 50 of 100\n",
            "building tree 51 of 100\n",
            "building tree 52 of 100\n",
            "building tree 53 of 100\n",
            "building tree 54 of 100\n",
            "building tree 55 of 100\n",
            "building tree 56 of 100\n",
            "building tree 57 of 100\n",
            "building tree 58 of 100\n",
            "building tree 59 of 100\n",
            "building tree 60 of 100\n",
            "building tree 61 of 100\n",
            "building tree 62 of 100\n",
            "building tree 63 of 100\n",
            "building tree 64 of 100\n",
            "building tree 65 of 100\n",
            "building tree 66 of 100\n",
            "building tree 67 of 100\n",
            "building tree 68 of 100\n",
            "building tree 69 of 100\n",
            "building tree 70 of 100\n",
            "building tree 71 of 100\n",
            "building tree 72 of 100\n",
            "building tree 73 of 100\n",
            "building tree 74 of 100\n",
            "building tree 75 of 100\n",
            "building tree 76 of 100\n",
            "building tree 77 of 100\n",
            "building tree 78 of 100\n",
            "building tree 79 of 100\n",
            "building tree 80 of 100\n",
            "building tree 81 of 100\n",
            "building tree 82 of 100\n",
            "building tree 83 of 100\n",
            "building tree 84 of 100\n",
            "building tree 85 of 100\n",
            "building tree 86 of 100\n",
            "building tree 87 of 100\n",
            "building tree 88 of 100\n",
            "building tree 89 of 100\n",
            "building tree 90 of 100\n",
            "building tree 91 of 100\n",
            "building tree 92 of 100\n",
            "building tree 93 of 100\n",
            "building tree 94 of 100\n",
            "building tree 95 of 100\n",
            "building tree 96 of 100\n",
            "building tree 97 of 100\n",
            "building tree 98 of 100\n",
            "building tree 99 of 100\n",
            "building tree 100 of 100\n"
          ],
          "name": "stdout"
        },
        {
          "output_type": "stream",
          "text": [
            "[Parallel(n_jobs=1)]: Done 100 out of 100 | elapsed:   53.0s finished\n",
            "[Parallel(n_jobs=1)]: Using backend SequentialBackend with 1 concurrent workers.\n",
            "[Parallel(n_jobs=1)]: Done   1 out of   1 | elapsed:    0.0s remaining:    0.0s\n",
            "[Parallel(n_jobs=1)]: Done 100 out of 100 | elapsed:    1.4s finished\n",
            "[Parallel(n_jobs=1)]: Using backend SequentialBackend with 1 concurrent workers.\n",
            "[Parallel(n_jobs=1)]: Done   1 out of   1 | elapsed:    0.0s remaining:    0.0s\n",
            "[Parallel(n_jobs=1)]: Done 100 out of 100 | elapsed:    1.3s finished\n"
          ],
          "name": "stderr"
        },
        {
          "output_type": "stream",
          "text": [
            "----------------TEST EVALUATION------------------\n",
            "Default score: -0.7252778024493985\n",
            "Accuracy is: 0.7394479478145878\n",
            "F1 is: 0.7901025777140493\n",
            "None\n"
          ],
          "name": "stdout"
        },
        {
          "output_type": "display_data",
          "data": {
            "image/png": "[encoded data removed]",
            "text/plain": [
              "<Figure size 864x576 with 1 Axes>"
            ]
          },
          "metadata": {
            "tags": [],
            "needs_background": "light"
          }
        }
      ]
    },
    {
      "cell_type": "code",
      "metadata": {
        "id": "6Orn-0G50lNe",
        "colab": {
          "base_uri": "https://localhost:8080/",
          "height": 1000
        },
        "outputId": "a1a1216d-b17a-4e0e-e917-59305b023379"
      },
      "source": [
        "func3_= Model(train3, validation1, validation2, ytrain3, valid1_lithology)\n",
        "pred3, val3, model3 = func3_()"
      ],
      "execution_count": null,
      "outputs": [
        {
          "output_type": "stream",
          "text": [
            "[Parallel(n_jobs=1)]: Using backend SequentialBackend with 1 concurrent workers.\n"
          ],
          "name": "stderr"
        },
        {
          "output_type": "stream",
          "text": [
            "building tree 1 of 100\n"
          ],
          "name": "stdout"
        },
        {
          "output_type": "stream",
          "text": [
            "[Parallel(n_jobs=1)]: Done   1 out of   1 | elapsed:    0.5s remaining:    0.0s\n"
          ],
          "name": "stderr"
        },
        {
          "output_type": "stream",
          "text": [
            "building tree 2 of 100\n",
            "building tree 3 of 100\n",
            "building tree 4 of 100\n",
            "building tree 5 of 100\n",
            "building tree 6 of 100\n",
            "building tree 7 of 100\n",
            "building tree 8 of 100\n",
            "building tree 9 of 100\n",
            "building tree 10 of 100\n",
            "building tree 11 of 100\n",
            "building tree 12 of 100\n",
            "building tree 13 of 100\n",
            "building tree 14 of 100\n",
            "building tree 15 of 100\n",
            "building tree 16 of 100\n",
            "building tree 17 of 100\n",
            "building tree 18 of 100\n",
            "building tree 19 of 100\n",
            "building tree 20 of 100\n",
            "building tree 21 of 100\n",
            "building tree 22 of 100\n",
            "building tree 23 of 100\n",
            "building tree 24 of 100\n",
            "building tree 25 of 100\n",
            "building tree 26 of 100\n",
            "building tree 27 of 100\n",
            "building tree 28 of 100\n",
            "building tree 29 of 100\n",
            "building tree 30 of 100\n",
            "building tree 31 of 100\n",
            "building tree 32 of 100\n",
            "building tree 33 of 100\n",
            "building tree 34 of 100\n",
            "building tree 35 of 100\n",
            "building tree 36 of 100\n",
            "building tree 37 of 100\n",
            "building tree 38 of 100\n",
            "building tree 39 of 100\n",
            "building tree 40 of 100\n",
            "building tree 41 of 100\n",
            "building tree 42 of 100\n",
            "building tree 43 of 100\n",
            "building tree 44 of 100\n",
            "building tree 45 of 100\n",
            "building tree 46 of 100\n",
            "building tree 47 of 100\n",
            "building tree 48 of 100\n",
            "building tree 49 of 100\n",
            "building tree 50 of 100\n",
            "building tree 51 of 100\n",
            "building tree 52 of 100\n",
            "building tree 53 of 100\n",
            "building tree 54 of 100\n",
            "building tree 55 of 100\n",
            "building tree 56 of 100\n",
            "building tree 57 of 100\n",
            "building tree 58 of 100\n",
            "building tree 59 of 100\n",
            "building tree 60 of 100\n",
            "building tree 61 of 100\n",
            "building tree 62 of 100\n",
            "building tree 63 of 100\n",
            "building tree 64 of 100\n",
            "building tree 65 of 100\n",
            "building tree 66 of 100\n",
            "building tree 67 of 100\n",
            "building tree 68 of 100\n",
            "building tree 69 of 100\n",
            "building tree 70 of 100\n",
            "building tree 71 of 100\n",
            "building tree 72 of 100\n",
            "building tree 73 of 100\n",
            "building tree 74 of 100\n",
            "building tree 75 of 100\n",
            "building tree 76 of 100\n",
            "building tree 77 of 100\n",
            "building tree 78 of 100\n",
            "building tree 79 of 100\n",
            "building tree 80 of 100\n",
            "building tree 81 of 100\n",
            "building tree 82 of 100\n",
            "building tree 83 of 100\n",
            "building tree 84 of 100\n",
            "building tree 85 of 100\n",
            "building tree 86 of 100\n",
            "building tree 87 of 100\n",
            "building tree 88 of 100\n",
            "building tree 89 of 100\n",
            "building tree 90 of 100\n",
            "building tree 91 of 100\n",
            "building tree 92 of 100\n",
            "building tree 93 of 100\n",
            "building tree 94 of 100\n",
            "building tree 95 of 100\n",
            "building tree 96 of 100\n",
            "building tree 97 of 100\n",
            "building tree 98 of 100\n",
            "building tree 99 of 100\n",
            "building tree 100 of 100\n"
          ],
          "name": "stdout"
        },
        {
          "output_type": "stream",
          "text": [
            "[Parallel(n_jobs=1)]: Done 100 out of 100 | elapsed:   54.0s finished\n",
            "[Parallel(n_jobs=1)]: Using backend SequentialBackend with 1 concurrent workers.\n",
            "[Parallel(n_jobs=1)]: Done   1 out of   1 | elapsed:    0.0s remaining:    0.0s\n",
            "[Parallel(n_jobs=1)]: Done 100 out of 100 | elapsed:    1.4s finished\n",
            "[Parallel(n_jobs=1)]: Using backend SequentialBackend with 1 concurrent workers.\n",
            "[Parallel(n_jobs=1)]: Done   1 out of   1 | elapsed:    0.0s remaining:    0.0s\n",
            "[Parallel(n_jobs=1)]: Done 100 out of 100 | elapsed:    1.3s finished\n"
          ],
          "name": "stderr"
        },
        {
          "output_type": "stream",
          "text": [
            "----------------TEST EVALUATION------------------\n",
            "Default score: -0.6948453582812762\n",
            "Accuracy is: 0.7521587668137095\n",
            "F1 is: 0.7884052305212116\n",
            "None\n"
          ],
          "name": "stdout"
        },
        {
          "output_type": "display_data",
          "data": {
            "image/png": "[encoded data removed]",
            "text/plain": [
              "<Figure size 864x576 with 1 Axes>"
            ]
          },
          "metadata": {
            "tags": [],
            "needs_background": "light"
          }
        }
      ]
    },
    {
      "cell_type": "code",
      "metadata": {
        "id": "XCktM2Cy0rDv",
        "colab": {
          "base_uri": "https://localhost:8080/",
          "height": 1000
        },
        "outputId": "67b2d550-16b5-443f-ed7d-b0b48e8efb38"
      },
      "source": [
        "func4_= Model(train4, validation1, validation2, ytrain4, valid1_lithology)\n",
        "pred4, val4, model4 = func4_()"
      ],
      "execution_count": null,
      "outputs": [
        {
          "output_type": "stream",
          "text": [
            "[Parallel(n_jobs=1)]: Using backend SequentialBackend with 1 concurrent workers.\n"
          ],
          "name": "stderr"
        },
        {
          "output_type": "stream",
          "text": [
            "building tree 1 of 100\n"
          ],
          "name": "stdout"
        },
        {
          "output_type": "stream",
          "text": [
            "[Parallel(n_jobs=1)]: Done   1 out of   1 | elapsed:    0.5s remaining:    0.0s\n"
          ],
          "name": "stderr"
        },
        {
          "output_type": "stream",
          "text": [
            "building tree 2 of 100\n",
            "building tree 3 of 100\n",
            "building tree 4 of 100\n",
            "building tree 5 of 100\n",
            "building tree 6 of 100\n",
            "building tree 7 of 100\n",
            "building tree 8 of 100\n",
            "building tree 9 of 100\n",
            "building tree 10 of 100\n",
            "building tree 11 of 100\n",
            "building tree 12 of 100\n",
            "building tree 13 of 100\n",
            "building tree 14 of 100\n",
            "building tree 15 of 100\n",
            "building tree 16 of 100\n",
            "building tree 17 of 100\n",
            "building tree 18 of 100\n",
            "building tree 19 of 100\n",
            "building tree 20 of 100\n",
            "building tree 21 of 100\n",
            "building tree 22 of 100\n",
            "building tree 23 of 100\n",
            "building tree 24 of 100\n",
            "building tree 25 of 100\n",
            "building tree 26 of 100\n",
            "building tree 27 of 100\n",
            "building tree 28 of 100\n",
            "building tree 29 of 100\n",
            "building tree 30 of 100\n",
            "building tree 31 of 100\n",
            "building tree 32 of 100\n",
            "building tree 33 of 100\n",
            "building tree 34 of 100\n",
            "building tree 35 of 100\n",
            "building tree 36 of 100\n",
            "building tree 37 of 100\n",
            "building tree 38 of 100\n",
            "building tree 39 of 100\n",
            "building tree 40 of 100\n",
            "building tree 41 of 100\n",
            "building tree 42 of 100\n",
            "building tree 43 of 100\n",
            "building tree 44 of 100\n",
            "building tree 45 of 100\n",
            "building tree 46 of 100\n",
            "building tree 47 of 100\n",
            "building tree 48 of 100\n",
            "building tree 49 of 100\n",
            "building tree 50 of 100\n",
            "building tree 51 of 100\n",
            "building tree 52 of 100\n",
            "building tree 53 of 100\n",
            "building tree 54 of 100\n",
            "building tree 55 of 100\n",
            "building tree 56 of 100\n",
            "building tree 57 of 100\n",
            "building tree 58 of 100\n",
            "building tree 59 of 100\n",
            "building tree 60 of 100\n",
            "building tree 61 of 100\n",
            "building tree 62 of 100\n",
            "building tree 63 of 100\n",
            "building tree 64 of 100\n",
            "building tree 65 of 100\n",
            "building tree 66 of 100\n",
            "building tree 67 of 100\n",
            "building tree 68 of 100\n",
            "building tree 69 of 100\n",
            "building tree 70 of 100\n",
            "building tree 71 of 100\n",
            "building tree 72 of 100\n",
            "building tree 73 of 100\n",
            "building tree 74 of 100\n",
            "building tree 75 of 100\n",
            "building tree 76 of 100\n",
            "building tree 77 of 100\n",
            "building tree 78 of 100\n",
            "building tree 79 of 100\n",
            "building tree 80 of 100\n",
            "building tree 81 of 100\n",
            "building tree 82 of 100\n",
            "building tree 83 of 100\n",
            "building tree 84 of 100\n",
            "building tree 85 of 100\n",
            "building tree 86 of 100\n",
            "building tree 87 of 100\n",
            "building tree 88 of 100\n",
            "building tree 89 of 100\n",
            "building tree 90 of 100\n",
            "building tree 91 of 100\n",
            "building tree 92 of 100\n",
            "building tree 93 of 100\n",
            "building tree 94 of 100\n",
            "building tree 95 of 100\n",
            "building tree 96 of 100\n",
            "building tree 97 of 100\n",
            "building tree 98 of 100\n",
            "building tree 99 of 100\n",
            "building tree 100 of 100\n"
          ],
          "name": "stdout"
        },
        {
          "output_type": "stream",
          "text": [
            "[Parallel(n_jobs=1)]: Done 100 out of 100 | elapsed:   53.3s finished\n",
            "[Parallel(n_jobs=1)]: Using backend SequentialBackend with 1 concurrent workers.\n",
            "[Parallel(n_jobs=1)]: Done   1 out of   1 | elapsed:    0.0s remaining:    0.0s\n",
            "[Parallel(n_jobs=1)]: Done 100 out of 100 | elapsed:    1.4s finished\n",
            "[Parallel(n_jobs=1)]: Using backend SequentialBackend with 1 concurrent workers.\n",
            "[Parallel(n_jobs=1)]: Done   1 out of   1 | elapsed:    0.0s remaining:    0.0s\n",
            "[Parallel(n_jobs=1)]: Done 100 out of 100 | elapsed:    1.3s finished\n"
          ],
          "name": "stderr"
        },
        {
          "output_type": "stream",
          "text": [
            "----------------TEST EVALUATION------------------\n",
            "Default score: -0.7137758928659541\n",
            "Accuracy is: 0.7437802844144438\n",
            "F1 is: 0.7867610319012607\n",
            "None\n"
          ],
          "name": "stdout"
        },
        {
          "output_type": "display_data",
          "data": {
            "image/png": "[encoded data removed]",
            "text/plain": [
              "<Figure size 864x576 with 1 Axes>"
            ]
          },
          "metadata": {
            "tags": [],
            "needs_background": "light"
          }
        }
      ]
    },
    {
      "cell_type": "code",
      "metadata": {
        "id": "rd6JJQA40rXN",
        "colab": {
          "base_uri": "https://localhost:8080/",
          "height": 1000
        },
        "outputId": "947994ce-7296-4a2a-83a0-976e47e1ff5a"
      },
      "source": [
        "func5_= Model(train5, validation1, validation2, ytrain5, valid1_lithology)\n",
        "pred5, val5, model5 = func5_()"
      ],
      "execution_count": null,
      "outputs": [
        {
          "output_type": "stream",
          "text": [
            "[Parallel(n_jobs=1)]: Using backend SequentialBackend with 1 concurrent workers.\n"
          ],
          "name": "stderr"
        },
        {
          "output_type": "stream",
          "text": [
            "building tree 1 of 100\n"
          ],
          "name": "stdout"
        },
        {
          "output_type": "stream",
          "text": [
            "[Parallel(n_jobs=1)]: Done   1 out of   1 | elapsed:    0.5s remaining:    0.0s\n"
          ],
          "name": "stderr"
        },
        {
          "output_type": "stream",
          "text": [
            "building tree 2 of 100\n",
            "building tree 3 of 100\n",
            "building tree 4 of 100\n",
            "building tree 5 of 100\n",
            "building tree 6 of 100\n",
            "building tree 7 of 100\n",
            "building tree 8 of 100\n",
            "building tree 9 of 100\n",
            "building tree 10 of 100\n",
            "building tree 11 of 100\n",
            "building tree 12 of 100\n",
            "building tree 13 of 100\n",
            "building tree 14 of 100\n",
            "building tree 15 of 100\n",
            "building tree 16 of 100\n",
            "building tree 17 of 100\n",
            "building tree 18 of 100\n",
            "building tree 19 of 100\n",
            "building tree 20 of 100\n",
            "building tree 21 of 100\n",
            "building tree 22 of 100\n",
            "building tree 23 of 100\n",
            "building tree 24 of 100\n",
            "building tree 25 of 100\n",
            "building tree 26 of 100\n",
            "building tree 27 of 100\n",
            "building tree 28 of 100\n",
            "building tree 29 of 100\n",
            "building tree 30 of 100\n",
            "building tree 31 of 100\n",
            "building tree 32 of 100\n",
            "building tree 33 of 100\n",
            "building tree 34 of 100\n",
            "building tree 35 of 100\n",
            "building tree 36 of 100\n",
            "building tree 37 of 100\n",
            "building tree 38 of 100\n",
            "building tree 39 of 100\n",
            "building tree 40 of 100\n",
            "building tree 41 of 100\n",
            "building tree 42 of 100\n",
            "building tree 43 of 100\n",
            "building tree 44 of 100\n",
            "building tree 45 of 100\n",
            "building tree 46 of 100\n",
            "building tree 47 of 100\n",
            "building tree 48 of 100\n",
            "building tree 49 of 100\n",
            "building tree 50 of 100\n",
            "building tree 51 of 100\n",
            "building tree 52 of 100\n",
            "building tree 53 of 100\n",
            "building tree 54 of 100\n",
            "building tree 55 of 100\n",
            "building tree 56 of 100\n",
            "building tree 57 of 100\n",
            "building tree 58 of 100\n",
            "building tree 59 of 100\n",
            "building tree 60 of 100\n",
            "building tree 61 of 100\n",
            "building tree 62 of 100\n",
            "building tree 63 of 100\n",
            "building tree 64 of 100\n",
            "building tree 65 of 100\n",
            "building tree 66 of 100\n",
            "building tree 67 of 100\n",
            "building tree 68 of 100\n",
            "building tree 69 of 100\n",
            "building tree 70 of 100\n",
            "building tree 71 of 100\n",
            "building tree 72 of 100\n",
            "building tree 73 of 100\n",
            "building tree 74 of 100\n",
            "building tree 75 of 100\n",
            "building tree 76 of 100\n",
            "building tree 77 of 100\n",
            "building tree 78 of 100\n",
            "building tree 79 of 100\n",
            "building tree 80 of 100\n",
            "building tree 81 of 100\n",
            "building tree 82 of 100\n",
            "building tree 83 of 100\n",
            "building tree 84 of 100\n",
            "building tree 85 of 100\n",
            "building tree 86 of 100\n",
            "building tree 87 of 100\n",
            "building tree 88 of 100\n",
            "building tree 89 of 100\n",
            "building tree 90 of 100\n",
            "building tree 91 of 100\n",
            "building tree 92 of 100\n",
            "building tree 93 of 100\n",
            "building tree 94 of 100\n",
            "building tree 95 of 100\n",
            "building tree 96 of 100\n",
            "building tree 97 of 100\n",
            "building tree 98 of 100\n",
            "building tree 99 of 100\n",
            "building tree 100 of 100\n"
          ],
          "name": "stdout"
        },
        {
          "output_type": "stream",
          "text": [
            "[Parallel(n_jobs=1)]: Done 100 out of 100 | elapsed:   53.5s finished\n",
            "[Parallel(n_jobs=1)]: Using backend SequentialBackend with 1 concurrent workers.\n",
            "[Parallel(n_jobs=1)]: Done   1 out of   1 | elapsed:    0.0s remaining:    0.0s\n",
            "[Parallel(n_jobs=1)]: Done 100 out of 100 | elapsed:    1.4s finished\n",
            "[Parallel(n_jobs=1)]: Using backend SequentialBackend with 1 concurrent workers.\n",
            "[Parallel(n_jobs=1)]: Done   1 out of   1 | elapsed:    0.0s remaining:    0.0s\n",
            "[Parallel(n_jobs=1)]: Done 100 out of 100 | elapsed:    1.3s finished\n"
          ],
          "name": "stderr"
        },
        {
          "output_type": "stream",
          "text": [
            "----------------TEST EVALUATION------------------\n",
            "Default score: -0.6811809811410131\n",
            "Accuracy is: 0.7508067619978092\n",
            "F1 is: 0.8016087632022063\n",
            "None\n"
          ],
          "name": "stdout"
        },
        {
          "output_type": "display_data",
          "data": {
            "image/png": "[encoded data removed]",
            "text/plain": [
              "<Figure size 864x576 with 1 Axes>"
            ]
          },
          "metadata": {
            "tags": [],
            "needs_background": "light"
          }
        }
      ]
    },
    {
      "cell_type": "code",
      "metadata": {
        "id": "jm8Qe3m_0rlO",
        "colab": {
          "base_uri": "https://localhost:8080/",
          "height": 1000
        },
        "outputId": "c45f20a7-e1f8-421b-a5b7-530d5b7ee0ba"
      },
      "source": [
        "func6_= Model(train6, validation1, validation2, ytrain6, valid1_lithology)\n",
        "pred6, val6, model6 = func6_()"
      ],
      "execution_count": null,
      "outputs": [
        {
          "output_type": "stream",
          "text": [
            "[Parallel(n_jobs=1)]: Using backend SequentialBackend with 1 concurrent workers.\n"
          ],
          "name": "stderr"
        },
        {
          "output_type": "stream",
          "text": [
            "building tree 1 of 100\n"
          ],
          "name": "stdout"
        },
        {
          "output_type": "stream",
          "text": [
            "[Parallel(n_jobs=1)]: Done   1 out of   1 | elapsed:    0.5s remaining:    0.0s\n"
          ],
          "name": "stderr"
        },
        {
          "output_type": "stream",
          "text": [
            "building tree 2 of 100\n",
            "building tree 3 of 100\n",
            "building tree 4 of 100\n",
            "building tree 5 of 100\n",
            "building tree 6 of 100\n",
            "building tree 7 of 100\n",
            "building tree 8 of 100\n",
            "building tree 9 of 100\n",
            "building tree 10 of 100\n",
            "building tree 11 of 100\n",
            "building tree 12 of 100\n",
            "building tree 13 of 100\n",
            "building tree 14 of 100\n",
            "building tree 15 of 100\n",
            "building tree 16 of 100\n",
            "building tree 17 of 100\n",
            "building tree 18 of 100\n",
            "building tree 19 of 100\n",
            "building tree 20 of 100\n",
            "building tree 21 of 100\n",
            "building tree 22 of 100\n",
            "building tree 23 of 100\n",
            "building tree 24 of 100\n",
            "building tree 25 of 100\n",
            "building tree 26 of 100\n",
            "building tree 27 of 100\n",
            "building tree 28 of 100\n",
            "building tree 29 of 100\n",
            "building tree 30 of 100\n",
            "building tree 31 of 100\n",
            "building tree 32 of 100\n",
            "building tree 33 of 100\n",
            "building tree 34 of 100\n",
            "building tree 35 of 100\n",
            "building tree 36 of 100\n",
            "building tree 37 of 100\n",
            "building tree 38 of 100\n",
            "building tree 39 of 100\n",
            "building tree 40 of 100\n",
            "building tree 41 of 100\n",
            "building tree 42 of 100\n",
            "building tree 43 of 100\n",
            "building tree 44 of 100\n",
            "building tree 45 of 100\n",
            "building tree 46 of 100\n",
            "building tree 47 of 100\n",
            "building tree 48 of 100\n",
            "building tree 49 of 100\n",
            "building tree 50 of 100\n",
            "building tree 51 of 100\n",
            "building tree 52 of 100\n",
            "building tree 53 of 100\n",
            "building tree 54 of 100\n",
            "building tree 55 of 100\n",
            "building tree 56 of 100\n",
            "building tree 57 of 100\n",
            "building tree 58 of 100\n",
            "building tree 59 of 100\n",
            "building tree 60 of 100\n",
            "building tree 61 of 100\n",
            "building tree 62 of 100\n",
            "building tree 63 of 100\n",
            "building tree 64 of 100\n",
            "building tree 65 of 100\n",
            "building tree 66 of 100\n",
            "building tree 67 of 100\n",
            "building tree 68 of 100\n",
            "building tree 69 of 100\n",
            "building tree 70 of 100\n",
            "building tree 71 of 100\n",
            "building tree 72 of 100\n",
            "building tree 73 of 100\n",
            "building tree 74 of 100\n",
            "building tree 75 of 100\n",
            "building tree 76 of 100\n",
            "building tree 77 of 100\n",
            "building tree 78 of 100\n",
            "building tree 79 of 100\n",
            "building tree 80 of 100\n",
            "building tree 81 of 100\n",
            "building tree 82 of 100\n",
            "building tree 83 of 100\n",
            "building tree 84 of 100\n",
            "building tree 85 of 100\n",
            "building tree 86 of 100\n",
            "building tree 87 of 100\n",
            "building tree 88 of 100\n",
            "building tree 89 of 100\n",
            "building tree 90 of 100\n",
            "building tree 91 of 100\n",
            "building tree 92 of 100\n",
            "building tree 93 of 100\n",
            "building tree 94 of 100\n",
            "building tree 95 of 100\n",
            "building tree 96 of 100\n",
            "building tree 97 of 100\n",
            "building tree 98 of 100\n",
            "building tree 99 of 100\n",
            "building tree 100 of 100\n"
          ],
          "name": "stdout"
        },
        {
          "output_type": "stream",
          "text": [
            "[Parallel(n_jobs=1)]: Done 100 out of 100 | elapsed:   53.9s finished\n",
            "[Parallel(n_jobs=1)]: Using backend SequentialBackend with 1 concurrent workers.\n",
            "[Parallel(n_jobs=1)]: Done   1 out of   1 | elapsed:    0.0s remaining:    0.0s\n",
            "[Parallel(n_jobs=1)]: Done 100 out of 100 | elapsed:    1.4s finished\n",
            "[Parallel(n_jobs=1)]: Using backend SequentialBackend with 1 concurrent workers.\n",
            "[Parallel(n_jobs=1)]: Done   1 out of   1 | elapsed:    0.0s remaining:    0.0s\n",
            "[Parallel(n_jobs=1)]: Done 100 out of 100 | elapsed:    1.3s finished\n"
          ],
          "name": "stderr"
        },
        {
          "output_type": "stream",
          "text": [
            "----------------TEST EVALUATION------------------\n",
            "Default score: -0.665167865707434\n",
            "Accuracy is: 0.7588497103551727\n",
            "F1 is: 0.8024738748980553\n",
            "None\n"
          ],
          "name": "stdout"
        },
        {
          "output_type": "display_data",
          "data": {
            "image/png": "[encoded data removed]",
            "text/plain": [
              "<Figure size 864x576 with 1 Axes>"
            ]
          },
          "metadata": {
            "tags": [],
            "needs_background": "light"
          }
        }
      ]
    },
    {
      "cell_type": "code",
      "metadata": {
        "id": "x5ennHNW0rym",
        "colab": {
          "base_uri": "https://localhost:8080/",
          "height": 1000
        },
        "outputId": "648bc4fc-6b45-488a-f4a3-6b57977e9e67"
      },
      "source": [
        "func7_= Model(train7, validation1, validation2, ytrain7, valid1_lithology)\n",
        "pred7, val7, model7 = func7_()"
      ],
      "execution_count": null,
      "outputs": [
        {
          "output_type": "stream",
          "text": [
            "[Parallel(n_jobs=1)]: Using backend SequentialBackend with 1 concurrent workers.\n"
          ],
          "name": "stderr"
        },
        {
          "output_type": "stream",
          "text": [
            "building tree 1 of 100\n"
          ],
          "name": "stdout"
        },
        {
          "output_type": "stream",
          "text": [
            "[Parallel(n_jobs=1)]: Done   1 out of   1 | elapsed:    0.5s remaining:    0.0s\n"
          ],
          "name": "stderr"
        },
        {
          "output_type": "stream",
          "text": [
            "building tree 2 of 100\n",
            "building tree 3 of 100\n",
            "building tree 4 of 100\n",
            "building tree 5 of 100\n",
            "building tree 6 of 100\n",
            "building tree 7 of 100\n",
            "building tree 8 of 100\n",
            "building tree 9 of 100\n",
            "building tree 10 of 100\n",
            "building tree 11 of 100\n",
            "building tree 12 of 100\n",
            "building tree 13 of 100\n",
            "building tree 14 of 100\n",
            "building tree 15 of 100\n",
            "building tree 16 of 100\n",
            "building tree 17 of 100\n",
            "building tree 18 of 100\n",
            "building tree 19 of 100\n",
            "building tree 20 of 100\n",
            "building tree 21 of 100\n",
            "building tree 22 of 100\n",
            "building tree 23 of 100\n",
            "building tree 24 of 100\n",
            "building tree 25 of 100\n",
            "building tree 26 of 100\n",
            "building tree 27 of 100\n",
            "building tree 28 of 100\n",
            "building tree 29 of 100\n",
            "building tree 30 of 100\n",
            "building tree 31 of 100\n",
            "building tree 32 of 100\n",
            "building tree 33 of 100\n",
            "building tree 34 of 100\n",
            "building tree 35 of 100\n",
            "building tree 36 of 100\n",
            "building tree 37 of 100\n",
            "building tree 38 of 100\n",
            "building tree 39 of 100\n",
            "building tree 40 of 100\n",
            "building tree 41 of 100\n",
            "building tree 42 of 100\n",
            "building tree 43 of 100\n",
            "building tree 44 of 100\n",
            "building tree 45 of 100\n",
            "building tree 46 of 100\n",
            "building tree 47 of 100\n",
            "building tree 48 of 100\n",
            "building tree 49 of 100\n",
            "building tree 50 of 100\n",
            "building tree 51 of 100\n",
            "building tree 52 of 100\n",
            "building tree 53 of 100\n",
            "building tree 54 of 100\n",
            "building tree 55 of 100\n",
            "building tree 56 of 100\n",
            "building tree 57 of 100\n",
            "building tree 58 of 100\n",
            "building tree 59 of 100\n",
            "building tree 60 of 100\n",
            "building tree 61 of 100\n",
            "building tree 62 of 100\n",
            "building tree 63 of 100\n",
            "building tree 64 of 100\n",
            "building tree 65 of 100\n",
            "building tree 66 of 100\n",
            "building tree 67 of 100\n",
            "building tree 68 of 100\n",
            "building tree 69 of 100\n",
            "building tree 70 of 100\n",
            "building tree 71 of 100\n",
            "building tree 72 of 100\n",
            "building tree 73 of 100\n",
            "building tree 74 of 100\n",
            "building tree 75 of 100\n",
            "building tree 76 of 100\n",
            "building tree 77 of 100\n",
            "building tree 78 of 100\n",
            "building tree 79 of 100\n",
            "building tree 80 of 100\n",
            "building tree 81 of 100\n",
            "building tree 82 of 100\n",
            "building tree 83 of 100\n",
            "building tree 84 of 100\n",
            "building tree 85 of 100\n",
            "building tree 86 of 100\n",
            "building tree 87 of 100\n",
            "building tree 88 of 100\n",
            "building tree 89 of 100\n",
            "building tree 90 of 100\n",
            "building tree 91 of 100\n",
            "building tree 92 of 100\n",
            "building tree 93 of 100\n",
            "building tree 94 of 100\n",
            "building tree 95 of 100\n",
            "building tree 96 of 100\n",
            "building tree 97 of 100\n",
            "building tree 98 of 100\n",
            "building tree 99 of 100\n",
            "building tree 100 of 100\n"
          ],
          "name": "stdout"
        },
        {
          "output_type": "stream",
          "text": [
            "[Parallel(n_jobs=1)]: Done 100 out of 100 | elapsed:   53.6s finished\n",
            "[Parallel(n_jobs=1)]: Using backend SequentialBackend with 1 concurrent workers.\n",
            "[Parallel(n_jobs=1)]: Done   1 out of   1 | elapsed:    0.0s remaining:    0.0s\n",
            "[Parallel(n_jobs=1)]: Done 100 out of 100 | elapsed:    1.4s finished\n",
            "[Parallel(n_jobs=1)]: Using backend SequentialBackend with 1 concurrent workers.\n",
            "[Parallel(n_jobs=1)]: Done   1 out of   1 | elapsed:    0.0s remaining:    0.0s\n",
            "[Parallel(n_jobs=1)]: Done 100 out of 100 | elapsed:    1.3s finished\n"
          ],
          "name": "stderr"
        },
        {
          "output_type": "stream",
          "text": [
            "----------------TEST EVALUATION------------------\n",
            "Default score: -0.6933132506340607\n",
            "Accuracy is: 0.7504613593076156\n",
            "F1 is: 0.79322607638325\n",
            "None\n"
          ],
          "name": "stdout"
        },
        {
          "output_type": "display_data",
          "data": {
            "image/png": "[encoded data removed]",
            "text/plain": [
              "<Figure size 864x576 with 1 Axes>"
            ]
          },
          "metadata": {
            "tags": [],
            "needs_background": "light"
          }
        }
      ]
    },
    {
      "cell_type": "code",
      "metadata": {
        "id": "RI92HuzC0sBG",
        "colab": {
          "base_uri": "https://localhost:8080/",
          "height": 1000
        },
        "outputId": "e1b5c46f-2517-493c-9062-f47658d8f23a"
      },
      "source": [
        "func8_= Model(train8, validation1, validation2, ytrain8, valid1_lithology)\n",
        "pred8, val8, model8 = func8_()"
      ],
      "execution_count": null,
      "outputs": [
        {
          "output_type": "stream",
          "text": [
            "[Parallel(n_jobs=1)]: Using backend SequentialBackend with 1 concurrent workers.\n"
          ],
          "name": "stderr"
        },
        {
          "output_type": "stream",
          "text": [
            "building tree 1 of 100\n"
          ],
          "name": "stdout"
        },
        {
          "output_type": "stream",
          "text": [
            "[Parallel(n_jobs=1)]: Done   1 out of   1 | elapsed:    0.4s remaining:    0.0s\n"
          ],
          "name": "stderr"
        },
        {
          "output_type": "stream",
          "text": [
            "building tree 2 of 100\n",
            "building tree 3 of 100\n",
            "building tree 4 of 100\n",
            "building tree 5 of 100\n",
            "building tree 6 of 100\n",
            "building tree 7 of 100\n",
            "building tree 8 of 100\n",
            "building tree 9 of 100\n",
            "building tree 10 of 100\n",
            "building tree 11 of 100\n",
            "building tree 12 of 100\n",
            "building tree 13 of 100\n",
            "building tree 14 of 100\n",
            "building tree 15 of 100\n",
            "building tree 16 of 100\n",
            "building tree 17 of 100\n",
            "building tree 18 of 100\n",
            "building tree 19 of 100\n",
            "building tree 20 of 100\n",
            "building tree 21 of 100\n",
            "building tree 22 of 100\n",
            "building tree 23 of 100\n",
            "building tree 24 of 100\n",
            "building tree 25 of 100\n",
            "building tree 26 of 100\n",
            "building tree 27 of 100\n",
            "building tree 28 of 100\n",
            "building tree 29 of 100\n",
            "building tree 30 of 100\n",
            "building tree 31 of 100\n",
            "building tree 32 of 100\n",
            "building tree 33 of 100\n",
            "building tree 34 of 100\n",
            "building tree 35 of 100\n",
            "building tree 36 of 100\n",
            "building tree 37 of 100\n",
            "building tree 38 of 100\n",
            "building tree 39 of 100\n",
            "building tree 40 of 100\n",
            "building tree 41 of 100\n",
            "building tree 42 of 100\n",
            "building tree 43 of 100\n",
            "building tree 44 of 100\n",
            "building tree 45 of 100\n",
            "building tree 46 of 100\n",
            "building tree 47 of 100\n",
            "building tree 48 of 100\n",
            "building tree 49 of 100\n",
            "building tree 50 of 100\n",
            "building tree 51 of 100\n",
            "building tree 52 of 100\n",
            "building tree 53 of 100\n",
            "building tree 54 of 100\n",
            "building tree 55 of 100\n",
            "building tree 56 of 100\n",
            "building tree 57 of 100\n",
            "building tree 58 of 100\n",
            "building tree 59 of 100\n",
            "building tree 60 of 100\n",
            "building tree 61 of 100\n",
            "building tree 62 of 100\n",
            "building tree 63 of 100\n",
            "building tree 64 of 100\n",
            "building tree 65 of 100\n",
            "building tree 66 of 100\n",
            "building tree 67 of 100\n",
            "building tree 68 of 100\n",
            "building tree 69 of 100\n",
            "building tree 70 of 100\n",
            "building tree 71 of 100\n",
            "building tree 72 of 100\n",
            "building tree 73 of 100\n",
            "building tree 74 of 100\n",
            "building tree 75 of 100\n",
            "building tree 76 of 100\n",
            "building tree 77 of 100\n",
            "building tree 78 of 100\n",
            "building tree 79 of 100\n",
            "building tree 80 of 100\n",
            "building tree 81 of 100\n",
            "building tree 82 of 100\n",
            "building tree 83 of 100\n",
            "building tree 84 of 100\n",
            "building tree 85 of 100\n",
            "building tree 86 of 100\n",
            "building tree 87 of 100\n",
            "building tree 88 of 100\n",
            "building tree 89 of 100\n",
            "building tree 90 of 100\n",
            "building tree 91 of 100\n",
            "building tree 92 of 100\n",
            "building tree 93 of 100\n",
            "building tree 94 of 100\n",
            "building tree 95 of 100\n",
            "building tree 96 of 100\n",
            "building tree 97 of 100\n",
            "building tree 98 of 100\n",
            "building tree 99 of 100\n",
            "building tree 100 of 100\n"
          ],
          "name": "stdout"
        },
        {
          "output_type": "stream",
          "text": [
            "[Parallel(n_jobs=1)]: Done 100 out of 100 | elapsed:   54.0s finished\n",
            "[Parallel(n_jobs=1)]: Using backend SequentialBackend with 1 concurrent workers.\n",
            "[Parallel(n_jobs=1)]: Done   1 out of   1 | elapsed:    0.0s remaining:    0.0s\n",
            "[Parallel(n_jobs=1)]: Done 100 out of 100 | elapsed:    1.4s finished\n",
            "[Parallel(n_jobs=1)]: Using backend SequentialBackend with 1 concurrent workers.\n",
            "[Parallel(n_jobs=1)]: Done   1 out of   1 | elapsed:    0.0s remaining:    0.0s\n",
            "[Parallel(n_jobs=1)]: Done 100 out of 100 | elapsed:    1.3s finished\n"
          ],
          "name": "stderr"
        },
        {
          "output_type": "stream",
          "text": [
            "----------------TEST EVALUATION------------------\n",
            "Default score: -0.7006148167885444\n",
            "Accuracy is: 0.7468395653847293\n",
            "F1 is: 0.7957151697649927\n",
            "None\n"
          ],
          "name": "stdout"
        },
        {
          "output_type": "display_data",
          "data": {
            "image/png": "[encoded data removed]",
            "text/plain": [
              "<Figure size 864x576 with 1 Axes>"
            ]
          },
          "metadata": {
            "tags": [],
            "needs_background": "light"
          }
        }
      ]
    },
    {
      "cell_type": "code",
      "metadata": {
        "id": "i4b-J4fw29_1"
      },
      "source": [
        "stack = np.column_stack((pred1, pred2, pred3, pred4, pred5, pred6, pred7, pred8, pred11, pred22))\n",
        "stack_p = np.column_stack((val1, val2, val3, val4, val5, val6, val7, val8, val11, val22))"
      ],
      "execution_count": null,
      "outputs": []
    },
    {
      "cell_type": "code",
      "metadata": {
        "id": "YmTI6TsGHjPr"
      },
      "source": [
        "stack = np.column_stack((pred1, pred2, pred11, pred22))\n",
        "stack_p = np.column_stack((val1, val2, val11, val22))"
      ],
      "execution_count": null,
      "outputs": []
    },
    {
      "cell_type": "code",
      "metadata": {
        "id": "h6s7skJM1WRV",
        "colab": {
          "base_uri": "https://localhost:8080/",
          "height": 1000
        },
        "outputId": "72bda918-190c-4c6b-e1b0-63f02e638596"
      },
      "source": [
        "#meta_model = LogisticRegression()\n",
        "meta_model = RandomForestClassifier(n_estimators=200, random_state=42, class_weight='balanced', verbose=2)\n",
        "meta_model.fit(stack, valid1_lithology)\n",
        "final_pred = meta_model.predict(stack_p)\n",
        " \n",
        "print(show_evaluation(final_pred, valid2_lithology))"
      ],
      "execution_count": null,
      "outputs": [
        {
          "output_type": "stream",
          "text": [
            "[Parallel(n_jobs=1)]: Using backend SequentialBackend with 1 concurrent workers.\n",
            "[Parallel(n_jobs=1)]: Done   1 out of   1 | elapsed:    0.0s remaining:    0.0s\n"
          ],
          "name": "stderr"
        },
        {
          "output_type": "stream",
          "text": [
            "building tree 1 of 200\n",
            "building tree 2 of 200\n",
            "building tree 3 of 200\n",
            "building tree 4 of 200\n",
            "building tree 5 of 200\n",
            "building tree 6 of 200\n",
            "building tree 7 of 200\n",
            "building tree 8 of 200\n",
            "building tree 9 of 200\n",
            "building tree 10 of 200\n",
            "building tree 11 of 200\n",
            "building tree 12 of 200\n",
            "building tree 13 of 200\n",
            "building tree 14 of 200\n",
            "building tree 15 of 200\n",
            "building tree 16 of 200\n",
            "building tree 17 of 200\n",
            "building tree 18 of 200\n",
            "building tree 19 of 200\n",
            "building tree 20 of 200\n",
            "building tree 21 of 200\n",
            "building tree 22 of 200\n",
            "building tree 23 of 200\n",
            "building tree 24 of 200\n",
            "building tree 25 of 200\n",
            "building tree 26 of 200\n",
            "building tree 27 of 200\n",
            "building tree 28 of 200\n",
            "building tree 29 of 200\n",
            "building tree 30 of 200\n",
            "building tree 31 of 200\n",
            "building tree 32 of 200\n",
            "building tree 33 of 200\n",
            "building tree 34 of 200\n",
            "building tree 35 of 200\n",
            "building tree 36 of 200\n",
            "building tree 37 of 200\n",
            "building tree 38 of 200\n",
            "building tree 39 of 200\n",
            "building tree 40 of 200\n",
            "building tree 41 of 200\n",
            "building tree 42 of 200\n",
            "building tree 43 of 200\n",
            "building tree 44 of 200\n",
            "building tree 45 of 200\n",
            "building tree 46 of 200\n",
            "building tree 47 of 200\n",
            "building tree 48 of 200\n",
            "building tree 49 of 200\n",
            "building tree 50 of 200\n",
            "building tree 51 of 200\n",
            "building tree 52 of 200\n",
            "building tree 53 of 200\n",
            "building tree 54 of 200\n",
            "building tree 55 of 200\n",
            "building tree 56 of 200\n",
            "building tree 57 of 200\n",
            "building tree 58 of 200\n",
            "building tree 59 of 200\n",
            "building tree 60 of 200\n",
            "building tree 61 of 200\n",
            "building tree 62 of 200\n",
            "building tree 63 of 200\n",
            "building tree 64 of 200\n",
            "building tree 65 of 200\n",
            "building tree 66 of 200\n",
            "building tree 67 of 200\n",
            "building tree 68 of 200\n",
            "building tree 69 of 200\n",
            "building tree 70 of 200\n",
            "building tree 71 of 200\n",
            "building tree 72 of 200\n",
            "building tree 73 of 200\n",
            "building tree 74 of 200\n",
            "building tree 75 of 200\n",
            "building tree 76 of 200\n",
            "building tree 77 of 200\n",
            "building tree 78 of 200\n",
            "building tree 79 of 200\n",
            "building tree 80 of 200\n",
            "building tree 81 of 200\n",
            "building tree 82 of 200\n",
            "building tree 83 of 200\n",
            "building tree 84 of 200\n",
            "building tree 85 of 200\n",
            "building tree 86 of 200\n",
            "building tree 87 of 200\n",
            "building tree 88 of 200\n",
            "building tree 89 of 200\n",
            "building tree 90 of 200\n",
            "building tree 91 of 200\n",
            "building tree 92 of 200\n",
            "building tree 93 of 200\n",
            "building tree 94 of 200\n",
            "building tree 95 of 200\n",
            "building tree 96 of 200\n",
            "building tree 97 of 200\n",
            "building tree 98 of 200\n",
            "building tree 99 of 200\n",
            "building tree 100 of 200\n",
            "building tree 101 of 200\n",
            "building tree 102 of 200\n",
            "building tree 103 of 200\n",
            "building tree 104 of 200\n",
            "building tree 105 of 200\n",
            "building tree 106 of 200\n",
            "building tree 107 of 200\n",
            "building tree 108 of 200\n",
            "building tree 109 of 200\n",
            "building tree 110 of 200\n",
            "building tree 111 of 200\n",
            "building tree 112 of 200\n",
            "building tree 113 of 200\n",
            "building tree 114 of 200\n",
            "building tree 115 of 200\n",
            "building tree 116 of 200\n",
            "building tree 117 of 200\n",
            "building tree 118 of 200\n",
            "building tree 119 of 200\n",
            "building tree 120 of 200\n",
            "building tree 121 of 200\n",
            "building tree 122 of 200\n",
            "building tree 123 of 200\n",
            "building tree 124 of 200\n",
            "building tree 125 of 200\n",
            "building tree 126 of 200\n",
            "building tree 127 of 200\n",
            "building tree 128 of 200\n",
            "building tree 129 of 200\n",
            "building tree 130 of 200\n",
            "building tree 131 of 200\n",
            "building tree 132 of 200\n",
            "building tree 133 of 200\n",
            "building tree 134 of 200\n",
            "building tree 135 of 200\n",
            "building tree 136 of 200\n",
            "building tree 137 of 200\n",
            "building tree 138 of 200\n",
            "building tree 139 of 200\n",
            "building tree 140 of 200\n",
            "building tree 141 of 200\n",
            "building tree 142 of 200\n",
            "building tree 143 of 200\n",
            "building tree 144 of 200\n",
            "building tree 145 of 200\n",
            "building tree 146 of 200\n",
            "building tree 147 of 200\n",
            "building tree 148 of 200\n",
            "building tree 149 of 200\n",
            "building tree 150 of 200\n",
            "building tree 151 of 200\n",
            "building tree 152 of 200\n",
            "building tree 153 of 200\n",
            "building tree 154 of 200\n",
            "building tree 155 of 200\n",
            "building tree 156 of 200\n",
            "building tree 157 of 200\n",
            "building tree 158 of 200\n",
            "building tree 159 of 200\n",
            "building tree 160 of 200\n",
            "building tree 161 of 200\n",
            "building tree 162 of 200\n",
            "building tree 163 of 200\n",
            "building tree 164 of 200\n",
            "building tree 165 of 200\n",
            "building tree 166 of 200\n",
            "building tree 167 of 200\n",
            "building tree 168 of 200\n",
            "building tree 169 of 200\n",
            "building tree 170 of 200\n",
            "building tree 171 of 200\n",
            "building tree 172 of 200\n",
            "building tree 173 of 200\n",
            "building tree 174 of 200\n",
            "building tree 175 of 200\n",
            "building tree 176 of 200\n",
            "building tree 177 of 200\n",
            "building tree 178 of 200\n",
            "building tree 179 of 200\n",
            "building tree 180 of 200\n",
            "building tree 181 of 200\n",
            "building tree 182 of 200\n",
            "building tree 183 of 200\n",
            "building tree 184 of 200\n",
            "building tree 185 of 200\n",
            "building tree 186 of 200\n",
            "building tree 187 of 200\n",
            "building tree 188 of 200\n",
            "building tree 189 of 200\n",
            "building tree 190 of 200\n",
            "building tree 191 of 200\n",
            "building tree 192 of 200\n",
            "building tree 193 of 200\n",
            "building tree 194 of 200\n",
            "building tree 195 of 200\n",
            "building tree 196 of 200\n",
            "building tree 197 of 200\n",
            "building tree 198 of 200\n",
            "building tree 199 of 200\n",
            "building tree 200 of 200\n"
          ],
          "name": "stdout"
        },
        {
          "output_type": "stream",
          "text": [
            "[Parallel(n_jobs=1)]: Done 200 out of 200 | elapsed:    9.4s finished\n",
            "[Parallel(n_jobs=1)]: Using backend SequentialBackend with 1 concurrent workers.\n",
            "[Parallel(n_jobs=1)]: Done   1 out of   1 | elapsed:    0.0s remaining:    0.0s\n"
          ],
          "name": "stderr"
        },
        {
          "output_type": "stream",
          "text": [
            "Default score: -0.996609660146432\n",
            "Accuracy is: 0.6154737187192657\n",
            "F1 is: 0.6671234635157725\n",
            "None\n"
          ],
          "name": "stdout"
        },
        {
          "output_type": "stream",
          "text": [
            "[Parallel(n_jobs=1)]: Done 200 out of 200 | elapsed:    2.6s finished\n"
          ],
          "name": "stderr"
        }
      ]
    },
    {
      "cell_type": "code",
      "metadata": {
        "id": "jLheVsKR2qhN",
        "colab": {
          "base_uri": "https://localhost:8080/",
          "height": 125
        },
        "outputId": "20e6cd9c-9f15-4d7e-b499-8764bf7c5491"
      },
      "source": [
        "print(final_pred[1000:1120])\n",
        "print(list(valid2_lithology[1000:1200]))"
      ],
      "execution_count": null,
      "outputs": [
        {
          "output_type": "stream",
          "text": [
            "[2 2 2 2 2 2 2 2 2 2 2 2 2 2 2 2 2 2 2 2 2 2 2 2 2 2 2 2 2 2 1 2 1 2 2 2 2\n",
            " 2 2 2 2 2 2 2 2 2 2 2 2 2 2 2 2 2 2 2 2 2 2 2 2 2 2 2 2 2 2 2 2 2 2 2 1 1\n",
            " 1 2 2 2 2 2 2 2 2 2 2 2 2 2 2 2 2 2 1 2 2 2 2 2 2 2 2 2 2 2 2 2 2 2 2 2 2\n",
            " 2 2 2 2 2 2 2 2 2]\n",
            "[2, 2, 2, 2, 2, 2, 2, 2, 2, 2, 2, 2, 2, 2, 1, 1, 1, 1, 1, 1, 2, 2, 2, 2, 2, 2, 1, 1, 1, 0, 0, 0, 0, 0, 0, 1, 2, 2, 2, 2, 2, 2, 2, 2, 2, 2, 2, 2, 2, 2, 2, 2, 2, 2, 2, 2, 2, 2, 2, 2, 2, 2, 2, 2, 2, 2, 2, 2, 2, 2, 0, 0, 0, 0, 0, 0, 1, 1, 1, 1, 2, 2, 2, 2, 2, 2, 2, 2, 2, 2, 2, 2, 2, 2, 2, 2, 2, 2, 2, 2, 2, 2, 2, 2, 2, 2, 2, 2, 1, 1, 1, 1, 1, 1, 2, 2, 2, 2, 2, 2, 2, 2, 2, 2, 2, 2, 2, 2, 2, 2, 1, 1, 1, 1, 1, 1, 1, 1, 2, 2, 2, 2, 2, 2, 2, 2, 2, 2, 2, 2, 2, 2, 2, 2, 2, 2, 2, 2, 2, 2, 2, 2, 2, 2, 2, 2, 2, 2, 2, 2, 2, 2, 2, 2, 2, 2, 1, 1, 1, 1, 1, 1, 1, 1, 1, 2, 2, 2, 2, 2, 2, 2, 2, 2, 2, 2, 2, 2, 2, 2]\n"
          ],
          "name": "stdout"
        }
      ]
    },
    {
      "cell_type": "code",
      "metadata": {
        "id": "bn0Cmou25RnJ",
        "colab": {
          "base_uri": "https://localhost:8080/",
          "height": 153
        },
        "outputId": "780809f5-7004-4af1-9c0d-e0121b124474"
      },
      "source": [
        "make_submission(val1, 'open_test1_pred1')\n",
        " \n",
        "a = pd.read_csv('/content/drive/My Drive/FORCE-Lithology-Prediction/open_test1_pred1.csv')\n",
        " \n",
        "a['# lithology'].value_counts()"
      ],
      "execution_count": null,
      "outputs": [
        {
          "output_type": "execute_result",
          "data": {
            "text/plain": [
              "65000    75739\n",
              "30000    15826\n",
              "70000     7474\n",
              "65030     1142\n",
              "90000      570\n",
              "99000      302\n",
              "80000      278\n",
              "Name: # lithology, dtype: int64"
            ]
          },
          "metadata": {
            "tags": []
          },
          "execution_count": 78
        }
      ]
    },
    {
      "cell_type": "code",
      "metadata": {
        "id": "_swgPnDfWCNM",
        "colab": {
          "base_uri": "https://localhost:8080/",
          "height": 190
        },
        "outputId": "08e4a115-67a8-41d3-88ff-bee50ae5334f"
      },
      "source": [
        "valid1.FORCE_2020_LITHOFACIES_LITHOLOGY.value_counts()"
      ],
      "execution_count": null,
      "outputs": [
        {
          "output_type": "execute_result",
          "data": {
            "text/plain": [
              "65000    58959\n",
              "30000    17968\n",
              "65030    12800\n",
              "70000     7348\n",
              "80000     2693\n",
              "90000      795\n",
              "99000      619\n",
              "74000      149\n",
              "Name: FORCE_2020_LITHOFACIES_LITHOLOGY, dtype: int64"
            ]
          },
          "metadata": {
            "tags": []
          },
          "execution_count": 77
        }
      ]
    },
    {
      "cell_type": "code",
      "metadata": {
        "id": "Ey5G17hnWE_Z",
        "colab": {
          "base_uri": "https://localhost:8080/",
          "height": 33
        },
        "outputId": "2985b739-3d2e-41cf-891d-76adbd1483f1"
      },
      "source": [
        "valid1.FORCE_2020_LITHOFACIES_LITHOLOGY.shape, a.shape"
      ],
      "execution_count": null,
      "outputs": [
        {
          "output_type": "execute_result",
          "data": {
            "text/plain": [
              "((114079,), (114079, 1))"
            ]
          },
          "metadata": {
            "tags": []
          },
          "execution_count": 32
        }
      ]
    },
    {
      "cell_type": "code",
      "metadata": {
        "id": "HDeOdfOdWKRJ",
        "colab": {
          "base_uri": "https://localhost:8080/",
          "height": 136
        },
        "outputId": "356453e7-964f-48ac-90eb-2b0f3ffa98e6"
      },
      "source": [
        "make_submission(open_test1, 'open_test1_pred2')\n",
        " \n",
        "a = pd.read_csv('/content/drive/My Drive/FORCE-Lithology-Prediction/open_test1_pred2.csv')\n",
        " \n",
        "a['# lithology'].value_counts()"
      ],
      "execution_count": null,
      "outputs": [
        {
          "output_type": "execute_result",
          "data": {
            "text/plain": [
              "65000    76757\n",
              "30000    10745\n",
              "70000     2460\n",
              "99000     1082\n",
              "65030      340\n",
              "90000      126\n",
              "Name: # lithology, dtype: int64"
            ]
          },
          "metadata": {
            "tags": []
          },
          "execution_count": 75
        }
      ]
    },
    {
      "cell_type": "code",
      "metadata": {
        "id": "AY0fEh4RWqed",
        "colab": {
          "base_uri": "https://localhost:8080/",
          "height": 207
        },
        "outputId": "5c0fcce4-9e21-4f71-a31b-a38a63f49746"
      },
      "source": [
        "valid2.FORCE_2020_LITHOFACIES_LITHOLOGY.value_counts()"
      ],
      "execution_count": null,
      "outputs": [
        {
          "output_type": "execute_result",
          "data": {
            "text/plain": [
              "65000    44709\n",
              "65030    21727\n",
              "30000    15022\n",
              "80000     4400\n",
              "70000     3624\n",
              "99000     1812\n",
              "90000      131\n",
              "74000       80\n",
              "86000        5\n",
              "Name: FORCE_2020_LITHOFACIES_LITHOLOGY, dtype: int64"
            ]
          },
          "metadata": {
            "tags": []
          },
          "execution_count": 76
        }
      ]
    },
    {
      "cell_type": "code",
      "metadata": {
        "id": "5__fs9gbWvHC"
      },
      "source": [
        ""
      ],
      "execution_count": null,
      "outputs": []
    }
  ]
}