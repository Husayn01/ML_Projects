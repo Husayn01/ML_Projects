{
  "nbformat": 4,
  "nbformat_minor": 0,
  "metadata": {
    "accelerator": "GPU",
    "colab": {
      "name": "NEW_VALIDATION_FORCE.ipynb",
      "provenance": [],
      "collapsed_sections": []
    },
    "kernelspec": {
      "display_name": "Python 3",
      "name": "python3"
    }
  },
  "cells": [
    {
      "cell_type": "code",
      "metadata": {
        "id": "fKzY0MX5EluI"
      },
      "source": [
        "import pandas as pd\n",
        "import numpy as np\n",
        "import numpy.random as nr\n",
        "import matplotlib.pyplot as plt\n",
        "import sklearn\n",
        "from sklearn.linear_model import LogisticRegression\n",
        "from sklearn.preprocessing import LabelEncoder\n",
        "from sklearn.ensemble import RandomForestClassifier, ExtraTreesClassifier\n",
        "#!pip install catboost\n",
        "#from catboost import CatBoostClassifier\n",
        "from xgboost import XGBClassifier\n",
        "from lightgbm import LGBMClassifier\n",
        "from sklearn import preprocessing\n",
        "import sklearn.model_selection as ms\n",
        "from sklearn.model_selection import KFold, StratifiedKFold, cross_val_score\n",
        "from sklearn.metrics import accuracy_score, f1_score"
      ],
      "execution_count": 1,
      "outputs": []
    },
    {
      "cell_type": "code",
      "metadata": {
        "colab": {
          "base_uri": "https://localhost:8080/"
        },
        "id": "1JINhXT8eqRd",
        "outputId": "6b1b56f2-97e7-47f9-cde2-dbf30a533894"
      },
      "source": [
        "cd /content/drive/My Drive/FORCE-Lithology-Prediction/"
      ],
      "execution_count": 6,
      "outputs": [
        {
          "output_type": "stream",
          "text": [
            "/content/drive/My Drive/FORCE-Lithology-Prediction\n"
          ],
          "name": "stdout"
        }
      ]
    },
    {
      "cell_type": "code",
      "metadata": {
        "id": "rT4T5rE1eeQV"
      },
      "source": [
        "import wavelet_transform"
      ],
      "execution_count": 7,
      "outputs": []
    },
    {
      "cell_type": "code",
      "metadata": {
        "id": "RGdm8oP7Y2jI"
      },
      "source": [
        "def fill_missing_values(data):\n",
        "    \n",
        "    '''\n",
        "    Function to input missing values based on the column object type\n",
        "    '''\n",
        "    \n",
        "    cols = list(data.columns)\n",
        "    for col in cols:\n",
        "        if data[col].dtype == 'int64' or data[col].dtype == 'float64':\n",
        "        \n",
        "            data[col] = data[col].fillna(data[col].mean())\n",
        "        \n",
        "        #elif data[col].dtype == 'O' or data[col].dtype == 'object':\n",
        "        #    data[col] = data[col].fillna(data[col].mode()[0])\n",
        "            \n",
        "        else:\n",
        "            data[col] = data[col].fillna(data[col].mode()[0])\n",
        "            \n",
        "    return data\n",
        " \n",
        "def one_hot_encoding(traindata, *args):\n",
        "    \n",
        "    for ii in args:\n",
        "        traindata = pd.get_dummies(traindata, prefix=[ii], columns=[ii])\n",
        "        \n",
        "    return traindata\n",
        " \n",
        "def drop_columns(traindata, *args):\n",
        "    \n",
        "    #labels = np.array(traindata[target])\n",
        "    \n",
        "    columns = []\n",
        "    for _ in args:\n",
        "        columns.append(_)\n",
        "        \n",
        "    traindata = traindata.drop(columns, axis=1)\n",
        "    #traindata = traindata.drop(target, axis=1)\n",
        "    #testdata = testdata.drop(columns, axis=1)\n",
        "        \n",
        "    return traindata\n",
        " \n",
        "def process(traindata):\n",
        "    \n",
        "    cols = list(traindata.columns)\n",
        "    for _ in cols:\n",
        "        traindata[_] = np.where(traindata[_] == np.inf, -999, traindata[_])\n",
        "        traindata[_] = np.where(traindata[_] == np.nan, -999, traindata[_])\n",
        "        traindata[_] = np.where(traindata[_] == -np.inf, -999, traindata[_])\n",
        "        \n",
        "    return traindata\n",
        " \n",
        "def show_evaluation(pred, true):\n",
        "  print(f'Default score: {score(true.values, pred)}')\n",
        "  print(f'Accuracy is: {accuracy_score(true, pred)}')\n",
        "  print(f'F1 is: {f1_score(pred, true.values, average=\"weighted\")}')\n",
        " \n",
        "def freq_encode(data, cols):\n",
        "    for i in cols:\n",
        "        encoding = data.groupby(i).size()\n",
        "        encoding = encoding/len(data)\n",
        "        data[i + '_enc'] = data[i].map(encoding)\n",
        "    return data\n",
        " \n",
        " \n",
        "def mean_target(data, cols):\n",
        "    kf = StratifiedKFold(10, shuffle=False)\n",
        "    a = pd.DataFrame()\n",
        "    for tr_ind, val_ind in kf.split(data, data.FORCE_2020_LITHOFACIES_LITHOLOGY):\n",
        "        X_tr, X_val= data.iloc[tr_ind].copy(), data.iloc[val_ind].copy()\n",
        "        for col in cols:\n",
        "            means = X_val[col].map(X_tr.groupby(col).FORCE_2020_LITHOFACIES_LITHOLOGY.mean())\n",
        "            X_val[col + '_mean_target'] = means + 0.0001\n",
        "        a = pd.concat((a, X_val))\n",
        "    #prior = FORCE_2020_LITHOFACIES_LITHOLOGY.mean()\n",
        "    #a.fillna(prior, inplace=True)\n",
        "    return a\n",
        " \n",
        "def make_submission(prediction, filename):\n",
        " \n",
        "  path = '/content/drive/My Drive/FORCE-Lithology-Prediction/'\n",
        " \n",
        "  test = pd.read_csv('/content/drive/My Drive/FORCE-Lithology-Prediction/Test.csv', sep=';')\n",
        "  #test_prediction = model.predict(testdata)\n",
        " \n",
        "  #test_prediction\n",
        "  category_to_lithology = {y:x for x,y in lithology_numbers.items()}\n",
        "  test_prediction_for_submission = np.vectorize(category_to_lithology.get)(prediction)\n",
        "  np.savetxt(path+filename+'.csv', test_prediction_for_submission, header='lithology', fmt='%i')\n",
        " \n",
        "# Feature windows concatenation function\n",
        "def augment_features_window(X, N_neig):\n",
        "    \n",
        "    # Parameters\n",
        "    N_row = X.shape[0]\n",
        "    N_feat = X.shape[1]\n",
        " \n",
        "    # Zero padding\n",
        "    X = np.vstack((np.zeros((N_neig, N_feat)), X, (np.zeros((N_neig, N_feat)))))\n",
        " \n",
        "    # Loop over windows\n",
        "    X_aug = np.zeros((N_row, N_feat*(2*N_neig+1)))\n",
        "    for r in np.arange(N_row)+N_neig:\n",
        "        this_row = []\n",
        "        for c in np.arange(-N_neig,N_neig+1):\n",
        "            this_row = np.hstack((this_row, X[r+c]))\n",
        "        X_aug[r-N_neig] = this_row\n",
        " \n",
        "    return X_aug\n",
        " \n",
        "# Feature gradient computation function\n",
        "def augment_features_gradient(X, depth):\n",
        "    \n",
        "    # Compute features gradient\n",
        "    d_diff = np.diff(depth).reshape((-1, 1))\n",
        "    d_diff[d_diff==0] = 0.001\n",
        "    X_diff = np.diff(X, axis=0)\n",
        "    X_grad = X_diff / d_diff\n",
        "        \n",
        "    # Compensate for last missing value\n",
        "    X_grad = np.concatenate((X_grad, np.zeros((1, X_grad.shape[1]))))\n",
        "    \n",
        "    return X_grad\n",
        " \n",
        "# Feature augmentation function\n",
        "def augment_features(X, well, depth, N_neig=1):\n",
        "    \n",
        "    # Augment features\n",
        "    X_aug = np.zeros((X.shape[0], X.shape[1]*(N_neig*2+2)))\n",
        "    for w in np.unique(well):\n",
        "        w_idx = np.where(well == w)[0]\n",
        "        X_aug_win = augment_features_window(X[w_idx, :], N_neig)\n",
        "        X_aug_grad = augment_features_gradient(X[w_idx, :], depth[w_idx])\n",
        "        X_aug[w_idx, :] = np.concatenate((X_aug_win, X_aug_grad), axis=1)\n",
        "    \n",
        "    # Find padded rows\n",
        "    padded_rows = np.unique(np.where(X_aug[:, 0:7] == np.zeros((1, 7)))[0])\n",
        "    \n",
        "    return X_aug, padded_rows"
      ],
      "execution_count": 8,
      "outputs": []
    },
    {
      "cell_type": "code",
      "metadata": {
        "id": "wuul_30fY2-y"
      },
      "source": [
        "A = np.load('/content/drive/My Drive/FORCE-Lithology-Prediction/penalty_matrix.npy')\n",
        " \n",
        "def score(y_true, y_pred):\n",
        "    S = 0.0\n",
        "    y_true = y_true.astype(int)\n",
        "    y_pred = y_pred.astype(int)\n",
        "    for i in range(0, y_true.shape[0]):\n",
        "        S -= A[y_true[i], y_pred[i]]\n",
        "    return S/y_true.shape[0]\n",
        " \n",
        "def evaluate(model):\n",
        "    feat_imp = pd.Series(model.feature_importances_).sort_values(ascending=False)\n",
        "    plt.figure(figsize=(24,8))\n",
        "    feat_imp.plot(kind='bar', title=f'Feature Importances {len(model.feature_importances_)}')\n",
        "    plt.ylabel('Feature Importance Score')"
      ],
      "execution_count": 9,
      "outputs": []
    },
    {
      "cell_type": "code",
      "metadata": {
        "id": "K6naYqmLn05D"
      },
      "source": [
        "#importing files\n",
        "train = pd.read_csv('/content/drive/My Drive/FORCE-Lithology-Prediction/train1.csv')\n",
        "test = pd.read_csv('/content/drive/My Drive/FORCE-Lithology-Prediction/Test.csv', sep=';')\n",
        "valid1 = pd.read_csv('/content/drive/My Drive/FORCE-Lithology-Prediction/valid4.csv')\n",
        "valid2 = pd.read_csv('/content/drive/My Drive/FORCE-Lithology-Prediction/valid5.csv')\n",
        "valid3 = pd.concat((valid1, valid2)).reset_index(drop=True)"
      ],
      "execution_count": 10,
      "outputs": []
    },
    {
      "cell_type": "code",
      "metadata": {
        "id": "Tt79NastY5VW"
      },
      "source": [
        "ntrain = train.shape[0]\n",
        "ntest = test.shape[0]\n",
        "nvalid1 = valid1.shape[0]\n",
        "nvalid2 = valid2.shape[0]\n",
        "nvalid3 = valid3.shape[0]\n",
        "target = train.FORCE_2020_LITHOFACIES_LITHOLOGY.copy()\n",
        "df = pd.concat((train, test, valid1, valid2, valid3)).reset_index(drop=True)"
      ],
      "execution_count": 11,
      "outputs": []
    },
    {
      "cell_type": "code",
      "metadata": {
        "colab": {
          "base_uri": "https://localhost:8080/"
        },
        "id": "bITlKCxNewRZ",
        "outputId": "66216656-f47b-404e-8d10-012b3ea1fe3e"
      },
      "source": [
        "df.shape"
      ],
      "execution_count": 12,
      "outputs": [
        {
          "output_type": "execute_result",
          "data": {
            "text/plain": [
              "(1512843, 29)"
            ]
          },
          "metadata": {
            "tags": []
          },
          "execution_count": 12
        }
      ]
    },
    {
      "cell_type": "code",
      "metadata": {
        "colab": {
          "base_uri": "https://localhost:8080/"
        },
        "id": "z5TnUcj3ex38",
        "outputId": "e22a516b-6908-441c-eee4-74c27b884f7d"
      },
      "source": [
        "df = wavelet_transform.wavelet_transform(df)\r\n",
        "df.shape"
      ],
      "execution_count": 13,
      "outputs": [
        {
          "output_type": "execute_result",
          "data": {
            "text/plain": [
              "(1512843, 35)"
            ]
          },
          "metadata": {
            "tags": []
          },
          "execution_count": 13
        }
      ]
    },
    {
      "cell_type": "code",
      "metadata": {
        "colab": {
          "base_uri": "https://localhost:8080/",
          "height": 112
        },
        "id": "CTolKtOBfBDB",
        "outputId": "c33ed868-333e-4a72-edf1-e447c0c3b4e5"
      },
      "source": [
        "df.head(1)"
      ],
      "execution_count": 15,
      "outputs": [
        {
          "output_type": "execute_result",
          "data": {
            "text/html": [
              "<div>\n",
              "<style scoped>\n",
              "    .dataframe tbody tr th:only-of-type {\n",
              "        vertical-align: middle;\n",
              "    }\n",
              "\n",
              "    .dataframe tbody tr th {\n",
              "        vertical-align: top;\n",
              "    }\n",
              "\n",
              "    .dataframe thead th {\n",
              "        text-align: right;\n",
              "    }\n",
              "</style>\n",
              "<table border=\"1\" class=\"dataframe\">\n",
              "  <thead>\n",
              "    <tr style=\"text-align: right;\">\n",
              "      <th></th>\n",
              "      <th>WELL</th>\n",
              "      <th>DEPTH_MD</th>\n",
              "      <th>X_LOC</th>\n",
              "      <th>Y_LOC</th>\n",
              "      <th>Z_LOC</th>\n",
              "      <th>GROUP</th>\n",
              "      <th>FORMATION</th>\n",
              "      <th>CALI</th>\n",
              "      <th>RSHA</th>\n",
              "      <th>RMED</th>\n",
              "      <th>RDEP</th>\n",
              "      <th>RHOB</th>\n",
              "      <th>GR</th>\n",
              "      <th>SGR</th>\n",
              "      <th>NPHI</th>\n",
              "      <th>PEF</th>\n",
              "      <th>DTC</th>\n",
              "      <th>SP</th>\n",
              "      <th>BS</th>\n",
              "      <th>ROP</th>\n",
              "      <th>DTS</th>\n",
              "      <th>DCAL</th>\n",
              "      <th>DRHO</th>\n",
              "      <th>MUDWEIGHT</th>\n",
              "      <th>RMIC</th>\n",
              "      <th>ROPA</th>\n",
              "      <th>RXO</th>\n",
              "      <th>FORCE_2020_LITHOFACIES_LITHOLOGY</th>\n",
              "      <th>FORCE_2020_LITHOFACIES_CONFIDENCE</th>\n",
              "      <th>coef_0</th>\n",
              "      <th>coef_2</th>\n",
              "      <th>coef_4</th>\n",
              "      <th>phase_0</th>\n",
              "      <th>phase_2</th>\n",
              "      <th>phase_4</th>\n",
              "    </tr>\n",
              "  </thead>\n",
              "  <tbody>\n",
              "    <tr>\n",
              "      <th>0</th>\n",
              "      <td>15/9-15</td>\n",
              "      <td>485.256</td>\n",
              "      <td>436817.90625</td>\n",
              "      <td>6462991.5</td>\n",
              "      <td>-460.255005</td>\n",
              "      <td>NORDLAND GP.</td>\n",
              "      <td>NaN</td>\n",
              "      <td>NaN</td>\n",
              "      <td>1.567587</td>\n",
              "      <td>1.567587</td>\n",
              "      <td>1.735962</td>\n",
              "      <td>NaN</td>\n",
              "      <td>78.275825</td>\n",
              "      <td>NaN</td>\n",
              "      <td>NaN</td>\n",
              "      <td>NaN</td>\n",
              "      <td>161.94751</td>\n",
              "      <td>45.884998</td>\n",
              "      <td>26.000002</td>\n",
              "      <td>46.064972</td>\n",
              "      <td>NaN</td>\n",
              "      <td>NaN</td>\n",
              "      <td>NaN</td>\n",
              "      <td>0.133007</td>\n",
              "      <td>NaN</td>\n",
              "      <td>NaN</td>\n",
              "      <td>-999.900024</td>\n",
              "      <td>65000.0</td>\n",
              "      <td>3.0</td>\n",
              "      <td>78.285524</td>\n",
              "      <td>79.702544</td>\n",
              "      <td>71.990193</td>\n",
              "      <td>-1.587807</td>\n",
              "      <td>-1.531941</td>\n",
              "      <td>-1.528543</td>\n",
              "    </tr>\n",
              "  </tbody>\n",
              "</table>\n",
              "</div>"
            ],
            "text/plain": [
              "      WELL  DEPTH_MD         X_LOC  ...   phase_0   phase_2   phase_4\n",
              "0  15/9-15   485.256  436817.90625  ... -1.587807 -1.531941 -1.528543\n",
              "\n",
              "[1 rows x 35 columns]"
            ]
          },
          "metadata": {
            "tags": []
          },
          "execution_count": 15
        }
      ]
    },
    {
      "cell_type": "code",
      "metadata": {
        "id": "8y_DuoEYVJRt"
      },
      "source": [
        "train_well = train.WELL.values\n",
        "train_depth = train.DEPTH_MD.values\n",
        " \n",
        "valid1_well = valid1.WELL.values\n",
        "valid1_depth = valid1.DEPTH_MD.values\n",
        " \n",
        "valid2_well = valid2.WELL.values\n",
        "valid2_depth = valid2.DEPTH_MD.values\n",
        " \n",
        "valid3_well = valid3.WELL.values\n",
        "valid3_depth = valid3.DEPTH_MD.values"
      ],
      "execution_count": 16,
      "outputs": []
    },
    {
      "cell_type": "code",
      "metadata": {
        "id": "3zMlY-7RZDBq"
      },
      "source": [
        "lithology = train['FORCE_2020_LITHOFACIES_LITHOLOGY']\n",
        "valid1_lithology = valid1['FORCE_2020_LITHOFACIES_LITHOLOGY']\n",
        "valid2_lithology = valid2['FORCE_2020_LITHOFACIES_LITHOLOGY']\n",
        "valid3_lithology = valid3['FORCE_2020_LITHOFACIES_LITHOLOGY']\n",
        " \n",
        "lithology_numbers = {30000: 0,\n",
        "                 65030: 1,\n",
        "                 65000: 2,\n",
        "                 80000: 3,\n",
        "                 74000: 4,\n",
        "                 70000: 5,\n",
        "                 70032: 6,\n",
        "                 88000: 7,\n",
        "                 86000: 8,\n",
        "                 99000: 9,\n",
        "                 90000: 10,\n",
        "                 93000: 11}\n",
        " \n",
        "lithology = lithology.map(lithology_numbers)\n",
        "valid1_lithology = valid1_lithology.map(lithology_numbers)\n",
        "valid2_lithology = valid2_lithology.map(lithology_numbers)\n",
        "valid3_lithology = valid3_lithology.map(lithology_numbers)"
      ],
      "execution_count": 17,
      "outputs": []
    },
    {
      "cell_type": "code",
      "metadata": {
        "id": "w3W7XXzCStmB"
      },
      "source": [
        "nr.seed(2020)"
      ],
      "execution_count": 18,
      "outputs": []
    },
    {
      "cell_type": "code",
      "metadata": {
        "id": "WI7UomLPx9Cf",
        "colab": {
          "base_uri": "https://localhost:8080/"
        },
        "outputId": "ad792fa3-3b46-4411-af4e-a52e94f21bc3"
      },
      "source": [
        "print(df.shape)\n",
        "cols = ['FORCE_2020_LITHOFACIES_CONFIDENCE', 'SGR', 'DTS', 'RXO', 'ROPA']\n",
        "df = drop_columns(df, *cols)\n",
        "print(df.shape)"
      ],
      "execution_count": 19,
      "outputs": [
        {
          "output_type": "stream",
          "text": [
            "(1512843, 35)\n",
            "(1512843, 30)\n"
          ],
          "name": "stdout"
        }
      ]
    },
    {
      "cell_type": "code",
      "metadata": {
        "id": "t4OyPN9rSwdX"
      },
      "source": [
        "nr.seed(2020)"
      ],
      "execution_count": 20,
      "outputs": []
    },
    {
      "cell_type": "code",
      "metadata": {
        "id": "JRsjiPZqa49_"
      },
      "source": [
        "df['GROUP_encoded'] = df['GROUP'].astype('category')\n",
        "df['GROUP_encoded'] = df['GROUP_encoded'].cat.codes\n",
        "df['FORMATION_encoded'] = df['FORMATION'].astype('category')\n",
        "df['FORMATION_encoded'] = df['FORMATION_encoded'].cat.codes\n",
        "df['WELL_encoded'] = df['WELL'].astype('category')\n",
        "df['WELL_encoded'] = df['WELL_encoded'].cat.codes"
      ],
      "execution_count": 21,
      "outputs": []
    },
    {
      "cell_type": "code",
      "metadata": {
        "id": "oI4AJ4GwSywC"
      },
      "source": [
        "nr.seed(2020)"
      ],
      "execution_count": 22,
      "outputs": []
    },
    {
      "cell_type": "code",
      "metadata": {
        "id": "mV6wikmIa7Av",
        "colab": {
          "base_uri": "https://localhost:8080/"
        },
        "outputId": "f43fd46a-a7df-4f79-e7d1-c2c21a2391d9"
      },
      "source": [
        "df = df.drop(['WELL', 'GROUP', 'FORMATION'], axis=1)\n",
        "df.shape\n",
        " \n",
        "df = df.fillna(-999)\n",
        "df = process(df)\n",
        "data = df.copy()\n",
        " \n",
        "train2 = data[:ntrain].copy()\n",
        "target = train2.FORCE_2020_LITHOFACIES_LITHOLOGY.copy()\n",
        "validation1_target = valid1.FORCE_2020_LITHOFACIES_LITHOLOGY.copy()\n",
        "validation2_target = valid2.FORCE_2020_LITHOFACIES_LITHOLOGY.copy()\n",
        "train2.drop(['FORCE_2020_LITHOFACIES_LITHOLOGY'], axis=1, inplace=True)\n",
        " \n",
        "test2 = data[ntrain:(ntest+ntrain)].copy()\n",
        "test2.drop(['FORCE_2020_LITHOFACIES_LITHOLOGY'], axis=1, inplace=True)\n",
        "test2 = test2.reset_index(drop=True)\n",
        " \n",
        "validation1 = data[(ntest+ntrain):(ntest+ntrain+nvalid1)].copy()\n",
        "validation1.drop(['FORCE_2020_LITHOFACIES_LITHOLOGY'], axis=1, inplace=True)\n",
        "validation1 = validation1.reset_index(drop=True)\n",
        " \n",
        "validation2 = data[(ntrain+ntest+nvalid1): (ntrain+ntest+nvalid1+nvalid2)].copy()\n",
        "validation2.drop(['FORCE_2020_LITHOFACIES_LITHOLOGY'], axis=1, inplace=True)\n",
        "validation2 = validation2.reset_index(drop=True)\n",
        " \n",
        " \n",
        "validation3 = data[(ntrain+ntest+nvalid1+nvalid2):].copy()\n",
        "validation3.drop(['FORCE_2020_LITHOFACIES_LITHOLOGY'], axis=1, inplace=True)\n",
        "validation3 = validation3.reset_index(drop=True)\n",
        " \n",
        "print(train2.shape, test2.shape, validation1.shape, valid1.shape, validation2.shape, validation3.shape, valid2.shape)"
      ],
      "execution_count": 23,
      "outputs": [
        {
          "output_type": "stream",
          "text": [
            "(964965, 29) (136786, 29) (114079, 29) (114079, 29) (91467, 29) (205546, 29) (91467, 29)\n"
          ],
          "name": "stdout"
        }
      ]
    },
    {
      "cell_type": "code",
      "metadata": {
        "id": "WQxMNQOuS2NV"
      },
      "source": [
        "nr.seed(2020)"
      ],
      "execution_count": 24,
      "outputs": []
    },
    {
      "cell_type": "code",
      "metadata": {
        "id": "jTL3T6Dva_X3"
      },
      "source": [
        "traindata = train2\n",
        "testdata = test2"
      ],
      "execution_count": 25,
      "outputs": []
    },
    {
      "cell_type": "code",
      "metadata": {
        "colab": {
          "base_uri": "https://localhost:8080/",
          "height": 96
        },
        "id": "L-upY5qvfSBb",
        "outputId": "6c46114f-ee79-49f1-a54f-55d05fbf5d92"
      },
      "source": [
        "testdata.head(1)"
      ],
      "execution_count": 26,
      "outputs": [
        {
          "output_type": "execute_result",
          "data": {
            "text/html": [
              "<div>\n",
              "<style scoped>\n",
              "    .dataframe tbody tr th:only-of-type {\n",
              "        vertical-align: middle;\n",
              "    }\n",
              "\n",
              "    .dataframe tbody tr th {\n",
              "        vertical-align: top;\n",
              "    }\n",
              "\n",
              "    .dataframe thead th {\n",
              "        text-align: right;\n",
              "    }\n",
              "</style>\n",
              "<table border=\"1\" class=\"dataframe\">\n",
              "  <thead>\n",
              "    <tr style=\"text-align: right;\">\n",
              "      <th></th>\n",
              "      <th>DEPTH_MD</th>\n",
              "      <th>X_LOC</th>\n",
              "      <th>Y_LOC</th>\n",
              "      <th>Z_LOC</th>\n",
              "      <th>CALI</th>\n",
              "      <th>RSHA</th>\n",
              "      <th>RMED</th>\n",
              "      <th>RDEP</th>\n",
              "      <th>RHOB</th>\n",
              "      <th>GR</th>\n",
              "      <th>NPHI</th>\n",
              "      <th>PEF</th>\n",
              "      <th>DTC</th>\n",
              "      <th>SP</th>\n",
              "      <th>BS</th>\n",
              "      <th>ROP</th>\n",
              "      <th>DCAL</th>\n",
              "      <th>DRHO</th>\n",
              "      <th>MUDWEIGHT</th>\n",
              "      <th>RMIC</th>\n",
              "      <th>coef_0</th>\n",
              "      <th>coef_2</th>\n",
              "      <th>coef_4</th>\n",
              "      <th>phase_0</th>\n",
              "      <th>phase_2</th>\n",
              "      <th>phase_4</th>\n",
              "      <th>GROUP_encoded</th>\n",
              "      <th>FORMATION_encoded</th>\n",
              "      <th>WELL_encoded</th>\n",
              "    </tr>\n",
              "  </thead>\n",
              "  <tbody>\n",
              "    <tr>\n",
              "      <th>0</th>\n",
              "      <td>480.628001</td>\n",
              "      <td>423244.5</td>\n",
              "      <td>6461862.5</td>\n",
              "      <td>-455.62442</td>\n",
              "      <td>19.2031</td>\n",
              "      <td>-999.0</td>\n",
              "      <td>1.613886</td>\n",
              "      <td>1.513937</td>\n",
              "      <td>2.171173</td>\n",
              "      <td>72.078377</td>\n",
              "      <td>0.551575</td>\n",
              "      <td>55.815659</td>\n",
              "      <td>174.347092</td>\n",
              "      <td>35.525719</td>\n",
              "      <td>-999.0</td>\n",
              "      <td>96.46199</td>\n",
              "      <td>-999.0</td>\n",
              "      <td>-0.538873</td>\n",
              "      <td>0.130611</td>\n",
              "      <td>-999.0</td>\n",
              "      <td>1.426177</td>\n",
              "      <td>3.016086</td>\n",
              "      <td>10.24746</td>\n",
              "      <td>2.83802</td>\n",
              "      <td>-1.048308</td>\n",
              "      <td>-0.910008</td>\n",
              "      <td>6</td>\n",
              "      <td>-1</td>\n",
              "      <td>1</td>\n",
              "    </tr>\n",
              "  </tbody>\n",
              "</table>\n",
              "</div>"
            ],
            "text/plain": [
              "     DEPTH_MD     X_LOC  ...  FORMATION_encoded  WELL_encoded\n",
              "0  480.628001  423244.5  ...                 -1             1\n",
              "\n",
              "[1 rows x 29 columns]"
            ]
          },
          "metadata": {
            "tags": []
          },
          "execution_count": 26
        }
      ]
    },
    {
      "cell_type": "code",
      "metadata": {
        "id": "UQzZOwBdU6MJ"
      },
      "source": [
        "traindata, padded_rows = augment_features(traindata.values, train_well, train_depth)\n",
        "validation1, padded_rows1= augment_features(validation1.values, valid1_well, valid1_depth)\n",
        "validation2, padded_rows2 = augment_features(validation2.values, valid2_well, valid2_depth)\n",
        "validation3, padded_rows3 = augment_features(validation3.values, valid3_well, valid3_depth)"
      ],
      "execution_count": 27,
      "outputs": []
    },
    {
      "cell_type": "code",
      "metadata": {
        "colab": {
          "base_uri": "https://localhost:8080/"
        },
        "id": "1Jt_wdPZfYnR",
        "outputId": "b639527f-9cb5-4c02-aa2d-46f9ce457b30"
      },
      "source": [
        "traindata.shape"
      ],
      "execution_count": 28,
      "outputs": [
        {
          "output_type": "execute_result",
          "data": {
            "text/plain": [
              "(964965, 116)"
            ]
          },
          "metadata": {
            "tags": []
          },
          "execution_count": 28
        }
      ]
    },
    {
      "cell_type": "code",
      "metadata": {
        "id": "J2F8g3QwS6Ud"
      },
      "source": [
        "nr.seed(2020)"
      ],
      "execution_count": 29,
      "outputs": []
    },
    {
      "cell_type": "code",
      "metadata": {
        "id": "MoHq2Qa5bHuL"
      },
      "source": [
        "class Model():\n",
        "    \n",
        "    def __init__(self, train, validation1, validation2, validation3, train_label, valid_label1, valid_label2, valid_label3):\n",
        "        \n",
        "        \n",
        "        self.train = train\n",
        "        #self.test = test\n",
        "        self.validation1 = validation1\n",
        "        self.validation2 = validation2\n",
        "        self.validation3 = validation3\n",
        "        self.train_label = train_label\n",
        "        self.valid_label1 = valid_label1\n",
        "        self.valid_label2 = valid_label2\n",
        "        self.valid_label3 = valid_label3\n",
        "        \n",
        "    def __call__(self, plot = True):\n",
        "        return self.fit(plot)\n",
        "    \n",
        "    def fit(self, plot):\n",
        "      \n",
        "      def show_evaluation(pred, true):\n",
        "        \n",
        "        print(f'Default score: {score(true.values, pred)}')\n",
        "        print(f'Accuracy is: {accuracy_score(true, pred)}')\n",
        "        print(f'F1 is: {f1_score(pred, true.values, average=\"weighted\")}')\n",
        " \n",
        "      split = 10\n",
        "\n",
        "      nr.seed(2020)\n",
        "      kf = StratifiedKFold(n_splits=split, shuffle=True)\n",
        "  \n",
        "      #pred = np.zeros((len(self.test), 12))\n",
        "      val1 = np.zeros((len(self.validation1), 12))\n",
        "      val2 = np.zeros((len(self.validation2), 12))\n",
        "      val3 = np.zeros((len(self.validation3), 12))\n",
        " \n",
        "      model = XGBClassifier(n_estimators=100, max_depth=10, booster='gbtree',\n",
        "                            objective='multi:softprob', learning_rate=0.1, random_state=0,\n",
        "                            subsample=0.9, colsample_bytree=0.9, tree_method='gpu_hist',\n",
        "                            eval_metric='mlogloss', verbose=2020, reg_lambda=1500)\n",
        "      \n",
        "      nr.seed(2020)\n",
        "      i = 1\n",
        "      for (train_index, test_index) in kf.split(pd.DataFrame(traindata), pd.DataFrame(lithology)):\n",
        "        nr.seed(2020)\n",
        "        X_train,X_test = pd.DataFrame(traindata).iloc[train_index], pd.DataFrame(traindata).iloc[test_index]\n",
        "        Y_train,Y_test = pd.DataFrame(lithology).iloc[train_index],pd.DataFrame(lithology).iloc[test_index]\n",
        "    \n",
        "        \n",
        "        model.fit(X_train, Y_train, early_stopping_rounds=100, eval_set=[(X_test, Y_test)], verbose=100)\n",
        "        #model.fit(X_train, Y_train)\n",
        "        prediction1 = model.predict(pd.DataFrame(self.validation1))\n",
        "        prediction = model.predict(pd.DataFrame(self.validation2))\n",
        "        print(show_evaluation(prediction1, self.valid_label1))\n",
        "        print(show_evaluation(prediction, self.valid_label2))\n",
        " \n",
        "        print(f'-----------------------FOLD {i}---------------------')\n",
        "        i+=1\n",
        " \n",
        "        #pred += model.predict_proba(self.test)\n",
        "        val1 += model.predict_proba(pd.DataFrame(self.validation1))\n",
        "        val2 += model.predict_proba(pd.DataFrame(self.validation2))\n",
        "        val3 += model.predict_proba(pd.DataFrame(self.validation3))\n",
        "      \n",
        "      #pred = pd.DataFrame(pred/split)\n",
        "      val1 = pd.DataFrame(val1/split)\n",
        "      val2 = pd.DataFrame(val2/split)\n",
        "      val3 = pd.DataFrame(val3/split)\n",
        "    \n",
        "      #pred = np.array(pd.DataFrame(pred).idxmax(axis=1))\n",
        "      val1 = np.array(pd.DataFrame(val1).idxmax(axis=1))\n",
        "      val2 = np.array(pd.DataFrame(val2).idxmax(axis=1))\n",
        "      val3 = np.array(pd.DataFrame(val3).idxmax(axis=1))\n",
        " \n",
        "      print('---------------CROSS VALIDATION COMPLETE')\n",
        "      print('----------------TEST EVALUATION------------------')\n",
        " \n",
        "      print('----------Valid 1-------------')\n",
        "      print(show_evaluation(val1, self.valid_label1))\n",
        "      print('----------Valid 2-------------')\n",
        "      print(show_evaluation(val2, self.valid_label2))\n",
        "      print('----------Valid 3-------------')\n",
        "      print(show_evaluation(val3, self.valid_label3))\n",
        "                  \n",
        "      if plot: self.plot_feat_imp(model)\n",
        "      return val1, val2, val3, model\n",
        "              \n",
        "              \n",
        "    def plot_feat_imp(self, model):\n",
        "        feat_imp = pd.Series(model.feature_importances_).sort_values(ascending=False)\n",
        "        plt.figure(figsize=(12,8))\n",
        "        feat_imp.plot(kind='bar', title='Feature Importances')\n",
        "        plt.ylabel('Feature Importance Score')"
      ],
      "execution_count": 30,
      "outputs": []
    },
    {
      "cell_type": "code",
      "metadata": {
        "id": "OGxB5ZiD560L",
        "colab": {
          "base_uri": "https://localhost:8080/",
          "height": 1000
        },
        "outputId": "03ff0a5e-d911-43d8-a801-6da447fe7ae2"
      },
      "source": [
        "func1_= Model(traindata, validation1, validation2, validation3, lithology, valid1_lithology, valid2_lithology, valid3_lithology)\n",
        "val1, open_test1, open_test11, model1 = func1_()   #no reglambda, 0.01 lr, 6max-depth (dts, rxo, sgr, ropa)"
      ],
      "execution_count": 31,
      "outputs": [
        {
          "output_type": "stream",
          "text": [
            "/usr/local/lib/python3.6/dist-packages/sklearn/preprocessing/_label.py:235: DataConversionWarning: A column-vector y was passed when a 1d array was expected. Please change the shape of y to (n_samples, ), for example using ravel().\n",
            "  y = column_or_1d(y, warn=True)\n",
            "/usr/local/lib/python3.6/dist-packages/sklearn/preprocessing/_label.py:268: DataConversionWarning: A column-vector y was passed when a 1d array was expected. Please change the shape of y to (n_samples, ), for example using ravel().\n",
            "  y = column_or_1d(y, warn=True)\n"
          ],
          "name": "stderr"
        },
        {
          "output_type": "stream",
          "text": [
            "[0]\tvalidation_0-mlogloss:2.17308\n",
            "Will train until validation_0-mlogloss hasn't improved in 100 rounds.\n",
            "[99]\tvalidation_0-mlogloss:0.319221\n",
            "Default score: -0.6134433155970862\n",
            "Accuracy is: 0.7690372461189176\n",
            "F1 is: 0.8082213250309733\n",
            "None\n",
            "Default score: -0.5532910776564225\n",
            "Accuracy is: 0.7927011927799097\n",
            "F1 is: 0.8204294217059683\n",
            "None\n",
            "-----------------------FOLD 1---------------------\n",
            "[0]\tvalidation_0-mlogloss:2.17289\n",
            "Will train until validation_0-mlogloss hasn't improved in 100 rounds.\n",
            "[99]\tvalidation_0-mlogloss:0.321967\n",
            "Default score: -0.6118851848280578\n",
            "Accuracy is: 0.7699138316429842\n",
            "F1 is: 0.8076267074909949\n",
            "None\n",
            "Default score: -0.5545674942875572\n",
            "Accuracy is: 0.793925678113418\n",
            "F1 is: 0.8204685564711113\n",
            "None\n",
            "-----------------------FOLD 2---------------------\n",
            "[0]\tvalidation_0-mlogloss:2.17222\n",
            "Will train until validation_0-mlogloss hasn't improved in 100 rounds.\n",
            "[99]\tvalidation_0-mlogloss:0.316247\n",
            "Default score: -0.612335530641047\n",
            "Accuracy is: 0.7693089876313782\n",
            "F1 is: 0.8079546324239769\n",
            "None\n",
            "Default score: -0.5509719352334722\n",
            "Accuracy is: 0.7944723233515912\n",
            "F1 is: 0.8222468984037432\n",
            "None\n",
            "-----------------------FOLD 3---------------------\n",
            "[0]\tvalidation_0-mlogloss:2.17311\n",
            "Will train until validation_0-mlogloss hasn't improved in 100 rounds.\n",
            "[99]\tvalidation_0-mlogloss:0.318808\n",
            "Default score: -0.610454158960019\n",
            "Accuracy is: 0.7704222512469429\n",
            "F1 is: 0.807275251738341\n",
            "None\n",
            "Default score: -0.5552835995495643\n",
            "Accuracy is: 0.7916844326369074\n",
            "F1 is: 0.8189347375076256\n",
            "None\n",
            "-----------------------FOLD 4---------------------\n",
            "[0]\tvalidation_0-mlogloss:2.17254\n",
            "Will train until validation_0-mlogloss hasn't improved in 100 rounds.\n",
            "[99]\tvalidation_0-mlogloss:0.318084\n",
            "Default score: -0.6177331060054875\n",
            "Accuracy is: 0.7681168313186476\n",
            "F1 is: 0.8055414222485798\n",
            "None\n",
            "Default score: -0.5589010244131764\n",
            "Accuracy is: 0.7913783113035302\n",
            "F1 is: 0.8174793044421063\n",
            "None\n",
            "-----------------------FOLD 5---------------------\n",
            "[0]\tvalidation_0-mlogloss:2.1723\n",
            "Will train until validation_0-mlogloss hasn't improved in 100 rounds.\n",
            "[99]\tvalidation_0-mlogloss:0.321232\n",
            "Default score: -0.608981495279587\n",
            "Accuracy is: 0.7703959536812209\n",
            "F1 is: 0.8082753241679655\n",
            "None\n",
            "Default score: -0.5548380836804531\n",
            "Accuracy is: 0.7928105218275444\n",
            "F1 is: 0.8197641530847013\n",
            "None\n",
            "-----------------------FOLD 6---------------------\n",
            "[0]\tvalidation_0-mlogloss:2.17239\n",
            "Will train until validation_0-mlogloss hasn't improved in 100 rounds.\n",
            "[99]\tvalidation_0-mlogloss:0.317201\n",
            "Default score: -0.6121569263405184\n",
            "Accuracy is: 0.7701154463135196\n",
            "F1 is: 0.809296259854187\n",
            "None\n",
            "Default score: -0.5574469480796352\n",
            "Accuracy is: 0.7916844326369074\n",
            "F1 is: 0.8181665046049275\n",
            "None\n",
            "-----------------------FOLD 7---------------------\n",
            "[0]\tvalidation_0-mlogloss:2.17345\n",
            "Will train until validation_0-mlogloss hasn't improved in 100 rounds.\n",
            "[99]\tvalidation_0-mlogloss:0.320722\n",
            "Default score: -0.6143067523382919\n",
            "Accuracy is: 0.7685726557911623\n",
            "F1 is: 0.8051099318958927\n",
            "None\n",
            "Default score: -0.562709775110149\n",
            "Accuracy is: 0.7898914362556988\n",
            "F1 is: 0.8162906202943867\n",
            "None\n",
            "-----------------------FOLD 8---------------------\n",
            "[0]\tvalidation_0-mlogloss:2.17265\n",
            "Will train until validation_0-mlogloss hasn't improved in 100 rounds.\n",
            "[99]\tvalidation_0-mlogloss:0.318378\n",
            "Default score: -0.6212350651741337\n",
            "Accuracy is: 0.7665652749410496\n",
            "F1 is: 0.8077803100626126\n",
            "None\n",
            "Default score: -0.5603004362229\n",
            "Accuracy is: 0.7908098002558299\n",
            "F1 is: 0.8181604896822439\n",
            "None\n",
            "-----------------------FOLD 9---------------------\n",
            "[0]\tvalidation_0-mlogloss:2.17262\n",
            "Will train until validation_0-mlogloss hasn't improved in 100 rounds.\n",
            "[99]\tvalidation_0-mlogloss:0.317757\n",
            "Default score: -0.6135397400047335\n",
            "Accuracy is: 0.7694755388809509\n",
            "F1 is: 0.8069615113483017\n",
            "None\n",
            "Default score: -0.5527389659658675\n",
            "Accuracy is: 0.7939584768277084\n",
            "F1 is: 0.8213348639820574\n",
            "None\n",
            "-----------------------FOLD 10---------------------\n",
            "---------------CROSS VALIDATION COMPLETE\n",
            "----------------TEST EVALUATION------------------\n",
            "----------Valid 1-------------\n",
            "Default score: -0.6099775155813076\n",
            "Accuracy is: 0.7704836122336276\n",
            "F1 is: 0.8089235788025434\n",
            "None\n",
            "----------Valid 2-------------\n",
            "Default score: -0.5539825838827118\n",
            "Accuracy is: 0.7931275760656848\n",
            "F1 is: 0.8204707487499889\n",
            "None\n",
            "----------Valid 3-------------\n",
            "Default score: -0.585060035223259\n",
            "Accuracy is: 0.7805600692788962\n",
            "F1 is: 0.8135337349355697\n",
            "None\n"
          ],
          "name": "stdout"
        },
        {
          "output_type": "display_data",
          "data": {
            "image/png": "[encoded data removed]",
            "text/plain": [
              "<Figure size 864x576 with 1 Axes>"
            ]
          },
          "metadata": {
            "tags": [],
            "needs_background": "light"
          }
        }
      ]
    },
    {
      "cell_type": "code",
      "metadata": {
        "id": "Hmk07N_T8rHU",
        "colab": {
          "base_uri": "https://localhost:8080/",
          "height": 241
        },
        "outputId": "c4d49b82-06fb-4695-b37d-cd1446c75d6e"
      },
      "source": [
        "print(show_evaluation(val1,valid1_lithology))\n",
        "print(show_evaluation(open_test1, valid2_lithology))\n",
        "print(show_evaluation(open_test11, valid3_lithology))"
      ],
      "execution_count": null,
      "outputs": [
        {
          "output_type": "stream",
          "text": [
            "Default score: -0.6287890409277781\n",
            "Accuracy is: 0.7649523575767669\n",
            "F1 is: 0.8072991891979571\n",
            "None\n",
            "Default score: -0.5854133184645829\n",
            "Accuracy is: 0.785398012397914\n",
            "F1 is: 0.8225863227488472\n",
            "None\n",
            "Default score: -0.6094870491276891\n",
            "Accuracy is: 0.7740505774863048\n",
            "F1 is: 0.8132635081176378\n",
            "None\n"
          ],
          "name": "stdout"
        }
      ]
    }
  ]
}