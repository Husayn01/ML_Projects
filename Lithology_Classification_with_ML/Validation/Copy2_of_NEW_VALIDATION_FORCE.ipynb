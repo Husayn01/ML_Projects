{
  "nbformat": 4,
  "nbformat_minor": 0,
  "metadata": {
    "accelerator": "GPU",
    "colab": {
      "name": "Copy2 of NEW_VALIDATION_FORCE.ipynb",
      "provenance": [],
      "collapsed_sections": []
    },
    "kernelspec": {
      "display_name": "Python 3",
      "name": "python3"
    }
  },
  "cells": [
    {
      "cell_type": "code",
      "metadata": {
        "id": "fKzY0MX5EluI"
      },
      "source": [
        "import pandas as pd\n",
        "import numpy as np\n",
        "import numpy.random as nr\n",
        "import matplotlib.pyplot as plt\n",
        "import sklearn\n",
        "from sklearn.linear_model import LogisticRegression\n",
        "from sklearn.preprocessing import LabelEncoder\n",
        "from sklearn.ensemble import RandomForestClassifier, ExtraTreesClassifier, GradientBoostingClassifier\n",
        "#!pip install catboost\n",
        "#from catboost import CatBoostClassifier\n",
        "from xgboost import XGBClassifier\n",
        "from lightgbm import LGBMClassifier\n",
        "from sklearn import preprocessing\n",
        "import sklearn.model_selection as ms\n",
        "from sklearn.model_selection import KFold, StratifiedKFold\n",
        "from sklearn.metrics import accuracy_score, f1_score"
      ],
      "execution_count": null,
      "outputs": []
    },
    {
      "cell_type": "code",
      "metadata": {
        "id": "RGdm8oP7Y2jI"
      },
      "source": [
        "def fill_missing_values(data):\n",
        "    \n",
        "    '''\n",
        "    Function to input missing values based on the column object type\n",
        "    '''\n",
        "    \n",
        "    cols = list(data.columns)\n",
        "    for col in cols:\n",
        "        if data[col].dtype == 'int64' or data[col].dtype == 'float64':\n",
        "        \n",
        "            data[col] = data[col].fillna(data[col].mean())\n",
        "        \n",
        "        #elif data[col].dtype == 'O' or data[col].dtype == 'object':\n",
        "        #    data[col] = data[col].fillna(data[col].mode()[0])\n",
        "            \n",
        "        else:\n",
        "            data[col] = data[col].fillna(data[col].mode()[0])\n",
        "            \n",
        "    return data\n",
        " \n",
        "def one_hot_encoding(traindata, *args):\n",
        "    \n",
        "    for ii in args:\n",
        "        traindata = pd.get_dummies(traindata, prefix=[ii], columns=[ii])\n",
        "        \n",
        "    return traindata\n",
        " \n",
        "def drop_columns(traindata, *args):\n",
        "    \n",
        "    #labels = np.array(traindata[target])\n",
        "    \n",
        "    columns = []\n",
        "    for _ in args:\n",
        "        columns.append(_)\n",
        "        \n",
        "    traindata = traindata.drop(columns, axis=1)\n",
        "    #traindata = traindata.drop(target, axis=1)\n",
        "    #testdata = testdata.drop(columns, axis=1)\n",
        "        \n",
        "    return traindata\n",
        " \n",
        "def process(traindata):\n",
        "    \n",
        "    cols = list(traindata.columns)\n",
        "    for _ in cols:\n",
        "        traindata[_] = np.where(traindata[_] == np.inf, -999, traindata[_])\n",
        "        traindata[_] = np.where(traindata[_] == np.nan, -999, traindata[_])\n",
        "        traindata[_] = np.where(traindata[_] == -np.inf, -999, traindata[_])\n",
        "        \n",
        "    return traindata\n",
        " \n",
        "def show_evaluation(pred, true):\n",
        "  print(f'Default score: {score(true.values, pred)}')\n",
        "  print(f'Accuracy is: {accuracy_score(true, pred)}')\n",
        "  print(f'F1 is: {f1_score(pred, true.values, average=\"weighted\")}')\n",
        " \n",
        "def freq_encode(data, cols):\n",
        "    for i in cols:\n",
        "        encoding = data.groupby(i).size()\n",
        "        encoding = encoding/len(data)\n",
        "        data[i + '_enc'] = data[i].map(encoding)\n",
        "    return data\n",
        " \n",
        " \n",
        "def mean_target(data, cols):\n",
        "    kf = KFold(5)\n",
        "    a = pd.DataFrame()\n",
        "    for tr_ind, val_ind in kf.split(data):\n",
        "        X_tr, X_val= data.iloc[tr_ind].copy(), data.iloc[val_ind].copy()\n",
        "        for col in cols:\n",
        "            means = X_val[col].map(X_tr.groupby(col).FORCE_2020_LITHOFACIES_LITHOLOGY.mean())\n",
        "            X_val[col + '_mean_target'] = means + 0.0001\n",
        "        a = pd.concat((a, X_val))\n",
        "    #prior = FORCE_2020_LITHOFACIES_LITHOLOGY.mean()\n",
        "    #a.fillna(prior, inplace=True)\n",
        "    return a\n",
        " \n",
        "def make_submission(prediction, filename):\n",
        " \n",
        "  path = '/content/drive/My Drive/FORCE-Lithology-Prediction/'\n",
        " \n",
        "  test = pd.read_csv('/content/drive/My Drive/FORCE-Lithology-Prediction/Test.csv', sep=';')\n",
        "  #test_prediction = model.predict(testdata)\n",
        " \n",
        "  #test_prediction\n",
        "  category_to_lithology = {y:x for x,y in lithology_numbers.items()}\n",
        "  test_prediction_for_submission = np.vectorize(category_to_lithology.get)(prediction)\n",
        "  np.savetxt(path+filename+'.csv', test_prediction_for_submission, header='lithology', fmt='%i')\n",
        " \n",
        "# Feature windows concatenation function\n",
        "def augment_features_window(X, N_neig):\n",
        "    \n",
        "    # Parameters\n",
        "    N_row = X.shape[0]\n",
        "    N_feat = X.shape[1]\n",
        " \n",
        "    # Zero padding\n",
        "    X = np.vstack((np.zeros((N_neig, N_feat)), X, (np.zeros((N_neig, N_feat)))))\n",
        " \n",
        "    # Loop over windows\n",
        "    X_aug = np.zeros((N_row, N_feat*(2*N_neig+1)))\n",
        "    for r in np.arange(N_row)+N_neig:\n",
        "        this_row = []\n",
        "        for c in np.arange(-N_neig,N_neig+1):\n",
        "            this_row = np.hstack((this_row, X[r+c]))\n",
        "        X_aug[r-N_neig] = this_row\n",
        " \n",
        "    return X_aug\n",
        " \n",
        "# Feature gradient computation function\n",
        "def augment_features_gradient(X, depth):\n",
        "    \n",
        "    # Compute features gradient\n",
        "    d_diff = np.diff(depth).reshape((-1, 1))\n",
        "    d_diff[d_diff==0] = 0.001\n",
        "    X_diff = np.diff(X, axis=0)\n",
        "    X_grad = X_diff / d_diff\n",
        "        \n",
        "    # Compensate for last missing value\n",
        "    X_grad = np.concatenate((X_grad, np.zeros((1, X_grad.shape[1]))))\n",
        "    \n",
        "    return X_grad\n",
        " \n",
        "# Feature augmentation function\n",
        "def augment_features(X, well, depth, N_neig=1):\n",
        "    \n",
        "    # Augment features\n",
        "    X_aug = np.zeros((X.shape[0], X.shape[1]*(N_neig*2+2)))\n",
        "    for w in np.unique(well):\n",
        "        w_idx = np.where(well == w)[0]\n",
        "        X_aug_win = augment_features_window(X[w_idx, :], N_neig)\n",
        "        X_aug_grad = augment_features_gradient(X[w_idx, :], depth[w_idx])\n",
        "        X_aug[w_idx, :] = np.concatenate((X_aug_win, X_aug_grad), axis=1)\n",
        "    \n",
        "    # Find padded rows\n",
        "    padded_rows = np.unique(np.where(X_aug[:, 0:7] == np.zeros((1, 7)))[0])\n",
        "    \n",
        "    return X_aug, padded_rows"
      ],
      "execution_count": null,
      "outputs": []
    },
    {
      "cell_type": "code",
      "metadata": {
        "id": "wuul_30fY2-y"
      },
      "source": [
        "A = np.load('/content/drive/My Drive/FORCE-Lithology-Prediction/penalty_matrix.npy')\n",
        " \n",
        "def score(y_true, y_pred):\n",
        "    S = 0.0\n",
        "    y_true = y_true.astype(int)\n",
        "    y_pred = y_pred.astype(int)\n",
        "    for i in range(0, y_true.shape[0]):\n",
        "        S -= A[y_true[i], y_pred[i]]\n",
        "    return S/y_true.shape[0]\n",
        " \n",
        "def evaluate(model):\n",
        "    feat_imp = pd.Series(model.feature_importances_).sort_values(ascending=False)\n",
        "    plt.figure(figsize=(24,8))\n",
        "    feat_imp.plot(kind='bar', title=f'Feature Importances {len(model.feature_importances_)}')\n",
        "    plt.ylabel('Feature Importance Score')"
      ],
      "execution_count": null,
      "outputs": []
    },
    {
      "cell_type": "code",
      "metadata": {
        "id": "OfI7IeJG6Z6E"
      },
      "source": [
        "#importing miles\n",
        "nr.seed(42)\n",
        "train = pd.read_csv('/content/drive/My Drive/FORCE-Lithology-Prediction/train1.csv')\n",
        "test = pd.read_csv('/content/drive/My Drive/FORCE-Lithology-Prediction/Test.csv', sep=';')\n",
        "valida = pd.read_csv('/content/drive/My Drive/FORCE-Lithology-Prediction/valid4.csv')\n",
        "valid2 = pd.read_csv('/content/drive/My Drive/FORCE-Lithology-Prediction/valid5.csv')\n",
        "valid3 = pd.concat((valid1, valid2)).reset_index(drop=True)"
      ],
      "execution_count": null,
      "outputs": []
    },
    {
      "cell_type": "code",
      "metadata": {
        "id": "m89Yj62na4YZ",
        "colab": {
          "base_uri": "https://localhost:8080/",
          "height": 204
        },
        "outputId": "12b848ed-46d5-4158-b66d-aed060458f7b"
      },
      "source": [
        "valida.WELL.value_counts()"
      ],
      "execution_count": null,
      "outputs": [
        {
          "output_type": "execute_result",
          "data": {
            "text/plain": [
              "30/3-3        21163\n",
              "15/9-13       18270\n",
              "7/1-1         16241\n",
              "35/11-7       13005\n",
              "34/12-1        9350\n",
              "25/8-7         8999\n",
              "31/4-10        8679\n",
              "34/8-7 R       7084\n",
              "25/11-19 S     6975\n",
              "35/9-10 S      4313\n",
              "Name: WELL, dtype: int64"
            ]
          },
          "metadata": {
            "tags": []
          },
          "execution_count": 76
        }
      ]
    },
    {
      "cell_type": "code",
      "metadata": {
        "id": "2yhnqADyW8qC",
        "colab": {
          "base_uri": "https://localhost:8080/",
          "height": 547
        },
        "outputId": "b74812ac-6331-4062-e1b2-0b1bbcd55971"
      },
      "source": [
        "valid1 = valida.loc[valida.WELL=='30/3-3']\n",
        " \n",
        "valid2 = valida.loc[valida.WELL=='15/9-13']\n",
        "valid3 = valida.loc[valida.WELL=='7/1-1']\n",
        "valid4 = valida.loc[valida.WELL=='35/11-7']\n",
        "valid5 = valida.loc[valida.WELL=='34/12-1']\n",
        "valid6 = valida.loc[valida.WELL=='25/8-7']\n",
        "valid7 = valida.loc[valida.WELL=='31/4-10']\n",
        "valid8 = valida.loc[valida.WELL=='34/8-7 R']\n",
        "valid9 = valida.loc[valida.WELL=='25/11-19 S']\n",
        "valid10 = valida.loc[valida.WELL=='35/9-10 S']\n",
        " \n",
        "(valid1.isna().sum()/valid1.shape[0])*100"
      ],
      "execution_count": null,
      "outputs": [
        {
          "output_type": "execute_result",
          "data": {
            "text/plain": [
              "WELL                                   0.000000\n",
              "DEPTH_MD                               0.000000\n",
              "X_LOC                                  0.000000\n",
              "Y_LOC                                  0.000000\n",
              "Z_LOC                                  0.000000\n",
              "GROUP                                  0.217360\n",
              "FORMATION                             16.538298\n",
              "CALI                                   0.368568\n",
              "RSHA                                   0.278788\n",
              "RMED                                   0.051978\n",
              "RDEP                                   0.000000\n",
              "RHOB                                   1.668005\n",
              "GR                                     0.000000\n",
              "SGR                                  100.000000\n",
              "NPHI                                  81.472381\n",
              "PEF                                   44.213958\n",
              "DTC                                    2.565799\n",
              "SP                                     0.000000\n",
              "BS                                   100.000000\n",
              "ROP                                  100.000000\n",
              "DTS                                  100.000000\n",
              "DCAL                                 100.000000\n",
              "DRHO                                   1.677456\n",
              "MUDWEIGHT                            100.000000\n",
              "RMIC                                 100.000000\n",
              "ROPA                                 100.000000\n",
              "RXO                                    0.259888\n",
              "FORCE_2020_LITHOFACIES_LITHOLOGY       0.000000\n",
              "FORCE_2020_LITHOFACIES_CONFIDENCE      0.000000\n",
              "dtype: float64"
            ]
          },
          "metadata": {
            "tags": []
          },
          "execution_count": 77
        }
      ]
    },
    {
      "cell_type": "code",
      "metadata": {
        "id": "NjRGEVfJTCF1",
        "colab": {
          "base_uri": "https://localhost:8080/",
          "height": 34
        },
        "outputId": "223d78c1-ee00-4e21-beb4-9b544c4bb3d7"
      },
      "source": [
        "valid = pd.concat((valid1, valid2, valid3, valid4, valid5, valid6, valid7, valid8, valid9, valid10))\n",
        "valid.shape"
      ],
      "execution_count": null,
      "outputs": [
        {
          "output_type": "execute_result",
          "data": {
            "text/plain": [
              "(114079, 29)"
            ]
          },
          "metadata": {
            "tags": []
          },
          "execution_count": 78
        }
      ]
    },
    {
      "cell_type": "code",
      "metadata": {
        "id": "Tt79NastY5VW"
      },
      "source": [
        "ntrain = train.shape[0]\n",
        "ntest = test.shape[0]\n",
        "nvalid1 = valida.shape[0]\n",
        "nvalid2 = valid2.shape[0]\n",
        "nvalid3 = valid3.shape[0]\n",
        "target = train.FORCE_2020_LITHOFACIES_LITHOLOGY.copy()\n",
        "df = pd.concat((train, test, valid1, valid2, valid3)).reset_index(drop=True)"
      ],
      "execution_count": null,
      "outputs": []
    },
    {
      "cell_type": "code",
      "metadata": {
        "id": "2DPPLupbavaU"
      },
      "source": [
        "train_well = train.WELL.values\n",
        "train_depth = train.DEPTH_MD.values\n",
        " \n",
        "valid1_well = valid1.WELL.values\n",
        "valid1_depth = valid1.DEPTH_MD.values\n",
        " \n",
        "valid2_well = valid2.WELL.values\n",
        "valid2_depth = valid2.DEPTH_MD.values\n",
        " \n",
        "valid3_well = valid3.WELL.values\n",
        "valid3_depth = valid3.DEPTH_MD.values"
      ],
      "execution_count": null,
      "outputs": []
    },
    {
      "cell_type": "code",
      "metadata": {
        "id": "4H1JnkBEDWCK"
      },
      "source": [
        "cluster_df = pd.DataFrame()\n",
        "cluster_df['X_LOC'] = df.X_LOC\n",
        "cluster_df['Y_LOC'] = df.Y_LOC\n",
        "cluster_df['X_LOC'].fillna(cluster_df.X_LOC.mean(), inplace=True)\n",
        "cluster_df['Y_LOC'].fillna(cluster_df.Y_LOC.mean(), inplace=True)\n",
        " \n",
        "from sklearn.cluster import KMeans\n",
        "kmeans = KMeans(n_clusters=2, init='k-means++', max_iter=300,\n",
        "                n_init=10, random_state=40)\n",
        " \n",
        "y_kmeans = kmeans.fit_predict(cluster_df)\n",
        "df['LOC_cluster'] = y_kmeans#wcss = []"
      ],
      "execution_count": null,
      "outputs": []
    },
    {
      "cell_type": "code",
      "metadata": {
        "id": "y98T6x-FIKBP",
        "colab": {
          "base_uri": "https://localhost:8080/",
          "height": 68
        },
        "outputId": "6afbb75c-13c4-44fc-d899-8811c4b6f9c9"
      },
      "source": [
        "df['LITHO'] = None\n",
        "df.loc[df.GR < 70, 'LITHO'] = 'ss'\n",
        "df.loc[df.GR > 70, 'LITHO'] = 'sh'\n",
        "#df.loc[(df.GR >= 64) & (df.GR <= 98), 'LITHO'] = 'ssh'\n",
        "df.LITHO.value_counts()"
      ],
      "execution_count": null,
      "outputs": [
        {
          "output_type": "execute_result",
          "data": {
            "text/plain": [
              "ss    809298\n",
              "sh    703543\n",
              "Name: LITHO, dtype: int64"
            ]
          },
          "metadata": {
            "tags": []
          },
          "execution_count": 9
        }
      ]
    },
    {
      "cell_type": "code",
      "metadata": {
        "id": "dg2hGPCCQEzj",
        "colab": {
          "base_uri": "https://localhost:8080/",
          "height": 234
        },
        "outputId": "9105514f-1e74-44a5-eb9a-3fbd18ffa48a"
      },
      "source": [
        "plt.scatter(cluster_df.values[y_kmeans==0, 0], cluster_df.values[y_kmeans==0, 1], s=100, c='red', label ='Cluster 1')\n",
        "plt.scatter(cluster_df.values[y_kmeans==1, 0], cluster_df.values[y_kmeans==1, 1], s=100, c='blue', label ='Cluster 2')\n",
        "plt.scatter(cluster_df.values[y_kmeans==2, 0], cluster_df.values[y_kmeans==2, 1], s=100, c='green', label ='Cluster 3')\n",
        "plt.scatter(kmeans.cluster_centers_[:, 0], kmeans.cluster_centers_[:, 1], s=300, c='yellow', label = 'Centroids')"
      ],
      "execution_count": null,
      "outputs": [
        {
          "output_type": "execute_result",
          "data": {
            "text/plain": [
              "<matplotlib.collections.PathCollection at 0x7f3235a24f98>"
            ]
          },
          "metadata": {
            "tags": []
          },
          "execution_count": 7
        },
        {
          "output_type": "display_data",
          "data": {
            "image/png": "[encoded data removed]",
            "text/plain": [
              "<Figure size 432x288 with 1 Axes>"
            ]
          },
          "metadata": {
            "tags": []
          }
        }
      ]
    },
    {
      "cell_type": "code",
      "metadata": {
        "id": "3zMlY-7RZDBq"
      },
      "source": [
        "lithology = train['FORCE_2020_LITHOFACIES_LITHOLOGY']\n",
        "valid1_lithology = valid['FORCE_2020_LITHOFACIES_LITHOLOGY']\n",
        "valid2_lithology = valid2['FORCE_2020_LITHOFACIES_LITHOLOGY']\n",
        "valid3_lithology = valid3['FORCE_2020_LITHOFACIES_LITHOLOGY']\n",
        " \n",
        "lithology_numbers = {30000: 0,\n",
        "                 65030: 1,\n",
        "                 65000: 2,\n",
        "                 80000: 3,\n",
        "                 74000: 4,\n",
        "                 70000: 5,\n",
        "                 70032: 6,\n",
        "                 88000: 7,\n",
        "                 86000: 8,\n",
        "                 99000: 9,\n",
        "                 90000: 10,\n",
        "                 93000: 11}\n",
        " \n",
        "lithology = lithology.map(lithology_numbers)\n",
        "valid1_lithology = valid1_lithology.map(lithology_numbers)\n",
        "valid2_lithology = valid2_lithology.map(lithology_numbers)\n",
        "valid3_lithology = valid3_lithology.map(lithology_numbers)"
      ],
      "execution_count": null,
      "outputs": []
    },
    {
      "cell_type": "code",
      "metadata": {
        "id": "UlErqqCMVVIa",
        "colab": {
          "base_uri": "https://localhost:8080/",
          "height": 51
        },
        "outputId": "b37f4628-769e-4e50-a713-5c3794a74bce"
      },
      "source": [
        "print(df.shape)\n",
        "cols = ['FORCE_2020_LITHOFACIES_CONFIDENCE', 'SGR', 'RMIC', 'ROPA', 'RXO', 'MUDWEIGHT', 'DCAL', 'RSHA', 'SP']\n",
        "df = drop_columns(df, *cols)\n",
        "print(df.shape)"
      ],
      "execution_count": null,
      "outputs": [
        {
          "output_type": "stream",
          "text": [
            "(1403077, 29)\n",
            "(1403077, 20)\n"
          ],
          "name": "stdout"
        }
      ]
    },
    {
      "cell_type": "code",
      "metadata": {
        "id": "JRsjiPZqa49_",
        "colab": {
          "base_uri": "https://localhost:8080/",
          "height": 34
        },
        "outputId": "ed9f6c0e-b601-4452-c1c1-2acf759e4d5e"
      },
      "source": [
        "df['GROUP_encoded'] = df['GROUP'].astype('category')\n",
        "df['GROUP_encoded'] = df['GROUP_encoded'].cat.codes \n",
        "df['FORMATION_encoded'] = df['FORMATION'].astype('category')\n",
        "df['FORMATION_encoded'] = df['FORMATION_encoded'].cat.codes\n",
        "df['WELL_encoded'] = df['WELL'].astype('category')\n",
        "df['WELL_encoded'] = df['WELL_encoded'].cat.codes\n",
        "df.shape"
      ],
      "execution_count": null,
      "outputs": [
        {
          "output_type": "execute_result",
          "data": {
            "text/plain": [
              "(1403077, 23)"
            ]
          },
          "metadata": {
            "tags": []
          },
          "execution_count": 60
        }
      ]
    },
    {
      "cell_type": "code",
      "metadata": {
        "id": "mV6wikmIa7Av",
        "colab": {
          "base_uri": "https://localhost:8080/",
          "height": 54
        },
        "outputId": "d71cff1e-9d29-485f-e1a4-0dff2137fe0b"
      },
      "source": [
        "df = df.drop(['WELL', 'GROUP', 'FORMATION'], axis=1)\n",
        "df.shape\n",
        " \n",
        "df = df.fillna(-999)\n",
        "df = process(df)\n",
        "data = df.copy()\n",
        " \n",
        "train2 = data[:ntrain].copy()\n",
        "target = train2.FORCE_2020_LITHOFACIES_LITHOLOGY.copy()\n",
        "validation1_target = valid1.FORCE_2020_LITHOFACIES_LITHOLOGY.copy()\n",
        "validation2_target = valid2.FORCE_2020_LITHOFACIES_LITHOLOGY.copy()\n",
        "train2.drop(['FORCE_2020_LITHOFACIES_LITHOLOGY'], axis=1, inplace=True)\n",
        " \n",
        "test2 = data[ntrain:(ntest+ntrain)].copy()\n",
        "test2.drop(['FORCE_2020_LITHOFACIES_LITHOLOGY'], axis=1, inplace=True)\n",
        "test2 = test2.reset_index(drop=True)\n",
        " \n",
        "validation1 = data[(ntest+ntrain):(ntest+ntrain+nvalid1)].copy()\n",
        "validation1.drop(['FORCE_2020_LITHOFACIES_LITHOLOGY'], axis=1, inplace=True)\n",
        "validation1 = validation1.reset_index(drop=True)\n",
        " \n",
        "validation2 = data[(ntrain+ntest+nvalid1): (ntrain+ntest+nvalid1+nvalid2)].copy()\n",
        "validation2.drop(['FORCE_2020_LITHOFACIES_LITHOLOGY'], axis=1, inplace=True)\n",
        "validation2 = validation2.reset_index(drop=True)\n",
        " \n",
        " \n",
        "validation3 = data[(ntrain+ntest+nvalid1+nvalid2):].copy()\n",
        "validation3.drop(['FORCE_2020_LITHOFACIES_LITHOLOGY'], axis=1, inplace=True)\n",
        "validation3 = validation3.reset_index(drop=True)\n",
        " \n",
        "print(train2.shape, test2.shape, validation1.shape, valid1.shape, validation2.shape, validation3.shape, valid2.shape)"
      ],
      "execution_count": null,
      "outputs": [
        {
          "output_type": "stream",
          "text": [
            "(964965, 19) (136786, 19) (4313, 19) (4313, 29) (91467, 19) (205546, 19) (91467, 29)\n"
          ],
          "name": "stdout"
        }
      ]
    },
    {
      "cell_type": "code",
      "metadata": {
        "id": "jTL3T6Dva_X3"
      },
      "source": [
        "traindata = train2\n",
        "testdata = test2\n",
        "from sklearn.preprocessing import StandardScaler\n",
        " \n",
        "scaler = StandardScaler().fit(traindata)\n",
        "def scale_data(data):\n",
        "  \n",
        "  data = scaler.transform(data)\n",
        "  #testdata = scaler.transform(testdata)\n",
        "  data = pd.DataFrame(data, columns=testdata.columns)\n",
        " \n",
        "  return data"
      ],
      "execution_count": null,
      "outputs": []
    },
    {
      "cell_type": "code",
      "metadata": {
        "id": "ydXv5V_jbEP9",
        "colab": {
          "base_uri": "https://localhost:8080/",
          "height": 54
        },
        "outputId": "4e6394d8-ea84-4c79-a6b4-2676d3a8473a"
      },
      "source": [
        "traindata, padded_rows = augment_features(traindata.values, train_well, train_depth)\n",
        "validation1, padded_rows1 = augment_features(validation1.values, valid1_well, valid1_depth)\n",
        "validation2, padded_rows2 = augment_features(validation2.values, valid2_well, valid2_depth)\n",
        "validation3, padded_rows3 = augment_features(validation3.values, valid3_well, valid3_depth)\n",
        " \n",
        "traindata.shape, validation1.shape, validation3.shape, validation2.shape"
      ],
      "execution_count": null,
      "outputs": [
        {
          "output_type": "execute_result",
          "data": {
            "text/plain": [
              "((964965, 76), (4313, 76), (205546, 76), (91467, 76))"
            ]
          },
          "metadata": {
            "tags": []
          },
          "execution_count": 64
        }
      ]
    },
    {
      "cell_type": "code",
      "metadata": {
        "id": "Qhdp9_1IK1Lr"
      },
      "source": [
        "#func1_= Model(traindata, validation1, validation2, validation3, lithology, valid1_lithology, valid2_lithology, valid3_lithology)\n",
        "#val1, open_test1, open_test11, model1 = func1_()"
      ],
      "execution_count": null,
      "outputs": []
    },
    {
      "cell_type": "code",
      "metadata": {
        "id": "1L6Vhbw-T3R2"
      },
      "source": [
        "#func2_= Model(traindata, validation1, validation2, validation3, lithology, valid1_lithology, valid2_lithology, valid3_lithology)\n",
        "#val2, open_test2, open_test22, model2 = func2_()"
      ],
      "execution_count": null,
      "outputs": []
    },
    {
      "cell_type": "code",
      "metadata": {
        "id": "Dn8Zfr7hbHdm"
      },
      "source": [
        "#func3_= Model(traindata, validation1, validation2, validation3, lithology, valid1_lithology, valid2_lithology, valid3_lithology)\n",
        "#val3, open_test3, open_test33, model3 = func3_()"
      ],
      "execution_count": null,
      "outputs": []
    },
    {
      "cell_type": "code",
      "metadata": {
        "id": "CHj_jt0DLvRt"
      },
      "source": [
        "#func4_= Model(traindata, validation1, validation2, validation3, lithology, valid1_lithology, valid2_lithology, valid3_lithology)\n",
        "#val4, open_test4, open_test44, model4 = func4_()"
      ],
      "execution_count": null,
      "outputs": []
    },
    {
      "cell_type": "code",
      "metadata": {
        "id": "lMWhq2lhL-Mi",
        "colab": {
          "base_uri": "https://localhost:8080/",
          "height": 1000
        },
        "outputId": "1c96569a-c079-492d-c755-3a25af01dbb8"
      },
      "source": [
        "func5_= Model(traindata, validation1, validation2, validation3, lithology, valid1_lithology, valid2_lithology, valid3_lithology)\n",
        "val5, open_test5, open_test55, model5 = func5_()"
      ],
      "execution_count": null,
      "outputs": [
        {
          "output_type": "stream",
          "text": [
            "/usr/local/lib/python3.6/dist-packages/sklearn/preprocessing/_label.py:235: DataConversionWarning: A column-vector y was passed when a 1d array was expected. Please change the shape of y to (n_samples, ), for example using ravel().\n",
            "  y = column_or_1d(y, warn=True)\n",
            "/usr/local/lib/python3.6/dist-packages/sklearn/preprocessing/_label.py:268: DataConversionWarning: A column-vector y was passed when a 1d array was expected. Please change the shape of y to (n_samples, ), for example using ravel().\n",
            "  y = column_or_1d(y, warn=True)\n"
          ],
          "name": "stderr"
        },
        {
          "output_type": "stream",
          "text": [
            "[0]\tvalidation_0-mlogloss:2.17155\n",
            "Will train until validation_0-mlogloss hasn't improved in 100 rounds.\n",
            "[99]\tvalidation_0-mlogloss:0.322226\n",
            "Default score: -1.8460758172965452\n",
            "Accuracy is: 0.2763737537676791\n",
            "F1 is: 0.3193424906377901\n",
            "None\n",
            "Default score: -0.55304645391234\n",
            "Accuracy is: 0.7947128472563876\n",
            "F1 is: 0.8192425195040695\n",
            "None\n",
            "-----------------------FOLD 1---------------------\n",
            "[0]\tvalidation_0-mlogloss:2.17143\n",
            "Will train until validation_0-mlogloss hasn't improved in 100 rounds.\n",
            "[99]\tvalidation_0-mlogloss:0.31995\n",
            "Default score: -1.8411778344539764\n",
            "Accuracy is: 0.27475075353582196\n",
            "F1 is: 0.33081456219900246\n",
            "None\n",
            "Default score: -0.5500973028523949\n",
            "Accuracy is: 0.7965714410661768\n",
            "F1 is: 0.8222828300434152\n",
            "None\n",
            "-----------------------FOLD 2---------------------\n",
            "[0]\tvalidation_0-mlogloss:2.1709\n",
            "Will train until validation_0-mlogloss hasn't improved in 100 rounds.\n",
            "[99]\tvalidation_0-mlogloss:0.320177\n",
            "Default score: -1.854567586366798\n",
            "Accuracy is: 0.27127289589612796\n",
            "F1 is: 0.32272884157048726\n",
            "None\n",
            "Default score: -0.5569577005914701\n",
            "Accuracy is: 0.7930291799228137\n",
            "F1 is: 0.8176795255346806\n",
            "None\n",
            "-----------------------FOLD 3---------------------\n",
            "[0]\tvalidation_0-mlogloss:2.17071\n",
            "Will train until validation_0-mlogloss hasn't improved in 100 rounds.\n",
            "[99]\tvalidation_0-mlogloss:0.318288\n",
            "Default score: -1.8694064456294923\n",
            "Accuracy is: 0.26709946672849527\n",
            "F1 is: 0.3163852998773569\n",
            "None\n",
            "Default score: -0.5496340210130429\n",
            "Accuracy is: 0.7953469557326686\n",
            "F1 is: 0.8191451013975484\n",
            "None\n",
            "-----------------------FOLD 4---------------------\n",
            "[0]\tvalidation_0-mlogloss:2.17154\n",
            "Will train until validation_0-mlogloss hasn't improved in 100 rounds.\n",
            "[99]\tvalidation_0-mlogloss:0.319739\n",
            "Default score: -1.8759853929979133\n",
            "Accuracy is: 0.2638534662647809\n",
            "F1 is: 0.32160743452004725\n",
            "None\n",
            "Default score: -0.5549296467578471\n",
            "Accuracy is: 0.7928870521608886\n",
            "F1 is: 0.8165450045650496\n",
            "None\n",
            "-----------------------FOLD 5---------------------\n",
            "[0]\tvalidation_0-mlogloss:2.17078\n",
            "Will train until validation_0-mlogloss hasn't improved in 100 rounds.\n",
            "[99]\tvalidation_0-mlogloss:0.318714\n",
            "Default score: -1.8312079758868538\n",
            "Accuracy is: 0.27961975423139346\n",
            "F1 is: 0.3264987387196468\n",
            "None\n",
            "Default score: -0.5490299780248614\n",
            "Accuracy is: 0.7954562847803033\n",
            "F1 is: 0.8198235747349294\n",
            "None\n",
            "-----------------------FOLD 6---------------------\n",
            "[0]\tvalidation_0-mlogloss:2.17152\n",
            "Will train until validation_0-mlogloss hasn't improved in 100 rounds.\n",
            "[99]\tvalidation_0-mlogloss:0.320358\n",
            "Default score: -1.7739972177138883\n",
            "Accuracy is: 0.3051240435891491\n",
            "F1 is: 0.32389986176370766\n",
            "None\n",
            "Default score: -0.5611887347349317\n",
            "Accuracy is: 0.7908098002558299\n",
            "F1 is: 0.8149700471789522\n",
            "None\n",
            "-----------------------FOLD 7---------------------\n",
            "[0]\tvalidation_0-mlogloss:2.17146\n",
            "Will train until validation_0-mlogloss hasn't improved in 100 rounds.\n",
            "[99]\tvalidation_0-mlogloss:0.321572\n",
            "Default score: -1.8665372130767448\n",
            "Accuracy is: 0.267795038256434\n",
            "F1 is: 0.32313850157700297\n",
            "None\n",
            "Default score: -0.5507519105251074\n",
            "Accuracy is: 0.7949315053516569\n",
            "F1 is: 0.8197635979618572\n",
            "None\n",
            "-----------------------FOLD 8---------------------\n",
            "[0]\tvalidation_0-mlogloss:2.17183\n",
            "Will train until validation_0-mlogloss hasn't improved in 100 rounds.\n",
            "[99]\tvalidation_0-mlogloss:0.32215\n",
            "Default score: -1.8208903315557616\n",
            "Accuracy is: 0.28564804080686296\n",
            "F1 is: 0.3253367607521793\n",
            "None\n",
            "Default score: -0.5469937245126658\n",
            "Accuracy is: 0.7970634217805329\n",
            "F1 is: 0.8216187129112588\n",
            "None\n",
            "-----------------------FOLD 9---------------------\n",
            "[0]\tvalidation_0-mlogloss:2.17163\n",
            "Will train until validation_0-mlogloss hasn't improved in 100 rounds.\n",
            "[99]\tvalidation_0-mlogloss:0.321371\n",
            "Default score: -1.8668560166937167\n",
            "Accuracy is: 0.2682587526083932\n",
            "F1 is: 0.31677576572304966\n",
            "None\n",
            "Default score: -0.5525052751265483\n",
            "Accuracy is: 0.7949424382564203\n",
            "F1 is: 0.8195268288133623\n",
            "None\n",
            "-----------------------FOLD 10---------------------\n",
            "---------------CROSS VALIDATION COMPLETE\n",
            "----------------TEST EVALUATION------------------\n",
            "----------Valid 1-------------\n",
            "Default score: -1.8543936934848133\n",
            "Accuracy is: 0.27243218177602596\n",
            "F1 is: 0.3214205702961552\n",
            "None\n",
            "----------Valid 2-------------\n",
            "Default score: -0.5502708627155148\n",
            "Accuracy is: 0.7956968086850995\n",
            "F1 is: 0.8205612677048789\n",
            "None\n",
            "----------Valid 3-------------\n",
            "Default score: -0.5901671645276483\n",
            "Accuracy is: 0.778745390326253\n",
            "F1 is: 0.8065104646021322\n",
            "None\n"
          ],
          "name": "stdout"
        },
        {
          "output_type": "display_data",
          "data": {
            "image/png": "[encoded data removed]",
            "text/plain": [
              "<Figure size 864x576 with 1 Axes>"
            ]
          },
          "metadata": {
            "tags": [],
            "needs_background": "light"
          }
        }
      ]
    },
    {
      "cell_type": "code",
      "metadata": {
        "id": "nf6HFAh2MNcv",
        "colab": {
          "base_uri": "https://localhost:8080/",
          "height": 1000
        },
        "outputId": "48960aa9-265e-4b21-a5b3-e883fa830ce9"
      },
      "source": [
        "func6_= Model(traindata, validation1, validation2, validation3, lithology, valid1_lithology, valid2_lithology, valid3_lithology)\n",
        "val6, open_test6, open_test66, model6 = func6_()"
      ],
      "execution_count": null,
      "outputs": [
        {
          "output_type": "stream",
          "text": [
            "/usr/local/lib/python3.6/dist-packages/sklearn/preprocessing/_label.py:235: DataConversionWarning: A column-vector y was passed when a 1d array was expected. Please change the shape of y to (n_samples, ), for example using ravel().\n",
            "  y = column_or_1d(y, warn=True)\n",
            "/usr/local/lib/python3.6/dist-packages/sklearn/preprocessing/_label.py:268: DataConversionWarning: A column-vector y was passed when a 1d array was expected. Please change the shape of y to (n_samples, ), for example using ravel().\n",
            "  y = column_or_1d(y, warn=True)\n"
          ],
          "name": "stderr"
        },
        {
          "output_type": "stream",
          "text": [
            "[0]\tvalidation_0-mlogloss:2.17257\n",
            "Will train until validation_0-mlogloss hasn't improved in 100 rounds.\n",
            "[99]\tvalidation_0-mlogloss:0.316852\n",
            "Default score: -0.45441160128903213\n",
            "Accuracy is: 0.8372041337926436\n",
            "F1 is: 0.8569887345967353\n",
            "None\n",
            "Default score: -0.5564329211628237\n",
            "Accuracy is: 0.7931385089704484\n",
            "F1 is: 0.8195455651040907\n",
            "None\n",
            "-----------------------FOLD 1---------------------\n",
            "[0]\tvalidation_0-mlogloss:2.17224\n",
            "Will train until validation_0-mlogloss hasn't improved in 100 rounds.\n",
            "[99]\tvalidation_0-mlogloss:0.314005\n",
            "Default score: -0.4049061006778531\n",
            "Accuracy is: 0.852205800644516\n",
            "F1 is: 0.8696151201592043\n",
            "None\n",
            "Default score: -0.5539333858112762\n",
            "Accuracy is: 0.7939912755419988\n",
            "F1 is: 0.8207207556507072\n",
            "None\n",
            "-----------------------FOLD 2---------------------\n",
            "[0]\tvalidation_0-mlogloss:2.17225\n",
            "Will train until validation_0-mlogloss hasn't improved in 100 rounds.\n",
            "[99]\tvalidation_0-mlogloss:0.315843\n",
            "Default score: -0.4633848205356151\n",
            "Accuracy is: 0.833425936215135\n",
            "F1 is: 0.8537618092740351\n",
            "None\n",
            "Default score: -0.553557567210032\n",
            "Accuracy is: 0.7921654804464998\n",
            "F1 is: 0.8189765505514561\n",
            "None\n",
            "-----------------------FOLD 3---------------------\n",
            "[0]\tvalidation_0-mlogloss:2.17192\n",
            "Will train until validation_0-mlogloss hasn't improved in 100 rounds.\n",
            "[99]\tvalidation_0-mlogloss:0.310744\n",
            "Default score: -0.4023780420046672\n",
            "Accuracy is: 0.8510945660628959\n",
            "F1 is: 0.8680384816992567\n",
            "None\n",
            "Default score: -0.548804486864115\n",
            "Accuracy is: 0.7956749428755726\n",
            "F1 is: 0.8222085166404756\n",
            "None\n",
            "-----------------------FOLD 4---------------------\n",
            "[0]\tvalidation_0-mlogloss:2.17269\n",
            "Will train until validation_0-mlogloss hasn't improved in 100 rounds.\n",
            "[99]\tvalidation_0-mlogloss:0.313381\n",
            "Default score: -0.39055728414268254\n",
            "Accuracy is: 0.8548727636404045\n",
            "F1 is: 0.8712506839160118\n",
            "None\n",
            "Default score: -0.5548941148173658\n",
            "Accuracy is: 0.7927449243989636\n",
            "F1 is: 0.817885829201667\n",
            "None\n",
            "-----------------------FOLD 5---------------------\n",
            "[0]\tvalidation_0-mlogloss:2.1719\n",
            "Will train until validation_0-mlogloss hasn't improved in 100 rounds.\n",
            "[99]\tvalidation_0-mlogloss:0.31277\n",
            "Default score: -0.47913657073008115\n",
            "Accuracy is: 0.8297588620957884\n",
            "F1 is: 0.8516163004959109\n",
            "None\n",
            "Default score: -0.5645150710092164\n",
            "Accuracy is: 0.7900772956366777\n",
            "F1 is: 0.8150304205007414\n",
            "None\n",
            "-----------------------FOLD 6---------------------\n",
            "[0]\tvalidation_0-mlogloss:2.17258\n",
            "Will train until validation_0-mlogloss hasn't improved in 100 rounds.\n",
            "[99]\tvalidation_0-mlogloss:0.314817\n",
            "Default score: -0.39109901100122235\n",
            "Accuracy is: 0.8563173685965108\n",
            "F1 is: 0.8731546001466187\n",
            "None\n",
            "Default score: -0.5684659494681141\n",
            "Accuracy is: 0.7878688488744574\n",
            "F1 is: 0.814196450440093\n",
            "None\n",
            "-----------------------FOLD 7---------------------\n",
            "[0]\tvalidation_0-mlogloss:2.17256\n",
            "Will train until validation_0-mlogloss hasn't improved in 100 rounds.\n",
            "[99]\tvalidation_0-mlogloss:0.31419\n",
            "Default score: -0.441521280142238\n",
            "Accuracy is: 0.8419824424936104\n",
            "F1 is: 0.8615612345622661\n",
            "None\n",
            "Default score: -0.5600230137645271\n",
            "Accuracy is: 0.7917609629702516\n",
            "F1 is: 0.8182326571933212\n",
            "None\n",
            "-----------------------FOLD 8---------------------\n",
            "[0]\tvalidation_0-mlogloss:2.17294\n",
            "Will train until validation_0-mlogloss hasn't improved in 100 rounds.\n",
            "[99]\tvalidation_0-mlogloss:0.315497\n",
            "Default score: -0.4130458939882209\n",
            "Accuracy is: 0.8500944549394377\n",
            "F1 is: 0.8677904169016823\n",
            "None\n",
            "Default score: -0.5505687843703193\n",
            "Accuracy is: 0.7949205724468934\n",
            "F1 is: 0.8198832453246401\n",
            "None\n",
            "-----------------------FOLD 9---------------------\n",
            "[0]\tvalidation_0-mlogloss:2.1729\n",
            "Will train until validation_0-mlogloss hasn't improved in 100 rounds.\n",
            "[99]\tvalidation_0-mlogloss:0.315031\n",
            "Default score: -0.42854761640182243\n",
            "Accuracy is: 0.845427269696633\n",
            "F1 is: 0.8637022502907447\n",
            "None\n",
            "Default score: -0.5553232313293319\n",
            "Accuracy is: 0.7925809308275116\n",
            "F1 is: 0.8175661093245857\n",
            "None\n",
            "-----------------------FOLD 10---------------------\n",
            "---------------CROSS VALIDATION COMPLETE\n",
            "----------------TEST EVALUATION------------------\n",
            "----------Valid 1-------------\n",
            "Default score: -0.42632514723858206\n",
            "Accuracy is: 0.845538393154795\n",
            "F1 is: 0.8636490580114276\n",
            "None\n",
            "----------Valid 2-------------\n",
            "Default score: -0.5542340406922716\n",
            "Accuracy is: 0.7934555632085889\n",
            "F1 is: 0.8195003651891437\n",
            "None\n",
            "----------Valid 3-------------\n",
            "Default score: -0.588255183754488\n",
            "Accuracy is: 0.7796016463468032\n",
            "F1 is: 0.810493341605381\n",
            "None\n"
          ],
          "name": "stdout"
        },
        {
          "output_type": "display_data",
          "data": {
            "image/png": "[encoded data removed]",
            "text/plain": [
              "<Figure size 864x576 with 1 Axes>"
            ]
          },
          "metadata": {
            "tags": [],
            "needs_background": "light"
          }
        }
      ]
    },
    {
      "cell_type": "code",
      "metadata": {
        "id": "Q7SBASef6oAp"
      },
      "source": [
        "val1=val6"
      ],
      "execution_count": null,
      "outputs": []
    },
    {
      "cell_type": "code",
      "metadata": {
        "id": "7jHY573Hkrvh"
      },
      "source": [
        "func7_= Model(traindata, validation1, validation2, validation3, lithology, valid1_lithology, valid2_lithology, valid3_lithology)\n",
        "val7, open_test7, open_test77, model7 = func7_()"
      ],
      "execution_count": null,
      "outputs": []
    },
    {
      "cell_type": "code",
      "metadata": {
        "id": "HXzhMC9nTzCc"
      },
      "source": [
        "func8_= Model(traindata, validation1, validation2, validation3, lithology, valid1_lithology, valid2_lithology, valid3_lithology)\n",
        "val8, open_test8, open_test88, model8 = func8_()"
      ],
      "execution_count": null,
      "outputs": []
    },
    {
      "cell_type": "code",
      "metadata": {
        "id": "Jqb8u6CMTzZ_"
      },
      "source": [
        "func9_= Model(traindata, validation1, validation2, validation3, lithology, valid1_lithology, valid2_lithology, valid3_lithology)\n",
        "val9, open_test9, open_test99, model9 = func9_()"
      ],
      "execution_count": null,
      "outputs": []
    },
    {
      "cell_type": "code",
      "metadata": {
        "id": "VHC_rmRQTzq5"
      },
      "source": [
        "func10_= Model(traindata, validation1, validation2, validation3, lithology, valid1_lithology, valid2_lithology, valid3_lithology)\n",
        "val10, open_test10, open_test110, model10 = func10_()"
      ],
      "execution_count": null,
      "outputs": []
    },
    {
      "cell_type": "code",
      "metadata": {
        "id": "cjV1O-Y5Tz-2",
        "colab": {
          "base_uri": "https://localhost:8080/",
          "height": 104
        },
        "outputId": "5d3d1d45-904f-48d3-8231-5b8498ba20ed"
      },
      "source": [
        "valid1.FORCE_2020_LITHOFACIES_LITHOLOGY.value_counts()"
      ],
      "execution_count": null,
      "outputs": [
        {
          "output_type": "execute_result",
          "data": {
            "text/plain": [
              "65030    2684\n",
              "30000     666\n",
              "65000     536\n",
              "70000     427\n",
              "Name: FORCE_2020_LITHOFACIES_LITHOLOGY, dtype: int64"
            ]
          },
          "metadata": {
            "tags": []
          },
          "execution_count": 19
        }
      ]
    },
    {
      "cell_type": "code",
      "metadata": {
        "id": "mCLPMaMBE_gE",
        "colab": {
          "base_uri": "https://localhost:8080/",
          "height": 419
        },
        "outputId": "a3163c97-c069-4f9f-e3a2-3d57867d54c9"
      },
      "source": [
        "stack_p"
      ],
      "execution_count": null,
      "outputs": [
        {
          "output_type": "execute_result",
          "data": {
            "text/html": [
              "<div>\n",
              "<style scoped>\n",
              "    .dataframe tbody tr th:only-of-type {\n",
              "        vertical-align: middle;\n",
              "    }\n",
              "\n",
              "    .dataframe tbody tr th {\n",
              "        vertical-align: top;\n",
              "    }\n",
              "\n",
              "    .dataframe thead th {\n",
              "        text-align: right;\n",
              "    }\n",
              "</style>\n",
              "<table border=\"1\" class=\"dataframe\">\n",
              "  <thead>\n",
              "    <tr style=\"text-align: right;\">\n",
              "      <th></th>\n",
              "      <th>0</th>\n",
              "    </tr>\n",
              "  </thead>\n",
              "  <tbody>\n",
              "    <tr>\n",
              "      <th>0</th>\n",
              "      <td>0</td>\n",
              "    </tr>\n",
              "    <tr>\n",
              "      <th>1</th>\n",
              "      <td>0</td>\n",
              "    </tr>\n",
              "    <tr>\n",
              "      <th>2</th>\n",
              "      <td>0</td>\n",
              "    </tr>\n",
              "    <tr>\n",
              "      <th>3</th>\n",
              "      <td>0</td>\n",
              "    </tr>\n",
              "    <tr>\n",
              "      <th>4</th>\n",
              "      <td>0</td>\n",
              "    </tr>\n",
              "    <tr>\n",
              "      <th>...</th>\n",
              "      <td>...</td>\n",
              "    </tr>\n",
              "    <tr>\n",
              "      <th>13000</th>\n",
              "      <td>0</td>\n",
              "    </tr>\n",
              "    <tr>\n",
              "      <th>13001</th>\n",
              "      <td>0</td>\n",
              "    </tr>\n",
              "    <tr>\n",
              "      <th>13002</th>\n",
              "      <td>0</td>\n",
              "    </tr>\n",
              "    <tr>\n",
              "      <th>13003</th>\n",
              "      <td>0</td>\n",
              "    </tr>\n",
              "    <tr>\n",
              "      <th>13004</th>\n",
              "      <td>0</td>\n",
              "    </tr>\n",
              "  </tbody>\n",
              "</table>\n",
              "<p>68679 rows × 1 columns</p>\n",
              "</div>"
            ],
            "text/plain": [
              "       0\n",
              "0      0\n",
              "1      0\n",
              "2      0\n",
              "3      0\n",
              "4      0\n",
              "...   ..\n",
              "13000  0\n",
              "13001  0\n",
              "13002  0\n",
              "13003  0\n",
              "13004  0\n",
              "\n",
              "[68679 rows x 1 columns]"
            ]
          },
          "metadata": {
            "tags": []
          },
          "execution_count": 60
        }
      ]
    },
    {
      "cell_type": "code",
      "metadata": {
        "id": "SFN602C-aQJm",
        "colab": {
          "base_uri": "https://localhost:8080/",
          "height": 34
        },
        "outputId": "1a09b801-f628-4cde-ab92-86bc0a15591f"
      },
      "source": [
        "stack = np.concatenate((val1, val2, val3, val4, val5))\n",
        "stack.shape"
      ],
      "execution_count": null,
      "outputs": [
        {
          "output_type": "execute_result",
          "data": {
            "text/plain": [
              "(36050,)"
            ]
          },
          "metadata": {
            "tags": []
          },
          "execution_count": 67
        }
      ]
    },
    {
      "cell_type": "code",
      "metadata": {
        "id": "xBT8TuKxmQKB"
      },
      "source": [
        " stack_p = pd.concat((pd.DataFrame(val1), pd.DataFrame(val2), pd.DataFrame(val3), pd.DataFrame(val4)), axis=0)"
      ],
      "execution_count": null,
      "outputs": []
    },
    {
      "cell_type": "code",
      "metadata": {
        "id": "7qepp1HwnBzY",
        "colab": {
          "base_uri": "https://localhost:8080/",
          "height": 419
        },
        "outputId": "61d1ab55-75a3-46cc-e725-8cae8b45941e"
      },
      "source": [
        "stack_p = pd.DataFrame(stack)\n",
        "stack_p"
      ],
      "execution_count": null,
      "outputs": [
        {
          "output_type": "execute_result",
          "data": {
            "text/html": [
              "<div>\n",
              "<style scoped>\n",
              "    .dataframe tbody tr th:only-of-type {\n",
              "        vertical-align: middle;\n",
              "    }\n",
              "\n",
              "    .dataframe tbody tr th {\n",
              "        vertical-align: top;\n",
              "    }\n",
              "\n",
              "    .dataframe thead th {\n",
              "        text-align: right;\n",
              "    }\n",
              "</style>\n",
              "<table border=\"1\" class=\"dataframe\">\n",
              "  <thead>\n",
              "    <tr style=\"text-align: right;\">\n",
              "      <th></th>\n",
              "      <th>0</th>\n",
              "    </tr>\n",
              "  </thead>\n",
              "  <tbody>\n",
              "    <tr>\n",
              "      <th>0</th>\n",
              "      <td>2</td>\n",
              "    </tr>\n",
              "    <tr>\n",
              "      <th>1</th>\n",
              "      <td>2</td>\n",
              "    </tr>\n",
              "    <tr>\n",
              "      <th>2</th>\n",
              "      <td>2</td>\n",
              "    </tr>\n",
              "    <tr>\n",
              "      <th>3</th>\n",
              "      <td>2</td>\n",
              "    </tr>\n",
              "    <tr>\n",
              "      <th>4</th>\n",
              "      <td>2</td>\n",
              "    </tr>\n",
              "    <tr>\n",
              "      <th>...</th>\n",
              "      <td>...</td>\n",
              "    </tr>\n",
              "    <tr>\n",
              "      <th>36045</th>\n",
              "      <td>0</td>\n",
              "    </tr>\n",
              "    <tr>\n",
              "      <th>36046</th>\n",
              "      <td>0</td>\n",
              "    </tr>\n",
              "    <tr>\n",
              "      <th>36047</th>\n",
              "      <td>0</td>\n",
              "    </tr>\n",
              "    <tr>\n",
              "      <th>36048</th>\n",
              "      <td>0</td>\n",
              "    </tr>\n",
              "    <tr>\n",
              "      <th>36049</th>\n",
              "      <td>0</td>\n",
              "    </tr>\n",
              "  </tbody>\n",
              "</table>\n",
              "<p>36050 rows × 1 columns</p>\n",
              "</div>"
            ],
            "text/plain": [
              "       0\n",
              "0      2\n",
              "1      2\n",
              "2      2\n",
              "3      2\n",
              "4      2\n",
              "...   ..\n",
              "36045  0\n",
              "36046  0\n",
              "36047  0\n",
              "36048  0\n",
              "36049  0\n",
              "\n",
              "[36050 rows x 1 columns]"
            ]
          },
          "metadata": {
            "tags": []
          },
          "execution_count": 68
        }
      ]
    },
    {
      "cell_type": "code",
      "metadata": {
        "id": "5nzOQSppk0yT"
      },
      "source": [
        "#stack_df = pd.DataFrame(stack_p)\n",
        "stack_p.to_csv('/content/drive/My Drive/FORCE-Lithology-Prediction/stack_p1.csv', index=False)"
      ],
      "execution_count": null,
      "outputs": []
    },
    {
      "cell_type": "code",
      "metadata": {
        "id": "MOBY4uHHnYvF",
        "colab": {
          "base_uri": "https://localhost:8080/",
          "height": 34
        },
        "outputId": "4309437c-a91f-439d-8cab-23f79913ed7f"
      },
      "source": [
        "a = pd.read_csv('/content/drive/My Drive/FORCE-Lithology-Prediction/stack_p.csv')\n",
        "b = pd.read_csv('/content/drive/My Drive/FORCE-Lithology-Prediction/stack_p1.csv')\n",
        "#b1 = pd.read_csv('/content/drive/My Drive/FORCE-Lithology-Prediction/stack_df2.csv')\n",
        "#.drop(['Unnamed: 0'], inplace=True, axis=1)\n",
        "#.drop(['Unnamed: 0'], inplace=True, axis=1)\n",
        "#.drop(['Unnamed: 0'], inplace=True, axis=1)\n",
        " \n",
        "c = pd.concat((a, b))\n",
        "c.shape"
      ],
      "execution_count": null,
      "outputs": [
        {
          "output_type": "execute_result",
          "data": {
            "text/plain": [
              "(114079, 1)"
            ]
          },
          "metadata": {
            "tags": []
          },
          "execution_count": 70
        }
      ]
    },
    {
      "cell_type": "code",
      "metadata": {
        "id": "4b0cO-NsGGXF",
        "colab": {
          "base_uri": "https://localhost:8080/",
          "height": 34
        },
        "outputId": "aa878c70-a367-4f3e-88c2-e51256ab1082"
      },
      "source": [
        "#c.drop(['Unnamed: 0'], inplace=True, axis=1)\n",
        "c = pd.DataFrame(val6)\n",
        "c.shape"
      ],
      "execution_count": null,
      "outputs": [
        {
          "output_type": "execute_result",
          "data": {
            "text/plain": [
              "(4313, 1)"
            ]
          },
          "metadata": {
            "tags": []
          },
          "execution_count": 56
        }
      ]
    },
    {
      "cell_type": "code",
      "metadata": {
        "id": "whD1Z1klHIOH",
        "colab": {
          "base_uri": "https://localhost:8080/",
          "height": 34
        },
        "outputId": "aa5105a1-cf14-4029-e6d2-3375317b4528"
      },
      "source": [
        "c.columns"
      ],
      "execution_count": null,
      "outputs": [
        {
          "output_type": "execute_result",
          "data": {
            "text/plain": [
              "Index(['0'], dtype='object')"
            ]
          },
          "metadata": {
            "tags": []
          },
          "execution_count": 71
        }
      ]
    },
    {
      "cell_type": "code",
      "metadata": {
        "id": "EQmgEWRqHjRQ"
      },
      "source": [
        "stack_df = pd.DataFrame(val6)\n",
        "stack_df.to_csv('/content/drive/My Drive/FORCE-Lithology-Prediction/stack_df2.csv')"
      ],
      "execution_count": null,
      "outputs": []
    },
    {
      "cell_type": "code",
      "metadata": {
        "id": "9coOiEXfF2LS",
        "colab": {
          "base_uri": "https://localhost:8080/",
          "height": 88
        },
        "outputId": "62ec3e72-1b6a-4379-a393-1dd45e117aa7"
      },
      "source": [
        "show_evaluation(np.array(c['0']), valid1_lithology)"
      ],
      "execution_count": null,
      "outputs": [
        {
          "output_type": "stream",
          "text": [
            "Default score: -0.6328180471427695\n",
            "Accuracy is: 0.7624190254122143\n",
            "F1 is: 0.7975943953931351\n"
          ],
          "name": "stdout"
        }
      ]
    },
    {
      "cell_type": "code",
      "metadata": {
        "id": "FeagpVMCJW0d",
        "colab": {
          "base_uri": "https://localhost:8080/",
          "height": 225
        },
        "outputId": "027361e6-5be9-46a1-9fa7-e2a4ec9b318e"
      },
      "source": [
        "valid1_lithology"
      ],
      "execution_count": null,
      "outputs": [
        {
          "output_type": "execute_result",
          "data": {
            "text/plain": [
              "0         2\n",
              "1         2\n",
              "2         2\n",
              "3         2\n",
              "4         2\n",
              "         ..\n",
              "114074    2\n",
              "114075    2\n",
              "114076    2\n",
              "114077    2\n",
              "114078    2\n",
              "Name: FORCE_2020_LITHOFACIES_LITHOLOGY, Length: 114079, dtype: int64"
            ]
          },
          "metadata": {
            "tags": []
          },
          "execution_count": 73
        }
      ]
    },
    {
      "cell_type": "code",
      "metadata": {
        "id": "LW6_sdL7Mbpn"
      },
      "source": [
        "stack = np.column_stack((pred1, pred2, pred3, pred4, pred5, pred6, pred7, pred8, pred9, pred10))\n",
        "stack_p = np.column_stack((val1, val2, val3, val4, val5, val6, val7, val8, val9, val10))\n",
        "stack_open = np.column_stack((open_test1, open_test2, open_test3, open_test4, open_test5, open_test6, open_test7, open_test8, open_test9, open_test10))\n",
        "stack_open1 = np.column_stack((open_test11, open_test22, open_test33, open_test44, open_test55, open_test66, open_test77, open_test88, open_test99, open_test110))"
      ],
      "execution_count": null,
      "outputs": []
    },
    {
      "cell_type": "code",
      "metadata": {
        "id": "Df0jraJzXFK-"
      },
      "source": [
        "final_open_pred = pd.DataFrame(final_open_pred)\n",
        "final_open_pred1 = pd.DataFrame(final_open_pred1)\n",
        "final_open_pred11 = pd.DataFrame(final_open_pred11)\n",
        "    \n",
        "final_open_pred = np.array(pd.DataFrame(final_open_pred).idxmax(axis=1))\n",
        "final_open_pred1 = np.array(pd.DataFrame(final_open_pred1).idxmax(axis=1))\n",
        "final_open_pred11 = np.array(pd.DataFrame(final_open_pred11).idxmax(axis=1))"
      ],
      "execution_count": null,
      "outputs": []
    },
    {
      "cell_type": "markdown",
      "metadata": {
        "id": "5t9ICNzBnXJJ"
      },
      "source": [
        "LOGISTIC REGRESSION META STACKER RESULT"
      ]
    },
    {
      "cell_type": "code",
      "metadata": {
        "id": "9z39ahUPM3_L",
        "colab": {
          "base_uri": "https://localhost:8080/",
          "height": 241
        },
        "outputId": "e712e096-fdf4-464d-a6de-e93dedea8955"
      },
      "source": [
        "print(show_evaluation(final_open_pred, valid1_lithology))\n",
        "print(show_evaluation(final_open_pred1, valid2_lithology))\n",
        "print(show_evaluation(final_open_pred11, valid3_lithology))"
      ],
      "execution_count": null,
      "outputs": [
        {
          "output_type": "stream",
          "text": [
            "Default score: -0.633995958940734\n",
            "Accuracy is: 0.7617177569929611\n",
            "F1 is: 0.7925249219163572\n",
            "None\n",
            "Default score: -0.5702425464921775\n",
            "Accuracy is: 0.7877267211125324\n",
            "F1 is: 0.8117928871333983\n",
            "None\n",
            "Default score: -0.6056259912622965\n",
            "Accuracy is: 0.7732916232862717\n",
            "F1 is: 0.8006195669948752\n",
            "None\n"
          ],
          "name": "stdout"
        }
      ]
    },
    {
      "cell_type": "code",
      "metadata": {
        "id": "beHZTqGCY-ii",
        "colab": {
          "base_uri": "https://localhost:8080/",
          "height": 225
        },
        "outputId": "a8adea0a-1ba3-4a3e-c5a7-44625758091a"
      },
      "source": [
        "print(show_evaluation(final_open_pred, valid1_lithology))\n",
        "print(show_evaluation(final_open_pred1, valid2_lithology))\n",
        "print(show_evaluation(final_open_pred11, valid3_lithology))"
      ],
      "execution_count": null,
      "outputs": [
        {
          "output_type": "stream",
          "text": [
            "Default score: -0.6904940874306402\n",
            "Accuracy is: 0.7402764750742906\n",
            "F1 is: 0.7768162983540243\n",
            "None\n",
            "Default score: -0.590144533000973\n",
            "Accuracy is: 0.7831895656356938\n",
            "F1 is: 0.8097090499288114\n",
            "None\n",
            "Default score: -0.6458390092728635\n",
            "Accuracy is: 0.759372597861306\n",
            "F1 is: 0.7914893550723794\n",
            "None\n"
          ],
          "name": "stdout"
        }
      ]
    },
    {
      "cell_type": "code",
      "metadata": {
        "id": "owLlvBnZcCHI",
        "colab": {
          "base_uri": "https://localhost:8080/",
          "height": 34
        },
        "outputId": "91a4e293-a0ab-4db8-b826-f6e79ebcfef5"
      },
      "source": [
        "stack_p.shape"
      ],
      "execution_count": null,
      "outputs": [
        {
          "output_type": "execute_result",
          "data": {
            "text/plain": [
              "(114079, 48)"
            ]
          },
          "metadata": {
            "tags": []
          },
          "execution_count": 42
        }
      ]
    },
    {
      "cell_type": "code",
      "metadata": {
        "id": "dC_N4smEipBZ"
      },
      "source": [
        "class Model():\n",
        "    \n",
        "    def __init__(self, train, validation1, validation2, validation3, train_label, valid_label1, valid_label2, valid_label3):\n",
        "        \n",
        "        \n",
        "        self.train = train\n",
        "        #self.test = test\n",
        "        self.validation1 = validation1\n",
        "        self.validation2 = validation2\n",
        "        self.validation3 = validation3\n",
        "        self.train_label = train_label\n",
        "        self.valid_label1 = valid_label1\n",
        "        self.valid_label2 = valid_label2\n",
        "        self.valid_label3 = valid_label3\n",
        "        \n",
        "    def __call__(self, plot = True):\n",
        "        return self.fit(plot)\n",
        "    \n",
        "    def fit(self, plot):\n",
        " \n",
        "      #self.x_train, self.x_test, self.y_train, self.y_test = ms.train_test_split(self.train, \n",
        "                                                                                  # pd.DataFrame(np.array(self.train_label)), \n",
        "                                                                                   #test_size=0.2,\n",
        "                                                                                   #random_state=212)\n",
        "      #self.x_train = self.train.iloc[:700000]\n",
        "      #self.x_test = self.train.iloc[700000:]\n",
        "      #self.y_train = pd.DataFrame(self.train_label).iloc[:700000]\n",
        "      #self.y_test = pd.DataFrame(self.train_label).iloc[700000:]\n",
        "      \n",
        "      def show_evaluation(pred, true):\n",
        "        \n",
        "        print(f'Default score: {score(true.values, pred)}')\n",
        "        print(f'Accuracy is: {accuracy_score(true, pred)}')\n",
        "        print(f'F1 is: {f1_score(pred, true.values, average=\"weighted\")}')\n",
        "      split = 10\n",
        "      kf = StratifiedKFold(n_splits=split, shuffle=True)\n",
        "  \n",
        "      #pred = np.zeros((len(self.test), 12))\n",
        "      val1 = np.zeros((len(self.validation1), 12))\n",
        "      val2 = np.zeros((len(self.validation2), 12))\n",
        "      val3 = np.zeros((len(self.validation3), 12))\n",
        " \n",
        "      #model = CatBoostClassifier(n_estimators=5000, random_state=2020, learning_rate=0.033,\n",
        "                                 #use_best_model=True, max_depth=10, reg_lambda=1500,\n",
        "                                 #eval_metric='MultiClass', task_type='GPU', verbose=100)\n",
        " \n",
        "      model = XGBClassifier(n_estimators=100, max_depth=10, reg_lambda=1500, booster_type='gbtree',\n",
        "                            objective='multi:softprob', learning_rate=0.1, random_state=0,\n",
        "                            subsample=0.9, col_sample_bytree=0.9, tree_method='gpu_hist',\n",
        "                            eval_metric='mlogloss', verbose=2020)\n",
        "      \n",
        "      #model = LGBMClassifier(n_estimators=50000, max_depth=10, reg_lambda=200,\n",
        "                            #objective='multiclass', learning_rate=0.033,\n",
        "                            #eval_metric='multi_logloss')\n",
        "      \n",
        "      #model = RandomForestClassifier(n_estimators=100, class_weight='balanced', verbose=2)\n",
        "      i = 1\n",
        "      for (train_index, test_index) in kf.split(pd.DataFrame(traindata), pd.DataFrame(lithology)):\n",
        "        X_train,X_test = pd.DataFrame(traindata).iloc[train_index], pd.DataFrame(traindata).iloc[test_index]\n",
        "        Y_train,Y_test = pd.DataFrame(lithology).iloc[train_index],pd.DataFrame(lithology).iloc[test_index]\n",
        "    \n",
        "        \n",
        "        model.fit(X_train, Y_train, early_stopping_rounds=100, eval_set=[(X_test, Y_test)], verbose=100)\n",
        "        #model.fit(X_train, Y_train)\n",
        "        prediction1 = model.predict(pd.DataFrame(self.validation1))\n",
        "        prediction = model.predict(pd.DataFrame(self.validation2))\n",
        "        print(show_evaluation(prediction1, self.valid_label1))\n",
        "        print(show_evaluation(prediction, self.valid_label2))\n",
        " \n",
        "        print(f'-----------------------FOLD {i}---------------------')\n",
        "        i+=1\n",
        " \n",
        "        #pred += model.predict_proba(self.test)\n",
        "        val1 += model.predict_proba(pd.DataFrame(self.validation1))\n",
        "        val2 += model.predict_proba(pd.DataFrame(self.validation2))\n",
        "        val3 += model.predict_proba(pd.DataFrame(self.validation3))\n",
        "      \n",
        "      #pred = pd.DataFrame(pred/split)\n",
        "      val1 = pd.DataFrame(val1/split)\n",
        "      val2 = pd.DataFrame(val2/split)\n",
        "      val3 = pd.DataFrame(val3/split)\n",
        "    \n",
        "      #pred = np.array(pd.DataFrame(pred).idxmax(axis=1))\n",
        "      val1 = np.array(pd.DataFrame(val1).idxmax(axis=1))\n",
        "      val2 = np.array(pd.DataFrame(val2).idxmax(axis=1))\n",
        "      val3 = np.array(pd.DataFrame(val3).idxmax(axis=1))\n",
        " \n",
        "      print('---------------CROSS VALIDATION COMPLETE')\n",
        "      print('----------------TEST EVALUATION------------------')\n",
        " \n",
        "      print('----------Valid 1-------------')\n",
        "      print(show_evaluation(val1, self.valid_label1))\n",
        "      print('----------Valid 2-------------')\n",
        "      print(show_evaluation(val2, self.valid_label2))\n",
        "      print('----------Valid 3-------------')\n",
        "      print(show_evaluation(val3, self.valid_label3))\n",
        "                  \n",
        "      if plot: self.plot_feat_imp(model)\n",
        "      return val1, val2, val3, model\n",
        "              \n",
        "              \n",
        "    def plot_feat_imp(self, model):\n",
        "        feat_imp = pd.Series(model.feature_importances_).sort_values(ascending=False)\n",
        "        plt.figure(figsize=(12,8))\n",
        "        feat_imp.plot(kind='bar', title='Feature Importances')\n",
        "        plt.ylabel('Feature Importance Score')"
      ],
      "execution_count": null,
      "outputs": []
    },
    {
      "cell_type": "code",
      "metadata": {
        "id": "ctVI6slg0jyq",
        "colab": {
          "base_uri": "https://localhost:8080/",
          "height": 1000
        },
        "outputId": "5939f11a-dbaa-4acb-80ee-dbf53026c3e0"
      },
      "source": [
        "func1_= Model(traindata, validation1, validation2, validation3, lithology, valid1_lithology, valid2_lithology, valid3_lithology)\n",
        "val1, open_test1, open_test11, model1 = func1_()"
      ],
      "execution_count": null,
      "outputs": [
        {
          "output_type": "stream",
          "text": [
            "/usr/local/lib/python3.6/dist-packages/sklearn/preprocessing/_label.py:235: DataConversionWarning: A column-vector y was passed when a 1d array was expected. Please change the shape of y to (n_samples, ), for example using ravel().\n",
            "  y = column_or_1d(y, warn=True)\n",
            "/usr/local/lib/python3.6/dist-packages/sklearn/preprocessing/_label.py:268: DataConversionWarning: A column-vector y was passed when a 1d array was expected. Please change the shape of y to (n_samples, ), for example using ravel().\n",
            "  y = column_or_1d(y, warn=True)\n"
          ],
          "name": "stderr"
        },
        {
          "output_type": "stream",
          "text": [
            "[0]\tvalidation_0-mlogloss:2.17102\n",
            "Will train until validation_0-mlogloss hasn't improved in 100 rounds.\n",
            "[99]\tvalidation_0-mlogloss:0.317597\n",
            "Default score: -1.2439839572192513\n",
            "Accuracy is: 0.5127272727272727\n",
            "F1 is: 0.571602728382017\n",
            "None\n",
            "Default score: -0.5664706943487815\n",
            "Accuracy is: 0.788677883826954\n",
            "F1 is: 0.8132841245547537\n",
            "None\n",
            "-----------------------FOLD 1---------------------\n",
            "[0]\tvalidation_0-mlogloss:2.17045\n",
            "Will train until validation_0-mlogloss hasn't improved in 100 rounds.\n",
            "[99]\tvalidation_0-mlogloss:0.315399\n",
            "Default score: -1.2578877005347593\n",
            "Accuracy is: 0.5098395721925134\n",
            "F1 is: 0.5750867495123634\n",
            "None\n",
            "Default score: -0.5660935091344419\n",
            "Accuracy is: 0.7889293406365138\n",
            "F1 is: 0.8139041291383725\n",
            "None\n",
            "-----------------------FOLD 2---------------------\n",
            "[0]\tvalidation_0-mlogloss:2.1711\n",
            "Will train until validation_0-mlogloss hasn't improved in 100 rounds.\n",
            "[99]\tvalidation_0-mlogloss:0.32224\n",
            "Default score: -1.255548128342246\n",
            "Accuracy is: 0.512192513368984\n",
            "F1 is: 0.5754673449919605\n",
            "None\n",
            "Default score: -0.5602662708955143\n",
            "Accuracy is: 0.7906348737796145\n",
            "F1 is: 0.8153412346558939\n",
            "None\n",
            "-----------------------FOLD 3---------------------\n",
            "[0]\tvalidation_0-mlogloss:2.17036\n",
            "Will train until validation_0-mlogloss hasn't improved in 100 rounds.\n",
            "[99]\tvalidation_0-mlogloss:0.31848\n",
            "Default score: -1.2519652406417112\n",
            "Accuracy is: 0.513903743315508\n",
            "F1 is: 0.5741892482208923\n",
            "None\n",
            "Default score: -0.5649264215509419\n",
            "Accuracy is: 0.7889949380650945\n",
            "F1 is: 0.8135728850660696\n",
            "None\n",
            "-----------------------FOLD 4---------------------\n",
            "[0]\tvalidation_0-mlogloss:2.17075\n",
            "Will train until validation_0-mlogloss hasn't improved in 100 rounds.\n",
            "[99]\tvalidation_0-mlogloss:0.319944\n",
            "Default score: -1.2497192513368984\n",
            "Accuracy is: 0.513048128342246\n",
            "F1 is: 0.5725466316346929\n",
            "None\n",
            "Default score: -0.560391999300294\n",
            "Accuracy is: 0.790951928017755\n",
            "F1 is: 0.8148620717304434\n",
            "None\n",
            "-----------------------FOLD 5---------------------\n",
            "[0]\tvalidation_0-mlogloss:2.17101\n",
            "Will train until validation_0-mlogloss hasn't improved in 100 rounds.\n",
            "[99]\tvalidation_0-mlogloss:0.322627\n",
            "Default score: -1.2571524064171122\n",
            "Accuracy is: 0.5131550802139038\n",
            "F1 is: 0.5802057811164275\n",
            "None\n",
            "Default score: -0.5648184591164026\n",
            "Accuracy is: 0.78916986454131\n",
            "F1 is: 0.8148025819921484\n",
            "None\n",
            "-----------------------FOLD 6---------------------\n",
            "[0]\tvalidation_0-mlogloss:2.17152\n",
            "Will train until validation_0-mlogloss hasn't improved in 100 rounds.\n",
            "[99]\tvalidation_0-mlogloss:0.319856\n",
            "Default score: -1.265053475935829\n",
            "Accuracy is: 0.5055614973262033\n",
            "F1 is: 0.5716251280127718\n",
            "None\n",
            "Default score: -0.5645123377830256\n",
            "Accuracy is: 0.7896399794461391\n",
            "F1 is: 0.8127261540475981\n",
            "None\n",
            "-----------------------FOLD 7---------------------\n",
            "[0]\tvalidation_0-mlogloss:2.17226\n",
            "Will train until validation_0-mlogloss hasn't improved in 100 rounds.\n",
            "[99]\tvalidation_0-mlogloss:0.320725\n",
            "Default score: -1.259451871657754\n",
            "Accuracy is: 0.507807486631016\n",
            "F1 is: 0.5687731819358535\n",
            "None\n",
            "Default score: -0.5736932445581466\n",
            "Accuracy is: 0.7869504848743263\n",
            "F1 is: 0.812157737525746\n",
            "None\n",
            "-----------------------FOLD 8---------------------\n",
            "[0]\tvalidation_0-mlogloss:2.17054\n",
            "Will train until validation_0-mlogloss hasn't improved in 100 rounds.\n",
            "[99]\tvalidation_0-mlogloss:0.318153\n",
            "Default score: -1.2513903743315509\n",
            "Accuracy is: 0.5120855614973262\n",
            "F1 is: 0.5743871849702967\n",
            "None\n",
            "Default score: -0.5652790077295636\n",
            "Accuracy is: 0.7880656411601998\n",
            "F1 is: 0.8114597153969825\n",
            "None\n",
            "-----------------------FOLD 9---------------------\n",
            "[0]\tvalidation_0-mlogloss:2.17235\n",
            "Will train until validation_0-mlogloss hasn't improved in 100 rounds.\n",
            "[99]\tvalidation_0-mlogloss:0.317646\n",
            "Default score: -1.2496256684491978\n",
            "Accuracy is: 0.5136898395721925\n",
            "F1 is: 0.5801423853165835\n",
            "None\n",
            "Default score: -0.5749901603857129\n",
            "Accuracy is: 0.7852886833502793\n",
            "F1 is: 0.8099927562232007\n",
            "None\n",
            "-----------------------FOLD 10---------------------\n",
            "---------------CROSS VALIDATION COMPLETE\n",
            "----------------TEST EVALUATION------------------\n",
            "----------Valid 1-------------\n",
            "Default score: -1.2564705882352942\n",
            "Accuracy is: 0.5105882352941177\n",
            "F1 is: 0.5723072767138077\n",
            "None\n",
            "----------Valid 2-------------\n",
            "Default score: -0.5644248745449179\n",
            "Accuracy is: 0.7896181136366122\n",
            "F1 is: 0.8145506997569915\n",
            "None\n",
            "----------Valid 3-------------\n",
            "Default score: -0.5958806058011346\n",
            "Accuracy is: 0.7764101466338436\n",
            "F1 is: 0.8029357223351545\n",
            "None\n"
          ],
          "name": "stdout"
        },
        {
          "output_type": "display_data",
          "data": {
            "image/png": "[encoded data removed]",
            "text/plain": [
              "<Figure size 864x576 with 1 Axes>"
            ]
          },
          "metadata": {
            "tags": [],
            "needs_background": "light"
          }
        }
      ]
    },
    {
      "cell_type": "code",
      "metadata": {
        "id": "q5si6wyqJz3Z",
        "colab": {
          "base_uri": "https://localhost:8080/",
          "height": 241
        },
        "outputId": "78232d5e-40f0-453f-d43f-d3b05b9df03f"
      },
      "source": [
        " print(show_evaluation(val2, valid1_lithology))\n",
        "print(show_evaluation(open_test2, valid2_lithology))\n",
        "print(show_evaluation(open_test22, valid3_lithology))"
      ],
      "execution_count": null,
      "outputs": [
        {
          "output_type": "stream",
          "text": [
            "Default score: -0.6234298161800156\n",
            "Accuracy is: 0.7660217919161283\n",
            "F1 is: 0.7986957722089358\n",
            "None\n",
            "Default score: -0.5648157258902118\n",
            "Accuracy is: 0.7891917303508369\n",
            "F1 is: 0.8158804624594801\n",
            "None\n",
            "Default score: -0.597346822609051\n",
            "Accuracy is: 0.7763323051774299\n",
            "F1 is: 0.8058267796854165\n",
            "None\n"
          ],
          "name": "stdout"
        }
      ]
    }
  ]
}